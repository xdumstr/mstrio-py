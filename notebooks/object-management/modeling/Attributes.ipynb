{
 "cells": [
  {
   "cell_type": "code",
   "execution_count": null,
   "id": "99d48b47-8d0e-46aa-9b79-9e8783f462d5",
   "metadata": {},
   "outputs": [],
   "source": [
    "from mstrio.connection import Connection\n",
    "import inspect\n",
    "import getpass"
   ]
  },
  {
   "cell_type": "code",
   "execution_count": null,
   "id": "3445ab24-e5c7-460b-9494-78522c1590cd",
   "metadata": {},
   "outputs": [],
   "source": [
    "PROJECT_NAME = \"MicroStrategy Tutorial\"\n",
    "BASE_URL = \"https://demo.microstrategy.com/MicroStrategyLibrary/api\"  # Insert URL for your env here\n",
    "MSTR_USERNAME = \"guest\"  # Insert your env username here\n",
    "MSTR_PASSWORD = \"\"  # insert your mstr password here\n",
    "PROJECT_ID = \"B7CA92F04B9FAE8D941C3E9B7E0CD754\"  # Insert you project ID here"
   ]
  },
  {
   "cell_type": "code",
   "execution_count": null,
   "id": "aec403c0-e24f-4772-8dcc-3d19026dc66b",
   "metadata": {},
   "outputs": [],
   "source": [
    "PROJECT_NAME = \"MicroStrategy Tutorial\"\n",
    "BASE_URL = \"https://env-276686.customer.cloud.microstrategy.com/MicroStrategyLibrary/api\"  # Insert URL for your env here\n",
    "MSTR_USERNAME = \"mstr\"  # Insert your env username here\n",
    "MSTR_PASSWORD = getpass.getpass()   # insert your mstr password here\n",
    "PROJECT_ID = \"B7CA92F04B9FAE8D941C3E9B7E0CD754\"  # Insert you project ID here"
   ]
  },
  {
   "cell_type": "code",
   "execution_count": null,
   "id": "d9043fac-2283-445a-854c-ad3327ed0600",
   "metadata": {},
   "outputs": [],
   "source": [
    "# Currently, supported authentication modes are Standard (the default), guest and LDAP.\n",
    "# To use LDAP, add login_mode=16 when creating your Connection object:\n",
    "conn = Connection(BASE_URL, MSTR_USERNAME, MSTR_PASSWORD, project_id=PROJECT_ID, login_mode=1)"
   ]
  },
  {
   "cell_type": "code",
   "execution_count": null,
   "id": "9b6201c3-1a05-4bef-9a42-2bc4305b7582",
   "metadata": {},
   "outputs": [],
   "source": [
    "from mstrio.api import tables\n",
    "from mstrio.modeling.schema import (\n",
    "    Attribute,\n",
    "    AttributeDisplays,\n",
    "    AttributeForm,\n",
    "    AttributeSort,\n",
    "    AttributeSorts,\n",
    "    DataType,\n",
    "    FormReference,\n",
    "    list_attributes,\n",
    "    ObjectSubType,\n",
    "    Relationship,\n",
    "    SchemaManagement,\n",
    "    SchemaObjectReference,\n",
    "    SchemaUpdateType\n",
    ")\n",
    "from mstrio.modeling.expression import (\n",
    "    Expression,\n",
    "    ExpressionFormat,\n",
    "    Token,\n",
    "    ColumnReference,\n",
    "    Constant,\n",
    "    Operator,\n",
    "    FactExpression,\n",
    "    Variant,\n",
    "    VariantType,\n",
    "    Function\n",
    ")"
   ]
  },
  {
   "cell_type": "markdown",
   "id": "253e2a84-54ab-4c75-815d-3505a159f297",
   "metadata": {},
   "source": [
    "# Discover Attribute"
   ]
  },
  {
   "cell_type": "markdown",
   "id": "5ebd0cf8-d579-46fb-8898-5298ef8be1ab",
   "metadata": {},
   "source": [
    "## List all attributes"
   ]
  },
  {
   "cell_type": "code",
   "execution_count": null,
   "id": "2b73e168-f894-4701-8bd6-1ec8643816a9",
   "metadata": {},
   "outputs": [],
   "source": [
    "conn.username"
   ]
  },
  {
   "cell_type": "code",
   "execution_count": null,
   "id": "65cf4d28-c6d4-4a55-b9c5-3a687273ccb5",
   "metadata": {},
   "outputs": [],
   "source": [
    "all_attributes = list_attributes(conn)\n",
    "all_attributes"
   ]
  },
  {
   "cell_type": "markdown",
   "id": "b1be7635-7c8b-4de8-a66a-40403b253f44",
   "metadata": {},
   "source": [
    "## Inspect Attribute and AttributeForm"
   ]
  },
  {
   "cell_type": "code",
   "execution_count": null,
   "id": "9644e074-9538-45b3-85cd-fc4b49a5db3d",
   "metadata": {},
   "outputs": [],
   "source": [
    "# Find 'Category'\n",
    "for a in all_attributes:\n",
    "    if a.name == \"Category\":\n",
    "        attr = a\n",
    "        break\n",
    "attr"
   ]
  },
  {
   "cell_type": "code",
   "execution_count": null,
   "id": "01f4f418-f1c1-43a4-aab7-fe7a7039911d",
   "metadata": {},
   "outputs": [],
   "source": [
    "print(Attribute.__doc__)"
   ]
  },
  {
   "cell_type": "code",
   "execution_count": null,
   "id": "358b109f-c3b0-438a-ac61-66adadc3b8c7",
   "metadata": {},
   "outputs": [],
   "source": [
    "attr.name"
   ]
  },
  {
   "cell_type": "code",
   "execution_count": null,
   "id": "1868a06e-ffb7-482d-989c-0755839c179f",
   "metadata": {},
   "outputs": [],
   "source": [
    "attr.displays"
   ]
  },
  {
   "cell_type": "code",
   "execution_count": null,
   "id": "b55dcb55-7a58-49ee-ad49-72f7ac96b513",
   "metadata": {},
   "outputs": [],
   "source": [
    "print(attr.sorts)"
   ]
  },
  {
   "cell_type": "code",
   "execution_count": null,
   "id": "bb1fc4c9-09fc-4b61-beb0-d3b78b179587",
   "metadata": {},
   "outputs": [],
   "source": [
    "attr.relationships"
   ]
  },
  {
   "cell_type": "code",
   "execution_count": null,
   "id": "f048183f-505a-46f2-8160-d9ebb7526f1b",
   "metadata": {},
   "outputs": [],
   "source": [
    "attr.key_form"
   ]
  },
  {
   "cell_type": "code",
   "execution_count": null,
   "id": "075c72eb-24ba-467b-b1ec-d235a729ce63",
   "metadata": {},
   "outputs": [],
   "source": [
    "attr.attribute_lookup_table"
   ]
  },
  {
   "cell_type": "code",
   "execution_count": null,
   "id": "4284a759-4908-44c7-9890-2ebcdef41d7c",
   "metadata": {},
   "outputs": [],
   "source": [
    "attr.forms"
   ]
  },
  {
   "cell_type": "code",
   "execution_count": null,
   "id": "6c1301f6-cea8-4684-829a-e259101f2732",
   "metadata": {},
   "outputs": [],
   "source": [
    "attrForm = attr.forms[0]\n",
    "attrForm"
   ]
  },
  {
   "cell_type": "code",
   "execution_count": null,
   "id": "dd4ff9ac-c682-499a-8243-f64b7382b33d",
   "metadata": {},
   "outputs": [],
   "source": [
    "print(AttributeForm.__doc__)"
   ]
  },
  {
   "cell_type": "code",
   "execution_count": null,
   "id": "4ff73fc1-8cb2-45db-b9cf-77f9c2b2aa06",
   "metadata": {},
   "outputs": [],
   "source": [
    "attrForm.name"
   ]
  },
  {
   "cell_type": "code",
   "execution_count": null,
   "id": "ae753f0d-eaad-4c17-94fa-24fbbf9bab03",
   "metadata": {},
   "outputs": [],
   "source": [
    "attrForm.lookup_table"
   ]
  },
  {
   "cell_type": "markdown",
   "id": "1843e824-c5e4-48d4-8955-15e116abdd91",
   "metadata": {},
   "source": [
    "## Search for Attribute"
   ]
  },
  {
   "cell_type": "code",
   "execution_count": null,
   "id": "45be0ab6-56c4-4921-ba99-71125e1107f4",
   "metadata": {},
   "outputs": [],
   "source": [
    "attr = Attribute(conn, id = \"8D679D4F11D3E4981000E787EC6DE8A4\")"
   ]
  },
  {
   "cell_type": "code",
   "execution_count": null,
   "id": "14633516-0a1e-4613-8fee-600cfa5d491c",
   "metadata": {},
   "outputs": [],
   "source": [
    "dir(attr)"
   ]
  },
  {
   "cell_type": "markdown",
   "id": "a27de641-0bee-4c2b-8b46-ce52437a1230",
   "metadata": {},
   "source": [
    "# Create Attribute\n",
    "\n",
    "To create attribute, you need to know the attribute lookup table and destination folder. \n",
    "\n",
    "To find lookup table: \n",
    "- Yon can find it from existing Attribute or Attribute form objects, or search by ID or name. \n",
    "- You can use list_logical_tables to list all logical tables in the project, or search by ID or name"
   ]
  },
  {
   "cell_type": "markdown",
   "id": "485932b5-f3c9-457a-bf16-f56bcd38e659",
   "metadata": {},
   "source": [
    "## Logical Table"
   ]
  },
  {
   "cell_type": "code",
   "execution_count": null,
   "id": "0c3bb8b0-1d6c-419d-94de-1d39bc030637",
   "metadata": {},
   "outputs": [],
   "source": [
    "from mstrio.modeling.schema.table import (\n",
    "    list_logical_tables,\n",
    "    list_physical_tables,\n",
    "    list_tables_prefixes,\n",
    "    list_warehouse_tables,\n",
    "    LogicalTable,\n",
    "    PhysicalTable,\n",
    ")"
   ]
  },
  {
   "cell_type": "code",
   "execution_count": null,
   "id": "d86a2913-7dcb-41fb-964a-cd2d6ba0e4d2",
   "metadata": {},
   "outputs": [],
   "source": [
    "list_logical_tables(conn)"
   ]
  },
  {
   "cell_type": "code",
   "execution_count": null,
   "id": "de43b6b7-9295-4d2c-a265-60066fd496b9",
   "metadata": {},
   "outputs": [],
   "source": [
    "# Search by id\n",
    "table = LogicalTable(conn, id = '8D6793AA11D3E4981000E787EC6DE8A4')\n",
    "table"
   ]
  },
  {
   "cell_type": "code",
   "execution_count": null,
   "id": "3a8c87dc-1929-441d-89e7-cd67fe703627",
   "metadata": {},
   "outputs": [],
   "source": [
    "# Search by name\n",
    "table = LogicalTable(conn, name = 'LU_REGION')\n",
    "table"
   ]
  },
  {
   "cell_type": "code",
   "execution_count": null,
   "id": "2871d1ef-8b15-4e25-99e9-b2132a166138",
   "metadata": {},
   "outputs": [],
   "source": [
    "dir(table)"
   ]
  },
  {
   "cell_type": "markdown",
   "id": "39835bf0-8809-418b-8df5-92c0a0788c3a",
   "metadata": {},
   "source": [
    "## Folder"
   ]
  },
  {
   "cell_type": "code",
   "execution_count": null,
   "id": "af07f444-98b4-461a-869a-b151cc977458",
   "metadata": {},
   "outputs": [],
   "source": [
    "from mstrio.object_management import PredefinedFolders"
   ]
  },
  {
   "cell_type": "code",
   "execution_count": null,
   "id": "1303a2d6-6eb4-4b2d-b01c-371c44556791",
   "metadata": {},
   "outputs": [],
   "source": [
    "PUBLIC_FOLDER_ID = \"98FE182C2A10427EACE0CD30B6768258\""
   ]
  },
  {
   "cell_type": "markdown",
   "id": "c822176b-5eef-46d7-87dd-fd613aa67b8f",
   "metadata": {},
   "source": [
    "## Create AttrbuteForm"
   ]
  },
  {
   "cell_type": "code",
   "execution_count": null,
   "id": "49c1f261-fd35-4b96-8af3-2d2a9357b851",
   "metadata": {},
   "outputs": [],
   "source": [
    "dir(AttributeForm)"
   ]
  },
  {
   "cell_type": "code",
   "execution_count": null,
   "id": "afd5864f-b150-41e6-abec-d4652297d0cd",
   "metadata": {},
   "outputs": [],
   "source": [
    "inspect.signature(AttributeForm.local_create)"
   ]
  },
  {
   "cell_type": "code",
   "execution_count": null,
   "id": "a2a89f84-9848-4193-b599-f0923e488703",
   "metadata": {},
   "outputs": [],
   "source": [
    "myForm = AttributeForm.local_create(conn, \n",
    "                                    name = \"ID\",\n",
    "                                    category = \"ID\")"
   ]
  },
  {
   "cell_type": "code",
   "execution_count": null,
   "id": "b81adbf0-dfb3-49a5-bb9d-ea76a1171f1a",
   "metadata": {},
   "outputs": [],
   "source": [
    "myForm.name"
   ]
  },
  {
   "cell_type": "markdown",
   "id": "b406ca81-85f2-481a-84cc-2ea3950683dc",
   "metadata": {},
   "source": [
    "## AttributeDisplays"
   ]
  },
  {
   "cell_type": "code",
   "execution_count": null,
   "id": "5945af85-3c99-4879-9a2c-2eb0c615a7bf",
   "metadata": {},
   "outputs": [],
   "source": [
    "myDisplays = AttributeDisplays(report_displays=[FormReference(name='ID')], browse_displays=[FormReference(name='ID')])\n",
    "myDisplays"
   ]
  },
  {
   "cell_type": "markdown",
   "id": "57b6ec60-8cae-4d9c-8594-2dd257454be3",
   "metadata": {},
   "source": [
    "## Lookup table ref"
   ]
  },
  {
   "cell_type": "code",
   "execution_count": null,
   "id": "ea0293a8-6aef-48ac-87f4-10eac1aae8d8",
   "metadata": {},
   "outputs": [],
   "source": [
    "lookupTableRef = SchemaObjectReference(\n",
    "        name= table.name,\n",
    "        sub_type=ObjectSubType.LOGICAL_TABLE,\n",
    "        object_id=table.id\n",
    "    )"
   ]
  },
  {
   "cell_type": "markdown",
   "id": "acbc135c-bb1b-43e6-81af-9a7c9e696cb2",
   "metadata": {},
   "source": [
    "## Create Attribute"
   ]
  },
  {
   "cell_type": "code",
   "execution_count": null,
   "id": "ab898cc1-3dbf-4c99-b56d-f618053d0605",
   "metadata": {},
   "outputs": [],
   "source": [
    "inspect.signature(Attribute.create)"
   ]
  },
  {
   "cell_type": "code",
   "execution_count": null,
   "id": "66ee2ed8-ded1-44dc-81ff-29bb94563bf8",
   "metadata": {},
   "outputs": [],
   "source": [
    "newAttr = Attribute.create(conn, \n",
    "                           name = \"My Attribute\", \n",
    "                           sub_type = ObjectSubType.ATTRIBUTE,  \n",
    "                           destination_folder = PUBLIC_FOLDER_ID,  \n",
    "                           forms=[myForm], \n",
    "                           key_form=FormReference(name='ID'), \n",
    "                           displays=myDisplays, \n",
    "                           attribute_lookup_table=lookupTableRef)\n",
    "newAttr"
   ]
  },
  {
   "cell_type": "code",
   "execution_count": null,
   "id": "3b950cdd-e9dd-4e26-ad2b-0249e685fcfe",
   "metadata": {},
   "outputs": [],
   "source": []
  }
 ],
 "metadata": {
  "kernelspec": {
   "display_name": "Python 3 (ipykernel)",
   "language": "python",
   "name": "python3"
  },
  "language_info": {
   "codemirror_mode": {
    "name": "ipython",
    "version": 3
   },
   "file_extension": ".py",
   "mimetype": "text/x-python",
   "name": "python",
   "nbconvert_exporter": "python",
   "pygments_lexer": "ipython3",
   "version": "3.10.8"
  }
 },
 "nbformat": 4,
 "nbformat_minor": 5
}
