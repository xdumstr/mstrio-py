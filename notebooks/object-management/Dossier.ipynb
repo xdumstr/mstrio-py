{
 "cells": [
  {
   "cell_type": "code",
   "execution_count": null,
   "id": "c392f4e4-33af-4a3c-ab6c-4df44767cf00",
   "metadata": {},
   "outputs": [],
   "source": [
    "from mstrio.connection import Connection\n",
    "import getpass\n",
    "import inspect\n",
    "from mstrio.project_objects.dossier import (\n",
    "    Dossier,\n",
    "    list_dossiers,\n",
    "    list_dossiers_across_projects\n",
    ")"
   ]
  },
  {
   "cell_type": "code",
   "execution_count": null,
   "id": "e8e4c88f-71c5-41da-8d8c-f98210c875cf",
   "metadata": {},
   "outputs": [],
   "source": [
    "PROJECT_NAME = \"MicroStrategy Tutorial\"\n",
    "BASE_URL = \"https://env-276686.customer.cloud.microstrategy.com/MicroStrategyLibrary/api\"  # Insert URL for your env here\n",
    "MSTR_USERNAME = \"mstr\"  # Insert your env username here\n",
    "MSTR_PASSWORD = getpass.getpass()   # insert your mstr password here\n",
    "PROJECT_ID = \"B7CA92F04B9FAE8D941C3E9B7E0CD754\"  # Insert you project ID here"
   ]
  },
  {
   "cell_type": "code",
   "execution_count": null,
   "id": "075e9a30-2747-4009-a6df-73d3ce38d12a",
   "metadata": {},
   "outputs": [],
   "source": [
    "# Currently, supported authentication modes are Standard (the default), guest and LDAP.\n",
    "# To use LDAP, add login_mode=16 when creating your Connection object:\n",
    "conn = Connection(BASE_URL, MSTR_USERNAME, MSTR_PASSWORD, project_id=PROJECT_ID, login_mode=1)"
   ]
  },
  {
   "cell_type": "markdown",
   "id": "20e87efc-cdbd-4f0b-b76d-f9727bc8966e",
   "metadata": {},
   "source": [
    "# List"
   ]
  },
  {
   "cell_type": "code",
   "execution_count": null,
   "id": "f2cf5e62-98de-4922-8dec-3b2151fac24f",
   "metadata": {},
   "outputs": [],
   "source": [
    "list_dossiers(conn)"
   ]
  },
  {
   "cell_type": "code",
   "execution_count": null,
   "id": "9978855e-f18e-4f6e-9481-bfb689fb2b7d",
   "metadata": {},
   "outputs": [],
   "source": [
    "print(list_dossiers.__doc__)"
   ]
  },
  {
   "cell_type": "markdown",
   "id": "ae089f10-3abe-4820-a0fd-1b7aff3b074e",
   "metadata": {},
   "source": [
    "# Find "
   ]
  },
  {
   "cell_type": "code",
   "execution_count": null,
   "id": "d57a8e1f-8160-4584-a3cd-50bcb073b733",
   "metadata": {},
   "outputs": [],
   "source": [
    "print(Dossier.__init__.__doc__)"
   ]
  },
  {
   "cell_type": "code",
   "execution_count": null,
   "id": "8a1ef540-de52-4993-8915-c2e37050e44e",
   "metadata": {},
   "outputs": [],
   "source": [
    "# Find by ID\n",
    "dossier = Dossier(conn, id=\"BAC5119D11ED668122C70080EFD469DC\")"
   ]
  },
  {
   "cell_type": "code",
   "execution_count": null,
   "id": "381c370a-04c5-4005-ac2b-8065d7da5428",
   "metadata": {},
   "outputs": [],
   "source": [
    "# Find by name\n",
    "dossier = Dossier(conn, name = \"New Dossier\")"
   ]
  },
  {
   "cell_type": "markdown",
   "id": "bfcb22a3-68bf-4d8c-b484-600e8a80557d",
   "metadata": {},
   "source": [
    "# Modify"
   ]
  },
  {
   "cell_type": "code",
   "execution_count": null,
   "id": "94cfde30-defd-4fc9-8dab-42a90d2f9d6f",
   "metadata": {},
   "outputs": [],
   "source": [
    "print(Dossier.alter.__doc__)"
   ]
  },
  {
   "cell_type": "code",
   "execution_count": null,
   "id": "3aa5893e-f852-4f35-8fe0-26d05def5035",
   "metadata": {},
   "outputs": [],
   "source": [
    "dossier.alter(name=\"New Dossier 2\")\n",
    "dossier"
   ]
  },
  {
   "cell_type": "markdown",
   "id": "97a79310-50c2-480c-a00c-e9035393e69c",
   "metadata": {},
   "source": [
    "# Publish\n",
    "\n",
    "Publish to user"
   ]
  },
  {
   "cell_type": "code",
   "execution_count": null,
   "id": "6e2daff4-2153-40f8-9eff-538f19dffe1d",
   "metadata": {},
   "outputs": [],
   "source": [
    "dossier.publish()"
   ]
  },
  {
   "cell_type": "code",
   "execution_count": null,
   "id": "018cd23d-1251-4278-b15a-1e10df388b4f",
   "metadata": {},
   "outputs": [],
   "source": [
    "from mstrio.users_and_groups import list_users\n",
    "list_users(conn)"
   ]
  },
  {
   "cell_type": "code",
   "execution_count": null,
   "id": "cef6e3ea-7679-414b-80ab-8d93597f8393",
   "metadata": {},
   "outputs": [],
   "source": [
    "print(Dossier.publish.__doc__)"
   ]
  },
  {
   "cell_type": "code",
   "execution_count": null,
   "id": "0816ebb6-94ff-4b87-9824-66b925c752be",
   "metadata": {},
   "outputs": [],
   "source": [
    "dossier.publish(recipients=\"01A199F6BB402481996F1E8B31DF4277\")"
   ]
  },
  {
   "cell_type": "code",
   "execution_count": null,
   "id": "1dcb8718-b4bf-4edf-9b1c-6df754a3d153",
   "metadata": {},
   "outputs": [],
   "source": [
    "dossier.publish(recipients=[\"01A199F6BB402481996F1E8B31DF4277\"])"
   ]
  },
  {
   "cell_type": "markdown",
   "id": "c4becaa3-5a1e-4504-977f-38000764422e",
   "metadata": {},
   "source": [
    "# Share"
   ]
  },
  {
   "cell_type": "code",
   "execution_count": null,
   "id": "d43f2dec-44ed-4b58-82c4-9be013155715",
   "metadata": {},
   "outputs": [],
   "source": [
    "print(Dossier.share_to.__doc__)"
   ]
  },
  {
   "cell_type": "code",
   "execution_count": null,
   "id": "eed6e741-635b-4184-956e-c95c698f9cc7",
   "metadata": {},
   "outputs": [],
   "source": [
    "dossier.share_to(users=\"01A199F6BB402481996F1E8B31DF4277\")"
   ]
  },
  {
   "cell_type": "markdown",
   "id": "3eeb0f05-003e-477f-96bd-a890620bfd3c",
   "metadata": {},
   "source": [
    "# Library"
   ]
  },
  {
   "cell_type": "code",
   "execution_count": null,
   "id": "08e1ff09-3c91-45be-9012-bacc4f19246b",
   "metadata": {},
   "outputs": [],
   "source": []
  },
  {
   "cell_type": "markdown",
   "id": "94c4eaa4-6fdf-432b-ba60-61fb4f399ba1",
   "metadata": {},
   "source": [
    "# Dossier Cache"
   ]
  },
  {
   "cell_type": "code",
   "execution_count": null,
   "id": "89e8256d-95a8-4cdd-bad8-23e39a698aa0",
   "metadata": {},
   "outputs": [],
   "source": []
  },
  {
   "cell_type": "code",
   "execution_count": null,
   "id": "806490b9-ee39-48b3-842b-589f058eaa3e",
   "metadata": {},
   "outputs": [],
   "source": [
    "inspect.signature(Dossier.list_caches)"
   ]
  },
  {
   "cell_type": "code",
   "execution_count": null,
   "id": "af8c235e-fba2-4cc9-86b6-ce6e20e9873f",
   "metadata": {},
   "outputs": [],
   "source": [
    "Dossier.list_caches(conn)"
   ]
  },
  {
   "cell_type": "code",
   "execution_count": null,
   "id": "94e94bf6-7073-4402-b6ef-7783e1f76337",
   "metadata": {},
   "outputs": [],
   "source": [
    "Dossier.unload_all_caches(conn)"
   ]
  },
  {
   "cell_type": "code",
   "execution_count": null,
   "id": "4ebc170b-6206-45d9-8f17-e87ec97e923e",
   "metadata": {},
   "outputs": [],
   "source": [
    "Dossier.load_caches(conn)"
   ]
  },
  {
   "cell_type": "code",
   "execution_count": null,
   "id": "9724a93a-2eee-4416-b4d8-2f4862e122e3",
   "metadata": {},
   "outputs": [],
   "source": []
  }
 ],
 "metadata": {
  "kernelspec": {
   "display_name": "Python 3 (ipykernel)",
   "language": "python",
   "name": "python3"
  },
  "language_info": {
   "codemirror_mode": {
    "name": "ipython",
    "version": 3
   },
   "file_extension": ".py",
   "mimetype": "text/x-python",
   "name": "python",
   "nbconvert_exporter": "python",
   "pygments_lexer": "ipython3",
   "version": "3.10.8"
  }
 },
 "nbformat": 4,
 "nbformat_minor": 5
}
