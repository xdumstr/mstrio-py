{
 "cells": [
  {
   "cell_type": "code",
   "execution_count": null,
   "id": "7959c8db-aeae-4055-a1c7-4ba58aa898d9",
   "metadata": {},
   "outputs": [],
   "source": [
    "from mstrio.connection import Connection\n",
    "import matplotlib\n",
    "from mstrio.project_objects.dossier import *\n",
    "from mstrio.project_objects.document import *"
   ]
  },
  {
   "cell_type": "code",
   "execution_count": null,
   "id": "a85f3a93-854b-4215-9dbc-efa5c829225c",
   "metadata": {},
   "outputs": [],
   "source": [
    "PROJECT_NAME = \"MicroStrategy Tutorial\"\n",
    "BASE_URL = \"https://demo.microstrategy.com/MicroStrategyLibrary/api\"  # Insert URL for your env here\n",
    "PROJECT_ID = \"EC70648611E7A2F962E90080EFD58751\"  # Insert you project ID here\n",
    "DOSSIER_ID = \"837B57D711E941BF000000806FA1298F\"\n",
    "DOCUMENT_ID = \"612F9F6948050B2415F0E8A5D0DA45DA\""
   ]
  },
  {
   "cell_type": "code",
   "execution_count": null,
   "id": "6f9cea34-5e09-4bc1-a811-7d1d1ad94866",
   "metadata": {},
   "outputs": [],
   "source": [
    "conn = Connection(BASE_URL, project_id=PROJECT_ID, login_mode=8)"
   ]
  },
  {
   "cell_type": "markdown",
   "id": "bc47cc2b-4e22-4164-8491-7a8c9634be56",
   "metadata": {},
   "source": [
    "# Document"
   ]
  },
  {
   "cell_type": "markdown",
   "id": "6cf6820e-57c3-4b06-9831-520cb19f594a",
   "metadata": {},
   "source": [
    "## List"
   ]
  },
  {
   "cell_type": "code",
   "execution_count": null,
   "id": "9ff75722-ba53-42a5-9831-f9f0cc47fb87",
   "metadata": {},
   "outputs": [],
   "source": [
    "list_documents(conn)"
   ]
  },
  {
   "cell_type": "markdown",
   "id": "4fbd9743-0614-4b40-9b21-8ad6301cfa4a",
   "metadata": {},
   "source": [
    "## Get Document"
   ]
  },
  {
   "cell_type": "code",
   "execution_count": null,
   "id": "63805785-3f2d-472c-9588-80b097d171ec",
   "metadata": {},
   "outputs": [],
   "source": [
    "document = Document(conn, id=DOCUMENT_ID)"
   ]
  },
  {
   "cell_type": "code",
   "execution_count": null,
   "id": "d8227835-73f2-4942-b79c-dd6712db6a2e",
   "metadata": {},
   "outputs": [],
   "source": [
    "document = Document(conn, 'Accounting')"
   ]
  },
  {
   "cell_type": "markdown",
   "id": "c93feb7f-ba69-4f30-83b0-2e3fc11b862b",
   "metadata": {},
   "source": [
    "## Properties and Methods"
   ]
  },
  {
   "cell_type": "code",
   "execution_count": null,
   "id": "ffc6b1bf-f63c-4cc0-a34a-467a2ea1d4c8",
   "metadata": {},
   "outputs": [],
   "source": [
    "document.list_properties()"
   ]
  },
  {
   "cell_type": "code",
   "execution_count": null,
   "id": "51746102-93b0-472f-81f9-a37158cb9d85",
   "metadata": {},
   "outputs": [],
   "source": [
    "document.get_connected_cubes()"
   ]
  },
  {
   "cell_type": "code",
   "execution_count": null,
   "id": "033a8a71-f2fc-4616-87a7-48edc0256ee0",
   "metadata": {},
   "outputs": [],
   "source": [
    "document.id"
   ]
  },
  {
   "cell_type": "code",
   "execution_count": null,
   "id": "44d8444a-2937-423a-a42f-c058f82a204b",
   "metadata": {},
   "outputs": [],
   "source": [
    "document.instance_id"
   ]
  },
  {
   "cell_type": "markdown",
   "id": "c7c3f634-8f1c-493c-b321-11d1d72c096f",
   "metadata": {},
   "source": [
    "# Discover Dossiers"
   ]
  },
  {
   "cell_type": "markdown",
   "id": "5efed86c-debb-4636-a5ed-3d380dd7aad7",
   "metadata": {},
   "source": [
    "## List"
   ]
  },
  {
   "cell_type": "code",
   "execution_count": null,
   "id": "b7f71b79-f078-4ba1-96bc-786413430e0b",
   "metadata": {},
   "outputs": [],
   "source": [
    "print(list_dossiers.__doc__)"
   ]
  },
  {
   "cell_type": "code",
   "execution_count": null,
   "id": "7ab82cad-dd6d-44a4-b683-0c30cb33f2c1",
   "metadata": {},
   "outputs": [],
   "source": [
    "list_dossiers(conn) "
   ]
  },
  {
   "cell_type": "code",
   "execution_count": null,
   "id": "a5d8e870-a338-45ff-ad63-6846c01a8d2c",
   "metadata": {},
   "outputs": [],
   "source": [
    "print(Dossier.__init__.__doc__)"
   ]
  },
  {
   "cell_type": "markdown",
   "id": "40d6c0c1-f2e9-48d0-b389-fce0efb33438",
   "metadata": {},
   "source": [
    "## Get Dossier by id"
   ]
  },
  {
   "cell_type": "code",
   "execution_count": null,
   "id": "4a04e4e3-c859-424e-8cf9-1a42b5a0995e",
   "metadata": {},
   "outputs": [],
   "source": [
    "dossier = Dossier(conn, id=DOSSIER_ID)"
   ]
  },
  {
   "cell_type": "code",
   "execution_count": null,
   "id": "07eb5473-dc93-4aa1-8f2d-2a4920de2c72",
   "metadata": {},
   "outputs": [],
   "source": [
    "dossier.list_properties()"
   ]
  },
  {
   "cell_type": "code",
   "execution_count": null,
   "id": "b12f0df9-f39d-4162-960f-d152acae0a46",
   "metadata": {},
   "outputs": [],
   "source": [
    "dir(dossier)"
   ]
  },
  {
   "cell_type": "markdown",
   "id": "baf6fc6c-2e36-4d51-8307-cb32e29d0fa6",
   "metadata": {},
   "source": [
    "## Properties and Methods"
   ]
  },
  {
   "cell_type": "code",
   "execution_count": null,
   "id": "3b116477-ff98-44dd-bbe6-e2406f38a575",
   "metadata": {},
   "outputs": [],
   "source": [
    "dossier.chapters"
   ]
  },
  {
   "cell_type": "code",
   "execution_count": null,
   "id": "d540d3d4-aaf1-4e5f-9409-ec029bdc5b82",
   "metadata": {},
   "outputs": [],
   "source": [
    "dossier.to_dataframe()"
   ]
  },
  {
   "cell_type": "markdown",
   "id": "71048235-4eb5-4d2b-a2f6-bd27ff850f5c",
   "metadata": {},
   "source": [
    "### Get cubes"
   ]
  },
  {
   "cell_type": "code",
   "execution_count": null,
   "id": "aa976948-d2ae-4795-8925-8579b696534c",
   "metadata": {},
   "outputs": [],
   "source": [
    "dossier.get_connected_cubes()"
   ]
  },
  {
   "cell_type": "code",
   "execution_count": null,
   "id": "d8d3fc47-b51f-465c-9670-87ba305adbcd",
   "metadata": {},
   "outputs": [],
   "source": [
    "dossier.current_chapter"
   ]
  },
  {
   "cell_type": "code",
   "execution_count": null,
   "id": "3b57e520-39fa-4343-8c38-01c210d40be0",
   "metadata": {},
   "outputs": [],
   "source": [
    "dossier.instance_id"
   ]
  },
  {
   "cell_type": "markdown",
   "id": "e0c0b640-f461-498d-a507-fcdb056c800d",
   "metadata": {},
   "source": [
    "## Get Data\n",
    "\n",
    "\n",
    "mstrio-py doesn't support Dossier data yet. We need to use REST API. "
   ]
  },
  {
   "cell_type": "markdown",
   "id": "de019f74-3c41-4c6d-8f04-247794894b94",
   "metadata": {},
   "source": [
    "### Getting JSON data via REST API"
   ]
  },
  {
   "cell_type": "code",
   "execution_count": null,
   "id": "80ea9228-4b8e-4fe9-8509-b6ceef998d19",
   "metadata": {},
   "outputs": [],
   "source": [
    "dossierInstance = conn.get(BASE_URL+\"/v2/dossiers/\"+DOSSIER_ID+\"/instances/\"+dossier.instance_id+\"/definition\").json()\n",
    "dossierInstance"
   ]
  },
  {
   "cell_type": "code",
   "execution_count": null,
   "id": "c20a7ca7-1096-4e79-bb7d-abb95c62d4ce",
   "metadata": {},
   "outputs": [],
   "source": [
    "chapters = dossierInstance[\"chapters\"]\n",
    "chapters"
   ]
  },
  {
   "cell_type": "code",
   "execution_count": null,
   "id": "972bd489-6235-4f3f-b575-db276793e045",
   "metadata": {},
   "outputs": [],
   "source": [
    "chapterKey = chapters[0][\"key\"]\n",
    "chapterKey "
   ]
  },
  {
   "cell_type": "code",
   "execution_count": null,
   "id": "1a1bff4f-7aa7-4dcf-ab1b-f9640ced8811",
   "metadata": {},
   "outputs": [],
   "source": [
    "vizKey = \"W69\""
   ]
  },
  {
   "cell_type": "code",
   "execution_count": null,
   "id": "ea996516-3d04-4f89-b5b3-1d18d99616c7",
   "metadata": {},
   "outputs": [],
   "source": [
    "visualization = conn.get(BASE_URL+\"/v2/dossiers/\"+DOSSIER_ID+\"/instances/\"+dossier.instance_id+\"/chapters/\"+chapterKey+\"/visualizations/\"+vizKey).json()\n",
    "visualization"
   ]
  },
  {
   "cell_type": "markdown",
   "id": "572c7029-7b6e-4e74-a432-8204e4f46a5f",
   "metadata": {},
   "source": [
    "### Convert json data to DataFrame"
   ]
  },
  {
   "cell_type": "code",
   "execution_count": null,
   "id": "62c3f766-7c04-477b-b7cf-a37fe1e1ee95",
   "metadata": {},
   "outputs": [],
   "source": [
    "quarters = []"
   ]
  },
  {
   "cell_type": "code",
   "execution_count": null,
   "id": "59c9c9d0-cf36-4500-bd13-e6f518246580",
   "metadata": {},
   "outputs": [],
   "source": [
    "column0 = visualization[\"definition\"][\"grid\"][\"columns\"][0]\n",
    "column0"
   ]
  },
  {
   "cell_type": "code",
   "execution_count": null,
   "id": "57ad795f-4e18-494d-a832-22e0d074c0a5",
   "metadata": {},
   "outputs": [],
   "source": [
    "for e in column0[\"elements\"]:\n",
    "    quarters.append(e[\"formValues\"][0])\n",
    "quarters"
   ]
  },
  {
   "cell_type": "code",
   "execution_count": null,
   "id": "40042c09-d7b2-487d-8c77-a0e986aaeced",
   "metadata": {},
   "outputs": [],
   "source": [
    "revenue = visualization[\"data\"][\"metricValues\"][\"raw\"][0]\n",
    "revenue"
   ]
  },
  {
   "cell_type": "code",
   "execution_count": null,
   "id": "66bfb45f-eba3-4ff0-a583-257ba8e8c365",
   "metadata": {},
   "outputs": [],
   "source": [
    "import pandas as pd\n",
    "df = pd.DataFrame(data = {'Quarter':quarters, 'Revenue':revenue})\n",
    "df"
   ]
  },
  {
   "cell_type": "code",
   "execution_count": null,
   "id": "83ea0b19-16e8-4bab-92ff-b2ce2c4a99bd",
   "metadata": {},
   "outputs": [],
   "source": [
    "df.plot()"
   ]
  },
  {
   "cell_type": "code",
   "execution_count": null,
   "id": "0d18ed30-f506-453b-9a57-3da0ef3e68f5",
   "metadata": {},
   "outputs": [],
   "source": [
    "print(df.plot.__doc__)"
   ]
  },
  {
   "cell_type": "code",
   "execution_count": null,
   "id": "7dd9b302-4855-4fba-8d3d-5a08e8e8ff8a",
   "metadata": {},
   "outputs": [],
   "source": []
  }
 ],
 "metadata": {
  "kernelspec": {
   "display_name": "Python 3 (ipykernel)",
   "language": "python",
   "name": "python3"
  },
  "language_info": {
   "codemirror_mode": {
    "name": "ipython",
    "version": 3
   },
   "file_extension": ".py",
   "mimetype": "text/x-python",
   "name": "python",
   "nbconvert_exporter": "python",
   "pygments_lexer": "ipython3",
   "version": "3.10.8"
  }
 },
 "nbformat": 4,
 "nbformat_minor": 5
}
