{
 "cells": [
  {
   "cell_type": "markdown",
   "id": "437e5452-c3a8-415f-ad0a-89c2b449dee4",
   "metadata": {},
   "source": [
    "# Getting Data from Report and Cube "
   ]
  },
  {
   "cell_type": "markdown",
   "id": "0d724991-1588-476f-9e67-0e62d1e596b8",
   "metadata": {},
   "source": [
    "## Create connection"
   ]
  },
  {
   "cell_type": "code",
   "execution_count": null,
   "id": "077e8b7c-1957-492d-9edf-5cb8cd19903f",
   "metadata": {},
   "outputs": [],
   "source": [
    "from mstrio.connection import Connection\n",
    "import matplotlib"
   ]
  },
  {
   "cell_type": "code",
   "execution_count": null,
   "id": "c59130a8-2c45-4f9d-bcfa-1bd513344464",
   "metadata": {},
   "outputs": [],
   "source": [
    "PROJECT_NAME = \"MicroStrategy Tutorial\"\n",
    "BASE_URL = \"https://demo.microstrategy.com/MicroStrategyLibrary/api\"  # Insert URL for your env here\n",
    "# PROJECT_ID = \"B7CA92F04B9FAE8D941C3E9B7E0CD754\"  # Insert you project ID here\n",
    "PROJECT_ID = \"A336F99511EA9FF2D05E0080EFC55CB0\"\n",
    "# REPORT_ID = \"E659E86811E58C918D6F0080EF453539\"\n",
    "REPORT_ID = \"ADAFC94F41480D3C66974688D02BB378\"\n",
    "CUBE_ID = \"D069415811EB88D901970080EF9558F2\""
   ]
  },
  {
   "cell_type": "code",
   "execution_count": null,
   "id": "77b12737-cf8c-4701-a280-6104c7efe612",
   "metadata": {},
   "outputs": [],
   "source": [
    "conn = Connection(BASE_URL, project_id=PROJECT_ID, login_mode=8)"
   ]
  },
  {
   "cell_type": "markdown",
   "id": "eda46a59-daee-42fc-b74a-016971a10890",
   "metadata": {},
   "source": [
    "## Cube"
   ]
  },
  {
   "cell_type": "code",
   "execution_count": null,
   "id": "d9c7c296-174d-4ac2-ae44-b7b963223da8",
   "metadata": {},
   "outputs": [],
   "source": [
    "from mstrio.project_objects import OlapCube, Report"
   ]
  },
  {
   "cell_type": "code",
   "execution_count": null,
   "id": "b912e8a8-57e5-4543-a12d-eb944aaddd1c",
   "metadata": {},
   "outputs": [],
   "source": [
    "my_cube = OlapCube(connection=conn, id=CUBE_ID)\n",
    "my_cube"
   ]
  },
  {
   "cell_type": "code",
   "execution_count": null,
   "id": "ca317bb1-76e3-4034-aad6-7986ebc39cba",
   "metadata": {},
   "outputs": [],
   "source": [
    "my_cube_df = my_cube.to_dataframe()\n",
    "my_cube_df"
   ]
  },
  {
   "cell_type": "code",
   "execution_count": null,
   "id": "1329dec3-654b-415c-bb36-0d8ce6f60d30",
   "metadata": {},
   "outputs": [],
   "source": [
    "my_cube.metrics"
   ]
  },
  {
   "cell_type": "code",
   "execution_count": null,
   "id": "1dd5dbd8-a4bd-4e89-b175-56ae81f61d07",
   "metadata": {},
   "outputs": [],
   "source": [
    "my_cube.attributes"
   ]
  },
  {
   "cell_type": "code",
   "execution_count": null,
   "id": "8f408ffb-b0e2-4a7d-9001-f24ca5f9a466",
   "metadata": {},
   "outputs": [],
   "source": [
    "my_cube.attr_elements"
   ]
  },
  {
   "cell_type": "code",
   "execution_count": null,
   "id": "4545886b-821d-47dd-8529-2369c4761ac2",
   "metadata": {},
   "outputs": [],
   "source": [
    "my_cube.apply_filters(attributes=[\"B93BC44311EB88D9AB830080EF25FAB6\"], metrics=[\"B93BCBEB11EB88D9AB830080EF25FAB6\",\"B93BD6E411EB88D9AB680080EF25FAB6\"])"
   ]
  },
  {
   "cell_type": "code",
   "execution_count": null,
   "id": "41f85b2f-bc1a-4332-9848-ac1e00dfd9f7",
   "metadata": {},
   "outputs": [],
   "source": [
    "my_cube_df = my_cube.to_dataframe()\n",
    "my_cube_df"
   ]
  },
  {
   "cell_type": "code",
   "execution_count": null,
   "id": "bbb5ca65-5991-401c-802a-de4f97fd7103",
   "metadata": {},
   "outputs": [],
   "source": [
    "my_cube_df.plot(kind='bar')"
   ]
  },
  {
   "cell_type": "markdown",
   "id": "46bd7218-bb04-46d9-a9e5-6c0043b05ba6",
   "metadata": {},
   "source": [
    "## Report"
   ]
  },
  {
   "cell_type": "code",
   "execution_count": null,
   "id": "34008182-a7ec-4d7c-b090-62b644e3483f",
   "metadata": {},
   "outputs": [],
   "source": [
    "my_report = Report(connection=conn, id=REPORT_ID, parallel=False)\n",
    "my_report"
   ]
  },
  {
   "cell_type": "code",
   "execution_count": null,
   "id": "3a1ca8ec-e36f-48f2-bec5-65d5444d650c",
   "metadata": {},
   "outputs": [],
   "source": [
    "my_report_df = my_report.to_dataframe()\n",
    "my_report_df.head()"
   ]
  },
  {
   "cell_type": "code",
   "execution_count": null,
   "id": "6d39ee30-4574-4978-8ee4-c3734ae55acb",
   "metadata": {},
   "outputs": [],
   "source": [
    "my_report_df"
   ]
  },
  {
   "cell_type": "code",
   "execution_count": null,
   "id": "75392be9-a287-4371-9e02-ecdaa6cb4eb9",
   "metadata": {
    "tags": []
   },
   "outputs": [],
   "source": [
    "my_report.attributes"
   ]
  },
  {
   "cell_type": "code",
   "execution_count": null,
   "id": "ac162bed-f3be-4902-bd9c-27391467ff32",
   "metadata": {},
   "outputs": [],
   "source": [
    "my_report.metrics"
   ]
  },
  {
   "cell_type": "code",
   "execution_count": null,
   "id": "ed96ba7f-6b5a-4197-8634-8abc1904e5b7",
   "metadata": {},
   "outputs": [],
   "source": [
    "my_report.attr_elements"
   ]
  },
  {
   "cell_type": "code",
   "execution_count": null,
   "id": "afa3cd04-7af8-4585-b707-15df0442ef80",
   "metadata": {},
   "outputs": [],
   "source": [
    "my_report.apply_filters(attributes=[\"8D679D3711D3E4981000E787EC6DE8A4\"], metrics=[\"4C051DB611D3E877C000B3B2D86C964F\",\"4C05177011D3E877C000B3B2D86C964F\"])\n",
    "df = my_report.to_dataframe()"
   ]
  },
  {
   "cell_type": "code",
   "execution_count": null,
   "id": "862aced4-fead-48e8-b56e-3613f54c6916",
   "metadata": {},
   "outputs": [],
   "source": [
    "df"
   ]
  },
  {
   "cell_type": "code",
   "execution_count": null,
   "id": "28fad0e1-77a9-49c3-a10c-28d31538403f",
   "metadata": {},
   "outputs": [],
   "source": [
    "df.plot(kind='bar')"
   ]
  },
  {
   "cell_type": "code",
   "execution_count": null,
   "id": "d23bc21d-de12-44b5-a7f9-744897d62ee9",
   "metadata": {},
   "outputs": [],
   "source": []
  }
 ],
 "metadata": {
  "kernelspec": {
   "display_name": "Python 3 (ipykernel)",
   "language": "python",
   "name": "python3"
  },
  "language_info": {
   "codemirror_mode": {
    "name": "ipython",
    "version": 3
   },
   "file_extension": ".py",
   "mimetype": "text/x-python",
   "name": "python",
   "nbconvert_exporter": "python",
   "pygments_lexer": "ipython3",
   "version": "3.10.8"
  }
 },
 "nbformat": 4,
 "nbformat_minor": 5
}
