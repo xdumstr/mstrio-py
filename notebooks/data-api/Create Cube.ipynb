{
 "cells": [
  {
   "cell_type": "code",
   "execution_count": null,
   "metadata": {},
   "outputs": [],
   "source": [
    "from mstrio.connection import Connection\n",
    "from mstrio.project_objects.datasets.super_cube import SuperCube\n",
    "from datetime import datetime\n",
    "import pandas as pd\n",
    "import getpass"
   ]
  },
  {
   "cell_type": "code",
   "execution_count": null,
   "metadata": {},
   "outputs": [],
   "source": [
    "base_url = \"https://env-276686.customer.cloud.microstrategy.com/MicroStrategyLibrary/api\"\n",
    "username = \"mstr\"\n",
    "password = getpass.getpass()\n",
    "connection = Connection(base_url, username, password, project_name=\"MicroStrategy Tutorial\", login_mode=1)"
   ]
  },
  {
   "cell_type": "code",
   "execution_count": null,
   "metadata": {},
   "outputs": [],
   "source": [
    "str(datetime.today().date())"
   ]
  },
  {
   "cell_type": "code",
   "execution_count": null,
   "metadata": {},
   "outputs": [],
   "source": [
    "# prepare Pandas DataFrames to add it into tables of dataset\n",
    "stores = {\"store_id\": [1, 2, 3],\n",
    "          \"location\": [\"New York\", \"Seattle\", \"Los Angeles\"]}\n",
    "stores_df = pd.DataFrame(stores, columns=[\"store_id\", \"location\"])\n",
    "\n",
    "sales = {\"store_id\": [1, 2, 3],\n",
    "         \"category\": [\"TV\", \"Books\", \"Accessories\"],\n",
    "         \"sales\": [400, 200, 100],\n",
    "         \"sales_fmt\": [\"$400\", \"$200\", \"$100\"],\n",
    "         \"sales_time\":[datetime.today(),datetime.today(),datetime.today()],\n",
    "         \"sales_time2\":['2021-03-01 18:01:25.895472','2021-03-01 18:01:25.895472','2021-03-01 18:01:25.895472'],\n",
    "         \"sales_time3\":[datetime.today().date(),datetime.today().date(),datetime.today().date()],\n",
    "        }\n",
    "sales_df = pd.DataFrame(sales, columns=[\"store_id\", \"category\", \"sales\", \"sales_fmt\",\"sales_time\",\"sales_time2\", \"sales_time3\"])"
   ]
  },
  {
   "cell_type": "code",
   "execution_count": null,
   "metadata": {},
   "outputs": [],
   "source": [
    "# add tables to the dataset and create it\n",
    "# by default 'create()' will additionally upload data to the I-Server and publish it\n",
    "# you can manipulate it by setting parameters `auto_upload` and `auto_publish`\n",
    "ds = SuperCube(connection=connection, name=\"Harry's Store Analysis\")\n",
    "ds.add_table(name=\"Stores\", data_frame=stores_df, update_policy=\"replace\")\n",
    "ds.add_table(name=\"Sales\", data_frame=sales_df, update_policy=\"replace\")\n",
    "ds.create()"
   ]
  },
  {
   "cell_type": "code",
   "execution_count": null,
   "metadata": {},
   "outputs": [],
   "source": [
    "\n",
    "# when using `Dataset.add_table()`, Pandas data types are mapped to MicroStrategy data types\n",
    "# by default numeric data is modeled as MSTR metrics and non-numeric as attributes\n",
    "# you can set manually which columns treat as attributes and which as metrics\n",
    "ds.add_table(name=\"Stores\", data_frame=stores_df, update_policy=\"add\",\n",
    "             to_attribute=[\"store_id\"])\n",
    "\n",
    "ds.add_table(name=\"Sales\", data_frame=sales_df, update_policy=\"add\",\n",
    "             to_attribute=[\"store_id\"],\n",
    "             to_metric=[\"sales_fmt\"])"
   ]
  },
  {
   "cell_type": "code",
   "execution_count": null,
   "metadata": {},
   "outputs": [],
   "source": []
  }
 ],
 "metadata": {
  "kernelspec": {
   "display_name": "Python 3 (ipykernel)",
   "language": "python",
   "name": "python3"
  },
  "language_info": {
   "codemirror_mode": {
    "name": "ipython",
    "version": 3
   },
   "file_extension": ".py",
   "mimetype": "text/x-python",
   "name": "python",
   "nbconvert_exporter": "python",
   "pygments_lexer": "ipython3",
   "version": "3.10.8"
  }
 },
 "nbformat": 4,
 "nbformat_minor": 4
}
