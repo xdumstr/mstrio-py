{
 "cells": [
  {
   "cell_type": "markdown",
   "id": "437e5452-c3a8-415f-ad0a-89c2b449dee4",
   "metadata": {},
   "source": [
    "# Getting Data from Report and Cube "
   ]
  },
  {
   "cell_type": "markdown",
   "id": "0d724991-1588-476f-9e67-0e62d1e596b8",
   "metadata": {},
   "source": [
    "## Create connection"
   ]
  },
  {
   "cell_type": "code",
   "execution_count": 1,
   "id": "077e8b7c-1957-492d-9edf-5cb8cd19903f",
   "metadata": {},
   "outputs": [],
   "source": [
    "from mstrio.connection import Connection\n",
    "import matplotlib"
   ]
  },
  {
   "cell_type": "code",
   "execution_count": 14,
   "id": "c59130a8-2c45-4f9d-bcfa-1bd513344464",
   "metadata": {},
   "outputs": [],
   "source": [
    "PROJECT_NAME = \"MicroStrategy Tutorial\"\n",
    "BASE_URL = \"https://demo.microstrategy.com/MicroStrategyLibrary/api\"  # Insert URL for your env here\n",
    "# PROJECT_ID = \"B7CA92F04B9FAE8D941C3E9B7E0CD754\"  # Insert you project ID here\n",
    "PROJECT_ID = \"A336F99511EA9FF2D05E0080EFC55CB0\"\n",
    "# REPORT_ID = \"E659E86811E58C918D6F0080EF453539\"\n",
    "REPORT_ID = \"ADAFC94F41480D3C66974688D02BB378\"\n",
    "CUBE_ID = \"D069415811EB88D901970080EF9558F2\""
   ]
  },
  {
   "cell_type": "code",
   "execution_count": 15,
   "id": "77b12737-cf8c-4701-a280-6104c7efe612",
   "metadata": {},
   "outputs": [
    {
     "name": "stdout",
     "output_type": "stream",
     "text": [
      "Connection to MicroStrategy Intelligence Server has been established.\n"
     ]
    }
   ],
   "source": [
    "conn = Connection(BASE_URL, project_id=PROJECT_ID, login_mode=8)"
   ]
  },
  {
   "cell_type": "markdown",
   "id": "eda46a59-daee-42fc-b74a-016971a10890",
   "metadata": {},
   "source": [
    "## Cube"
   ]
  },
  {
   "cell_type": "code",
   "execution_count": 8,
   "id": "d9c7c296-174d-4ac2-ae44-b7b963223da8",
   "metadata": {},
   "outputs": [],
   "source": [
    "from mstrio.project_objects import OlapCube, Report"
   ]
  },
  {
   "cell_type": "code",
   "execution_count": 9,
   "id": "b912e8a8-57e5-4543-a12d-eb944aaddd1c",
   "metadata": {},
   "outputs": [
    {
     "name": "stdout",
     "output_type": "stream",
     "text": [
      "OlapCube object named: 'Profit and Revenue' with ID: 'D069415811EB88D901970080EF9558F2'\n"
     ]
    },
    {
     "data": {
      "text/plain": [
       "OlapCube(connection, id='D069415811EB88D901970080EF9558F2', name='Profit and Revenue')"
      ]
     },
     "execution_count": 9,
     "metadata": {},
     "output_type": "execute_result"
    }
   ],
   "source": [
    "my_cube = OlapCube(connection=conn, id=CUBE_ID)\n",
    "my_cube"
   ]
  },
  {
   "cell_type": "code",
   "execution_count": 10,
   "id": "ca317bb1-76e3-4034-aad6-7986ebc39cba",
   "metadata": {},
   "outputs": [
    {
     "data": {
      "application/vnd.jupyter.widget-view+json": {
       "model_id": "",
       "version_major": 2,
       "version_minor": 0
      },
      "text/plain": [
       "Initializing an instance of a cube. Please wait..."
      ]
     },
     "metadata": {},
     "output_type": "display_data"
    },
    {
     "data": {
      "text/html": [
       "<div>\n",
       "<style scoped>\n",
       "    .dataframe tbody tr th:only-of-type {\n",
       "        vertical-align: middle;\n",
       "    }\n",
       "\n",
       "    .dataframe tbody tr th {\n",
       "        vertical-align: top;\n",
       "    }\n",
       "\n",
       "    .dataframe thead th {\n",
       "        text-align: right;\n",
       "    }\n",
       "</style>\n",
       "<table border=\"1\" class=\"dataframe\">\n",
       "  <thead>\n",
       "    <tr style=\"text-align: right;\">\n",
       "      <th></th>\n",
       "      <th>Region</th>\n",
       "      <th>Call Center</th>\n",
       "      <th>Category</th>\n",
       "      <th>Subcategory</th>\n",
       "      <th>Month</th>\n",
       "      <th>Year</th>\n",
       "      <th>Revenue Forecast</th>\n",
       "      <th>Revenue % Growth YoY</th>\n",
       "      <th>Profit</th>\n",
       "      <th>Last Year's Revenue</th>\n",
       "      <th>Units Sold</th>\n",
       "      <th>Profit Forecast</th>\n",
       "      <th>Profit % Growth YoY</th>\n",
       "      <th>Last Year's Profit</th>\n",
       "      <th>Profit Margin</th>\n",
       "    </tr>\n",
       "  </thead>\n",
       "  <tbody>\n",
       "    <tr>\n",
       "      <th>0</th>\n",
       "      <td>Central</td>\n",
       "      <td>Fargo</td>\n",
       "      <td>Books</td>\n",
       "      <td>Art &amp; Architecture</td>\n",
       "      <td></td>\n",
       "      <td></td>\n",
       "      <td>$ 530</td>\n",
       "      <td>58,8%</td>\n",
       "      <td>1948.0</td>\n",
       "      <td>$655</td>\n",
       "      <td>512.0</td>\n",
       "      <td>1908.0</td>\n",
       "      <td>6,0%</td>\n",
       "      <td>1719.0</td>\n",
       "      <td>26,01%</td>\n",
       "    </tr>\n",
       "    <tr>\n",
       "      <th>1</th>\n",
       "      <td>Central</td>\n",
       "      <td>Fargo</td>\n",
       "      <td>Books</td>\n",
       "      <td>Books - Miscellaneous</td>\n",
       "      <td></td>\n",
       "      <td></td>\n",
       "      <td>$ 317</td>\n",
       "      <td>93,9%</td>\n",
       "      <td>916.0</td>\n",
       "      <td>$65</td>\n",
       "      <td>697.0</td>\n",
       "      <td>889.0</td>\n",
       "      <td>9,1%</td>\n",
       "      <td>833.0</td>\n",
       "      <td>21,32%</td>\n",
       "    </tr>\n",
       "    <tr>\n",
       "      <th>2</th>\n",
       "      <td>Central</td>\n",
       "      <td>Fargo</td>\n",
       "      <td>Books</td>\n",
       "      <td>Business</td>\n",
       "      <td></td>\n",
       "      <td></td>\n",
       "      <td>$ 445</td>\n",
       "      <td>96,2%</td>\n",
       "      <td>1574.0</td>\n",
       "      <td>$97</td>\n",
       "      <td>526.0</td>\n",
       "      <td>1468.0</td>\n",
       "      <td>94,6%</td>\n",
       "      <td>1192.0</td>\n",
       "      <td>25,56%</td>\n",
       "    </tr>\n",
       "    <tr>\n",
       "      <th>3</th>\n",
       "      <td>Central</td>\n",
       "      <td>Fargo</td>\n",
       "      <td>Books</td>\n",
       "      <td>Literature</td>\n",
       "      <td></td>\n",
       "      <td></td>\n",
       "      <td>$ 305</td>\n",
       "      <td>93,0%</td>\n",
       "      <td>1054.0</td>\n",
       "      <td>$92</td>\n",
       "      <td>721.0</td>\n",
       "      <td>1023.0</td>\n",
       "      <td>79,7%</td>\n",
       "      <td>876.0</td>\n",
       "      <td>23,29%</td>\n",
       "    </tr>\n",
       "    <tr>\n",
       "      <th>4</th>\n",
       "      <td>Central</td>\n",
       "      <td>Fargo</td>\n",
       "      <td>Books</td>\n",
       "      <td>Science &amp; Technology</td>\n",
       "      <td></td>\n",
       "      <td></td>\n",
       "      <td>$ 969</td>\n",
       "      <td>96,7%</td>\n",
       "      <td>3046.0</td>\n",
       "      <td>$845</td>\n",
       "      <td>479.0</td>\n",
       "      <td>2817.0</td>\n",
       "      <td>88,0%</td>\n",
       "      <td>2634.0</td>\n",
       "      <td>25,59%</td>\n",
       "    </tr>\n",
       "    <tr>\n",
       "      <th>...</th>\n",
       "      <td>...</td>\n",
       "      <td>...</td>\n",
       "      <td>...</td>\n",
       "      <td>...</td>\n",
       "      <td>...</td>\n",
       "      <td>...</td>\n",
       "      <td>...</td>\n",
       "      <td>...</td>\n",
       "      <td>...</td>\n",
       "      <td>...</td>\n",
       "      <td>...</td>\n",
       "      <td>...</td>\n",
       "      <td>...</td>\n",
       "      <td>...</td>\n",
       "      <td>...</td>\n",
       "    </tr>\n",
       "    <tr>\n",
       "      <th>355</th>\n",
       "      <td>Web</td>\n",
       "      <td>Web</td>\n",
       "      <td>Music</td>\n",
       "      <td>Country</td>\n",
       "      <td></td>\n",
       "      <td></td>\n",
       "      <td>$ 6 972</td>\n",
       "      <td>94,8%</td>\n",
       "      <td>476.0</td>\n",
       "      <td>$963</td>\n",
       "      <td>5155.0</td>\n",
       "      <td>405.0</td>\n",
       "      <td>98,8%</td>\n",
       "      <td>-7.0</td>\n",
       "      <td>5,41%</td>\n",
       "    </tr>\n",
       "    <tr>\n",
       "      <th>356</th>\n",
       "      <td>Web</td>\n",
       "      <td>Web</td>\n",
       "      <td>Music</td>\n",
       "      <td>Music - Miscellaneous</td>\n",
       "      <td></td>\n",
       "      <td></td>\n",
       "      <td>$ 903</td>\n",
       "      <td>98,1%</td>\n",
       "      <td>6031.0</td>\n",
       "      <td>$984</td>\n",
       "      <td>3751.0</td>\n",
       "      <td>5686.0</td>\n",
       "      <td>92,6%</td>\n",
       "      <td>2785.0</td>\n",
       "      <td>8,62%</td>\n",
       "    </tr>\n",
       "    <tr>\n",
       "      <th>357</th>\n",
       "      <td>Web</td>\n",
       "      <td>Web</td>\n",
       "      <td>Music</td>\n",
       "      <td>Pop</td>\n",
       "      <td></td>\n",
       "      <td></td>\n",
       "      <td>$ 5 940</td>\n",
       "      <td>97,6%</td>\n",
       "      <td>1832.0</td>\n",
       "      <td>$817</td>\n",
       "      <td>4902.0</td>\n",
       "      <td>1694.0</td>\n",
       "      <td>98,9%</td>\n",
       "      <td>803.0</td>\n",
       "      <td>6,78%</td>\n",
       "    </tr>\n",
       "    <tr>\n",
       "      <th>358</th>\n",
       "      <td>Web</td>\n",
       "      <td>Web</td>\n",
       "      <td>Music</td>\n",
       "      <td>Rock</td>\n",
       "      <td></td>\n",
       "      <td></td>\n",
       "      <td>$ 951</td>\n",
       "      <td>91,7%</td>\n",
       "      <td>1002.0</td>\n",
       "      <td>$900</td>\n",
       "      <td>5150.0</td>\n",
       "      <td>1013.0</td>\n",
       "      <td>92,7%</td>\n",
       "      <td>450.0</td>\n",
       "      <td>5,15%</td>\n",
       "    </tr>\n",
       "    <tr>\n",
       "      <th>359</th>\n",
       "      <td>Web</td>\n",
       "      <td>Web</td>\n",
       "      <td>Music</td>\n",
       "      <td>Soul / R&amp;B</td>\n",
       "      <td></td>\n",
       "      <td></td>\n",
       "      <td>$ 976</td>\n",
       "      <td>99,0%</td>\n",
       "      <td>6976.0</td>\n",
       "      <td>$952</td>\n",
       "      <td>3231.0</td>\n",
       "      <td>6605.0</td>\n",
       "      <td>94,8%</td>\n",
       "      <td>3237.0</td>\n",
       "      <td>18,50%</td>\n",
       "    </tr>\n",
       "  </tbody>\n",
       "</table>\n",
       "<p>360 rows × 15 columns</p>\n",
       "</div>"
      ],
      "text/plain": [
       "      Region Call Center Category            Subcategory Month Year  \\\n",
       "0    Central       Fargo    Books     Art & Architecture              \n",
       "1    Central       Fargo    Books  Books - Miscellaneous              \n",
       "2    Central       Fargo    Books               Business              \n",
       "3    Central       Fargo    Books             Literature              \n",
       "4    Central       Fargo    Books   Science & Technology              \n",
       "..       ...         ...      ...                    ...   ...  ...   \n",
       "355      Web         Web    Music                Country              \n",
       "356      Web         Web    Music  Music - Miscellaneous              \n",
       "357      Web         Web    Music                    Pop              \n",
       "358      Web         Web    Music                   Rock              \n",
       "359      Web         Web    Music             Soul / R&B              \n",
       "\n",
       "    Revenue Forecast Revenue % Growth YoY  Profit Last Year's Revenue  \\\n",
       "0              $ 530                58,8%  1948.0                $655   \n",
       "1              $ 317                93,9%   916.0                 $65   \n",
       "2              $ 445                96,2%  1574.0                 $97   \n",
       "3              $ 305                93,0%  1054.0                 $92   \n",
       "4              $ 969                96,7%  3046.0                $845   \n",
       "..               ...                  ...     ...                 ...   \n",
       "355          $ 6 972                94,8%   476.0                $963   \n",
       "356            $ 903                98,1%  6031.0                $984   \n",
       "357          $ 5 940                97,6%  1832.0                $817   \n",
       "358            $ 951                91,7%  1002.0                $900   \n",
       "359            $ 976                99,0%  6976.0                $952   \n",
       "\n",
       "     Units Sold  Profit Forecast Profit % Growth YoY  Last Year's Profit  \\\n",
       "0         512.0           1908.0                6,0%              1719.0   \n",
       "1         697.0            889.0                9,1%               833.0   \n",
       "2         526.0           1468.0               94,6%              1192.0   \n",
       "3         721.0           1023.0               79,7%               876.0   \n",
       "4         479.0           2817.0               88,0%              2634.0   \n",
       "..          ...              ...                 ...                 ...   \n",
       "355      5155.0            405.0               98,8%                -7.0   \n",
       "356      3751.0           5686.0               92,6%              2785.0   \n",
       "357      4902.0           1694.0               98,9%               803.0   \n",
       "358      5150.0           1013.0               92,7%               450.0   \n",
       "359      3231.0           6605.0               94,8%              3237.0   \n",
       "\n",
       "    Profit Margin  \n",
       "0          26,01%  \n",
       "1          21,32%  \n",
       "2          25,56%  \n",
       "3          23,29%  \n",
       "4          25,59%  \n",
       "..            ...  \n",
       "355         5,41%  \n",
       "356         8,62%  \n",
       "357         6,78%  \n",
       "358         5,15%  \n",
       "359        18,50%  \n",
       "\n",
       "[360 rows x 15 columns]"
      ]
     },
     "execution_count": 10,
     "metadata": {},
     "output_type": "execute_result"
    }
   ],
   "source": [
    "my_cube_df = my_cube.to_dataframe()\n",
    "my_cube_df"
   ]
  },
  {
   "cell_type": "code",
   "execution_count": 30,
   "id": "1329dec3-654b-415c-bb36-0d8ce6f60d30",
   "metadata": {},
   "outputs": [
    {
     "data": {
      "text/plain": [
       "[{'name': \"Last Year's Profit\", 'id': 'B93BCBEB11EB88D9AB830080EF25FAB6'},\n",
       " {'name': 'Profit', 'id': 'B93BD6E411EB88D9AB680080EF25FAB6'},\n",
       " {'name': 'Profit Forecast', 'id': 'B93BDF2D11EB88D9AB680080EF25FAB6'},\n",
       " {'name': 'Revenue % Growth YoY', 'id': 'FACBB63911EB88D92D0A0080EF453BB9'},\n",
       " {'name': 'Revenue Forecast', 'id': 'FCF8F72D11EB88D92D0A0080EF05BBB8'},\n",
       " {'name': 'Profit % Growth YoY', 'id': '01048E4511EB88DA2E320080EFE579B4'},\n",
       " {'name': 'Profit Margin', 'id': '043F1BCF11EB88DA2E320080EF5559B5'},\n",
       " {'name': \"Last Year's Revenue\", 'id': '06AFA7B611EB88DA2E320080EF6579B5'},\n",
       " {'name': 'Units Sold', 'id': '09BB7A5C11EB88DA2D0A0080EF15DBB8'}]"
      ]
     },
     "execution_count": 30,
     "metadata": {},
     "output_type": "execute_result"
    }
   ],
   "source": [
    "my_cube.metrics"
   ]
  },
  {
   "cell_type": "code",
   "execution_count": 29,
   "id": "1dd5dbd8-a4bd-4e89-b175-56ae81f61d07",
   "metadata": {},
   "outputs": [
    {
     "data": {
      "text/plain": [
       "[{'name': 'Month', 'id': 'B93BB2AF11EB88D9AB830080EF25FAB6'},\n",
       " {'name': 'Subcategory', 'id': 'B93BB8EF11EB88D9AB830080EF25FAB6'},\n",
       " {'name': 'Call Center', 'id': 'B93BBCD711EB88D9AB830080EF25FAB6'},\n",
       " {'name': 'Category', 'id': 'B93BC09611EB88D9AB830080EF25FAB6'},\n",
       " {'name': 'Region', 'id': 'B93BC44311EB88D9AB830080EF25FAB6'},\n",
       " {'name': 'Year', 'id': 'B93BC7EF11EB88D9AB830080EF25FAB6'}]"
      ]
     },
     "execution_count": 29,
     "metadata": {},
     "output_type": "execute_result"
    }
   ],
   "source": [
    "my_cube.attributes"
   ]
  },
  {
   "cell_type": "code",
   "execution_count": null,
   "id": "8f408ffb-b0e2-4a7d-9001-f24ca5f9a466",
   "metadata": {},
   "outputs": [],
   "source": [
    "my_cube.attr_elements"
   ]
  },
  {
   "cell_type": "code",
   "execution_count": 31,
   "id": "4545886b-821d-47dd-8529-2369c4761ac2",
   "metadata": {},
   "outputs": [],
   "source": [
    "my_cube.apply_filters(attributes=[\"B93BC44311EB88D9AB830080EF25FAB6\"], metrics=[\"B93BCBEB11EB88D9AB830080EF25FAB6\",\"B93BD6E411EB88D9AB680080EF25FAB6\"])"
   ]
  },
  {
   "cell_type": "code",
   "execution_count": 32,
   "id": "41f85b2f-bc1a-4332-9848-ac1e00dfd9f7",
   "metadata": {},
   "outputs": [
    {
     "data": {
      "application/vnd.jupyter.widget-view+json": {
       "model_id": "",
       "version_major": 2,
       "version_minor": 0
      },
      "text/plain": [
       "Initializing an instance of a cube. Please wait..."
      ]
     },
     "metadata": {},
     "output_type": "display_data"
    },
    {
     "data": {
      "text/html": [
       "<div>\n",
       "<style scoped>\n",
       "    .dataframe tbody tr th:only-of-type {\n",
       "        vertical-align: middle;\n",
       "    }\n",
       "\n",
       "    .dataframe tbody tr th {\n",
       "        vertical-align: top;\n",
       "    }\n",
       "\n",
       "    .dataframe thead th {\n",
       "        text-align: right;\n",
       "    }\n",
       "</style>\n",
       "<table border=\"1\" class=\"dataframe\">\n",
       "  <thead>\n",
       "    <tr style=\"text-align: right;\">\n",
       "      <th></th>\n",
       "      <th>Region</th>\n",
       "      <th>Last Year's Profit</th>\n",
       "      <th>Profit</th>\n",
       "    </tr>\n",
       "  </thead>\n",
       "  <tbody>\n",
       "    <tr>\n",
       "      <th>0</th>\n",
       "      <td>Central</td>\n",
       "      <td>450768.0</td>\n",
       "      <td>568021.0</td>\n",
       "    </tr>\n",
       "    <tr>\n",
       "      <th>1</th>\n",
       "      <td>Mid-Atlantic</td>\n",
       "      <td>399869.0</td>\n",
       "      <td>501732.0</td>\n",
       "    </tr>\n",
       "    <tr>\n",
       "      <th>2</th>\n",
       "      <td>Northeast</td>\n",
       "      <td>775657.0</td>\n",
       "      <td>960766.0</td>\n",
       "    </tr>\n",
       "    <tr>\n",
       "      <th>3</th>\n",
       "      <td>Northwest</td>\n",
       "      <td>163528.0</td>\n",
       "      <td>195863.0</td>\n",
       "    </tr>\n",
       "    <tr>\n",
       "      <th>4</th>\n",
       "      <td>South</td>\n",
       "      <td>484327.0</td>\n",
       "      <td>590419.0</td>\n",
       "    </tr>\n",
       "    <tr>\n",
       "      <th>5</th>\n",
       "      <td>Southeast</td>\n",
       "      <td>203469.0</td>\n",
       "      <td>247108.0</td>\n",
       "    </tr>\n",
       "    <tr>\n",
       "      <th>6</th>\n",
       "      <td>Southwest</td>\n",
       "      <td>341786.0</td>\n",
       "      <td>411343.0</td>\n",
       "    </tr>\n",
       "    <tr>\n",
       "      <th>7</th>\n",
       "      <td>Web</td>\n",
       "      <td>224847.0</td>\n",
       "      <td>514239.0</td>\n",
       "    </tr>\n",
       "  </tbody>\n",
       "</table>\n",
       "</div>"
      ],
      "text/plain": [
       "         Region  Last Year's Profit    Profit\n",
       "0       Central            450768.0  568021.0\n",
       "1  Mid-Atlantic            399869.0  501732.0\n",
       "2     Northeast            775657.0  960766.0\n",
       "3     Northwest            163528.0  195863.0\n",
       "4         South            484327.0  590419.0\n",
       "5     Southeast            203469.0  247108.0\n",
       "6     Southwest            341786.0  411343.0\n",
       "7           Web            224847.0  514239.0"
      ]
     },
     "execution_count": 32,
     "metadata": {},
     "output_type": "execute_result"
    }
   ],
   "source": [
    "my_cube_df = my_cube.to_dataframe()\n",
    "my_cube_df"
   ]
  },
  {
   "cell_type": "code",
   "execution_count": 33,
   "id": "bbb5ca65-5991-401c-802a-de4f97fd7103",
   "metadata": {},
   "outputs": [
    {
     "data": {
      "text/plain": [
       "<AxesSubplot: >"
      ]
     },
     "execution_count": 33,
     "metadata": {},
     "output_type": "execute_result"
    },
    {
     "data": {
      "image/png": "[encoded data removed]",
      "text/plain": [
       "<Figure size 640x480 with 1 Axes>"
      ]
     },
     "metadata": {},
     "output_type": "display_data"
    }
   ],
   "source": [
    "my_cube_df.plot(kind='bar')"
   ]
  },
  {
   "cell_type": "markdown",
   "id": "46bd7218-bb04-46d9-a9e5-6c0043b05ba6",
   "metadata": {},
   "source": [
    "## Report"
   ]
  },
  {
   "cell_type": "code",
   "execution_count": 16,
   "id": "34008182-a7ec-4d7c-b090-62b644e3483f",
   "metadata": {},
   "outputs": [
    {
     "name": "stdout",
     "output_type": "stream",
     "text": [
      "Report object named: 'Sales Details' with ID: 'ADAFC94F41480D3C66974688D02BB378'\n"
     ]
    },
    {
     "data": {
      "text/plain": [
       "Report(connection, id='ADAFC94F41480D3C66974688D02BB378', parallel=False)"
      ]
     },
     "execution_count": 16,
     "metadata": {},
     "output_type": "execute_result"
    }
   ],
   "source": [
    "my_report = Report(connection=conn, id=REPORT_ID, parallel=False)\n",
    "my_report"
   ]
  },
  {
   "cell_type": "code",
   "execution_count": 17,
   "id": "3a1ca8ec-e36f-48f2-bec5-65d5444d650c",
   "metadata": {},
   "outputs": [
    {
     "data": {
      "application/vnd.jupyter.widget-view+json": {
       "model_id": "",
       "version_major": 2,
       "version_minor": 0
      },
      "text/plain": [
       "Initializing an instance of a report. Please wait..."
      ]
     },
     "metadata": {},
     "output_type": "display_data"
    },
    {
     "data": {
      "application/vnd.jupyter.widget-view+json": {
       "model_id": "8c27da3ad6af481bb2b17008fd2a5b68",
       "version_major": 2,
       "version_minor": 0
      },
      "text/plain": [
       "Downloading:   0%|          | 0/2 [00:00<?, ?it/s]"
      ]
     },
     "metadata": {},
     "output_type": "display_data"
    },
    {
     "data": {
      "text/html": [
       "<div>\n",
       "<style scoped>\n",
       "    .dataframe tbody tr th:only-of-type {\n",
       "        vertical-align: middle;\n",
       "    }\n",
       "\n",
       "    .dataframe tbody tr th {\n",
       "        vertical-align: top;\n",
       "    }\n",
       "\n",
       "    .dataframe thead th {\n",
       "        text-align: right;\n",
       "    }\n",
       "</style>\n",
       "<table border=\"1\" class=\"dataframe\">\n",
       "  <thead>\n",
       "    <tr style=\"text-align: right;\">\n",
       "      <th></th>\n",
       "      <th>Region</th>\n",
       "      <th>Month</th>\n",
       "      <th>Customer State</th>\n",
       "      <th>Category</th>\n",
       "      <th>Last Year's Cost</th>\n",
       "      <th>Cost</th>\n",
       "      <th>Revenue</th>\n",
       "      <th>Profit</th>\n",
       "      <th>Last Year's Revenue</th>\n",
       "      <th>Last Year's Profit</th>\n",
       "    </tr>\n",
       "  </thead>\n",
       "  <tbody>\n",
       "    <tr>\n",
       "      <th>0</th>\n",
       "      <td>Northeast</td>\n",
       "      <td>Jan 2016</td>\n",
       "      <td>Connecticut</td>\n",
       "      <td>Books</td>\n",
       "      <td>1239.5890</td>\n",
       "      <td>1698.6580</td>\n",
       "      <td>2224.0</td>\n",
       "      <td>525.3420</td>\n",
       "      <td>1630.0</td>\n",
       "      <td>390.4110</td>\n",
       "    </tr>\n",
       "    <tr>\n",
       "      <th>1</th>\n",
       "      <td>Northeast</td>\n",
       "      <td>Jan 2016</td>\n",
       "      <td>Connecticut</td>\n",
       "      <td>Electronics</td>\n",
       "      <td>9874.8108</td>\n",
       "      <td>15367.4132</td>\n",
       "      <td>19247.0</td>\n",
       "      <td>3879.5868</td>\n",
       "      <td>12337.0</td>\n",
       "      <td>2462.1892</td>\n",
       "    </tr>\n",
       "    <tr>\n",
       "      <th>2</th>\n",
       "      <td>Northeast</td>\n",
       "      <td>Jan 2016</td>\n",
       "      <td>Connecticut</td>\n",
       "      <td>Movies</td>\n",
       "      <td>2384.1335</td>\n",
       "      <td>3565.9705</td>\n",
       "      <td>3920.0</td>\n",
       "      <td>354.0295</td>\n",
       "      <td>2625.0</td>\n",
       "      <td>240.8665</td>\n",
       "    </tr>\n",
       "    <tr>\n",
       "      <th>3</th>\n",
       "      <td>Northeast</td>\n",
       "      <td>Jan 2016</td>\n",
       "      <td>Connecticut</td>\n",
       "      <td>Music</td>\n",
       "      <td>2155.7079</td>\n",
       "      <td>3076.6230</td>\n",
       "      <td>3310.0</td>\n",
       "      <td>233.3770</td>\n",
       "      <td>2333.0</td>\n",
       "      <td>177.2921</td>\n",
       "    </tr>\n",
       "    <tr>\n",
       "      <th>4</th>\n",
       "      <td>Northeast</td>\n",
       "      <td>Jan 2016</td>\n",
       "      <td>Maine</td>\n",
       "      <td>Books</td>\n",
       "      <td>404.6380</td>\n",
       "      <td>155.0770</td>\n",
       "      <td>207.0</td>\n",
       "      <td>51.9230</td>\n",
       "      <td>538.0</td>\n",
       "      <td>133.3620</td>\n",
       "    </tr>\n",
       "  </tbody>\n",
       "</table>\n",
       "</div>"
      ],
      "text/plain": [
       "      Region     Month Customer State     Category  Last Year's Cost  \\\n",
       "0  Northeast  Jan 2016    Connecticut        Books         1239.5890   \n",
       "1  Northeast  Jan 2016    Connecticut  Electronics         9874.8108   \n",
       "2  Northeast  Jan 2016    Connecticut       Movies         2384.1335   \n",
       "3  Northeast  Jan 2016    Connecticut        Music         2155.7079   \n",
       "4  Northeast  Jan 2016          Maine        Books          404.6380   \n",
       "\n",
       "         Cost  Revenue     Profit  Last Year's Revenue  Last Year's Profit  \n",
       "0   1698.6580   2224.0   525.3420               1630.0            390.4110  \n",
       "1  15367.4132  19247.0  3879.5868              12337.0           2462.1892  \n",
       "2   3565.9705   3920.0   354.0295               2625.0            240.8665  \n",
       "3   3076.6230   3310.0   233.3770               2333.0            177.2921  \n",
       "4    155.0770    207.0    51.9230                538.0            133.3620  "
      ]
     },
     "execution_count": 17,
     "metadata": {},
     "output_type": "execute_result"
    }
   ],
   "source": [
    "my_report_df = my_report.to_dataframe()\n",
    "my_report_df.head()"
   ]
  },
  {
   "cell_type": "code",
   "execution_count": null,
   "id": "6d39ee30-4574-4978-8ee4-c3734ae55acb",
   "metadata": {},
   "outputs": [],
   "source": [
    "my_report_df"
   ]
  },
  {
   "cell_type": "code",
   "execution_count": 19,
   "id": "75392be9-a287-4371-9e02-ecdaa6cb4eb9",
   "metadata": {
    "tags": []
   },
   "outputs": [
    {
     "data": {
      "text/plain": [
       "[{'name': 'Region', 'id': '8D679D3B11D3E4981000E787EC6DE8A4'},\n",
       " {'name': 'Customer State', 'id': '54BABC8311D59D57C000B28A4CC5F24F'},\n",
       " {'name': 'Category', 'id': '8D679D3711D3E4981000E787EC6DE8A4'},\n",
       " {'name': 'Month', 'id': '8D679D4411D3E4981000E787EC6DE8A4'}]"
      ]
     },
     "execution_count": 19,
     "metadata": {},
     "output_type": "execute_result"
    }
   ],
   "source": [
    "my_report.attributes"
   ]
  },
  {
   "cell_type": "code",
   "execution_count": 20,
   "id": "ac162bed-f3be-4902-bd9c-27391467ff32",
   "metadata": {},
   "outputs": [
    {
     "data": {
      "text/plain": [
       "[{'name': 'Cost', 'id': '7FD5B69611D5AC76C000D98A4CC5F24F'},\n",
       " {'name': \"Last Year's Cost\", 'id': 'CC10F9A14CA79466D5BE2AB86FF45865'},\n",
       " {'name': 'Profit', 'id': '4C051DB611D3E877C000B3B2D86C964F'},\n",
       " {'name': \"Last Year's Profit\", 'id': '838367154BDAFF3F783D0EB5CD82386A'},\n",
       " {'name': 'Revenue', 'id': '4C05177011D3E877C000B3B2D86C964F'},\n",
       " {'name': \"Last Year's Revenue\", 'id': '4C05199311D3E877C000B3B2D86C964F'}]"
      ]
     },
     "execution_count": 20,
     "metadata": {},
     "output_type": "execute_result"
    }
   ],
   "source": [
    "my_report.metrics"
   ]
  },
  {
   "cell_type": "code",
   "execution_count": null,
   "id": "ed96ba7f-6b5a-4197-8634-8abc1904e5b7",
   "metadata": {},
   "outputs": [],
   "source": [
    "my_report.attr_elements"
   ]
  },
  {
   "cell_type": "code",
   "execution_count": 26,
   "id": "afa3cd04-7af8-4585-b707-15df0442ef80",
   "metadata": {},
   "outputs": [
    {
     "data": {
      "application/vnd.jupyter.widget-view+json": {
       "model_id": "",
       "version_major": 2,
       "version_minor": 0
      },
      "text/plain": [
       "Initializing an instance of a report. Please wait..."
      ]
     },
     "metadata": {},
     "output_type": "display_data"
    }
   ],
   "source": [
    "my_report.apply_filters(attributes=[\"8D679D3711D3E4981000E787EC6DE8A4\"], metrics=[\"4C051DB611D3E877C000B3B2D86C964F\",\"4C05177011D3E877C000B3B2D86C964F\"])\n",
    "df = my_report.to_dataframe()"
   ]
  },
  {
   "cell_type": "code",
   "execution_count": 27,
   "id": "862aced4-fead-48e8-b56e-3613f54c6916",
   "metadata": {},
   "outputs": [
    {
     "data": {
      "text/html": [
       "<div>\n",
       "<style scoped>\n",
       "    .dataframe tbody tr th:only-of-type {\n",
       "        vertical-align: middle;\n",
       "    }\n",
       "\n",
       "    .dataframe tbody tr th {\n",
       "        vertical-align: top;\n",
       "    }\n",
       "\n",
       "    .dataframe thead th {\n",
       "        text-align: right;\n",
       "    }\n",
       "</style>\n",
       "<table border=\"1\" class=\"dataframe\">\n",
       "  <thead>\n",
       "    <tr style=\"text-align: right;\">\n",
       "      <th></th>\n",
       "      <th>Category</th>\n",
       "      <th>Profit</th>\n",
       "      <th>Revenue</th>\n",
       "    </tr>\n",
       "  </thead>\n",
       "  <tbody>\n",
       "    <tr>\n",
       "      <th>0</th>\n",
       "      <td>Books</td>\n",
       "      <td>242298.794</td>\n",
       "      <td>1121696.30</td>\n",
       "    </tr>\n",
       "    <tr>\n",
       "      <th>1</th>\n",
       "      <td>Electronics</td>\n",
       "      <td>1821870.865</td>\n",
       "      <td>10342798.05</td>\n",
       "    </tr>\n",
       "    <tr>\n",
       "      <th>2</th>\n",
       "      <td>Movies</td>\n",
       "      <td>108416.993</td>\n",
       "      <td>1740846.80</td>\n",
       "    </tr>\n",
       "    <tr>\n",
       "      <th>3</th>\n",
       "      <td>Music</td>\n",
       "      <td>76810.587</td>\n",
       "      <td>1653522.90</td>\n",
       "    </tr>\n",
       "  </tbody>\n",
       "</table>\n",
       "</div>"
      ],
      "text/plain": [
       "      Category       Profit      Revenue\n",
       "0        Books   242298.794   1121696.30\n",
       "1  Electronics  1821870.865  10342798.05\n",
       "2       Movies   108416.993   1740846.80\n",
       "3        Music    76810.587   1653522.90"
      ]
     },
     "execution_count": 27,
     "metadata": {},
     "output_type": "execute_result"
    }
   ],
   "source": [
    "df"
   ]
  },
  {
   "cell_type": "code",
   "execution_count": 28,
   "id": "28fad0e1-77a9-49c3-a10c-28d31538403f",
   "metadata": {},
   "outputs": [
    {
     "data": {
      "text/plain": [
       "<AxesSubplot: >"
      ]
     },
     "execution_count": 28,
     "metadata": {},
     "output_type": "execute_result"
    },
    {
     "data": {
      "image/png": "[encoded data removed]",
      "text/plain": [
       "<Figure size 640x480 with 1 Axes>"
      ]
     },
     "metadata": {},
     "output_type": "display_data"
    }
   ],
   "source": [
    "df.plot(kind='bar')"
   ]
  },
  {
   "cell_type": "code",
   "execution_count": null,
   "id": "d23bc21d-de12-44b5-a7f9-744897d62ee9",
   "metadata": {},
   "outputs": [],
   "source": []
  }
 ],
 "metadata": {
  "kernelspec": {
   "display_name": "Python 3 (ipykernel)",
   "language": "python",
   "name": "python3"
  },
  "language_info": {
   "codemirror_mode": {
    "name": "ipython",
    "version": 3
   },
   "file_extension": ".py",
   "mimetype": "text/x-python",
   "name": "python",
   "nbconvert_exporter": "python",
   "pygments_lexer": "ipython3",
   "version": "3.10.8"
  }
 },
 "nbformat": 4,
 "nbformat_minor": 5
}
