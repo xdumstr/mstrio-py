{
 "cells": [
  {
   "cell_type": "code",
   "execution_count": null,
   "id": "7b065aca-0b70-4085-a90b-58458ff20adb",
   "metadata": {},
   "outputs": [],
   "source": [
    "from IPython.display import display, HTML, Javascript"
   ]
  },
  {
   "cell_type": "code",
   "execution_count": null,
   "id": "44640820-6a30-4a38-b9e2-9daad154f353",
   "metadata": {},
   "outputs": [],
   "source": [
    "display(HTML(\"\"\"<!DOCTYPE html>\n",
    "<html lang=\"en\">\n",
    "  <head>\n",
    "    <meta charset=\"utf-8\" />\n",
    "    <script\n",
    "      type=\"text/javascript\"\n",
    "      src=\"https://demo.microstrategy.com/MicroStrategyLibrary/javascript/embeddinglib.js\"\n",
    "    ></script>\n",
    "  </head>\n",
    "\n",
    "  <body>\n",
    "    <h1>Hello</h1>\n",
    "    <div id=\"embedding-dossier-container\"></div>\n",
    "  </body>\n",
    "</html>\"\"\"))"
   ]
  },
  {
   "cell_type": "code",
   "execution_count": null,
   "id": "134ca08f-a757-4c4c-be2e-0b8eb6d0c595",
   "metadata": {},
   "outputs": [],
   "source": [
    "Javascript(\"\"\"\n",
    " let url =\n",
    "        \"https://demo.microstrategy.com/MicroStrategyLibrary/app/B7CA92F04B9FAE8D941C3E9B7E0CD754/27D332AC6D43352E0928B9A1FCAF4AB0\"; // https://{env-url}/{libraryName}/app/{projectId}/{dossierId}\n",
    "      let dossier; // Variable to store the dossier created. Used by Event Handler do not remove!\n",
    "      let config; // Variable to store the configuration settings for dossier.\n",
    "      async function runCode() {\n",
    "        // For more details on configuration properties, see https://microstrategy.github.io/embedding-sdk-docs/add-functionality/methods-and-properties\n",
    "        config = {\n",
    "          url: url,\n",
    "          placeholder: document.getElementById(\"embedding-dossier-container\"),\n",
    "        };\n",
    "        // INSERT PROPERTIES BELOW HERE\n",
    "\n",
    "        // INSERT PROPERTIES ABOVE HERE\n",
    "\n",
    "        // Embed the dossier with the configuration settings\n",
    "        try {\n",
    "          dossier = await window.microstrategy.dossier.create(config);\n",
    "        } catch (error) {\n",
    "          console.error(error);\n",
    "        }\n",
    "\n",
    "        // INSERT METHODS BELOW HERE\n",
    "\n",
    "        // INSERT METHODS ABOVE HERE\n",
    "      }\n",
    "      runCode();\n",
    "\"\"\")"
   ]
  },
  {
   "cell_type": "code",
   "execution_count": null,
   "id": "d911c1c2-7115-44f6-bcda-255e59ac7fe8",
   "metadata": {},
   "outputs": [],
   "source": []
  }
 ],
 "metadata": {
  "kernelspec": {
   "display_name": "Python 3 (ipykernel)",
   "language": "python",
   "name": "python3"
  },
  "language_info": {
   "codemirror_mode": {
    "name": "ipython",
    "version": 3
   },
   "file_extension": ".py",
   "mimetype": "text/x-python",
   "name": "python",
   "nbconvert_exporter": "python",
   "pygments_lexer": "ipython3",
   "version": "3.10.8"
  }
 },
 "nbformat": 4,
 "nbformat_minor": 5
}
