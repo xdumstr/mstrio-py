{
 "cells": [
  {
   "cell_type": "markdown",
   "metadata": {},
   "source": [
    "# Import mstrio"
   ]
  },
  {
   "cell_type": "markdown",
   "metadata": {},
   "source": [
    "To use mstrio, you need to import mstrio library. Yon can find instructions on https://github.com/MicroStrategy/mstrio-py\n",
    "\n",
    "We don't have python native class for Security Filter yet, but you use the generic wrapper and python dictionary object. "
   ]
  },
  {
   "cell_type": "code",
   "execution_count": null,
   "metadata": {},
   "outputs": [],
   "source": [
    "from mstrio.connection import Connection\n",
    "import getpass"
   ]
  },
  {
   "cell_type": "code",
   "execution_count": null,
   "metadata": {
    "scrolled": true
   },
   "outputs": [],
   "source": [
    "base_url = \"https://env-248739.customer.cloud.microstrategy.com/MicroStrategyLibrary/api\"\n",
    "mstr_username = \"mstr\"\n",
    "mstr_password = getpass.getpass()\n",
    "project_id = \"B7CA92F04B9FAE8D941C3E9B7E0CD754\"\n",
    "conn = Connection(base_url, mstr_username, mstr_password, project_id=project_id)"
   ]
  },
  {
   "cell_type": "markdown",
   "metadata": {},
   "source": [
    "# Security Filters"
   ]
  },
  {
   "cell_type": "markdown",
   "metadata": {},
   "source": [
    "## Search for security filters\n",
    "Type 58 is security filter"
   ]
  },
  {
   "cell_type": "code",
   "execution_count": null,
   "metadata": {},
   "outputs": [],
   "source": [
    "res = conn.session.get(url=conn.base_url + \"/api/searches/results?name=&pattern=4&type=58&getAncestors=false&offset=0&limit=-1\")"
   ]
  },
  {
   "cell_type": "code",
   "execution_count": null,
   "metadata": {},
   "outputs": [],
   "source": [
    "res.json()"
   ]
  },
  {
   "cell_type": "markdown",
   "metadata": {},
   "source": [
    "Get the users and user groups that the specified security filter is applied to"
   ]
  },
  {
   "cell_type": "code",
   "execution_count": null,
   "metadata": {},
   "outputs": [],
   "source": [
    "securityFilterID = \"0255170B4A79EBF2BAB2D88D824622F3\"\n",
    "res = conn.session.get(url=conn.base_url + \"/api/securityFilters/\"+securityFilterID+\"/members?offset=0&limit=-1\")"
   ]
  },
  {
   "cell_type": "code",
   "execution_count": null,
   "metadata": {},
   "outputs": [],
   "source": [
    "res.json()"
   ]
  },
  {
   "cell_type": "markdown",
   "metadata": {},
   "source": [
    "## Create Security Filter"
   ]
  },
  {
   "cell_type": "markdown",
   "metadata": {},
   "source": [
    "Ref to: https://www2.microstrategy.com/producthelp/Current/RESTSDK/Content/create_security_filter_object.htm\n",
    "\n",
    "### 1. Create Change Set"
   ]
  },
  {
   "cell_type": "markdown",
   "metadata": {},
   "source": [
    "To create security filter, you need to create a changeset. "
   ]
  },
  {
   "cell_type": "code",
   "execution_count": null,
   "metadata": {},
   "outputs": [],
   "source": [
    "ChangeSets_EndPoint = \"/api/model/changesets\""
   ]
  },
  {
   "cell_type": "code",
   "execution_count": null,
   "metadata": {},
   "outputs": [],
   "source": [
    "res = conn.session.post(url=conn.base_url + ChangeSets_EndPoint)"
   ]
  },
  {
   "cell_type": "code",
   "execution_count": null,
   "metadata": {},
   "outputs": [],
   "source": [
    "changesetID = res.json()['id']"
   ]
  },
  {
   "cell_type": "markdown",
   "metadata": {},
   "source": [
    "### 2. Create Security Filter "
   ]
  },
  {
   "cell_type": "markdown",
   "metadata": {},
   "source": [
    "Add changesetId too the header"
   ]
  },
  {
   "cell_type": "code",
   "execution_count": null,
   "metadata": {},
   "outputs": [],
   "source": [
    "conn.session.headers[\"X-MSTR-MS-Changeset\"] = changesetID"
   ]
  },
  {
   "cell_type": "code",
   "execution_count": null,
   "metadata": {},
   "outputs": [],
   "source": [
    "conn.session.headers"
   ]
  },
  {
   "cell_type": "markdown",
   "metadata": {},
   "source": [
    "Define the security filter defintion. Check the scheme in API doc. https://demo.microstrategy.com/MicroStrategyLibrary/api-docs/index.html#/Security%20Filters/ms-postSecurityFilter"
   ]
  },
  {
   "cell_type": "code",
   "execution_count": null,
   "metadata": {},
   "outputs": [],
   "source": [
    "data = {\n",
    "  \"information\": {\n",
    "    \"subType\": \"md_security_filter\",\n",
    "    \"name\": \"Year > 2015\", \n",
    "    \"destinationFolderId\": \"98FE182C2A10427EACE0CD30B6768258\"\n",
    "  },\n",
    "  \"qualification\": {\n",
    "    \"tree\": {\n",
    "      \"type\": \"predicate_form_qualification\",\n",
    "      \"predicateTree\": {\n",
    "        \"function\": \"greater\",\n",
    "        \"parameters\": [\n",
    "          {\n",
    "            \"parameterType\": \"constant\",\n",
    "            \"constant\": {\n",
    "              \"type\": \"double\",\n",
    "              \"value\": \"2015.0\"\n",
    "            }\n",
    "          }\n",
    "        ],\n",
    "        \"attribute\": {\n",
    "          \"objectId\": \"8D679D5111D3E4981000E787EC6DE8A4\",\n",
    "          \"subType\": \"attribute\",\n",
    "          \"name\": \"Year\"\n",
    "        },\n",
    "        \"form\": {\n",
    "          \"objectId\": \"45C11FA478E745FEA08D781CEA190FE5\",\n",
    "          \"subType\": \"attribute_form_system\",\n",
    "          \"name\": \"ID\"\n",
    "        }\n",
    "      }\n",
    "    }\n",
    "  },\n",
    "  \"topLevel\": [],\n",
    "  \"bottomLevel\": []\n",
    "}"
   ]
  },
  {
   "cell_type": "code",
   "execution_count": null,
   "metadata": {},
   "outputs": [],
   "source": [
    "data"
   ]
  },
  {
   "cell_type": "markdown",
   "metadata": {},
   "source": [
    "Send post request to create a security filter. "
   ]
  },
  {
   "cell_type": "code",
   "execution_count": null,
   "metadata": {},
   "outputs": [],
   "source": [
    "import json\n",
    "res = conn.session.post(url=conn.base_url + \"/api/model/securityFilters\",data=json.dumps(data))"
   ]
  },
  {
   "cell_type": "code",
   "execution_count": null,
   "metadata": {},
   "outputs": [],
   "source": [
    "res.status_code"
   ]
  },
  {
   "cell_type": "code",
   "execution_count": null,
   "metadata": {},
   "outputs": [],
   "source": [
    "securityFilter = res.json()"
   ]
  },
  {
   "cell_type": "code",
   "execution_count": null,
   "metadata": {},
   "outputs": [],
   "source": [
    "securityFilterId = securityFilter[\"information\"][\"objectId\"]"
   ]
  },
  {
   "cell_type": "code",
   "execution_count": null,
   "metadata": {},
   "outputs": [],
   "source": [
    "securityFilterId"
   ]
  },
  {
   "cell_type": "markdown",
   "metadata": {},
   "source": [
    "### 3. Commit changeset"
   ]
  },
  {
   "cell_type": "code",
   "execution_count": null,
   "metadata": {},
   "outputs": [],
   "source": [
    "res = conn.session.post(url=conn.base_url + \"/api/model/changesets/\"+changesetID+\"/commit\")"
   ]
  },
  {
   "cell_type": "code",
   "execution_count": null,
   "metadata": {},
   "outputs": [],
   "source": [
    "res.status_code"
   ]
  },
  {
   "cell_type": "code",
   "execution_count": null,
   "metadata": {},
   "outputs": [],
   "source": [
    "res.json()"
   ]
  },
  {
   "cell_type": "markdown",
   "metadata": {},
   "source": [
    "### 4. Check if security filter is created"
   ]
  },
  {
   "cell_type": "code",
   "execution_count": null,
   "metadata": {},
   "outputs": [],
   "source": [
    "res = conn.session.get(url=conn.base_url + \"/api/model/securityFilters/\"+securityFilterId)"
   ]
  },
  {
   "cell_type": "code",
   "execution_count": null,
   "metadata": {},
   "outputs": [],
   "source": [
    "res.json()"
   ]
  },
  {
   "cell_type": "code",
   "execution_count": null,
   "metadata": {},
   "outputs": [],
   "source": []
  },
  {
   "cell_type": "markdown",
   "metadata": {},
   "source": [
    "### 5. Delete a changeset"
   ]
  },
  {
   "cell_type": "code",
   "execution_count": null,
   "metadata": {},
   "outputs": [],
   "source": [
    "res = conn.session.delete(url=conn.base_url + \"/api/model/changesets/\"+changesetID)"
   ]
  },
  {
   "cell_type": "code",
   "execution_count": null,
   "metadata": {},
   "outputs": [],
   "source": [
    "res.status_code"
   ]
  },
  {
   "cell_type": "code",
   "execution_count": null,
   "metadata": {},
   "outputs": [],
   "source": []
  }
 ],
 "metadata": {
  "kernelspec": {
   "display_name": "Python 3 (ipykernel)",
   "language": "python",
   "name": "python3"
  },
  "language_info": {
   "codemirror_mode": {
    "name": "ipython",
    "version": 3
   },
   "file_extension": ".py",
   "mimetype": "text/x-python",
   "name": "python",
   "nbconvert_exporter": "python",
   "pygments_lexer": "ipython3",
   "version": "3.10.8"
  }
 },
 "nbformat": 4,
 "nbformat_minor": 4
}
