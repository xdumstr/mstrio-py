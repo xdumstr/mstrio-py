{
 "cells": [
  {
   "cell_type": "code",
   "execution_count": null,
   "id": "01e475d9-ee63-426b-8141-d6a680e5b8f5",
   "metadata": {},
   "outputs": [],
   "source": [
    "from mstrio.connection import Connection\n",
    "import getpass\n",
    "import inspect\n",
    "from mstrio.users_and_groups import (\n",
    "    Contact, ContactGroup, ContactGroupMember, ContactGroupMemberType, list_contact_groups, User, ContactAddress, list_contacts\n",
    ")"
   ]
  },
  {
   "cell_type": "code",
   "execution_count": null,
   "id": "5ff5c39e-e6ef-4047-bcff-094b640553a6",
   "metadata": {},
   "outputs": [],
   "source": [
    "PROJECT_NAME = \"MicroStrategy Tutorial\"\n",
    "BASE_URL = \"https://env-276686.customer.cloud.microstrategy.com/MicroStrategyLibrary/api\"  # Insert URL for your env here\n",
    "MSTR_USERNAME = \"mstr\"  # Insert your env username here\n",
    "MSTR_PASSWORD = getpass.getpass()   # insert your mstr password here\n",
    "PROJECT_ID = \"B7CA92F04B9FAE8D941C3E9B7E0CD754\"  # Insert you project ID here"
   ]
  },
  {
   "cell_type": "code",
   "execution_count": null,
   "id": "2591733d-97e7-4968-bc37-fbcd01039ae8",
   "metadata": {},
   "outputs": [],
   "source": [
    "# Currently, supported authentication modes are Standard (the default), guest and LDAP.\n",
    "# To use LDAP, add login_mode=16 when creating your Connection object:\n",
    "conn = Connection(BASE_URL, MSTR_USERNAME, MSTR_PASSWORD, project_id=PROJECT_ID, login_mode=1)"
   ]
  },
  {
   "cell_type": "markdown",
   "id": "48b29e5c-989c-4283-8faa-f176b082803a",
   "metadata": {},
   "source": [
    "# Fetch contact groups"
   ]
  },
  {
   "cell_type": "markdown",
   "id": "bc046921-cde3-47d8-a56d-cf30d3f5a3d3",
   "metadata": {},
   "source": [
    "## list of contact groups"
   ]
  },
  {
   "cell_type": "code",
   "execution_count": null,
   "id": "7441d756-d320-41bc-ad7b-6a6429f2e0f9",
   "metadata": {},
   "outputs": [],
   "source": [
    "contact_groups = list_contact_groups(conn)\n",
    "contact_groups"
   ]
  },
  {
   "cell_type": "code",
   "execution_count": null,
   "id": "8ebea032-8d15-499c-b481-126b4afee6d1",
   "metadata": {},
   "outputs": [],
   "source": [
    "dir(ContactGroup)"
   ]
  },
  {
   "cell_type": "markdown",
   "id": "845716ab-7d7b-4da7-8abd-d71940d341f9",
   "metadata": {},
   "source": [
    "## Get contact group by id"
   ]
  },
  {
   "cell_type": "code",
   "execution_count": null,
   "id": "ca51c791-b53f-426d-a4cd-699312adfc45",
   "metadata": {},
   "outputs": [],
   "source": [
    "# get contact group by ID. Contact group can be also found by its name\n",
    "cg = ContactGroup(conn, id=\"D0153F224A740B2CB716CF9AF1FF7B00\")"
   ]
  },
  {
   "cell_type": "markdown",
   "id": "1cb34f6f-4d2e-4720-ba7a-ff25a47b58c0",
   "metadata": {},
   "source": [
    "## Get contact group by name"
   ]
  },
  {
   "cell_type": "code",
   "execution_count": null,
   "id": "7bd0a203-c5e1-495f-931f-a407d11eea57",
   "metadata": {},
   "outputs": [],
   "source": [
    "ContactGroup(conn, name=\"San Francisco - Category Managers\")"
   ]
  },
  {
   "cell_type": "markdown",
   "id": "df90f9aa-768d-4427-9a65-3bde0efbcfab",
   "metadata": {},
   "source": [
    "# Attributes and Methods in ContactGroup class"
   ]
  },
  {
   "cell_type": "code",
   "execution_count": null,
   "id": "8bfaf69c-c5a9-4141-ae3d-847a6c4751c9",
   "metadata": {},
   "outputs": [],
   "source": [
    "print(ContactGroup.__doc__)"
   ]
  },
  {
   "cell_type": "code",
   "execution_count": null,
   "id": "40da1330-8aad-4f5a-9825-6b79af5bce24",
   "metadata": {},
   "outputs": [],
   "source": [
    "cg.name"
   ]
  },
  {
   "cell_type": "code",
   "execution_count": null,
   "id": "5a7e33d6-f982-4146-a7e5-2e8609d6791b",
   "metadata": {},
   "outputs": [],
   "source": [
    "cg.id"
   ]
  },
  {
   "cell_type": "code",
   "execution_count": null,
   "id": "8d1634bc-3899-498c-8574-c3f918446192",
   "metadata": {},
   "outputs": [],
   "source": [
    "cg.description"
   ]
  },
  {
   "cell_type": "code",
   "execution_count": null,
   "id": "f729ade2-bddb-4dc4-a1de-bffe62b038c9",
   "metadata": {},
   "outputs": [],
   "source": [
    "cg.print()"
   ]
  },
  {
   "cell_type": "code",
   "execution_count": null,
   "id": "cf9e6872-1c85-45d9-a361-02d0e34aad61",
   "metadata": {},
   "outputs": [],
   "source": [
    "cg.members"
   ]
  },
  {
   "cell_type": "code",
   "execution_count": null,
   "id": "3e3f890c-5d9f-44d5-97f2-cbd523167869",
   "metadata": {},
   "outputs": [],
   "source": [
    "cg.linked_user"
   ]
  },
  {
   "cell_type": "code",
   "execution_count": null,
   "id": "89ab30e8-9e68-4645-b042-2b7f40616950",
   "metadata": {},
   "outputs": [],
   "source": [
    "cg.memberships"
   ]
  },
  {
   "cell_type": "markdown",
   "id": "6a202c91-51f5-4fd5-8881-26d0ed202eba",
   "metadata": {},
   "source": [
    "# ContactAddress"
   ]
  },
  {
   "cell_type": "markdown",
   "id": "2df9bf44-872b-4fca-9cce-f7c8bff2b3ee",
   "metadata": {},
   "source": [
    "## New ContactAddress"
   ]
  },
  {
   "cell_type": "code",
   "execution_count": null,
   "id": "4e04e460-5849-40dc-9120-b32662c42e42",
   "metadata": {},
   "outputs": [],
   "source": [
    "inspect.signature(ContactAddress.__init__)"
   ]
  },
  {
   "cell_type": "code",
   "execution_count": null,
   "id": "dbb2297e-8e22-463e-b529-858b0de545d7",
   "metadata": {},
   "outputs": [],
   "source": [
    "contact_address = ContectAddress(name=\"My Contact\", physical_address:\"\", delivery_type=ContactDeliveryType.EMAIL,dev"
   ]
  },
  {
   "cell_type": "markdown",
   "id": "fda4f43d-cf58-47eb-a235-d715e18bf70a",
   "metadata": {},
   "source": [
    "# Contact"
   ]
  },
  {
   "cell_type": "markdown",
   "id": "100844e7-059f-4836-ba00-8e8ebcef728f",
   "metadata": {},
   "source": [
    "## List"
   ]
  },
  {
   "cell_type": "code",
   "execution_count": null,
   "id": "0e943820-bf06-40cd-a50a-c6edfd8b3101",
   "metadata": {},
   "outputs": [],
   "source": [
    "list_contacts(conn)"
   ]
  },
  {
   "cell_type": "markdown",
   "id": "980175ed-33e5-43a8-90e6-69179c8ff2cc",
   "metadata": {},
   "source": [
    "## Get contact by id"
   ]
  },
  {
   "cell_type": "code",
   "execution_count": null,
   "id": "83c3631c-0bcd-477b-bf36-acd1c06c2fd5",
   "metadata": {},
   "outputs": [],
   "source": [
    "contact = Contact(conn, id = \"59CCFDF44EAA434CF3B2059143278064\")\n",
    "contact"
   ]
  },
  {
   "cell_type": "markdown",
   "id": "55dbd32a-a403-4c85-9488-2ba0d765bdc5",
   "metadata": {},
   "source": [
    "## Get contact by name"
   ]
  },
  {
   "cell_type": "code",
   "execution_count": null,
   "id": "56c58fbb-da5c-443a-95b1-71f161d86b78",
   "metadata": {},
   "outputs": [],
   "source": [
    "contact = Contact(conn, name = \"San Francisco Music Manager\")\n",
    "contact"
   ]
  },
  {
   "cell_type": "markdown",
   "id": "ac2197dc-9067-41c8-b23f-dd0314e438da",
   "metadata": {},
   "source": [
    "## New Contact"
   ]
  },
  {
   "cell_type": "code",
   "execution_count": null,
   "id": "1c307500-17b0-452b-bec0-87df36b2f3dc",
   "metadata": {},
   "outputs": [],
   "source": [
    "inspect.signature(Contact.create)"
   ]
  },
  {
   "cell_type": "code",
   "execution_count": null,
   "id": "706a2819-006d-45a2-ae43-e29e4a5d05b2",
   "metadata": {},
   "outputs": [],
   "source": [
    "contact = Contact.create(conn, name=\"Test Contact\", linked_user=[], )"
   ]
  },
  {
   "cell_type": "markdown",
   "id": "c5e7ee12-8a6b-444d-a35c-505f7c427f1a",
   "metadata": {},
   "source": [
    "# Modify ContactGroup"
   ]
  },
  {
   "cell_type": "markdown",
   "id": "1d8641c8-baa0-4f9a-8baf-5ae38a3449ee",
   "metadata": {},
   "source": [
    "## New ContactGroup"
   ]
  },
  {
   "cell_type": "code",
   "execution_count": null,
   "id": "7d4f1bd2-d2d0-4b72-96f3-588b9d350c9e",
   "metadata": {},
   "outputs": [],
   "source": [
    "print(ContactGroup.create.__doc__)"
   ]
  },
  {
   "cell_type": "code",
   "execution_count": null,
   "id": "d1e4bcde-cc1d-4a16-9e7c-55ef418d24b0",
   "metadata": {},
   "outputs": [],
   "source": [
    "inspect.signature(ContactGroup.create)"
   ]
  },
  {
   "cell_type": "code",
   "execution_count": null,
   "id": "51d4dbe3-03b3-4088-a31f-ead6807b5f81",
   "metadata": {},
   "outputs": [],
   "source": [
    "new_cg = ContactGroup.create(\n",
    "    connection=conn,\n",
    "    name=\"My ContactGroup\",\n",
    "    linked_user=User(conn, username=\"amber\"),\n",
    "    members=[],\n",
    "    description=\"My Test ContactGroup\",\n",
    "    enabled=True,\n",
    ")"
   ]
  },
  {
   "cell_type": "code",
   "execution_count": null,
   "id": "cac9f21f-9ceb-4141-b09f-91e8d9e580a3",
   "metadata": {},
   "outputs": [],
   "source": [
    "new_cg"
   ]
  },
  {
   "cell_type": "code",
   "execution_count": null,
   "id": "64a56cc8-5633-40c7-b7b4-dce594c810d3",
   "metadata": {},
   "outputs": [],
   "source": [
    "list_contact_groups(conn)"
   ]
  },
  {
   "cell_type": "markdown",
   "id": "3c9832fc-5fda-41fa-a230-fb32b7198dda",
   "metadata": {},
   "source": [
    "## Modify contact group"
   ]
  },
  {
   "cell_type": "code",
   "execution_count": null,
   "id": "bd1e7198-3fe6-402a-b77a-d86992a6faa7",
   "metadata": {},
   "outputs": [],
   "source": [
    "print(ContactGroup.alter.__doc__)"
   ]
  },
  {
   "cell_type": "code",
   "execution_count": null,
   "id": "5a177e79-14a6-4f88-88e4-fee639d1d356",
   "metadata": {},
   "outputs": [],
   "source": [
    "inspect.signature(ContactGroup.alter)"
   ]
  },
  {
   "cell_type": "code",
   "execution_count": null,
   "id": "ba6a7194-b4b7-4301-a4cb-9037d09efa7c",
   "metadata": {},
   "outputs": [],
   "source": [
    "new_cg.alter(\n",
    "    name=\"My Contact Group 2\",\n",
    "    description=\"New Desc\",\n",
    "    linked_user=User(conn, username=\"amber\"),\n",
    "    members=[],\n",
    "    enabled=False\n",
    ")"
   ]
  },
  {
   "cell_type": "code",
   "execution_count": null,
   "id": "3239cc43-c4de-4c40-a2ad-f8948c844fd7",
   "metadata": {},
   "outputs": [],
   "source": []
  }
 ],
 "metadata": {
  "kernelspec": {
   "display_name": "Python 3 (ipykernel)",
   "language": "python",
   "name": "python3"
  },
  "language_info": {
   "codemirror_mode": {
    "name": "ipython",
    "version": 3
   },
   "file_extension": ".py",
   "mimetype": "text/x-python",
   "name": "python",
   "nbconvert_exporter": "python",
   "pygments_lexer": "ipython3",
   "version": "3.10.8"
  }
 },
 "nbformat": 4,
 "nbformat_minor": 5
}
