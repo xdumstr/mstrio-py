{
 "cells": [
  {
   "cell_type": "markdown",
   "id": "cec39db0-a8a8-435a-901e-c493ada96793",
   "metadata": {},
   "source": [
    "This notebook shows how to work with contact and contact group"
   ]
  },
  {
   "cell_type": "code",
   "execution_count": null,
   "id": "01e475d9-ee63-426b-8141-d6a680e5b8f5",
   "metadata": {},
   "outputs": [],
   "source": [
    "import getpass\n",
    "import inspect\n",
    "from mstrio.connection import Connection\n",
    "from mstrio.users_and_groups import *\n",
    "from mstrio.distribution_services import *"
   ]
  },
  {
   "cell_type": "code",
   "execution_count": null,
   "id": "5ff5c39e-e6ef-4047-bcff-094b640553a6",
   "metadata": {},
   "outputs": [],
   "source": [
    "PROJECT_NAME = \"MicroStrategy Tutorial\"\n",
    "BASE_URL = \"https://env-276686.customer.cloud.microstrategy.com/MicroStrategyLibrary/api\"  # Insert URL for your env here\n",
    "MSTR_USERNAME = \"mstr\"  # Insert your env username here\n",
    "MSTR_PASSWORD = getpass.getpass()   # insert your mstr password here\n",
    "PROJECT_ID = \"B7CA92F04B9FAE8D941C3E9B7E0CD754\"  # Insert you project ID here"
   ]
  },
  {
   "cell_type": "code",
   "execution_count": null,
   "id": "2591733d-97e7-4968-bc37-fbcd01039ae8",
   "metadata": {},
   "outputs": [],
   "source": [
    "# Currently, supported authentication modes are Standard (the default), guest and LDAP.\n",
    "# To use LDAP, add login_mode=16 when creating your Connection object:\n",
    "conn = Connection(BASE_URL, MSTR_USERNAME, MSTR_PASSWORD, project_id=PROJECT_ID, login_mode=1)"
   ]
  },
  {
   "cell_type": "markdown",
   "id": "48b29e5c-989c-4283-8faa-f176b082803a",
   "metadata": {},
   "source": [
    "# Contact groups"
   ]
  },
  {
   "cell_type": "markdown",
   "id": "bc046921-cde3-47d8-a56d-cf30d3f5a3d3",
   "metadata": {},
   "source": [
    "## List of contact groups"
   ]
  },
  {
   "cell_type": "code",
   "execution_count": null,
   "id": "7441d756-d320-41bc-ad7b-6a6429f2e0f9",
   "metadata": {},
   "outputs": [],
   "source": [
    "contact_groups = list_contact_groups(conn)\n",
    "contact_groups"
   ]
  },
  {
   "cell_type": "markdown",
   "id": "845716ab-7d7b-4da7-8abd-d71940d341f9",
   "metadata": {},
   "source": [
    "## Get contact group by id"
   ]
  },
  {
   "cell_type": "code",
   "execution_count": null,
   "id": "ca51c791-b53f-426d-a4cd-699312adfc45",
   "metadata": {},
   "outputs": [],
   "source": [
    "# get contact group by ID. Contact group can be also found by its name\n",
    "cg = ContactGroup(conn, id=\"D0153F224A740B2CB716CF9AF1FF7B00\")"
   ]
  },
  {
   "cell_type": "markdown",
   "id": "1cb34f6f-4d2e-4720-ba7a-ff25a47b58c0",
   "metadata": {},
   "source": [
    "## Get contact group by name"
   ]
  },
  {
   "cell_type": "code",
   "execution_count": null,
   "id": "7bd0a203-c5e1-495f-931f-a407d11eea57",
   "metadata": {},
   "outputs": [],
   "source": [
    "ContactGroup(conn, name=\"San Francisco - Category Managers\")"
   ]
  },
  {
   "cell_type": "markdown",
   "id": "dcd1e629-efc3-4b2d-a970-ff87f5064a2c",
   "metadata": {},
   "source": [
    "## List contact group members\n",
    "Contact group member can be a contacct group or a contact"
   ]
  },
  {
   "cell_type": "code",
   "execution_count": null,
   "id": "ab767334-c02d-4a83-80db-fddd914a6058",
   "metadata": {},
   "outputs": [],
   "source": [
    "cg.members"
   ]
  },
  {
   "cell_type": "code",
   "execution_count": null,
   "id": "6dde9367-90bf-4609-8579-c6b6fd02f22b",
   "metadata": {},
   "outputs": [],
   "source": [
    "cg_member = cg.members[0]\n",
    "cg_member"
   ]
  },
  {
   "cell_type": "markdown",
   "id": "78af7f29-1a57-4c4d-8661-a5f48c52798f",
   "metadata": {},
   "source": [
    "## List contact group memberships\n",
    "Contact group memberships is the contact groups this contact group belongs too. "
   ]
  },
  {
   "cell_type": "code",
   "execution_count": null,
   "id": "b71d471b-8646-488d-b2e2-87b7b626d7fe",
   "metadata": {},
   "outputs": [],
   "source": [
    "cg.memberships"
   ]
  },
  {
   "cell_type": "markdown",
   "id": "0fc7d50c-5514-49a7-b216-7829932e50d4",
   "metadata": {},
   "source": [
    "## Create ContactGroupMember object from Contact Group or Contact\n",
    "ContactGroupMember oject is a transient object used in creating contact group member or membership. You can create this object from a contact or a contact group."
   ]
  },
  {
   "cell_type": "code",
   "execution_count": null,
   "id": "0b4c7b15-64b1-4f9f-bef0-9bd767b6a5b1",
   "metadata": {},
   "outputs": [],
   "source": [
    "cg_member.from_contact_or_contact_group(cg)"
   ]
  },
  {
   "cell_type": "markdown",
   "id": "4054f043-b4a9-424b-b33c-f3ad24368048",
   "metadata": {},
   "source": [
    "## List linked user\n"
   ]
  },
  {
   "cell_type": "code",
   "execution_count": null,
   "id": "4d1d9bb3-6383-43e0-b4f4-b680631a010c",
   "metadata": {},
   "outputs": [],
   "source": [
    "cg.linked_user"
   ]
  },
  {
   "cell_type": "markdown",
   "id": "df90f9aa-768d-4427-9a65-3bde0efbcfab",
   "metadata": {
    "tags": []
   },
   "source": [
    "## Other Attributes and Methods in ContactGroup class"
   ]
  },
  {
   "cell_type": "code",
   "execution_count": null,
   "id": "8bfaf69c-c5a9-4141-ae3d-847a6c4751c9",
   "metadata": {},
   "outputs": [],
   "source": [
    "print(ContactGroup.__doc__)"
   ]
  },
  {
   "cell_type": "code",
   "execution_count": null,
   "id": "40da1330-8aad-4f5a-9825-6b79af5bce24",
   "metadata": {},
   "outputs": [],
   "source": [
    "cg.name"
   ]
  },
  {
   "cell_type": "code",
   "execution_count": null,
   "id": "5a7e33d6-f982-4146-a7e5-2e8609d6791b",
   "metadata": {},
   "outputs": [],
   "source": [
    "cg.id"
   ]
  },
  {
   "cell_type": "code",
   "execution_count": null,
   "id": "8d1634bc-3899-498c-8574-c3f918446192",
   "metadata": {},
   "outputs": [],
   "source": [
    "cg.description"
   ]
  },
  {
   "cell_type": "code",
   "execution_count": null,
   "id": "c25a9aca-c19d-462f-99c2-b91608c5ba6d",
   "metadata": {},
   "outputs": [],
   "source": [
    "cg.enabled"
   ]
  },
  {
   "cell_type": "markdown",
   "id": "661358c1-3ab5-4ecc-8f79-aac7675f4e40",
   "metadata": {
    "tags": []
   },
   "source": [
    "# Contact"
   ]
  },
  {
   "cell_type": "code",
   "execution_count": null,
   "id": "f82b8c62-bce5-4a62-9b4b-f21a83b4bdc5",
   "metadata": {},
   "outputs": [],
   "source": [
    "print(Contact.__doc__)"
   ]
  },
  {
   "cell_type": "markdown",
   "id": "58149763-ec3e-4ebb-b636-d6693f9fcfff",
   "metadata": {
    "tags": []
   },
   "source": [
    "## List of contacts"
   ]
  },
  {
   "cell_type": "code",
   "execution_count": null,
   "id": "0e943820-bf06-40cd-a50a-c6edfd8b3101",
   "metadata": {
    "tags": []
   },
   "outputs": [],
   "source": [
    "list_contacts(conn)"
   ]
  },
  {
   "cell_type": "markdown",
   "id": "5c15b2f6-56f3-49de-ae2c-43673643c1df",
   "metadata": {
    "tags": []
   },
   "source": [
    "## Get contact by id"
   ]
  },
  {
   "cell_type": "code",
   "execution_count": null,
   "id": "83c3631c-0bcd-477b-bf36-acd1c06c2fd5",
   "metadata": {
    "tags": []
   },
   "outputs": [],
   "source": [
    "contact = Contact(conn, id = \"59CCFDF44EAA434CF3B2059143278064\")\n",
    "contact"
   ]
  },
  {
   "cell_type": "markdown",
   "id": "c4af9bd6-e8c5-4110-8859-b8a424c5f36f",
   "metadata": {
    "tags": []
   },
   "source": [
    "## Get contact by name"
   ]
  },
  {
   "cell_type": "code",
   "execution_count": null,
   "id": "56c58fbb-da5c-443a-95b1-71f161d86b78",
   "metadata": {
    "tags": []
   },
   "outputs": [],
   "source": [
    "contact = Contact(conn, name = \"San Francisco Music Manager\")\n",
    "contact"
   ]
  },
  {
   "cell_type": "markdown",
   "id": "380a5a10-ef0f-4ee1-9226-690d68daf118",
   "metadata": {},
   "source": [
    "## List memberships\n",
    "Contact's memberships are the contact groups that this contact belongs too. "
   ]
  },
  {
   "cell_type": "code",
   "execution_count": null,
   "id": "da757b2c-b172-40fd-89da-713a1a28cee6",
   "metadata": {},
   "outputs": [],
   "source": [
    "contact.memberships"
   ]
  },
  {
   "cell_type": "markdown",
   "id": "45993c6e-2035-4577-802a-bcd87a172d62",
   "metadata": {},
   "source": [
    "## List linked user\n"
   ]
  },
  {
   "cell_type": "code",
   "execution_count": null,
   "id": "7fa9e8fb-abdf-4585-8f17-73cc6968af69",
   "metadata": {},
   "outputs": [],
   "source": [
    "contact.linked_user"
   ]
  },
  {
   "cell_type": "markdown",
   "id": "253490bd-3a4d-4ef2-88ae-f5758925876e",
   "metadata": {},
   "source": [
    "## List contact addresses"
   ]
  },
  {
   "cell_type": "code",
   "execution_count": null,
   "id": "1012050d-f830-4cca-b14b-c4359cc750a9",
   "metadata": {},
   "outputs": [],
   "source": [
    "contact.contact_addresses"
   ]
  },
  {
   "cell_type": "markdown",
   "id": "5ea30381-538f-4944-a311-1a90eae580fb",
   "metadata": {},
   "source": [
    "## Other Attributes and Methods"
   ]
  },
  {
   "cell_type": "code",
   "execution_count": null,
   "id": "ebd2f348-1be3-4ff6-abd4-800884d88e2b",
   "metadata": {},
   "outputs": [],
   "source": [
    "contact.name"
   ]
  },
  {
   "cell_type": "code",
   "execution_count": null,
   "id": "4721c794-60cb-40c4-a7dd-d8103e5587c2",
   "metadata": {},
   "outputs": [],
   "source": [
    "contact.id"
   ]
  },
  {
   "cell_type": "code",
   "execution_count": null,
   "id": "56cae096-e300-47d7-b218-b3d26e7a742c",
   "metadata": {},
   "outputs": [],
   "source": [
    "contact.enabled"
   ]
  },
  {
   "cell_type": "markdown",
   "id": "ac2197dc-9067-41c8-b23f-dd0314e438da",
   "metadata": {},
   "source": [
    "# Create and modify Contact"
   ]
  },
  {
   "cell_type": "markdown",
   "id": "4a73c2be-52e1-4f04-b9c6-204b7ac3e7dd",
   "metadata": {},
   "source": [
    "## Create ContactAddress\n",
    "ContactAddress object is required when creating contact."
   ]
  },
  {
   "cell_type": "code",
   "execution_count": null,
   "id": "513ad1ad-ad30-4cbc-a79a-fa37ac07c184",
   "metadata": {},
   "outputs": [],
   "source": [
    "print(ContactAddress.__doc__)"
   ]
  },
  {
   "cell_type": "code",
   "execution_count": null,
   "id": "cfaeba31-038a-420d-9496-5f142df3554b",
   "metadata": {},
   "outputs": [],
   "source": [
    "inspect.signature(ContactAddress.__init__)"
   ]
  },
  {
   "cell_type": "code",
   "execution_count": null,
   "id": "4ddedce4-cade-4861-9c73-d3561d66bdda",
   "metadata": {},
   "outputs": [],
   "source": [
    "list_devices(conn)"
   ]
  },
  {
   "cell_type": "code",
   "execution_count": null,
   "id": "f772e2e7-156e-4a22-82e1-58ff765a96db",
   "metadata": {},
   "outputs": [],
   "source": [
    "device = Device(conn, id=\"1D2E6D168A7711D4BE8100B0D04B6F0B\")"
   ]
  },
  {
   "cell_type": "code",
   "execution_count": null,
   "id": "4bcf5192-e243-487d-b6d0-fec244e49005",
   "metadata": {
    "tags": []
   },
   "outputs": [],
   "source": [
    "contact_address = ContactAddress(name=\"My Contact\", physical_address=\"test@myemail.com\", delivery_type=ContactDeliveryType.EMAIL, device=device)"
   ]
  },
  {
   "cell_type": "code",
   "execution_count": null,
   "id": "da21dfa7-649d-4a2b-888a-31f3a13fe720",
   "metadata": {},
   "outputs": [],
   "source": [
    "contact_address"
   ]
  },
  {
   "cell_type": "markdown",
   "id": "33d3fc1a-9014-4f06-aad8-85b0a138adb3",
   "metadata": {},
   "source": [
    "## Create Contact"
   ]
  },
  {
   "cell_type": "code",
   "execution_count": null,
   "id": "1c307500-17b0-452b-bec0-87df36b2f3dc",
   "metadata": {},
   "outputs": [],
   "source": [
    "inspect.signature(Contact.create)"
   ]
  },
  {
   "cell_type": "code",
   "execution_count": null,
   "id": "706a2819-006d-45a2-ae43-e29e4a5d05b2",
   "metadata": {},
   "outputs": [],
   "source": [
    "contact = Contact.create(conn, name=\"Test Contact\", linked_user = User(conn, username=\"atlanta\"), contact_addresses=[contact_address])"
   ]
  },
  {
   "cell_type": "code",
   "execution_count": null,
   "id": "75879d38-7d0f-4316-8431-f0d447709c5c",
   "metadata": {},
   "outputs": [],
   "source": [
    "contact.contact_addresses"
   ]
  },
  {
   "cell_type": "code",
   "execution_count": null,
   "id": "f720aad6-60e0-46d5-80af-76fa3ebd22d8",
   "metadata": {},
   "outputs": [],
   "source": [
    "contact.linked_user"
   ]
  },
  {
   "cell_type": "markdown",
   "id": "4c015a24-b7f3-4282-a0a3-3ba75f089619",
   "metadata": {},
   "source": [
    "## Modify Contact"
   ]
  },
  {
   "cell_type": "code",
   "execution_count": null,
   "id": "046277e6-2d92-4383-a8b6-47f92e0dc081",
   "metadata": {},
   "outputs": [],
   "source": [
    "contact.alter(linked_user=User(conn, username=\"miami\"))"
   ]
  },
  {
   "cell_type": "code",
   "execution_count": null,
   "id": "857a6d29-a917-4638-8ddd-7ba81a814c4a",
   "metadata": {},
   "outputs": [],
   "source": [
    "contact.contact_addresses"
   ]
  },
  {
   "cell_type": "code",
   "execution_count": null,
   "id": "2781811d-3feb-44bb-86e0-3097e6062dbd",
   "metadata": {},
   "outputs": [],
   "source": [
    "contact.linked_user"
   ]
  },
  {
   "cell_type": "markdown",
   "id": "c569f262-d668-4b10-ae04-28b002aa7990",
   "metadata": {},
   "source": [
    "## Delete"
   ]
  },
  {
   "cell_type": "code",
   "execution_count": null,
   "id": "c3ee8cb6-4f3e-4089-8066-0e7d70815d20",
   "metadata": {},
   "outputs": [],
   "source": [
    "contact.delete()"
   ]
  },
  {
   "cell_type": "markdown",
   "id": "c5e7ee12-8a6b-444d-a35c-505f7c427f1a",
   "metadata": {},
   "source": [
    "# Modify ContactGroup"
   ]
  },
  {
   "cell_type": "markdown",
   "id": "1d8641c8-baa0-4f9a-8baf-5ae38a3449ee",
   "metadata": {},
   "source": [
    "## New ContactGroup"
   ]
  },
  {
   "cell_type": "code",
   "execution_count": null,
   "id": "7bd46e2b-b8f8-4d39-9a4d-0ecae4b52b4f",
   "metadata": {},
   "outputs": [],
   "source": [
    "print(ContactGroup.__doc__)"
   ]
  },
  {
   "cell_type": "code",
   "execution_count": null,
   "id": "7d4f1bd2-d2d0-4b72-96f3-588b9d350c9e",
   "metadata": {},
   "outputs": [],
   "source": [
    "print(ContactGroup.create.__doc__)"
   ]
  },
  {
   "cell_type": "code",
   "execution_count": null,
   "id": "d1e4bcde-cc1d-4a16-9e7c-55ef418d24b0",
   "metadata": {},
   "outputs": [],
   "source": [
    "inspect.signature(ContactGroup.create)"
   ]
  },
  {
   "cell_type": "code",
   "execution_count": null,
   "id": "51d4dbe3-03b3-4088-a31f-ead6807b5f81",
   "metadata": {},
   "outputs": [],
   "source": [
    "new_cg = ContactGroup.create(\n",
    "    connection=conn,\n",
    "    name=\"My ContactGroup2\",\n",
    "    linked_user=User(conn, username=\"atlanta\"),\n",
    "    members=[ContactGroupMember.from_contact_or_contact_group(contact)],\n",
    "    description=\"My Test ContactGroup2\",\n",
    "    enabled=True,\n",
    ")"
   ]
  },
  {
   "cell_type": "code",
   "execution_count": null,
   "id": "cac9f21f-9ceb-4141-b09f-91e8d9e580a3",
   "metadata": {},
   "outputs": [],
   "source": [
    "new_cg.linked_user"
   ]
  },
  {
   "cell_type": "code",
   "execution_count": null,
   "id": "f75973a8-49bb-42d1-b858-6284fda53102",
   "metadata": {},
   "outputs": [],
   "source": [
    "new_cg.members"
   ]
  },
  {
   "cell_type": "code",
   "execution_count": null,
   "id": "64a56cc8-5633-40c7-b7b4-dce594c810d3",
   "metadata": {},
   "outputs": [],
   "source": [
    "list_contact_groups(conn)"
   ]
  },
  {
   "cell_type": "markdown",
   "id": "3c9832fc-5fda-41fa-a230-fb32b7198dda",
   "metadata": {},
   "source": [
    "## Modify contact group"
   ]
  },
  {
   "cell_type": "code",
   "execution_count": null,
   "id": "bd1e7198-3fe6-402a-b77a-d86992a6faa7",
   "metadata": {},
   "outputs": [],
   "source": [
    "print(ContactGroup.alter.__doc__)"
   ]
  },
  {
   "cell_type": "code",
   "execution_count": null,
   "id": "5a177e79-14a6-4f88-88e4-fee639d1d356",
   "metadata": {},
   "outputs": [],
   "source": [
    "inspect.signature(ContactGroup.alter)"
   ]
  },
  {
   "cell_type": "code",
   "execution_count": null,
   "id": "ba6a7194-b4b7-4301-a4cb-9037d09efa7c",
   "metadata": {},
   "outputs": [],
   "source": [
    "new_cg.alter(\n",
    "    # name=\"My Contact Group 2\",\n",
    "    # description=\"New Desc\",\n",
    "    linked_user=User(conn, username=\"miami\"),\n",
    "    # members=[ContactGroupMember.from_contact_or_contact_group(contact)],\n",
    "    # enabled=True\n",
    ")"
   ]
  },
  {
   "cell_type": "code",
   "execution_count": null,
   "id": "57fec1ba-3659-4c85-9380-cc7dc32ed16b",
   "metadata": {},
   "outputs": [],
   "source": [
    "new_cg.linked_user"
   ]
  },
  {
   "cell_type": "markdown",
   "id": "0bf1813f-b3fd-4c14-8c5a-c6a7f7649bd5",
   "metadata": {},
   "source": [
    "## Delete"
   ]
  },
  {
   "cell_type": "code",
   "execution_count": null,
   "id": "3239cc43-c4de-4c40-a2ad-f8948c844fd7",
   "metadata": {},
   "outputs": [],
   "source": [
    "new_cg.delete()"
   ]
  }
 ],
 "metadata": {
  "kernelspec": {
   "display_name": "Python 3 (ipykernel)",
   "language": "python",
   "name": "python3"
  },
  "language_info": {
   "codemirror_mode": {
    "name": "ipython",
    "version": 3
   },
   "file_extension": ".py",
   "mimetype": "text/x-python",
   "name": "python",
   "nbconvert_exporter": "python",
   "pygments_lexer": "ipython3",
   "version": "3.10.8"
  }
 },
 "nbformat": 4,
 "nbformat_minor": 5
}
