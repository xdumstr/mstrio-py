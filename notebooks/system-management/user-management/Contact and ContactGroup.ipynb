{
 "cells": [
  {
   "cell_type": "code",
   "execution_count": 49,
   "id": "01e475d9-ee63-426b-8141-d6a680e5b8f5",
   "metadata": {},
   "outputs": [],
   "source": [
    "from mstrio.connection import Connection\n",
    "import getpass\n",
    "import inspect\n",
    "from mstrio.users_and_groups import (\n",
    "    Contact, ContactGroup, ContactGroupMember, ContactGroupMemberType, list_contact_groups, User, ContactAddress, list_contacts\n",
    ")"
   ]
  },
  {
   "cell_type": "code",
   "execution_count": 7,
   "id": "5ff5c39e-e6ef-4047-bcff-094b640553a6",
   "metadata": {},
   "outputs": [
    {
     "name": "stdin",
     "output_type": "stream",
     "text": [
      " ········\n"
     ]
    }
   ],
   "source": [
    "PROJECT_NAME = \"MicroStrategy Tutorial\"\n",
    "BASE_URL = \"https://env-276686.customer.cloud.microstrategy.com/MicroStrategyLibrary/api\"  # Insert URL for your env here\n",
    "MSTR_USERNAME = \"mstr\"  # Insert your env username here\n",
    "MSTR_PASSWORD = getpass.getpass()   # insert your mstr password here\n",
    "PROJECT_ID = \"B7CA92F04B9FAE8D941C3E9B7E0CD754\"  # Insert you project ID here"
   ]
  },
  {
   "cell_type": "code",
   "execution_count": 8,
   "id": "2591733d-97e7-4968-bc37-fbcd01039ae8",
   "metadata": {},
   "outputs": [
    {
     "name": "stdout",
     "output_type": "stream",
     "text": [
      "Connection to MicroStrategy Intelligence Server has been established.\n"
     ]
    }
   ],
   "source": [
    "# Currently, supported authentication modes are Standard (the default), guest and LDAP.\n",
    "# To use LDAP, add login_mode=16 when creating your Connection object:\n",
    "conn = Connection(BASE_URL, MSTR_USERNAME, MSTR_PASSWORD, project_id=PROJECT_ID, login_mode=1)"
   ]
  },
  {
   "cell_type": "markdown",
   "id": "48b29e5c-989c-4283-8faa-f176b082803a",
   "metadata": {},
   "source": [
    "# Fetch contact groups"
   ]
  },
  {
   "cell_type": "markdown",
   "id": "bc046921-cde3-47d8-a56d-cf30d3f5a3d3",
   "metadata": {},
   "source": [
    "## list of contact groups"
   ]
  },
  {
   "cell_type": "code",
   "execution_count": 9,
   "id": "7441d756-d320-41bc-ad7b-6a6429f2e0f9",
   "metadata": {},
   "outputs": [
    {
     "data": {
      "text/plain": [
       "[ContactGroup(connection, id='D0153F224A740B2CB716CF9AF1FF7B00', name='San Francisco - Category Managers')]"
      ]
     },
     "execution_count": 9,
     "metadata": {},
     "output_type": "execute_result"
    }
   ],
   "source": [
    "contact_groups = list_contact_groups(conn)\n",
    "contact_groups"
   ]
  },
  {
   "cell_type": "code",
   "execution_count": 10,
   "id": "8ebea032-8d15-499c-b481-126b4afee6d1",
   "metadata": {},
   "outputs": [
    {
     "data": {
      "text/plain": [
       "['_ALLOW_NONE_ATTRIBUTES',\n",
       " '_API_DELETE',\n",
       " '_API_GETTERS',\n",
       " '_API_PATCH',\n",
       " '_AVAILABLE_ATTRIBUTES',\n",
       " '_DELETE_NONE_VALUES_RECURSION',\n",
       " '_EntityBase__compose_val',\n",
       " '_EntityBase__partial_put_body',\n",
       " '_EntityBase__patch_body',\n",
       " '_EntityBase__put_body',\n",
       " '_FROM_DICT_MAP',\n",
       " '_KEEP_CAMEL_CASE',\n",
       " '_OBJECT_TYPE',\n",
       " '_PATCH_PATH_TYPES',\n",
       " '_REST_ATTR_MAP',\n",
       " '__annotations__',\n",
       " '__class__',\n",
       " '__delattr__',\n",
       " '__dict__',\n",
       " '__dir__',\n",
       " '__doc__',\n",
       " '__eq__',\n",
       " '__format__',\n",
       " '__ge__',\n",
       " '__getattribute__',\n",
       " '__gt__',\n",
       " '__hash__',\n",
       " '__init__',\n",
       " '__init_subclass__',\n",
       " '__le__',\n",
       " '__lt__',\n",
       " '__module__',\n",
       " '__ne__',\n",
       " '__new__',\n",
       " '__reduce__',\n",
       " '__reduce_ex__',\n",
       " '__repr__',\n",
       " '__setattr__',\n",
       " '__sizeof__',\n",
       " '__str__',\n",
       " '__subclasshook__',\n",
       " '__weakref__',\n",
       " '_add_to_fetched',\n",
       " '_alter_properties',\n",
       " '_delete_confirm_msg',\n",
       " '_delete_success_msg',\n",
       " '_dict_to_obj',\n",
       " '_find_func',\n",
       " '_init_variables',\n",
       " '_list_contact_groups',\n",
       " '_python_to_rest',\n",
       " '_rest_to_python',\n",
       " '_send_proper_patch_request',\n",
       " '_set_dates',\n",
       " '_set_object_attributes',\n",
       " '_unpack_objects',\n",
       " '_update_nested_properties',\n",
       " '_validate_type',\n",
       " 'add_members',\n",
       " 'alter',\n",
       " 'bulk_from_dict',\n",
       " 'connection',\n",
       " 'create',\n",
       " 'delete',\n",
       " 'fetch',\n",
       " 'from_dict',\n",
       " 'id',\n",
       " 'list_properties',\n",
       " 'memberships',\n",
       " 'print',\n",
       " 'remove_members',\n",
       " 'to_csv',\n",
       " 'to_dataframe',\n",
       " 'to_dict',\n",
       " 'type',\n",
       " 'update_properties']"
      ]
     },
     "execution_count": 10,
     "metadata": {},
     "output_type": "execute_result"
    }
   ],
   "source": [
    "dir(ContactGroup)"
   ]
  },
  {
   "cell_type": "markdown",
   "id": "845716ab-7d7b-4da7-8abd-d71940d341f9",
   "metadata": {},
   "source": [
    "## Get contact group by id"
   ]
  },
  {
   "cell_type": "code",
   "execution_count": 13,
   "id": "ca51c791-b53f-426d-a4cd-699312adfc45",
   "metadata": {},
   "outputs": [
    {
     "name": "stdout",
     "output_type": "stream",
     "text": [
      "ContactGroup object named: 'San Francisco - Category Managers' with ID: 'D0153F224A740B2CB716CF9AF1FF7B00'\n"
     ]
    }
   ],
   "source": [
    "# get contact group by ID. Contact group can be also found by its name\n",
    "cg = ContactGroup(conn, id=\"D0153F224A740B2CB716CF9AF1FF7B00\")"
   ]
  },
  {
   "cell_type": "markdown",
   "id": "1cb34f6f-4d2e-4720-ba7a-ff25a47b58c0",
   "metadata": {},
   "source": [
    "## Get contact group by name"
   ]
  },
  {
   "cell_type": "code",
   "execution_count": 12,
   "id": "7bd0a203-c5e1-495f-931f-a407d11eea57",
   "metadata": {},
   "outputs": [
    {
     "data": {
      "text/plain": [
       "ContactGroup(connection, id='D0153F224A740B2CB716CF9AF1FF7B00', name='San Francisco - Category Managers')"
      ]
     },
     "execution_count": 12,
     "metadata": {},
     "output_type": "execute_result"
    }
   ],
   "source": [
    "ContactGroup(conn, name=\"San Francisco - Category Managers\")"
   ]
  },
  {
   "cell_type": "markdown",
   "id": "df90f9aa-768d-4427-9a65-3bde0efbcfab",
   "metadata": {},
   "source": [
    "# Attributes and Methods in ContactGroup class"
   ]
  },
  {
   "cell_type": "code",
   "execution_count": 21,
   "id": "8bfaf69c-c5a9-4141-ae3d-847a6c4751c9",
   "metadata": {},
   "outputs": [
    {
     "name": "stdout",
     "output_type": "stream",
     "text": [
      "Object representation of Microstrategy Contact Group object\n",
      "\n",
      "    Attributes:\n",
      "        name: contact group's name\n",
      "        id: contact group's id\n",
      "        description: contact group's description\n",
      "        enabled: specifies if a contact group is enabled\n",
      "        linked_user: user linked to contact group, instance of User\n",
      "        members: list of contact group's members, instances of\n",
      "            ContactGroupMember\n",
      "        memberships: list of Contact Groups that the Contact Group belongs to\n",
      "        connection: instance of Connection class, represents connection\n",
      "                    to MicroStrategy Intelligence Server\n",
      "    \n"
     ]
    }
   ],
   "source": [
    "print(ContactGroup.__doc__)"
   ]
  },
  {
   "cell_type": "code",
   "execution_count": 16,
   "id": "40da1330-8aad-4f5a-9825-6b79af5bce24",
   "metadata": {},
   "outputs": [
    {
     "data": {
      "text/plain": [
       "'San Francisco - Category Managers'"
      ]
     },
     "execution_count": 16,
     "metadata": {},
     "output_type": "execute_result"
    }
   ],
   "source": [
    "cg.name"
   ]
  },
  {
   "cell_type": "code",
   "execution_count": 17,
   "id": "5a7e33d6-f982-4146-a7e5-2e8609d6791b",
   "metadata": {},
   "outputs": [
    {
     "data": {
      "text/plain": [
       "'D0153F224A740B2CB716CF9AF1FF7B00'"
      ]
     },
     "execution_count": 17,
     "metadata": {},
     "output_type": "execute_result"
    }
   ],
   "source": [
    "cg.id"
   ]
  },
  {
   "cell_type": "code",
   "execution_count": 18,
   "id": "8d1634bc-3899-498c-8574-c3f918446192",
   "metadata": {},
   "outputs": [
    {
     "data": {
      "text/plain": [
       "'This contact group includes all Category Managers for San Francisco.'"
      ]
     },
     "execution_count": 18,
     "metadata": {},
     "output_type": "execute_result"
    }
   ],
   "source": [
    "cg.description"
   ]
  },
  {
   "cell_type": "code",
   "execution_count": 19,
   "id": "f729ade2-bddb-4dc4-a1de-bffe62b038c9",
   "metadata": {},
   "outputs": [
    {
     "name": "stdout",
     "output_type": "stream",
     "text": [
      "{'id': 'D0153F224A740B2CB716CF9AF1FF7B00',\n",
      " 'name': 'San Francisco - Category Managers',\n",
      " 'description': 'This contact group includes all Category Managers for San '\n",
      "                'Francisco.',\n",
      " 'type': <ObjectTypes.NONE: None>,\n",
      " 'connection': <mstrio.connection.Connection object at 0x7f7c50635810>,\n",
      " 'memberships': [],\n",
      " 'enabled': True,\n",
      " 'linked_user': User(connection, name='San Francisco Manager', id='B6CC2CA24D83B68D80BFB4A86832FC0D'),\n",
      " 'members': [ContactGroupMember(name='San Francisco Music Manager', type=ContactGroupMemberType.CONTACT, id='59CCFDF44EAA434CF3B2059143278064', description=''),\n",
      "             ContactGroupMember(name='San Francisco Books Manager', type=ContactGroupMemberType.CONTACT, id='6BF7F8E94B825A4D5E5F158B6B41B75F', description=''),\n",
      "             ContactGroupMember(name='San Francisco Electronics Manager', type=ContactGroupMemberType.CONTACT, id='A5DCA82143B8BC0F8A3C859214A6592A', description=''),\n",
      "             ContactGroupMember(name='San Francisco Movies Manager', type=ContactGroupMemberType.CONTACT, id='BF93875B404C3FFDE2CDDC8819777674', description='')]}\n"
     ]
    }
   ],
   "source": [
    "cg.print()"
   ]
  },
  {
   "cell_type": "code",
   "execution_count": 20,
   "id": "cf9e6872-1c85-45d9-a361-02d0e34aad61",
   "metadata": {},
   "outputs": [
    {
     "data": {
      "text/plain": [
       "[ContactGroupMember(name='San Francisco Music Manager', type=ContactGroupMemberType.CONTACT, id='59CCFDF44EAA434CF3B2059143278064', description=''),\n",
       " ContactGroupMember(name='San Francisco Books Manager', type=ContactGroupMemberType.CONTACT, id='6BF7F8E94B825A4D5E5F158B6B41B75F', description=''),\n",
       " ContactGroupMember(name='San Francisco Electronics Manager', type=ContactGroupMemberType.CONTACT, id='A5DCA82143B8BC0F8A3C859214A6592A', description=''),\n",
       " ContactGroupMember(name='San Francisco Movies Manager', type=ContactGroupMemberType.CONTACT, id='BF93875B404C3FFDE2CDDC8819777674', description='')]"
      ]
     },
     "execution_count": 20,
     "metadata": {},
     "output_type": "execute_result"
    }
   ],
   "source": [
    "cg.members"
   ]
  },
  {
   "cell_type": "code",
   "execution_count": 22,
   "id": "3e3f890c-5d9f-44d5-97f2-cbd523167869",
   "metadata": {},
   "outputs": [
    {
     "data": {
      "text/plain": [
       "User(connection, name='San Francisco Manager', id='B6CC2CA24D83B68D80BFB4A86832FC0D')"
      ]
     },
     "execution_count": 22,
     "metadata": {},
     "output_type": "execute_result"
    }
   ],
   "source": [
    "cg.linked_user"
   ]
  },
  {
   "cell_type": "code",
   "execution_count": 24,
   "id": "89ab30e8-9e68-4645-b042-2b7f40616950",
   "metadata": {},
   "outputs": [
    {
     "data": {
      "text/plain": [
       "[]"
      ]
     },
     "execution_count": 24,
     "metadata": {},
     "output_type": "execute_result"
    }
   ],
   "source": [
    "cg.memberships"
   ]
  },
  {
   "cell_type": "markdown",
   "id": "6a202c91-51f5-4fd5-8881-26d0ed202eba",
   "metadata": {},
   "source": [
    "# ContactAddress"
   ]
  },
  {
   "cell_type": "markdown",
   "id": "2df9bf44-872b-4fca-9cce-f7c8bff2b3ee",
   "metadata": {},
   "source": [
    "## New ContactAddress"
   ]
  },
  {
   "cell_type": "code",
   "execution_count": 57,
   "id": "4e04e460-5849-40dc-9120-b32662c42e42",
   "metadata": {},
   "outputs": [
    {
     "data": {
      "text/plain": [
       "<Signature (self, name: str, physical_address: str, delivery_type: Union[mstrio.users_and_groups.contact.ContactDeliveryType, str], device: Union[ForwardRef('Device'), str], id: Optional[str] = None, is_default: bool = False, connection: Optional[ForwardRef('Connection')] = None)>"
      ]
     },
     "execution_count": 57,
     "metadata": {},
     "output_type": "execute_result"
    }
   ],
   "source": [
    "inspect.signature(ContactAddress.__init__)"
   ]
  },
  {
   "cell_type": "code",
   "execution_count": 56,
   "id": "dbb2297e-8e22-463e-b529-858b0de545d7",
   "metadata": {},
   "outputs": [
    {
     "ename": "AttributeError",
     "evalue": "type object 'ContactAddress' has no attribute 'create'",
     "output_type": "error",
     "traceback": [
      "\u001b[0;31m---------------------------------------------------------------------------\u001b[0m",
      "\u001b[0;31mAttributeError\u001b[0m                            Traceback (most recent call last)",
      "Cell \u001b[0;32mIn [56], line 1\u001b[0m\n\u001b[0;32m----> 1\u001b[0m inspect\u001b[38;5;241m.\u001b[39msignature(\u001b[43mContactAddress\u001b[49m\u001b[38;5;241;43m.\u001b[39;49m\u001b[43mcreate\u001b[49m)\n",
      "\u001b[0;31mAttributeError\u001b[0m: type object 'ContactAddress' has no attribute 'create'"
     ]
    }
   ],
   "source": [
    "contact_address = ContectAddress(name=\"My Contact\", physical_address:\"\", delivery_type=ContactDeliveryType.EMAIL,dev"
   ]
  },
  {
   "cell_type": "markdown",
   "id": "fda4f43d-cf58-47eb-a235-d715e18bf70a",
   "metadata": {},
   "source": [
    "# Contact"
   ]
  },
  {
   "cell_type": "markdown",
   "id": "100844e7-059f-4836-ba00-8e8ebcef728f",
   "metadata": {},
   "source": [
    "## List"
   ]
  },
  {
   "cell_type": "code",
   "execution_count": null,
   "id": "0e943820-bf06-40cd-a50a-c6edfd8b3101",
   "metadata": {},
   "outputs": [
    {
     "data": {
      "text/plain": [
       "[Contact(connection, id='59CCFDF44EAA434CF3B2059143278064', name='San Francisco Music Manager'),\n",
       " Contact(connection, id='6BF7F8E94B825A4D5E5F158B6B41B75F', name='San Francisco Books Manager'),\n",
       " Contact(connection, id='A5DCA82143B8BC0F8A3C859214A6592A', name='San Francisco Electronics Manager'),\n",
       " Contact(connection, id='BF93875B404C3FFDE2CDDC8819777674', name='San Francisco Movies Manager')]"
      ]
     },
     "execution_count": 50,
     "metadata": {},
     "output_type": "execute_result"
    }
   ],
   "source": [
    "list_contacts(conn)"
   ]
  },
  {
   "cell_type": "markdown",
   "id": "980175ed-33e5-43a8-90e6-69179c8ff2cc",
   "metadata": {},
   "source": [
    "## Get contact by id"
   ]
  },
  {
   "cell_type": "code",
   "execution_count": 55,
   "id": "83c3631c-0bcd-477b-bf36-acd1c06c2fd5",
   "metadata": {},
   "outputs": [
    {
     "name": "stdout",
     "output_type": "stream",
     "text": [
      "Contact object named: 'San Francisco Music Manager' with ID: '59CCFDF44EAA434CF3B2059143278064'\n"
     ]
    },
    {
     "data": {
      "text/plain": [
       "Contact(connection, id='59CCFDF44EAA434CF3B2059143278064', name='San Francisco Music Manager')"
      ]
     },
     "execution_count": 55,
     "metadata": {},
     "output_type": "execute_result"
    }
   ],
   "source": [
    "contact = Contact(conn, id = \"59CCFDF44EAA434CF3B2059143278064\")\n",
    "contact"
   ]
  },
  {
   "cell_type": "markdown",
   "id": "55dbd32a-a403-4c85-9488-2ba0d765bdc5",
   "metadata": {},
   "source": [
    "## Get contact by name"
   ]
  },
  {
   "cell_type": "code",
   "execution_count": 54,
   "id": "56c58fbb-da5c-443a-95b1-71f161d86b78",
   "metadata": {},
   "outputs": [
    {
     "data": {
      "text/plain": [
       "Contact(connection, id='59CCFDF44EAA434CF3B2059143278064', name='San Francisco Music Manager')"
      ]
     },
     "execution_count": 54,
     "metadata": {},
     "output_type": "execute_result"
    }
   ],
   "source": [
    "contact = Contact(conn, name = \"San Francisco Music Manager\")\n",
    "contact"
   ]
  },
  {
   "cell_type": "markdown",
   "id": "ac2197dc-9067-41c8-b23f-dd0314e438da",
   "metadata": {},
   "source": [
    "## New Contact"
   ]
  },
  {
   "cell_type": "code",
   "execution_count": 45,
   "id": "1c307500-17b0-452b-bec0-87df36b2f3dc",
   "metadata": {},
   "outputs": [
    {
     "data": {
      "text/plain": [
       "<Signature (connection: 'Connection', name: str, linked_user: Union[ForwardRef('User'), str], contact_addresses: Iterable[Union[ForwardRef('ContactAddress'), dict]], description: Optional[str] = None, enabled: bool = True) -> 'Contact'>"
      ]
     },
     "execution_count": 45,
     "metadata": {},
     "output_type": "execute_result"
    }
   ],
   "source": [
    "inspect.signature(Contact.create)"
   ]
  },
  {
   "cell_type": "code",
   "execution_count": 44,
   "id": "706a2819-006d-45a2-ae43-e29e4a5d05b2",
   "metadata": {},
   "outputs": [
    {
     "ename": "TypeError",
     "evalue": "Contact.create() missing 2 required positional arguments: 'linked_user' and 'contact_addresses'",
     "output_type": "error",
     "traceback": [
      "\u001b[0;31m---------------------------------------------------------------------------\u001b[0m",
      "\u001b[0;31mTypeError\u001b[0m                                 Traceback (most recent call last)",
      "Cell \u001b[0;32mIn [44], line 1\u001b[0m\n\u001b[0;32m----> 1\u001b[0m contact \u001b[38;5;241m=\u001b[39m \u001b[43mContact\u001b[49m\u001b[38;5;241;43m.\u001b[39;49m\u001b[43mcreate\u001b[49m\u001b[43m(\u001b[49m\u001b[43mconn\u001b[49m\u001b[43m,\u001b[49m\u001b[43m \u001b[49m\u001b[43mname\u001b[49m\u001b[38;5;241;43m=\u001b[39;49m\u001b[38;5;124;43m\"\u001b[39;49m\u001b[38;5;124;43mTest Contact\u001b[39;49m\u001b[38;5;124;43m\"\u001b[39;49m\u001b[43m)\u001b[49m\n",
      "File \u001b[0;32m~/opt/anaconda3/envs/mstrio/lib/python3.10/site-packages/mstrio/utils/version_helper.py:42\u001b[0m, in \u001b[0;36mmethod_version_handler.<locals>.wrapper.<locals>.inner\u001b[0;34m(*args, **kwargs)\u001b[0m\n\u001b[1;32m     37\u001b[0m \u001b[38;5;28;01mif\u001b[39;00m version_parser(connection_obj\u001b[38;5;241m.\u001b[39miserver_version) \u001b[38;5;241m<\u001b[39m version_parser(version):\n\u001b[1;32m     38\u001b[0m     \u001b[38;5;28;01mraise\u001b[39;00m VersionException(\n\u001b[1;32m     39\u001b[0m         \u001b[38;5;124mf\u001b[39m\u001b[38;5;124m\"\u001b[39m\u001b[38;5;124mEnvironments must run IServer version \u001b[39m\u001b[38;5;132;01m{\u001b[39;00mversion\u001b[38;5;132;01m}\u001b[39;00m\u001b[38;5;124m or newer. \u001b[39m\u001b[38;5;124m\"\u001b[39m\n\u001b[1;32m     40\u001b[0m         \u001b[38;5;124m\"\u001b[39m\u001b[38;5;124mPlease update your environments to use this feature.\u001b[39m\u001b[38;5;124m\"\u001b[39m\n\u001b[1;32m     41\u001b[0m     )\n\u001b[0;32m---> 42\u001b[0m \u001b[38;5;28;01mreturn\u001b[39;00m \u001b[43mfunction\u001b[49m\u001b[43m(\u001b[49m\u001b[38;5;241;43m*\u001b[39;49m\u001b[43margs\u001b[49m\u001b[43m,\u001b[49m\u001b[43m \u001b[49m\u001b[38;5;241;43m*\u001b[39;49m\u001b[38;5;241;43m*\u001b[39;49m\u001b[43mkwargs\u001b[49m\u001b[43m)\u001b[49m\n",
      "\u001b[0;31mTypeError\u001b[0m: Contact.create() missing 2 required positional arguments: 'linked_user' and 'contact_addresses'"
     ]
    }
   ],
   "source": [
    "contact = Contact.create(conn, name=\"Test Contact\", linked_user=[], )"
   ]
  },
  {
   "cell_type": "markdown",
   "id": "c5e7ee12-8a6b-444d-a35c-505f7c427f1a",
   "metadata": {},
   "source": [
    "# Modify ContactGroup"
   ]
  },
  {
   "cell_type": "markdown",
   "id": "1d8641c8-baa0-4f9a-8baf-5ae38a3449ee",
   "metadata": {},
   "source": [
    "## New ContactGroup"
   ]
  },
  {
   "cell_type": "code",
   "execution_count": 27,
   "id": "7d4f1bd2-d2d0-4b72-96f3-588b9d350c9e",
   "metadata": {},
   "outputs": [
    {
     "name": "stdout",
     "output_type": "stream",
     "text": [
      "Create a new contact group.\n",
      "\n",
      "        Args:\n",
      "            connection: MicroStrategy connection object\n",
      "                returned by `connection.Connection()`\n",
      "            name: contact group name\n",
      "            linked_user: user linked to contact\n",
      "            members: list of members\n",
      "            description: description of contact\n",
      "            enabled: specifies if contact should be enabled\n",
      "\n",
      "        Returns:\n",
      "            `ContactGroup` object\n",
      "        \n"
     ]
    }
   ],
   "source": [
    "print(ContactGroup.create.__doc__)"
   ]
  },
  {
   "cell_type": "code",
   "execution_count": 29,
   "id": "d1e4bcde-cc1d-4a16-9e7c-55ef418d24b0",
   "metadata": {},
   "outputs": [
    {
     "data": {
      "text/plain": [
       "<Signature (connection: 'Connection', name: str, linked_user: Union[str, mstrio.users_and_groups.user.User], members: List[Union[dict, mstrio.users_and_groups.contact_group.ContactGroupMember]], description: Optional[str] = None, enabled: bool = True) -> 'ContactGroup'>"
      ]
     },
     "execution_count": 29,
     "metadata": {},
     "output_type": "execute_result"
    }
   ],
   "source": [
    "inspect.signature(ContactGroup.create)"
   ]
  },
  {
   "cell_type": "code",
   "execution_count": 30,
   "id": "51d4dbe3-03b3-4088-a31f-ead6807b5f81",
   "metadata": {},
   "outputs": [
    {
     "name": "stdout",
     "output_type": "stream",
     "text": [
      "User object named: 'Amber Wang' with ID: '7088DD06704C13FA95833ABFD83B094B'\n",
      "Successfully created contact group named: 'My ContactGroup' with ID: 'E25E2750072B4D79A4C150C4D8F90C14'\n"
     ]
    }
   ],
   "source": [
    "new_cg = ContactGroup.create(\n",
    "    connection=conn,\n",
    "    name=\"My ContactGroup\",\n",
    "    linked_user=User(conn, username=\"amber\"),\n",
    "    members=[],\n",
    "    description=\"My Test ContactGroup\",\n",
    "    enabled=True,\n",
    ")"
   ]
  },
  {
   "cell_type": "code",
   "execution_count": 31,
   "id": "cac9f21f-9ceb-4141-b09f-91e8d9e580a3",
   "metadata": {},
   "outputs": [
    {
     "data": {
      "text/plain": [
       "ContactGroup(connection, id='E25E2750072B4D79A4C150C4D8F90C14', name='My ContactGroup')"
      ]
     },
     "execution_count": 31,
     "metadata": {},
     "output_type": "execute_result"
    }
   ],
   "source": [
    "new_cg"
   ]
  },
  {
   "cell_type": "code",
   "execution_count": 32,
   "id": "64a56cc8-5633-40c7-b7b4-dce594c810d3",
   "metadata": {},
   "outputs": [
    {
     "data": {
      "text/plain": [
       "[ContactGroup(connection, id='D0153F224A740B2CB716CF9AF1FF7B00', name='San Francisco - Category Managers'),\n",
       " ContactGroup(connection, id='E25E2750072B4D79A4C150C4D8F90C14', name='My ContactGroup')]"
      ]
     },
     "execution_count": 32,
     "metadata": {},
     "output_type": "execute_result"
    }
   ],
   "source": [
    "list_contact_groups(conn)"
   ]
  },
  {
   "cell_type": "markdown",
   "id": "3c9832fc-5fda-41fa-a230-fb32b7198dda",
   "metadata": {},
   "source": [
    "## Modify contact group"
   ]
  },
  {
   "cell_type": "code",
   "execution_count": 33,
   "id": "bd1e7198-3fe6-402a-b77a-d86992a6faa7",
   "metadata": {},
   "outputs": [
    {
     "name": "stdout",
     "output_type": "stream",
     "text": [
      "Update properties of a contact group\n",
      "\n",
      "        Args:\n",
      "            name: name of a contact\n",
      "            description: description of a contact\n",
      "            enabled: specifies if a contact is enabled\n",
      "            linked_user: an object of class User linked to the contact\n",
      "            members: list of contact group members, instances of\n",
      "               `ContactGroupMember`\n",
      "        \n"
     ]
    }
   ],
   "source": [
    "print(ContactGroup.alter.__doc__)"
   ]
  },
  {
   "cell_type": "code",
   "execution_count": 37,
   "id": "5a177e79-14a6-4f88-88e4-fee639d1d356",
   "metadata": {},
   "outputs": [
    {
     "data": {
      "text/plain": [
       "<Signature (self, name: Optional[str] = None, description: Optional[str] = None, enabled: Optional[bool] = None, linked_user: Union[ForwardRef('User'), str, NoneType] = None, members: Optional[Iterable[Union[ForwardRef('ContactGroupMember'), dict]]] = None)>"
      ]
     },
     "execution_count": 37,
     "metadata": {},
     "output_type": "execute_result"
    }
   ],
   "source": [
    "inspect.signature(ContactGroup.alter)"
   ]
  },
  {
   "cell_type": "code",
   "execution_count": 40,
   "id": "ba6a7194-b4b7-4301-a4cb-9037d09efa7c",
   "metadata": {},
   "outputs": [
    {
     "name": "stdout",
     "output_type": "stream",
     "text": [
      "User object named: 'Amber Wang' with ID: '7088DD06704C13FA95833ABFD83B094B'\n",
      "Error updating Contact Group with ID E25E2750072B4D79A4C150C4D8F90C14\n",
      "I-Server Error ERR006, Following constraint violations have been detected: members cannot be null or empty\n",
      "Ticket ID: 72988a70f06d45cd8b8be074e745e0c2\n"
     ]
    },
    {
     "ename": "IServerError",
     "evalue": "Following constraint violations have been detected: members cannot be null or empty; code: 'ERR006', ticket_id: '72988a70f06d45cd8b8be074e745e0c2'",
     "output_type": "error",
     "traceback": [
      "\u001b[0;31m---------------------------------------------------------------------------\u001b[0m",
      "\u001b[0;31mIServerError\u001b[0m                              Traceback (most recent call last)",
      "Cell \u001b[0;32mIn [40], line 1\u001b[0m\n\u001b[0;32m----> 1\u001b[0m \u001b[43mnew_cg\u001b[49m\u001b[38;5;241;43m.\u001b[39;49m\u001b[43malter\u001b[49m\u001b[43m(\u001b[49m\n\u001b[1;32m      2\u001b[0m \u001b[43m    \u001b[49m\u001b[43mname\u001b[49m\u001b[38;5;241;43m=\u001b[39;49m\u001b[38;5;124;43m\"\u001b[39;49m\u001b[38;5;124;43mMy Contact Group 2\u001b[39;49m\u001b[38;5;124;43m\"\u001b[39;49m\u001b[43m,\u001b[49m\n\u001b[1;32m      3\u001b[0m \u001b[43m    \u001b[49m\u001b[43mdescription\u001b[49m\u001b[38;5;241;43m=\u001b[39;49m\u001b[38;5;124;43m\"\u001b[39;49m\u001b[38;5;124;43mNew Desc\u001b[39;49m\u001b[38;5;124;43m\"\u001b[39;49m\u001b[43m,\u001b[49m\n\u001b[1;32m      4\u001b[0m \u001b[43m    \u001b[49m\u001b[43mlinked_user\u001b[49m\u001b[38;5;241;43m=\u001b[39;49m\u001b[43mUser\u001b[49m\u001b[43m(\u001b[49m\u001b[43mconn\u001b[49m\u001b[43m,\u001b[49m\u001b[43m \u001b[49m\u001b[43musername\u001b[49m\u001b[38;5;241;43m=\u001b[39;49m\u001b[38;5;124;43m\"\u001b[39;49m\u001b[38;5;124;43mamber\u001b[39;49m\u001b[38;5;124;43m\"\u001b[39;49m\u001b[43m)\u001b[49m\u001b[43m,\u001b[49m\n\u001b[1;32m      5\u001b[0m \u001b[43m    \u001b[49m\u001b[43mmembers\u001b[49m\u001b[38;5;241;43m=\u001b[39;49m\u001b[43m[\u001b[49m\u001b[43m]\u001b[49m\u001b[43m,\u001b[49m\n\u001b[1;32m      6\u001b[0m \u001b[43m    \u001b[49m\u001b[43menabled\u001b[49m\u001b[38;5;241;43m=\u001b[39;49m\u001b[38;5;28;43;01mFalse\u001b[39;49;00m\n\u001b[1;32m      7\u001b[0m \u001b[43m)\u001b[49m\n",
      "File \u001b[0;32m~/opt/anaconda3/envs/mstrio/lib/python3.10/site-packages/mstrio/utils/version_helper.py:42\u001b[0m, in \u001b[0;36mmethod_version_handler.<locals>.wrapper.<locals>.inner\u001b[0;34m(*args, **kwargs)\u001b[0m\n\u001b[1;32m     37\u001b[0m \u001b[38;5;28;01mif\u001b[39;00m version_parser(connection_obj\u001b[38;5;241m.\u001b[39miserver_version) \u001b[38;5;241m<\u001b[39m version_parser(version):\n\u001b[1;32m     38\u001b[0m     \u001b[38;5;28;01mraise\u001b[39;00m VersionException(\n\u001b[1;32m     39\u001b[0m         \u001b[38;5;124mf\u001b[39m\u001b[38;5;124m\"\u001b[39m\u001b[38;5;124mEnvironments must run IServer version \u001b[39m\u001b[38;5;132;01m{\u001b[39;00mversion\u001b[38;5;132;01m}\u001b[39;00m\u001b[38;5;124m or newer. \u001b[39m\u001b[38;5;124m\"\u001b[39m\n\u001b[1;32m     40\u001b[0m         \u001b[38;5;124m\"\u001b[39m\u001b[38;5;124mPlease update your environments to use this feature.\u001b[39m\u001b[38;5;124m\"\u001b[39m\n\u001b[1;32m     41\u001b[0m     )\n\u001b[0;32m---> 42\u001b[0m \u001b[38;5;28;01mreturn\u001b[39;00m \u001b[43mfunction\u001b[49m\u001b[43m(\u001b[49m\u001b[38;5;241;43m*\u001b[39;49m\u001b[43margs\u001b[49m\u001b[43m,\u001b[49m\u001b[43m \u001b[49m\u001b[38;5;241;43m*\u001b[39;49m\u001b[38;5;241;43m*\u001b[39;49m\u001b[43mkwargs\u001b[49m\u001b[43m)\u001b[49m\n",
      "File \u001b[0;32m~/opt/anaconda3/envs/mstrio/lib/python3.10/site-packages/mstrio/users_and_groups/contact_group.py:279\u001b[0m, in \u001b[0;36mContactGroup.alter\u001b[0;34m(self, name, description, enabled, linked_user, members)\u001b[0m\n\u001b[1;32m    276\u001b[0m     \u001b[38;5;28;01mif\u001b[39;00m local[property_key] \u001b[38;5;129;01mis\u001b[39;00m \u001b[38;5;129;01mnot\u001b[39;00m \u001b[38;5;28;01mNone\u001b[39;00m:\n\u001b[1;32m    277\u001b[0m         properties[property_key] \u001b[38;5;241m=\u001b[39m local[property_key]\n\u001b[0;32m--> 279\u001b[0m \u001b[38;5;28;43mself\u001b[39;49m\u001b[38;5;241;43m.\u001b[39;49m\u001b[43m_alter_properties\u001b[49m\u001b[43m(\u001b[49m\u001b[38;5;241;43m*\u001b[39;49m\u001b[38;5;241;43m*\u001b[39;49m\u001b[43mproperties\u001b[49m\u001b[43m)\u001b[49m\n",
      "File \u001b[0;32m~/opt/anaconda3/envs/mstrio/lib/python3.10/site-packages/mstrio/utils/entity.py:693\u001b[0m, in \u001b[0;36mEntityBase._alter_properties\u001b[0;34m(self, **properties)\u001b[0m\n\u001b[1;32m    690\u001b[0m         logger\u001b[38;5;241m.\u001b[39minfo(\u001b[38;5;124mf\u001b[39m\u001b[38;5;124m\"\u001b[39m\u001b[38;5;124mNo changes specified for \u001b[39m\u001b[38;5;132;01m{\u001b[39;00m\u001b[38;5;28mtype\u001b[39m(\u001b[38;5;28mself\u001b[39m)\u001b[38;5;241m.\u001b[39m\u001b[38;5;18m__name__\u001b[39m\u001b[38;5;132;01m}\u001b[39;00m\u001b[38;5;124m \u001b[39m\u001b[38;5;124m'\u001b[39m\u001b[38;5;132;01m{\u001b[39;00m\u001b[38;5;28mself\u001b[39m\u001b[38;5;241m.\u001b[39mname\u001b[38;5;132;01m}\u001b[39;00m\u001b[38;5;124m'\u001b[39m\u001b[38;5;124m.\u001b[39m\u001b[38;5;124m\"\u001b[39m)\n\u001b[1;32m    691\u001b[0m     \u001b[38;5;28;01mreturn\u001b[39;00m \u001b[38;5;28;01mNone\u001b[39;00m\n\u001b[0;32m--> 693\u001b[0m changed \u001b[38;5;241m=\u001b[39m \u001b[38;5;28;43mself\u001b[39;49m\u001b[38;5;241;43m.\u001b[39;49m\u001b[43m_send_proper_patch_request\u001b[49m\u001b[43m(\u001b[49m\u001b[43mproperties\u001b[49m\u001b[43m)\u001b[49m\n\u001b[1;32m    695\u001b[0m \u001b[38;5;28;01mif\u001b[39;00m config\u001b[38;5;241m.\u001b[39mverbose \u001b[38;5;129;01mand\u001b[39;00m \u001b[38;5;28mall\u001b[39m(changed):\n\u001b[1;32m    696\u001b[0m     msg \u001b[38;5;241m=\u001b[39m (\n\u001b[1;32m    697\u001b[0m         \u001b[38;5;124mf\u001b[39m\u001b[38;5;124m\"\u001b[39m\u001b[38;5;132;01m{\u001b[39;00m\u001b[38;5;28mtype\u001b[39m(\u001b[38;5;28mself\u001b[39m)\u001b[38;5;241m.\u001b[39m\u001b[38;5;18m__name__\u001b[39m\u001b[38;5;132;01m}\u001b[39;00m\u001b[38;5;124m \u001b[39m\u001b[38;5;124m'\u001b[39m\u001b[38;5;132;01m{\u001b[39;00m\u001b[38;5;28mself\u001b[39m\u001b[38;5;241m.\u001b[39mname\u001b[38;5;132;01m}\u001b[39;00m\u001b[38;5;124m'\u001b[39m\u001b[38;5;124m has been modified on the server. \u001b[39m\u001b[38;5;124m\"\u001b[39m\n\u001b[1;32m    698\u001b[0m         \u001b[38;5;124mf\u001b[39m\u001b[38;5;124m\"\u001b[39m\u001b[38;5;124mYour changes are saved locally.\u001b[39m\u001b[38;5;124m\"\u001b[39m\n\u001b[1;32m    699\u001b[0m     )\n",
      "File \u001b[0;32m~/opt/anaconda3/envs/mstrio/lib/python3.10/site-packages/mstrio/utils/entity.py:670\u001b[0m, in \u001b[0;36mEntityBase._send_proper_patch_request\u001b[0;34m(self, properties, op)\u001b[0m\n\u001b[1;32m    668\u001b[0m param_value_dict \u001b[38;5;241m=\u001b[39m auto_match_args_entity(func, \u001b[38;5;28mself\u001b[39m, exclude\u001b[38;5;241m=\u001b[39m[\u001b[38;5;124m\"\u001b[39m\u001b[38;5;124mbody\u001b[39m\u001b[38;5;124m\"\u001b[39m])\n\u001b[1;32m    669\u001b[0m param_value_dict[\u001b[38;5;124m'\u001b[39m\u001b[38;5;124mbody\u001b[39m\u001b[38;5;124m'\u001b[39m] \u001b[38;5;241m=\u001b[39m body\n\u001b[0;32m--> 670\u001b[0m response \u001b[38;5;241m=\u001b[39m \u001b[43mfunc\u001b[49m\u001b[43m(\u001b[49m\u001b[38;5;241;43m*\u001b[39;49m\u001b[38;5;241;43m*\u001b[39;49m\u001b[43mparam_value_dict\u001b[49m\u001b[43m)\u001b[49m\n\u001b[1;32m    672\u001b[0m \u001b[38;5;28;01mif\u001b[39;00m response\u001b[38;5;241m.\u001b[39mok:\n\u001b[1;32m    673\u001b[0m     changed\u001b[38;5;241m.\u001b[39mappend(\u001b[38;5;28;01mTrue\u001b[39;00m)\n",
      "File \u001b[0;32m~/opt/anaconda3/envs/mstrio/lib/python3.10/site-packages/mstrio/utils/error_handlers.py:59\u001b[0m, in \u001b[0;36mErrorHandler.__call__.<locals>.inner\u001b[0;34m(*args, **kwargs)\u001b[0m\n\u001b[1;32m     57\u001b[0m     handler_kwargs \u001b[38;5;241m=\u001b[39m \u001b[38;5;28mself\u001b[39m\u001b[38;5;241m.\u001b[39m_get_resp_handler_kwargs(kwargs)\n\u001b[1;32m     58\u001b[0m     error_msg \u001b[38;5;241m=\u001b[39m \u001b[38;5;28mself\u001b[39m\u001b[38;5;241m.\u001b[39m_replace_with_values(error_msg, func, \u001b[38;5;241m*\u001b[39margs, \u001b[38;5;241m*\u001b[39m\u001b[38;5;241m*\u001b[39mkwargs)\n\u001b[0;32m---> 59\u001b[0m     \u001b[43mresponse_handler\u001b[49m\u001b[43m(\u001b[49m\u001b[43mresponse\u001b[49m\u001b[43m,\u001b[49m\u001b[43m \u001b[49m\u001b[43merror_msg\u001b[49m\u001b[43m,\u001b[49m\u001b[43m \u001b[49m\u001b[38;5;241;43m*\u001b[39;49m\u001b[38;5;241;43m*\u001b[39;49m\u001b[43mhandler_kwargs\u001b[49m\u001b[43m)\u001b[49m\n\u001b[1;32m     60\u001b[0m \u001b[38;5;28;01mreturn\u001b[39;00m response\n",
      "File \u001b[0;32m~/opt/anaconda3/envs/mstrio/lib/python3.10/site-packages/mstrio/utils/helper.py:243\u001b[0m, in \u001b[0;36mresponse_handler\u001b[0;34m(response, msg, throw_error, verbose, whitelist)\u001b[0m\n\u001b[1;32m    237\u001b[0m             logger\u001b[38;5;241m.\u001b[39merror(\n\u001b[1;32m    238\u001b[0m                 \u001b[38;5;124mf\u001b[39m\u001b[38;5;124m'\u001b[39m\u001b[38;5;132;01m{\u001b[39;00mmsg\u001b[38;5;132;01m}\u001b[39;00m\u001b[38;5;130;01m\\n\u001b[39;00m\u001b[38;5;124m'\u001b[39m\n\u001b[1;32m    239\u001b[0m                 \u001b[38;5;124mf\u001b[39m\u001b[38;5;124m'\u001b[39m\u001b[38;5;124mI-Server Error \u001b[39m\u001b[38;5;132;01m{\u001b[39;00mserver_code\u001b[38;5;132;01m}\u001b[39;00m\u001b[38;5;124m, \u001b[39m\u001b[38;5;132;01m{\u001b[39;00mserver_msg\u001b[38;5;132;01m}\u001b[39;00m\u001b[38;5;130;01m\\n\u001b[39;00m\u001b[38;5;124m'\u001b[39m\n\u001b[1;32m    240\u001b[0m                 \u001b[38;5;124mf\u001b[39m\u001b[38;5;124m'\u001b[39m\u001b[38;5;124mTicket ID: \u001b[39m\u001b[38;5;132;01m{\u001b[39;00mticket_id\u001b[38;5;132;01m}\u001b[39;00m\u001b[38;5;124m'\u001b[39m\n\u001b[1;32m    241\u001b[0m             )\n\u001b[1;32m    242\u001b[0m         \u001b[38;5;28;01mif\u001b[39;00m throw_error:\n\u001b[0;32m--> 243\u001b[0m             \u001b[38;5;28;01mraise\u001b[39;00m IServerError(\n\u001b[1;32m    244\u001b[0m                 message\u001b[38;5;241m=\u001b[39m\u001b[38;5;124mf\u001b[39m\u001b[38;5;124m\"\u001b[39m\u001b[38;5;132;01m{\u001b[39;00mserver_msg\u001b[38;5;132;01m}\u001b[39;00m\u001b[38;5;124m; code: \u001b[39m\u001b[38;5;124m'\u001b[39m\u001b[38;5;132;01m{\u001b[39;00mserver_code\u001b[38;5;132;01m}\u001b[39;00m\u001b[38;5;124m'\u001b[39m\u001b[38;5;124m, ticket_id: \u001b[39m\u001b[38;5;124m'\u001b[39m\u001b[38;5;132;01m{\u001b[39;00mticket_id\u001b[38;5;132;01m}\u001b[39;00m\u001b[38;5;124m'\u001b[39m\u001b[38;5;124m\"\u001b[39m,\n\u001b[1;32m    245\u001b[0m                 http_code\u001b[38;5;241m=\u001b[39mresponse\u001b[38;5;241m.\u001b[39mstatus_code\n\u001b[1;32m    246\u001b[0m             )\n\u001b[1;32m    247\u001b[0m \u001b[38;5;28;01mexcept\u001b[39;00m JSONDecodeError:\n\u001b[1;32m    248\u001b[0m     logger\u001b[38;5;241m.\u001b[39mdebug(\u001b[38;5;124mf\u001b[39m\u001b[38;5;124m\"\u001b[39m\u001b[38;5;124mResponse body: \u001b[39m\u001b[38;5;132;01m{\u001b[39;00mresponse\u001b[38;5;241m.\u001b[39mtext\u001b[38;5;132;01m}\u001b[39;00m\u001b[38;5;124m\"\u001b[39m)\n",
      "\u001b[0;31mIServerError\u001b[0m: Following constraint violations have been detected: members cannot be null or empty; code: 'ERR006', ticket_id: '72988a70f06d45cd8b8be074e745e0c2'"
     ]
    }
   ],
   "source": [
    "new_cg.alter(\n",
    "    name=\"My Contact Group 2\",\n",
    "    description=\"New Desc\",\n",
    "    linked_user=User(conn, username=\"amber\"),\n",
    "    members=[],\n",
    "    enabled=False\n",
    ")"
   ]
  },
  {
   "cell_type": "code",
   "execution_count": null,
   "id": "3239cc43-c4de-4c40-a2ad-f8948c844fd7",
   "metadata": {},
   "outputs": [],
   "source": []
  }
 ],
 "metadata": {
  "kernelspec": {
   "display_name": "Python 3 (ipykernel)",
   "language": "python",
   "name": "python3"
  },
  "language_info": {
   "codemirror_mode": {
    "name": "ipython",
    "version": 3
   },
   "file_extension": ".py",
   "mimetype": "text/x-python",
   "name": "python",
   "nbconvert_exporter": "python",
   "pygments_lexer": "ipython3",
   "version": "3.10.8"
  }
 },
 "nbformat": 4,
 "nbformat_minor": 5
}
