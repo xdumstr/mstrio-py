{
 "cells": [
  {
   "cell_type": "markdown",
   "id": "c402b4c4-cdf1-4ee4-91b9-b8e68b9559b8",
   "metadata": {},
   "source": [
    "# Connection"
   ]
  },
  {
   "cell_type": "code",
   "execution_count": 1,
   "id": "4e8318de-81a9-44bb-8908-ab6b1d777d93",
   "metadata": {},
   "outputs": [],
   "source": [
    "import inspect"
   ]
  },
  {
   "cell_type": "code",
   "execution_count": 2,
   "id": "39fc83f0-151b-4cef-812d-176719e73e48",
   "metadata": {},
   "outputs": [],
   "source": [
    "from mstrio.connection import get_connection, Connection\n",
    "from typing import List\n",
    "import getpass\n",
    "from mstrio.users_and_groups import list_user_groups, UserGroup, User, list_users"
   ]
  },
  {
   "cell_type": "code",
   "execution_count": 3,
   "id": "20d1c19b-0eed-4e30-99b3-66e7a636ae42",
   "metadata": {},
   "outputs": [
    {
     "name": "stdin",
     "output_type": "stream",
     "text": [
      " ········\n"
     ]
    }
   ],
   "source": [
    "PROJECT_NAME = \"MicroStrategy Tutorial\"\n",
    "BASE_URL = \"https://env-276686.customer.cloud.microstrategy.com/MicroStrategyLibrary/api\"  # Insert URL for your env here\n",
    "MSTR_USERNAME = \"mstr\"  # Insert your env username here\n",
    "MSTR_PASSWORD = getpass.getpass()   # insert your mstr password here\n",
    "PROJECT_ID = \"B7CA92F04B9FAE8D941C3E9B7E0CD754\"  # Insert you project ID here"
   ]
  },
  {
   "cell_type": "code",
   "execution_count": 4,
   "id": "f6648a74-42e9-4f95-8afd-ea68643a460f",
   "metadata": {},
   "outputs": [
    {
     "name": "stdout",
     "output_type": "stream",
     "text": [
      "Connection to MicroStrategy Intelligence Server has been established.\n"
     ]
    }
   ],
   "source": [
    "# Currently, supported authentication modes are Standard (the default), guest and LDAP.\n",
    "# To use LDAP, add login_mode=16 when creating your Connection object:\n",
    "conn = Connection(BASE_URL, MSTR_USERNAME, MSTR_PASSWORD, project_id=PROJECT_ID, login_mode=1)"
   ]
  },
  {
   "cell_type": "markdown",
   "id": "322b7d87-940d-476b-a308-ed5a22851f68",
   "metadata": {},
   "source": [
    "# List Users"
   ]
  },
  {
   "cell_type": "code",
   "execution_count": 10,
   "id": "d5120ec7-c929-47fe-858a-4e88b4dea4d7",
   "metadata": {},
   "outputs": [
    {
     "data": {
      "text/plain": [
       "[User(connection, name='Administrator', id='54F3D26011D2896560009A8E67019608'),\n",
       " User(connection, name='Barbara Aoter', id='E96A7B6911D4BBCE10004694316DE8A4'),\n",
       " User(connection, name='Brian Kelt', id='E96A7B9311D4BBCE10004694316DE8A4'),\n",
       " User(connection, name='Business User', id='4E70890241DBB18E6CA1D8B850952A68'),\n",
       " User(connection, name='CA Call Center User', id='E2DF04EE472C668C911EDD8469CF7B57'),\n",
       " User(connection, name='Calvin Rosie', id='E96A7C3C11D4BBCE10004694316DE8A4'),\n",
       " User(connection, name='Cecelia Ritholtz', id='E96A7C9011D4BBCE10004694316DE8A4'),\n",
       " User(connection, name='Chad Tibben', id='E96A7C6611D4BBCE10004694316DE8A4'),\n",
       " User(connection, name='Cloud Analytics', id='524566C211E94A5579C80080EFB5D785'),\n",
       " User(connection, name='Cornelius Becker', id='E96A7C1211D4BBCE10004694316DE8A4'),\n",
       " User(connection, name='Crisby Abram', id='E96A7BE711D4BBCE10004694316DE8A4'),\n",
       " User(connection, name='Desktop Designer', id='02BBDAC94037C34BCBD3398A2E38D2B1'),\n",
       " User(connection, name='Edward Lin', id='2CF3BA2CCA476BA6651E0888AED534AA'),\n",
       " User(connection, name='Edward Perryman', id='28ECA8CF11D5188EC000E9ABCA1B1A4F'),\n",
       " User(connection, name='ffdemo', id='A7C2E46745E03F443F03AFBB5CCA7ED1'),\n",
       " User(connection, name='Galvin Missner', id='E96A7A6D11D4BBCE10004694316DE8A4'),\n",
       " User(connection, name='Harry Du', id='01A199F6BB402481996F1E8B31DF4277'),\n",
       " User(connection, name='Insights Service Account', id='407B14FB42F2A3FB012ACDAFBD5475F7'),\n",
       " User(connection, name='Intro BI', id='034C2587414F1EB10C2DF79B2A898CAA'),\n",
       " User(connection, name='Jessica Kwasi', id='E96A7A4311D4BBCE10004694316DE8A4'),\n",
       " User(connection, name='Jiapei Liang', id='2EC0C165634B2C0FC6031BB4CC2E64B5'),\n",
       " User(connection, name='Katharine Shearn', id='E96A79E011D4BBCE10004694316DE8A4'),\n",
       " User(connection, name='MicroStrategy Architect', id='004FF3B249ED20AAB2FF1A9A8B0F03EE'),\n",
       " User(connection, name='MicroStrategy Report Developer', id='C1E141A811D603A2100086B3A5E8F8A4'),\n",
       " User(connection, name='MicroStrategy Web User', id='C1E141E611D603A2100086B3A5E8F8A4'),\n",
       " User(connection, name='MSTR Alert', id='8E993F7703424FD164B631AD12EE0A88'),\n",
       " User(connection, name='MSTR User', id='7FC05A65473CE2FD845CE6A1D3F13233'),\n",
       " User(connection, name='My Test', id='52CC3387B24CF00ED3C728AD0B38FF2E'),\n",
       " User(connection, name='Narrowcast Server Designer', id='4AA77ACA475F4D9ED4CE0FB3040B0750'),\n",
       " User(connection, name='Office Designer', id='2C34BE644BE724DAF9328F8CE27F9EB8'),\n",
       " User(connection, name='Paula Roe', id='E96A7A1911D4BBCE10004694316DE8A4'),\n",
       " User(connection, name='Peter Rose', id='E96A7AC111D4BBCE10004694316DE8A4'),\n",
       " User(connection, name='Platform Support Administrator', id='22BBFC764F017F94E98C6AA91134B880'),\n",
       " User(connection, name='Reba Snyderman', id='E96A7B1511D4BBCE10004694316DE8A4'),\n",
       " User(connection, name='San Francisco Manager', id='B6CC2CA24D83B68D80BFB4A86832FC0D'),\n",
       " User(connection, name='Sarah Rosenzweig', id='28ECA8EA11D5188EC000E9ABCA1B1A4F'),\n",
       " User(connection, name='SDK Designer', id='A9F51106468F4F604BE158A51AD932CA'),\n",
       " User(connection, name='Security User', id='DADA42074976F1A6E8108393443AEE63'),\n",
       " User(connection, name='Tester Tester', id='28ECA90311D5188EC000E9ABCA1B1A4F'),\n",
       " User(connection, name='TestUser', id='999174BF1F4E7AAA7D13FBA4A9B77AD0'),\n",
       " User(connection, name='Tilda Austin', id='E96A7AEB11D4BBCE10004694316DE8A4'),\n",
       " User(connection, name='Timothy Kelly', id='E96A7A9711D4BBCE10004694316DE8A4'),\n",
       " User(connection, name='User_French', id='0870757440D0FEB7CDC449AAE6C18AFF'),\n",
       " User(connection, name='User_German', id='9B4411F5427D0C8B21BCF8B1CD756EDA'),\n",
       " User(connection, name='User_Italian', id='C0D6996F4DF2A8FDEA6125A3AB5D1560'),\n",
       " User(connection, name='User_Japanese', id='EAF631254214ABF2D89BE290BC8CE6D8'),\n",
       " User(connection, name='User_Korean', id='989875724CB91A7EC2E365BD0228EB50'),\n",
       " User(connection, name='User_Portuguese', id='056C361E4CBD8CD01F530D948E143D4D'),\n",
       " User(connection, name='User_SChinese', id='553D9B1E4F22C5295F5FD0AA9F060A60'),\n",
       " User(connection, name='User_Spanish', id='95A868464F2F105205B2848BBCB81C50'),\n",
       " User(connection, name='User_Swedish', id='0F9764F042C047E5AAD2D28AC5D1CC67'),\n",
       " User(connection, name='User_TChinese', id='EA3B9755426A659BFEAEFAB4BAB7B028'),\n",
       " User(connection, name='UserA', id='35EBF6D045F5EB564ADF269232BA10DB'),\n",
       " User(connection, name='UserB', id='D6DA591840C74132019E5EA2E68595E7'),\n",
       " User(connection, name='UserC', id='8647B7DA41B47D14676356857A03A762'),\n",
       " User(connection, name='UserD', id='3470261749FA76D205F2D48C4025BBDD'),\n",
       " User(connection, name='William Jackson', id='E96A7B3F11D4BBCE10004694316DE8A4')]"
      ]
     },
     "execution_count": 10,
     "metadata": {},
     "output_type": "execute_result"
    }
   ],
   "source": [
    "list_users(conn)"
   ]
  },
  {
   "cell_type": "markdown",
   "id": "5615466f-9070-482d-906b-87f99378cd03",
   "metadata": {},
   "source": [
    "# Create User"
   ]
  },
  {
   "cell_type": "code",
   "execution_count": null,
   "id": "c124e0a5-9ce1-42cd-80d3-e7d35675483e",
   "metadata": {},
   "outputs": [],
   "source": [
    "print(User.create.__doc__)"
   ]
  },
  {
   "cell_type": "code",
   "execution_count": null,
   "id": "46bd1cf4-9ff5-4d39-a0d3-2cf7efd12c77",
   "metadata": {},
   "outputs": [],
   "source": [
    "users_array = [{'username': 'amber', 'fullName': 'Amber Wang'}]\n",
    "for u in users_array:\n",
    "    User.create(connection=conn, username=u['username'], full_name=u['fullName'])"
   ]
  },
  {
   "cell_type": "code",
   "execution_count": 6,
   "id": "c938fbde-03f4-4994-9544-564249a8857f",
   "metadata": {},
   "outputs": [
    {
     "name": "stdout",
     "output_type": "stream",
     "text": [
      "User object named: 'Amber Wang' with ID: '7088DD06704C13FA95833ABFD83B094B'\n"
     ]
    }
   ],
   "source": [
    "user = User(connection=conn, username=\"amber\")"
   ]
  },
  {
   "cell_type": "code",
   "execution_count": 8,
   "id": "2ab24869-596b-4a06-8ca6-a4d762568ce8",
   "metadata": {},
   "outputs": [
    {
     "name": "stdout",
     "output_type": "stream",
     "text": [
      "This (module mstrio.api.metrics) functionality is a work-in-progress. Use it only if you understand the underlying code. It may change in future updates.\n",
      "{'id': '7088DD06704C13FA95833ABFD83B094B',\n",
      " 'name': 'Amber S Wang',\n",
      " 'description': None,\n",
      " 'type': <ObjectTypes.USER: 34>,\n",
      " 'subtype': 8704,\n",
      " 'ext_type': <ExtendedType.RESERVED: 0>,\n",
      " 'addresses': [{'id': 'C89C1D4EF34B14AC4DCDB38CB77A0A0E',\n",
      "                'name': 'amber1',\n",
      "                'deliveryMode': 'EMAIL',\n",
      "                'deviceId': '1D2E6D168A7711D4BE8100B0D04B6F0B',\n",
      "                'value': 'amber@microstrategy.com',\n",
      "                'isDefault': True}],\n",
      " 'ancestors': [{'name': 'CASTOR_SERVER_CONFIGURATION',\n",
      "                'id': '5F90C74FB2944D70930B9BDDA6D2FBF1',\n",
      "                'level': 2},\n",
      "               {'name': 'Users',\n",
      "                'id': '73F7482611D3596C60001B8F67019608',\n",
      "                'level': 1}],\n",
      " 'certified_info': None,\n",
      " 'comments': None,\n",
      " 'connection': <mstrio.connection.Connection object at 0x7fadd07e0b50>,\n",
      " 'date_created': datetime.datetime(2022, 11, 21, 19, 36, 42, tzinfo=datetime.timezone.utc),\n",
      " 'date_modified': datetime.datetime(2022, 11, 23, 2, 57, 28, tzinfo=datetime.timezone.utc),\n",
      " 'hidden': None,\n",
      " 'icon_path': None,\n",
      " 'initials': 'AW',\n",
      " 'memberships': [{'id': 'C82C6B1011D2894CC0009D9F29718E4F',\n",
      "                  'name': 'Everyone',\n",
      "                  'source': {'type': ['MSTR']}},\n",
      "                 {'id': '4ACE24CEF3475CF83CE191BFDBB4D47B',\n",
      "                  'name': 'Special Users',\n",
      "                  'source': {'type': ['MSTR']}}],\n",
      " 'owner': {'name': 'MSTR User', 'id': '7FC05A65473CE2FD845CE6A1D3F13233'},\n",
      " 'privileges': [{'privilege': {'id': '30',\n",
      "                               'name': 'Use server cache',\n",
      "                               'description': 'This is the privilege required '\n",
      "                                              'to use server cache',\n",
      "                               'level': 'project'},\n",
      "                 'sources': [{'direct': False,\n",
      "                              'group': {'name': 'Everyone',\n",
      "                                        'id': 'C82C6B1011D2894CC0009D9F29718E4F'}}]},\n",
      "                {'privilege': {'id': '90',\n",
      "                               'name': 'Create new folder',\n",
      "                               'description': 'Allow the user to create new '\n",
      "                                              'folder.',\n",
      "                               'level': 'project'},\n",
      "                 'sources': [{'direct': False,\n",
      "                              'group': {'name': 'Everyone',\n",
      "                                        'id': 'C82C6B1011D2894CC0009D9F29718E4F'}}]},\n",
      "                {'privilege': {'id': '131',\n",
      "                               'name': 'Use Developer',\n",
      "                               'description': 'Allow user to use Developer.',\n",
      "                               'level': 'project'},\n",
      "                 'sources': [{'direct': False,\n",
      "                              'group': {'name': 'Everyone',\n",
      "                                        'id': 'C82C6B1011D2894CC0009D9F29718E4F'}}]},\n",
      "                {'privilege': {'id': '207',\n",
      "                               'name': 'Web Dossier design',\n",
      "                               'description': 'Allow web user to create and '\n",
      "                                              'edit layouts within a Document.',\n",
      "                               'level': 'project'},\n",
      "                 'sources': [{'direct': False,\n",
      "                              'group': {'name': 'Everyone',\n",
      "                                        'id': 'C82C6B1011D2894CC0009D9F29718E4F'}}]},\n",
      "                {'privilege': {'id': '263',\n",
      "                               'name': 'Use collaboration services',\n",
      "                               'description': 'Grants access to Collaboration '\n",
      "                                              'Services',\n",
      "                               'level': 'project'},\n",
      "                 'sources': [{'direct': False,\n",
      "                              'securityRole': {'name': 'Normal Users',\n",
      "                                               'id': '73F7482111D3596C60001B8F67019608'},\n",
      "                              'project': {'name': 'intermedia',\n",
      "                                          'id': '43BBC51FE147F47BAE476C867EE92EE5'},\n",
      "                              'group': {'name': 'Everyone',\n",
      "                                        'id': 'C82C6B1011D2894CC0009D9F29718E4F'}},\n",
      "                             {'direct': False,\n",
      "                              'securityRole': {'name': 'Normal Users',\n",
      "                                               'id': '73F7482111D3596C60001B8F67019608'},\n",
      "                              'project': {'name': 'My Test Project',\n",
      "                                          'id': '45237906EA4FB99911B979A1EF805A8B'},\n",
      "                              'group': {'name': 'Everyone',\n",
      "                                        'id': 'C82C6B1011D2894CC0009D9F29718E4F'}},\n",
      "                             {'direct': False,\n",
      "                              'securityRole': {'name': 'Normal Users',\n",
      "                                               'id': '73F7482111D3596C60001B8F67019608'},\n",
      "                              'project': {'name': 'Human Resources Analysis '\n",
      "                                                  'Module',\n",
      "                                          'id': '4BAE16A340B995CAD24193AA3AC15D29'},\n",
      "                              'group': {'name': 'Everyone',\n",
      "                                        'id': 'C82C6B1011D2894CC0009D9F29718E4F'}},\n",
      "                             {'direct': False,\n",
      "                              'securityRole': {'name': 'Normal Users',\n",
      "                                               'id': '73F7482111D3596C60001B8F67019608'},\n",
      "                              'project': {'name': 'Relationships Project',\n",
      "                                          'id': '4C09350211E69712BAEE0080EFB56D41'},\n",
      "                              'group': {'name': 'Everyone',\n",
      "                                        'id': 'C82C6B1011D2894CC0009D9F29718E4F'}},\n",
      "                             {'direct': False,\n",
      "                              'securityRole': {'name': 'Normal Users',\n",
      "                                               'id': '73F7482111D3596C60001B8F67019608'},\n",
      "                              'project': {'name': 'Platform Analytics',\n",
      "                                          'id': '7A2D5F9B9D4484678C984FB74F3860E0'},\n",
      "                              'group': {'name': 'Everyone',\n",
      "                                        'id': 'C82C6B1011D2894CC0009D9F29718E4F'}},\n",
      "                             {'direct': False,\n",
      "                              'securityRole': {'name': 'Normal Users',\n",
      "                                               'id': '73F7482111D3596C60001B8F67019608'},\n",
      "                              'project': {'name': 'esse magna',\n",
      "                                          'id': '8C1F88AC91459483A81699AE7C9C2B60'},\n",
      "                              'group': {'name': 'Everyone',\n",
      "                                        'id': 'C82C6B1011D2894CC0009D9F29718E4F'}},\n",
      "                             {'direct': False,\n",
      "                              'securityRole': {'name': 'Normal Users',\n",
      "                                               'id': '73F7482111D3596C60001B8F67019608'},\n",
      "                              'project': {'name': 'Hierarchies Project',\n",
      "                                          'id': 'B3FEE61A11E696C8BD0F0080EFC58F44'},\n",
      "                              'group': {'name': 'Everyone',\n",
      "                                        'id': 'C82C6B1011D2894CC0009D9F29718E4F'}},\n",
      "                             {'direct': False,\n",
      "                              'securityRole': {'name': 'Normal Users',\n",
      "                                               'id': '73F7482111D3596C60001B8F67019608'},\n",
      "                              'project': {'name': 'MicroStrategy Tutorial',\n",
      "                                          'id': 'B7CA92F04B9FAE8D941C3E9B7E0CD754'},\n",
      "                              'group': {'name': 'Everyone',\n",
      "                                        'id': 'C82C6B1011D2894CC0009D9F29718E4F'}},\n",
      "                             {'direct': False,\n",
      "                              'securityRole': {'name': 'Normal Users',\n",
      "                                               'id': '73F7482111D3596C60001B8F67019608'},\n",
      "                              'project': {'name': 'PM Playground',\n",
      "                                          'id': 'B80F85724E4E6FEEAA5787B0736B3653'},\n",
      "                              'group': {'name': 'Everyone',\n",
      "                                        'id': 'C82C6B1011D2894CC0009D9F29718E4F'}},\n",
      "                             {'direct': False,\n",
      "                              'securityRole': {'name': 'Normal Users',\n",
      "                                               'id': '73F7482111D3596C60001B8F67019608'},\n",
      "                              'project': {'name': 'Consolidated Education '\n",
      "                                                  'Project',\n",
      "                                          'id': 'CE52831411E696C8BD2F0080EFD5AF44'},\n",
      "                              'group': {'name': 'Everyone',\n",
      "                                        'id': 'C82C6B1011D2894CC0009D9F29718E4F'}}]},\n",
      "                {'privilege': {'id': '265',\n",
      "                               'name': 'Use Workstation',\n",
      "                               'description': 'Allow user to connect to '\n",
      "                                              'IServer from Workstation.',\n",
      "                               'level': 'project'},\n",
      "                 'sources': [{'direct': False,\n",
      "                              'group': {'name': 'Everyone',\n",
      "                                        'id': 'C82C6B1011D2894CC0009D9F29718E4F'}}]}],\n",
      " 'project_id': None,\n",
      " 'security_filters': {},\n",
      " 'security_roles': [{'name': 'MicroStrategy Tutorial',\n",
      "                     'id': 'B7CA92F04B9FAE8D941C3E9B7E0CD754',\n",
      "                     'securityRoles': [{'name': 'Normal Users',\n",
      "                                        'id': '73F7482111D3596C60001B8F67019608',\n",
      "                                        'inherited': True,\n",
      "                                        'ancestors': [{'name': 'Everyone',\n",
      "                                                       'id': 'C82C6B1011D2894CC0009D9F29718E4F'}]}]},\n",
      "                    {'name': 'Consolidated Education Project',\n",
      "                     'id': 'CE52831411E696C8BD2F0080EFD5AF44',\n",
      "                     'securityRoles': [{'name': 'Normal Users',\n",
      "                                        'id': '73F7482111D3596C60001B8F67019608',\n",
      "                                        'inherited': True,\n",
      "                                        'ancestors': [{'name': 'Everyone',\n",
      "                                                       'id': 'C82C6B1011D2894CC0009D9F29718E4F'}]}]},\n",
      "                    {'name': 'Hierarchies Project',\n",
      "                     'id': 'B3FEE61A11E696C8BD0F0080EFC58F44',\n",
      "                     'securityRoles': [{'name': 'Normal Users',\n",
      "                                        'id': '73F7482111D3596C60001B8F67019608',\n",
      "                                        'inherited': True,\n",
      "                                        'ancestors': [{'name': 'Everyone',\n",
      "                                                       'id': 'C82C6B1011D2894CC0009D9F29718E4F'}]}]},\n",
      "                    {'name': 'Human Resources Analysis Module',\n",
      "                     'id': '4BAE16A340B995CAD24193AA3AC15D29',\n",
      "                     'securityRoles': [{'name': 'Normal Users',\n",
      "                                        'id': '73F7482111D3596C60001B8F67019608',\n",
      "                                        'inherited': True,\n",
      "                                        'ancestors': [{'name': 'Everyone',\n",
      "                                                       'id': 'C82C6B1011D2894CC0009D9F29718E4F'}]}]},\n",
      "                    {'name': 'Relationships Project',\n",
      "                     'id': '4C09350211E69712BAEE0080EFB56D41',\n",
      "                     'securityRoles': [{'name': 'Normal Users',\n",
      "                                        'id': '73F7482111D3596C60001B8F67019608',\n",
      "                                        'inherited': True,\n",
      "                                        'ancestors': [{'name': 'Everyone',\n",
      "                                                       'id': 'C82C6B1011D2894CC0009D9F29718E4F'}]}]},\n",
      "                    {'name': 'Platform Analytics',\n",
      "                     'id': '7A2D5F9B9D4484678C984FB74F3860E0',\n",
      "                     'securityRoles': [{'name': 'Normal Users',\n",
      "                                        'id': '73F7482111D3596C60001B8F67019608',\n",
      "                                        'inherited': True,\n",
      "                                        'ancestors': [{'name': 'Everyone',\n",
      "                                                       'id': 'C82C6B1011D2894CC0009D9F29718E4F'}]}]},\n",
      "                    {'name': 'esse magna',\n",
      "                     'id': '8C1F88AC91459483A81699AE7C9C2B60',\n",
      "                     'securityRoles': [{'name': 'Normal Users',\n",
      "                                        'id': '73F7482111D3596C60001B8F67019608',\n",
      "                                        'inherited': True,\n",
      "                                        'ancestors': [{'name': 'Everyone',\n",
      "                                                       'id': 'C82C6B1011D2894CC0009D9F29718E4F'}]}]},\n",
      "                    {'name': 'intermedia',\n",
      "                     'id': '43BBC51FE147F47BAE476C867EE92EE5',\n",
      "                     'securityRoles': [{'name': 'Normal Users',\n",
      "                                        'id': '73F7482111D3596C60001B8F67019608',\n",
      "                                        'inherited': True,\n",
      "                                        'ancestors': [{'name': 'Everyone',\n",
      "                                                       'id': 'C82C6B1011D2894CC0009D9F29718E4F'}]}]},\n",
      "                    {'name': 'My Test Project',\n",
      "                     'id': '45237906EA4FB99911B979A1EF805A8B',\n",
      "                     'securityRoles': [{'name': 'Normal Users',\n",
      "                                        'id': '73F7482111D3596C60001B8F67019608',\n",
      "                                        'inherited': True,\n",
      "                                        'ancestors': [{'name': 'Everyone',\n",
      "                                                       'id': 'C82C6B1011D2894CC0009D9F29718E4F'}]}]},\n",
      "                    {'name': 'PM Playground',\n",
      "                     'id': 'B80F85724E4E6FEEAA5787B0736B3653',\n",
      "                     'securityRoles': [{'name': 'Normal Users',\n",
      "                                        'id': '73F7482111D3596C60001B8F67019608',\n",
      "                                        'inherited': True,\n",
      "                                        'ancestors': [{'name': 'Everyone',\n",
      "                                                       'id': 'C82C6B1011D2894CC0009D9F29718E4F'}]}]}],\n",
      " 'target_info': None,\n",
      " 'version': '5CADDC73F84B152EE1E51C84A61901E9',\n",
      " 'view_media': None,\n",
      " 'abbreviation': 'amber',\n",
      " 'username': 'amber',\n",
      " 'full_name': 'Amber S Wang',\n",
      " 'enabled': True,\n",
      " 'password_modifiable': True,\n",
      " 'standard_auth': True,\n",
      " 'require_new_password': True,\n",
      " 'ldapdn': None,\n",
      " 'trust_id': None,\n",
      " 'password_auto_expire': False,\n",
      " 'default_email_address': 'amber@microstrategy.com',\n",
      " 'default_timezone': {'id': ''},\n",
      " 'acg': <Rights.EXECUTE|USE|CONTROL|DELETE|WRITE|READ|USE_EXECUTE|BROWSE: 255>,\n",
      " 'acl': [ACE(deny=False, entry_type=1, rights=5, trustee_id='294DEDC011D2F1D56000D98E67019608', trustee_name='Public / Guest', trustee_type=34, trustee_subtype=8705, inheritable=False),\n",
      "         ACE(deny=False, entry_type=1, rights=5, trustee_id='5F3FAFE011D2D8CC6000CC8E67019608', trustee_name='System Monitors', trustee_type=34, trustee_subtype=8705, inheritable=False),\n",
      "         ACE(deny=False, entry_type=1, rights=5, trustee_id='7088DD06704C13FA95833ABFD83B094B', trustee_name='Amber S Wang', trustee_type=34, trustee_subtype=8704, inheritable=False),\n",
      "         ACE(deny=False, entry_type=1, rights=5, trustee_id='C82C6B1011D2894CC0009D9F29718E4F', trustee_name='Everyone', trustee_type=34, trustee_subtype=8705, inheritable=False),\n",
      "         ACE(deny=False, entry_type=1, rights=13, trustee_id='17CD5CDB43085A8A52533B86A05DCB3A', trustee_name='User Administrators', trustee_type=34, trustee_subtype=8705, inheritable=False),\n",
      "         ACE(deny=False, entry_type=1, rights=255, trustee_id='5F3FAFE111D2D8CC6000CC8E67019608', trustee_name='System Administrators', trustee_type=34, trustee_subtype=8705, inheritable=False),\n",
      "         ACE(deny=False, entry_type=1, rights=255, trustee_id='7FC05A65473CE2FD845CE6A1D3F13233', trustee_name='MSTR User', trustee_type=34, trustee_subtype=8704, inheritable=False)]}\n"
     ]
    }
   ],
   "source": [
    "user.print()"
   ]
  },
  {
   "cell_type": "code",
   "execution_count": null,
   "id": "c29b615f-48c8-46ec-a3ee-26277c38871f",
   "metadata": {},
   "outputs": [],
   "source": [
    "print(inspect.signature(User.create))"
   ]
  },
  {
   "cell_type": "markdown",
   "id": "30339bc8-c543-4605-8665-003356c5d164",
   "metadata": {},
   "source": [
    "# Modify User"
   ]
  },
  {
   "cell_type": "code",
   "execution_count": null,
   "id": "a0201b91-1e0e-437f-90bb-48e0634722f9",
   "metadata": {},
   "outputs": [],
   "source": [
    "print(User.__doc__)"
   ]
  },
  {
   "cell_type": "code",
   "execution_count": null,
   "id": "c1462443-43ed-4490-9b25-54f35b9e909d",
   "metadata": {},
   "outputs": [],
   "source": [
    "dir(user)"
   ]
  },
  {
   "cell_type": "markdown",
   "id": "3c9ce0e9-5973-499b-85f7-2f4d68866a35",
   "metadata": {},
   "source": [
    "## Add address"
   ]
  },
  {
   "cell_type": "code",
   "execution_count": null,
   "id": "4c09f939-7923-48dc-a685-a93013085029",
   "metadata": {},
   "outputs": [],
   "source": [
    "# list address\n",
    "user.addresses"
   ]
  },
  {
   "cell_type": "code",
   "execution_count": null,
   "id": "7679bd9f-257d-4134-9c97-36c46a18f951",
   "metadata": {},
   "outputs": [],
   "source": [
    "print(User.add_address.__doc__)"
   ]
  },
  {
   "cell_type": "code",
   "execution_count": null,
   "id": "14662955-f909-450e-8463-d1f5112c19c4",
   "metadata": {},
   "outputs": [],
   "source": [
    "user.add_address(name=\"amber1\", address=\"amber@microstrategy.com\", default=True)"
   ]
  },
  {
   "cell_type": "code",
   "execution_count": null,
   "id": "3c9b1387-61b3-4b50-acc5-74832f4b7737",
   "metadata": {},
   "outputs": [],
   "source": [
    "user.add_address(name=\"amber2\", address=\"amber2@microstrategy.com\")"
   ]
  },
  {
   "cell_type": "markdown",
   "id": "b13528cf-f4f6-4d5f-85dc-66c8e449c0fe",
   "metadata": {},
   "source": [
    "## Remove address"
   ]
  },
  {
   "cell_type": "code",
   "execution_count": null,
   "id": "02bdfd63-a471-45f7-b011-6ec37a57d77c",
   "metadata": {},
   "outputs": [],
   "source": [
    "print(User.remove_address.__doc__)"
   ]
  },
  {
   "cell_type": "code",
   "execution_count": null,
   "id": "1d91cbc5-5124-4756-b5c5-2fc230c1fb37",
   "metadata": {},
   "outputs": [],
   "source": [
    "user.remove_address(address=\"amber@microstrategy.com\")"
   ]
  },
  {
   "cell_type": "code",
   "execution_count": null,
   "id": "d3a8262a-6a1c-4903-bd29-a336382e17d0",
   "metadata": {},
   "outputs": [],
   "source": [
    "user.remove_address(name=\"amber\")"
   ]
  },
  {
   "cell_type": "markdown",
   "id": "a420cd3f-dedb-4e8f-adc8-bc54ebbb5883",
   "metadata": {},
   "source": [
    "## Modify"
   ]
  },
  {
   "cell_type": "code",
   "execution_count": null,
   "id": "dc2dcfe2-0d1a-476c-a63b-76aa53cd4e0a",
   "metadata": {},
   "outputs": [],
   "source": [
    "inspect.signature(User.alter)"
   ]
  },
  {
   "cell_type": "code",
   "execution_count": 7,
   "id": "20e371ce-c9cb-4363-a6b9-f35136fa3b67",
   "metadata": {},
   "outputs": [
    {
     "name": "stdout",
     "output_type": "stream",
     "text": [
      "User 'Amber S Wang' has been modified on the server. Your changes are saved locally.\n"
     ]
    }
   ],
   "source": [
    "user.alter(username=\"amber\", full_name=\"Amber S Wang\")"
   ]
  },
  {
   "cell_type": "markdown",
   "id": "ed278920-40e0-4207-904e-8ff7d3400ea7",
   "metadata": {},
   "source": [
    "# Security Filter"
   ]
  },
  {
   "cell_type": "code",
   "execution_count": null,
   "id": "aafb598b-a82d-4c67-9db6-acd48482b604",
   "metadata": {},
   "outputs": [],
   "source": [
    "user.security_filters"
   ]
  },
  {
   "cell_type": "code",
   "execution_count": null,
   "id": "ad41a157-dd10-4ed3-b61b-9803a031bd56",
   "metadata": {},
   "outputs": [],
   "source": [
    "print(user.apply_security_filter.__doc__)"
   ]
  },
  {
   "cell_type": "code",
   "execution_count": null,
   "id": "de38cd57-f7f7-4b1f-a4dd-a1dd99eb2b1d",
   "metadata": {},
   "outputs": [],
   "source": [
    "user.apply_security_filter(\"\")"
   ]
  },
  {
   "cell_type": "markdown",
   "id": "0c7d9a0e-7858-44df-bf43-1fdfb513418e",
   "metadata": {},
   "source": [
    "# Security Role"
   ]
  },
  {
   "cell_type": "markdown",
   "id": "30a20626-f020-4ec1-bf6e-76ce4d193100",
   "metadata": {},
   "source": [
    "## list"
   ]
  },
  {
   "cell_type": "code",
   "execution_count": 83,
   "id": "5c57bcda-443a-49dc-8399-0494c703a659",
   "metadata": {},
   "outputs": [
    {
     "data": {
      "text/plain": [
       "[{'name': 'MicroStrategy Tutorial',\n",
       "  'id': 'B7CA92F04B9FAE8D941C3E9B7E0CD754',\n",
       "  'securityRoles': [{'name': 'Normal Users',\n",
       "    'id': '73F7482111D3596C60001B8F67019608',\n",
       "    'inherited': True,\n",
       "    'ancestors': [{'name': 'Everyone',\n",
       "      'id': 'C82C6B1011D2894CC0009D9F29718E4F'}]}]},\n",
       " {'name': 'Consolidated Education Project',\n",
       "  'id': 'CE52831411E696C8BD2F0080EFD5AF44',\n",
       "  'securityRoles': [{'name': 'Normal Users',\n",
       "    'id': '73F7482111D3596C60001B8F67019608',\n",
       "    'inherited': True,\n",
       "    'ancestors': [{'name': 'Everyone',\n",
       "      'id': 'C82C6B1011D2894CC0009D9F29718E4F'}]}]},\n",
       " {'name': 'Hierarchies Project',\n",
       "  'id': 'B3FEE61A11E696C8BD0F0080EFC58F44',\n",
       "  'securityRoles': [{'name': 'Normal Users',\n",
       "    'id': '73F7482111D3596C60001B8F67019608',\n",
       "    'inherited': True,\n",
       "    'ancestors': [{'name': 'Everyone',\n",
       "      'id': 'C82C6B1011D2894CC0009D9F29718E4F'}]}]},\n",
       " {'name': 'Human Resources Analysis Module',\n",
       "  'id': '4BAE16A340B995CAD24193AA3AC15D29',\n",
       "  'securityRoles': [{'name': 'Normal Users',\n",
       "    'id': '73F7482111D3596C60001B8F67019608',\n",
       "    'inherited': True,\n",
       "    'ancestors': [{'name': 'Everyone',\n",
       "      'id': 'C82C6B1011D2894CC0009D9F29718E4F'}]}]},\n",
       " {'name': 'Relationships Project',\n",
       "  'id': '4C09350211E69712BAEE0080EFB56D41',\n",
       "  'securityRoles': [{'name': 'Normal Users',\n",
       "    'id': '73F7482111D3596C60001B8F67019608',\n",
       "    'inherited': True,\n",
       "    'ancestors': [{'name': 'Everyone',\n",
       "      'id': 'C82C6B1011D2894CC0009D9F29718E4F'}]}]},\n",
       " {'name': 'Platform Analytics',\n",
       "  'id': '7A2D5F9B9D4484678C984FB74F3860E0',\n",
       "  'securityRoles': [{'name': 'Normal Users',\n",
       "    'id': '73F7482111D3596C60001B8F67019608',\n",
       "    'inherited': True,\n",
       "    'ancestors': [{'name': 'Everyone',\n",
       "      'id': 'C82C6B1011D2894CC0009D9F29718E4F'}]}]},\n",
       " {'name': 'esse magna',\n",
       "  'id': '8C1F88AC91459483A81699AE7C9C2B60',\n",
       "  'securityRoles': [{'name': 'Normal Users',\n",
       "    'id': '73F7482111D3596C60001B8F67019608',\n",
       "    'inherited': True,\n",
       "    'ancestors': [{'name': 'Everyone',\n",
       "      'id': 'C82C6B1011D2894CC0009D9F29718E4F'}]}]},\n",
       " {'name': 'intermedia',\n",
       "  'id': '43BBC51FE147F47BAE476C867EE92EE5',\n",
       "  'securityRoles': [{'name': 'Normal Users',\n",
       "    'id': '73F7482111D3596C60001B8F67019608',\n",
       "    'inherited': True,\n",
       "    'ancestors': [{'name': 'Everyone',\n",
       "      'id': 'C82C6B1011D2894CC0009D9F29718E4F'}]}]},\n",
       " {'name': 'My Test Project',\n",
       "  'id': '45237906EA4FB99911B979A1EF805A8B',\n",
       "  'securityRoles': [{'name': 'Normal Users',\n",
       "    'id': '73F7482111D3596C60001B8F67019608',\n",
       "    'inherited': True,\n",
       "    'ancestors': [{'name': 'Everyone',\n",
       "      'id': 'C82C6B1011D2894CC0009D9F29718E4F'}]}]},\n",
       " {'name': 'PM Playground',\n",
       "  'id': 'B80F85724E4E6FEEAA5787B0736B3653',\n",
       "  'securityRoles': [{'name': 'Normal Users',\n",
       "    'id': '73F7482111D3596C60001B8F67019608',\n",
       "    'inherited': True,\n",
       "    'ancestors': [{'name': 'Everyone',\n",
       "      'id': 'C82C6B1011D2894CC0009D9F29718E4F'}]}]}]"
      ]
     },
     "execution_count": 83,
     "metadata": {},
     "output_type": "execute_result"
    }
   ],
   "source": [
    "user.security_roles"
   ]
  },
  {
   "cell_type": "markdown",
   "id": "a10150a7-fcf7-4e94-a410-769c66b6a626",
   "metadata": {},
   "source": [
    "## remove"
   ]
  },
  {
   "cell_type": "code",
   "execution_count": null,
   "id": "ba5d29fa-d83a-4826-bfbb-43bc43b0d666",
   "metadata": {},
   "outputs": [],
   "source": [
    "inspect.signature(user.revoke_security_role)"
   ]
  },
  {
   "cell_type": "code",
   "execution_count": 84,
   "id": "4f6722af-ea6c-4bd1-8de6-98b09fc737d9",
   "metadata": {},
   "outputs": [
    {
     "name": "stdout",
     "output_type": "stream",
     "text": [
      "SecurityRole object named: 'Normal Users' with ID: '73F7482111D3596C60001B8F67019608'\n",
      "Error updating security role with ID 73F7482111D3596C60001B8F67019608\n",
      "I-Server Error E100001, User or Group with ID 7088DD06704C13FA95833ABFD83B094B Not Found for this role, cannot revoke an user or group which is not a member of this role!\n",
      "Ticket ID: 9f897ce76ef748c3b719047f6ea9f14d\n"
     ]
    },
    {
     "ename": "IServerError",
     "evalue": "User or Group with ID 7088DD06704C13FA95833ABFD83B094B Not Found for this role, cannot revoke an user or group which is not a member of this role!; code: 'E100001', ticket_id: '9f897ce76ef748c3b719047f6ea9f14d'",
     "output_type": "error",
     "traceback": [
      "\u001b[0;31m---------------------------------------------------------------------------\u001b[0m",
      "\u001b[0;31mIServerError\u001b[0m                              Traceback (most recent call last)",
      "Cell \u001b[0;32mIn [84], line 1\u001b[0m\n\u001b[0;32m----> 1\u001b[0m \u001b[43muser\u001b[49m\u001b[38;5;241;43m.\u001b[39;49m\u001b[43mrevoke_security_role\u001b[49m\u001b[43m(\u001b[49m\u001b[38;5;124;43m\"\u001b[39;49m\u001b[38;5;124;43m73F7482111D3596C60001B8F67019608\u001b[39;49m\u001b[38;5;124;43m\"\u001b[39;49m\u001b[43m,\u001b[49m\u001b[43m \u001b[49m\u001b[43mPROJECT_NAME\u001b[49m\u001b[43m)\u001b[49m\n",
      "File \u001b[0;32m~/opt/anaconda3/envs/mstrio/lib/python3.10/site-packages/mstrio/users_and_groups/user.py:608\u001b[0m, in \u001b[0;36mUser.revoke_security_role\u001b[0;34m(self, security_role, project)\u001b[0m\n\u001b[1;32m    597\u001b[0m \u001b[38;5;124;03m\"\"\"Removes a Security Role from the user for given project.\u001b[39;00m\n\u001b[1;32m    598\u001b[0m \n\u001b[1;32m    599\u001b[0m \u001b[38;5;124;03mArgs:\u001b[39;00m\n\u001b[1;32m    600\u001b[0m \u001b[38;5;124;03m    security_role: Security Role ID or object\u001b[39;00m\n\u001b[1;32m    601\u001b[0m \u001b[38;5;124;03m    project: Project name or object\u001b[39;00m\n\u001b[1;32m    602\u001b[0m \u001b[38;5;124;03m\"\"\"\u001b[39;00m\n\u001b[1;32m    604\u001b[0m security_role \u001b[38;5;241m=\u001b[39m security_role \u001b[38;5;28;01mif\u001b[39;00m \u001b[38;5;28misinstance\u001b[39m(security_role, SecurityRole) \u001b[38;5;28;01melse\u001b[39;00m SecurityRole(\n\u001b[1;32m    605\u001b[0m     \u001b[38;5;28mself\u001b[39m\u001b[38;5;241m.\u001b[39mconnection, \u001b[38;5;28mid\u001b[39m\u001b[38;5;241m=\u001b[39m\u001b[38;5;28mstr\u001b[39m(security_role)\n\u001b[1;32m    606\u001b[0m )\n\u001b[0;32m--> 608\u001b[0m \u001b[43msecurity_role\u001b[49m\u001b[38;5;241;43m.\u001b[39;49m\u001b[43mrevoke_from\u001b[49m\u001b[43m(\u001b[49m\u001b[43m[\u001b[49m\u001b[38;5;28;43mself\u001b[39;49m\u001b[38;5;241;43m.\u001b[39;49m\u001b[43mid\u001b[49m\u001b[43m]\u001b[49m\u001b[43m,\u001b[49m\u001b[43m \u001b[49m\u001b[43mproject\u001b[49m\u001b[43m)\u001b[49m\n\u001b[1;32m    609\u001b[0m \u001b[38;5;28;01mif\u001b[39;00m config\u001b[38;5;241m.\u001b[39mverbose:\n\u001b[1;32m    610\u001b[0m     logger\u001b[38;5;241m.\u001b[39minfo(\u001b[38;5;124mf\u001b[39m\u001b[38;5;124m\"\u001b[39m\u001b[38;5;124mRevoked Security Role \u001b[39m\u001b[38;5;124m'\u001b[39m\u001b[38;5;132;01m{\u001b[39;00msecurity_role\u001b[38;5;241m.\u001b[39mname\u001b[38;5;132;01m}\u001b[39;00m\u001b[38;5;124m'\u001b[39m\u001b[38;5;124m from user: \u001b[39m\u001b[38;5;124m'\u001b[39m\u001b[38;5;132;01m{\u001b[39;00m\u001b[38;5;28mself\u001b[39m\u001b[38;5;241m.\u001b[39mname\u001b[38;5;132;01m}\u001b[39;00m\u001b[38;5;124m'\u001b[39m\u001b[38;5;124m\"\u001b[39m)\n",
      "File \u001b[0;32m~/opt/anaconda3/envs/mstrio/lib/python3.10/site-packages/mstrio/utils/version_helper.py:42\u001b[0m, in \u001b[0;36mmethod_version_handler.<locals>.wrapper.<locals>.inner\u001b[0;34m(*args, **kwargs)\u001b[0m\n\u001b[1;32m     37\u001b[0m \u001b[38;5;28;01mif\u001b[39;00m version_parser(connection_obj\u001b[38;5;241m.\u001b[39miserver_version) \u001b[38;5;241m<\u001b[39m version_parser(version):\n\u001b[1;32m     38\u001b[0m     \u001b[38;5;28;01mraise\u001b[39;00m VersionException(\n\u001b[1;32m     39\u001b[0m         \u001b[38;5;124mf\u001b[39m\u001b[38;5;124m\"\u001b[39m\u001b[38;5;124mEnvironments must run IServer version \u001b[39m\u001b[38;5;132;01m{\u001b[39;00mversion\u001b[38;5;132;01m}\u001b[39;00m\u001b[38;5;124m or newer. \u001b[39m\u001b[38;5;124m\"\u001b[39m\n\u001b[1;32m     40\u001b[0m         \u001b[38;5;124m\"\u001b[39m\u001b[38;5;124mPlease update your environments to use this feature.\u001b[39m\u001b[38;5;124m\"\u001b[39m\n\u001b[1;32m     41\u001b[0m     )\n\u001b[0;32m---> 42\u001b[0m \u001b[38;5;28;01mreturn\u001b[39;00m \u001b[43mfunction\u001b[49m\u001b[43m(\u001b[49m\u001b[38;5;241;43m*\u001b[39;49m\u001b[43margs\u001b[49m\u001b[43m,\u001b[49m\u001b[43m \u001b[49m\u001b[38;5;241;43m*\u001b[39;49m\u001b[38;5;241;43m*\u001b[39;49m\u001b[43mkwargs\u001b[49m\u001b[43m)\u001b[49m\n",
      "File \u001b[0;32m~/opt/anaconda3/envs/mstrio/lib/python3.10/site-packages/mstrio/access_and_security/security_role.py:345\u001b[0m, in \u001b[0;36mSecurityRole.revoke_from\u001b[0;34m(self, members, project)\u001b[0m\n\u001b[1;32m    342\u001b[0m failed \u001b[38;5;241m=\u001b[39m \u001b[38;5;28mlist\u001b[39m(\u001b[38;5;28mset\u001b[39m(members_list) \u001b[38;5;241m-\u001b[39m \u001b[38;5;28mset\u001b[39m(succeeded))\n\u001b[1;32m    344\u001b[0m value \u001b[38;5;241m=\u001b[39m {\u001b[38;5;124m\"\u001b[39m\u001b[38;5;124mprojectId\u001b[39m\u001b[38;5;124m\"\u001b[39m: project_id, \u001b[38;5;124m\"\u001b[39m\u001b[38;5;124mmemberIds\u001b[39m\u001b[38;5;124m\"\u001b[39m: members_list}\n\u001b[0;32m--> 345\u001b[0m \u001b[38;5;28;43mself\u001b[39;49m\u001b[38;5;241;43m.\u001b[39;49m\u001b[43m_update_nested_properties\u001b[49m\u001b[43m(\u001b[49m\n\u001b[1;32m    346\u001b[0m \u001b[43m    \u001b[49m\u001b[43mobjects\u001b[49m\u001b[38;5;241;43m=\u001b[39;49m\u001b[43mvalue\u001b[49m\u001b[43m,\u001b[49m\n\u001b[1;32m    347\u001b[0m \u001b[43m    \u001b[49m\u001b[43mpath\u001b[49m\u001b[38;5;241;43m=\u001b[39;49m\u001b[38;5;124;43m\"\u001b[39;49m\u001b[38;5;124;43mmembers\u001b[39;49m\u001b[38;5;124;43m\"\u001b[39;49m\u001b[43m,\u001b[49m\n\u001b[1;32m    348\u001b[0m \u001b[43m    \u001b[49m\u001b[43mop\u001b[49m\u001b[38;5;241;43m=\u001b[39;49m\u001b[38;5;124;43m'\u001b[39;49m\u001b[38;5;124;43mremove\u001b[39;49m\u001b[38;5;124;43m'\u001b[39;49m\u001b[43m,\u001b[49m\n\u001b[1;32m    349\u001b[0m \u001b[43m\u001b[49m\u001b[43m)\u001b[49m\n\u001b[1;32m    351\u001b[0m \u001b[38;5;28;01mif\u001b[39;00m succeeded \u001b[38;5;129;01mand\u001b[39;00m config\u001b[38;5;241m.\u001b[39mverbose:\n\u001b[1;32m    352\u001b[0m     logger\u001b[38;5;241m.\u001b[39minfo(\u001b[38;5;124mf\u001b[39m\u001b[38;5;124m\"\u001b[39m\u001b[38;5;124mRevoked Security Role \u001b[39m\u001b[38;5;124m'\u001b[39m\u001b[38;5;132;01m{\u001b[39;00m\u001b[38;5;28mself\u001b[39m\u001b[38;5;241m.\u001b[39mname\u001b[38;5;132;01m}\u001b[39;00m\u001b[38;5;124m'\u001b[39m\u001b[38;5;124m from \u001b[39m\u001b[38;5;132;01m{\u001b[39;00msucceeded\u001b[38;5;132;01m}\u001b[39;00m\u001b[38;5;124m\"\u001b[39m)\n",
      "File \u001b[0;32m~/opt/anaconda3/envs/mstrio/lib/python3.10/site-packages/mstrio/utils/version_helper.py:42\u001b[0m, in \u001b[0;36mmethod_version_handler.<locals>.wrapper.<locals>.inner\u001b[0;34m(*args, **kwargs)\u001b[0m\n\u001b[1;32m     37\u001b[0m \u001b[38;5;28;01mif\u001b[39;00m version_parser(connection_obj\u001b[38;5;241m.\u001b[39miserver_version) \u001b[38;5;241m<\u001b[39m version_parser(version):\n\u001b[1;32m     38\u001b[0m     \u001b[38;5;28;01mraise\u001b[39;00m VersionException(\n\u001b[1;32m     39\u001b[0m         \u001b[38;5;124mf\u001b[39m\u001b[38;5;124m\"\u001b[39m\u001b[38;5;124mEnvironments must run IServer version \u001b[39m\u001b[38;5;132;01m{\u001b[39;00mversion\u001b[38;5;132;01m}\u001b[39;00m\u001b[38;5;124m or newer. \u001b[39m\u001b[38;5;124m\"\u001b[39m\n\u001b[1;32m     40\u001b[0m         \u001b[38;5;124m\"\u001b[39m\u001b[38;5;124mPlease update your environments to use this feature.\u001b[39m\u001b[38;5;124m\"\u001b[39m\n\u001b[1;32m     41\u001b[0m     )\n\u001b[0;32m---> 42\u001b[0m \u001b[38;5;28;01mreturn\u001b[39;00m \u001b[43mfunction\u001b[49m\u001b[43m(\u001b[49m\u001b[38;5;241;43m*\u001b[39;49m\u001b[43margs\u001b[49m\u001b[43m,\u001b[49m\u001b[43m \u001b[49m\u001b[38;5;241;43m*\u001b[39;49m\u001b[38;5;241;43m*\u001b[39;49m\u001b[43mkwargs\u001b[49m\u001b[43m)\u001b[49m\n",
      "File \u001b[0;32m~/opt/anaconda3/envs/mstrio/lib/python3.10/site-packages/mstrio/access_and_security/security_role.py:495\u001b[0m, in \u001b[0;36mSecurityRole._update_nested_properties\u001b[0;34m(self, objects, path, op)\u001b[0m\n\u001b[1;32m    488\u001b[0m \u001b[38;5;28;01mdef\u001b[39;00m \u001b[38;5;21m_update_nested_properties\u001b[39m(\u001b[38;5;28mself\u001b[39m, objects, path: \u001b[38;5;28mstr\u001b[39m, op: \u001b[38;5;28mstr\u001b[39m) \u001b[38;5;241m-\u001b[39m\u001b[38;5;241m>\u001b[39m \u001b[38;5;28;01mNone\u001b[39;00m:\n\u001b[1;32m    489\u001b[0m     body \u001b[38;5;241m=\u001b[39m {\n\u001b[1;32m    490\u001b[0m         \u001b[38;5;124m\"\u001b[39m\u001b[38;5;124moperationList\u001b[39m\u001b[38;5;124m\"\u001b[39m: [{\n\u001b[1;32m    491\u001b[0m             \u001b[38;5;124m\"\u001b[39m\u001b[38;5;124mop\u001b[39m\u001b[38;5;124m\"\u001b[39m: op, \u001b[38;5;124m\"\u001b[39m\u001b[38;5;124mpath\u001b[39m\u001b[38;5;124m\"\u001b[39m: \u001b[38;5;124mf\u001b[39m\u001b[38;5;124m'\u001b[39m\u001b[38;5;124m/\u001b[39m\u001b[38;5;132;01m{\u001b[39;00mpath\u001b[38;5;132;01m}\u001b[39;00m\u001b[38;5;124m'\u001b[39m, \u001b[38;5;124m\"\u001b[39m\u001b[38;5;124mvalue\u001b[39m\u001b[38;5;124m\"\u001b[39m: objects\n\u001b[1;32m    492\u001b[0m         }],\n\u001b[1;32m    493\u001b[0m     }\n\u001b[0;32m--> 495\u001b[0m     response \u001b[38;5;241m=\u001b[39m \u001b[43msecurity\u001b[49m\u001b[38;5;241;43m.\u001b[39;49m\u001b[43mupdate_security_role\u001b[49m\u001b[43m(\u001b[49m\u001b[38;5;28;43mself\u001b[39;49m\u001b[38;5;241;43m.\u001b[39;49m\u001b[43mconnection\u001b[49m\u001b[43m,\u001b[49m\u001b[43m \u001b[49m\u001b[38;5;28;43mself\u001b[39;49m\u001b[38;5;241;43m.\u001b[39;49m\u001b[43mid\u001b[49m\u001b[43m,\u001b[49m\u001b[43m \u001b[49m\u001b[43mbody\u001b[49m\u001b[43m)\u001b[49m\n\u001b[1;32m    496\u001b[0m     response \u001b[38;5;241m=\u001b[39m response\u001b[38;5;241m.\u001b[39mjson()\n\u001b[1;32m    497\u001b[0m     \u001b[38;5;28;01mif\u001b[39;00m \u001b[38;5;28mtype\u001b[39m(response) \u001b[38;5;241m==\u001b[39m \u001b[38;5;28mdict\u001b[39m:\n",
      "File \u001b[0;32m~/opt/anaconda3/envs/mstrio/lib/python3.10/site-packages/mstrio/utils/error_handlers.py:59\u001b[0m, in \u001b[0;36mErrorHandler.__call__.<locals>.inner\u001b[0;34m(*args, **kwargs)\u001b[0m\n\u001b[1;32m     57\u001b[0m     handler_kwargs \u001b[38;5;241m=\u001b[39m \u001b[38;5;28mself\u001b[39m\u001b[38;5;241m.\u001b[39m_get_resp_handler_kwargs(kwargs)\n\u001b[1;32m     58\u001b[0m     error_msg \u001b[38;5;241m=\u001b[39m \u001b[38;5;28mself\u001b[39m\u001b[38;5;241m.\u001b[39m_replace_with_values(error_msg, func, \u001b[38;5;241m*\u001b[39margs, \u001b[38;5;241m*\u001b[39m\u001b[38;5;241m*\u001b[39mkwargs)\n\u001b[0;32m---> 59\u001b[0m     \u001b[43mresponse_handler\u001b[49m\u001b[43m(\u001b[49m\u001b[43mresponse\u001b[49m\u001b[43m,\u001b[49m\u001b[43m \u001b[49m\u001b[43merror_msg\u001b[49m\u001b[43m,\u001b[49m\u001b[43m \u001b[49m\u001b[38;5;241;43m*\u001b[39;49m\u001b[38;5;241;43m*\u001b[39;49m\u001b[43mhandler_kwargs\u001b[49m\u001b[43m)\u001b[49m\n\u001b[1;32m     60\u001b[0m \u001b[38;5;28;01mreturn\u001b[39;00m response\n",
      "File \u001b[0;32m~/opt/anaconda3/envs/mstrio/lib/python3.10/site-packages/mstrio/utils/helper.py:243\u001b[0m, in \u001b[0;36mresponse_handler\u001b[0;34m(response, msg, throw_error, verbose, whitelist)\u001b[0m\n\u001b[1;32m    237\u001b[0m             logger\u001b[38;5;241m.\u001b[39merror(\n\u001b[1;32m    238\u001b[0m                 \u001b[38;5;124mf\u001b[39m\u001b[38;5;124m'\u001b[39m\u001b[38;5;132;01m{\u001b[39;00mmsg\u001b[38;5;132;01m}\u001b[39;00m\u001b[38;5;130;01m\\n\u001b[39;00m\u001b[38;5;124m'\u001b[39m\n\u001b[1;32m    239\u001b[0m                 \u001b[38;5;124mf\u001b[39m\u001b[38;5;124m'\u001b[39m\u001b[38;5;124mI-Server Error \u001b[39m\u001b[38;5;132;01m{\u001b[39;00mserver_code\u001b[38;5;132;01m}\u001b[39;00m\u001b[38;5;124m, \u001b[39m\u001b[38;5;132;01m{\u001b[39;00mserver_msg\u001b[38;5;132;01m}\u001b[39;00m\u001b[38;5;130;01m\\n\u001b[39;00m\u001b[38;5;124m'\u001b[39m\n\u001b[1;32m    240\u001b[0m                 \u001b[38;5;124mf\u001b[39m\u001b[38;5;124m'\u001b[39m\u001b[38;5;124mTicket ID: \u001b[39m\u001b[38;5;132;01m{\u001b[39;00mticket_id\u001b[38;5;132;01m}\u001b[39;00m\u001b[38;5;124m'\u001b[39m\n\u001b[1;32m    241\u001b[0m             )\n\u001b[1;32m    242\u001b[0m         \u001b[38;5;28;01mif\u001b[39;00m throw_error:\n\u001b[0;32m--> 243\u001b[0m             \u001b[38;5;28;01mraise\u001b[39;00m IServerError(\n\u001b[1;32m    244\u001b[0m                 message\u001b[38;5;241m=\u001b[39m\u001b[38;5;124mf\u001b[39m\u001b[38;5;124m\"\u001b[39m\u001b[38;5;132;01m{\u001b[39;00mserver_msg\u001b[38;5;132;01m}\u001b[39;00m\u001b[38;5;124m; code: \u001b[39m\u001b[38;5;124m'\u001b[39m\u001b[38;5;132;01m{\u001b[39;00mserver_code\u001b[38;5;132;01m}\u001b[39;00m\u001b[38;5;124m'\u001b[39m\u001b[38;5;124m, ticket_id: \u001b[39m\u001b[38;5;124m'\u001b[39m\u001b[38;5;132;01m{\u001b[39;00mticket_id\u001b[38;5;132;01m}\u001b[39;00m\u001b[38;5;124m'\u001b[39m\u001b[38;5;124m\"\u001b[39m,\n\u001b[1;32m    245\u001b[0m                 http_code\u001b[38;5;241m=\u001b[39mresponse\u001b[38;5;241m.\u001b[39mstatus_code\n\u001b[1;32m    246\u001b[0m             )\n\u001b[1;32m    247\u001b[0m \u001b[38;5;28;01mexcept\u001b[39;00m JSONDecodeError:\n\u001b[1;32m    248\u001b[0m     logger\u001b[38;5;241m.\u001b[39mdebug(\u001b[38;5;124mf\u001b[39m\u001b[38;5;124m\"\u001b[39m\u001b[38;5;124mResponse body: \u001b[39m\u001b[38;5;132;01m{\u001b[39;00mresponse\u001b[38;5;241m.\u001b[39mtext\u001b[38;5;132;01m}\u001b[39;00m\u001b[38;5;124m\"\u001b[39m)\n",
      "\u001b[0;31mIServerError\u001b[0m: User or Group with ID 7088DD06704C13FA95833ABFD83B094B Not Found for this role, cannot revoke an user or group which is not a member of this role!; code: 'E100001', ticket_id: '9f897ce76ef748c3b719047f6ea9f14d'"
     ]
    }
   ],
   "source": [
    "user.revoke_security_role(\"73F7482111D3596C60001B8F67019608\", PROJECT_NAME)"
   ]
  },
  {
   "cell_type": "markdown",
   "id": "928a46a9-23b4-4145-a8e5-720794bd720c",
   "metadata": {},
   "source": [
    "## add"
   ]
  },
  {
   "cell_type": "markdown",
   "id": "f6916b97-400a-4287-9383-522bf8da4f5a",
   "metadata": {},
   "source": [
    "# Create UserGroup"
   ]
  },
  {
   "cell_type": "code",
   "execution_count": null,
   "id": "68723d7d-93f7-40a3-9500-1ac14e08ac43",
   "metadata": {},
   "outputs": [],
   "source": []
  },
  {
   "cell_type": "code",
   "execution_count": null,
   "id": "df06cdb7-9709-4e30-bff9-1bae18e9f0d3",
   "metadata": {},
   "outputs": [],
   "source": []
  },
  {
   "cell_type": "code",
   "execution_count": null,
   "id": "94da15d6-e205-4aed-8a9d-3a7e83b2e2ac",
   "metadata": {},
   "outputs": [],
   "source": [
    "group = UserGroup.create(connection=conn, name=\"Special Users\")\n",
    "group"
   ]
  },
  {
   "cell_type": "markdown",
   "id": "1940c9f0-f4d1-4d7d-99c1-76f033ae71db",
   "metadata": {},
   "source": [
    "# Add user to group"
   ]
  },
  {
   "cell_type": "code",
   "execution_count": null,
   "id": "21dd0c6a-f9ca-4582-b7f4-9ccadac06eaa",
   "metadata": {},
   "outputs": [],
   "source": [
    "group.add_users([user])"
   ]
  },
  {
   "cell_type": "code",
   "execution_count": null,
   "id": "ceee55ca-f000-43da-aeee-abdfe7eb6107",
   "metadata": {},
   "outputs": [],
   "source": [
    "#another way\n",
    "user.add_to_user_groups([group])"
   ]
  },
  {
   "cell_type": "markdown",
   "id": "464918eb-d3f0-42b0-b2bc-7512b9da560f",
   "metadata": {},
   "source": [
    "# Remove user from group"
   ]
  },
  {
   "cell_type": "code",
   "execution_count": null,
   "id": "029513c6-b65f-4a2e-8add-41af8c5b22e4",
   "metadata": {},
   "outputs": [],
   "source": [
    "group.remove_users([user])"
   ]
  },
  {
   "cell_type": "code",
   "execution_count": null,
   "id": "fb8a9ae4-e64a-49e4-a490-8f3e7867e55b",
   "metadata": {},
   "outputs": [],
   "source": [
    "# another way\n",
    "user.remove_from_user_groups([group])"
   ]
  },
  {
   "cell_type": "markdown",
   "id": "2c4f8df8-4df1-424f-91b7-0610c3203548",
   "metadata": {},
   "source": [
    "## Remove from all groups"
   ]
  },
  {
   "cell_type": "code",
   "execution_count": null,
   "id": "54893b78-4c02-44e5-87a3-2923e7616fd0",
   "metadata": {},
   "outputs": [],
   "source": [
    "user.remove_from_all_user_groups()"
   ]
  },
  {
   "cell_type": "markdown",
   "id": "8d82dda6-b80d-4744-b993-ee07819accf0",
   "metadata": {},
   "source": [
    "# Delete user"
   ]
  },
  {
   "cell_type": "code",
   "execution_count": 9,
   "id": "4a2f79d5-ac72-4768-ac64-d77883c67d0c",
   "metadata": {},
   "outputs": [
    {
     "name": "stdin",
     "output_type": "stream",
     "text": [
      "Are you sure you want to delete User 'Amber S Wang' with ID: 7088DD06704C13FA95833ABFD83B094B? [Y/N]:  Y\n"
     ]
    },
    {
     "name": "stdout",
     "output_type": "stream",
     "text": [
      "Successfully deleted User with ID: '7088DD06704C13FA95833ABFD83B094B'.\n"
     ]
    },
    {
     "data": {
      "text/plain": [
       "True"
      ]
     },
     "execution_count": 9,
     "metadata": {},
     "output_type": "execute_result"
    }
   ],
   "source": [
    "user.delete()"
   ]
  },
  {
   "cell_type": "markdown",
   "id": "db068ce0-bc91-4e55-adf1-2da8fb91a40f",
   "metadata": {},
   "source": [
    "# Delete group"
   ]
  },
  {
   "cell_type": "code",
   "execution_count": null,
   "id": "2b55aad9-64ec-4b6f-a3a9-f35341f67344",
   "metadata": {},
   "outputs": [],
   "source": [
    "group.delete()"
   ]
  },
  {
   "cell_type": "code",
   "execution_count": 12,
   "id": "333d0785-43e4-4b19-bbd3-3533278ef5ac",
   "metadata": {},
   "outputs": [
    {
     "name": "stdout",
     "output_type": "stream",
     "text": [
      "Object representation of MicroStrategy User object.\n",
      "\n",
      "    Attributes:\n",
      "        connection: A MicroStrategy connection object\n",
      "        id: User ID\n",
      "        name: User name\n",
      "        username: User username\n",
      "        full_name: full name of the User\n",
      "        initials: User initials, derived from user's last name or username\n",
      "        abbreviation: User login name\n",
      "        description: User description\n",
      "        memberships: IDs and names of direct parent groups for user\n",
      "        security_roles: security roles that the user is a member of\n",
      "        addresses: addresses for the user\n",
      "        privileges: user privileges per project\n",
      "        trust_id: Unique user ID provided by trusted authentication provider\n",
      "        enabled: Specifies if user is allowed to log in\n",
      "        owner: owner ID and name\n",
      "        ancestors: List of ancestor folders\n",
      "        password_modifiable: If user password can be modified\n",
      "        require_new_password: If user is required to change new password\n",
      "        standard_auth: If standard authentication is allowed for user\n",
      "        date_created: Creation time, DateTime object\n",
      "        date_modified: Last modification time, DateTime object\n",
      "        type: Object type\n",
      "        subtype: Object subtype\n",
      "        ext_type: Object extended type\n",
      "        version: Version ID\n",
      "        acg: Access rights (See EnumDSSXMLAccessRightFlags for possible values)\n",
      "        acl: Object access control list\n",
      "    \n"
     ]
    }
   ],
   "source": [
    "print(User.__doc__)"
   ]
  },
  {
   "cell_type": "code",
   "execution_count": null,
   "id": "2cae68a5-b4ee-4cc5-a50d-b86b80403cea",
   "metadata": {},
   "outputs": [],
   "source": []
  }
 ],
 "metadata": {
  "kernelspec": {
   "display_name": "Python 3 (ipykernel)",
   "language": "python",
   "name": "python3"
  },
  "language_info": {
   "codemirror_mode": {
    "name": "ipython",
    "version": 3
   },
   "file_extension": ".py",
   "mimetype": "text/x-python",
   "name": "python",
   "nbconvert_exporter": "python",
   "pygments_lexer": "ipython3",
   "version": "3.10.8"
  },
  "toc-autonumbering": true
 },
 "nbformat": 4,
 "nbformat_minor": 5
}
