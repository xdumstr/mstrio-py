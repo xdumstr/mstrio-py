{
 "cells": [
  {
   "cell_type": "markdown",
   "id": "c402b4c4-cdf1-4ee4-91b9-b8e68b9559b8",
   "metadata": {},
   "source": [
    "# Connection"
   ]
  },
  {
   "cell_type": "code",
   "execution_count": null,
   "id": "39fc83f0-151b-4cef-812d-176719e73e48",
   "metadata": {
    "tags": []
   },
   "outputs": [],
   "source": [
    "import inspect\n",
    "from mstrio.connection import get_connection, Connection\n",
    "from typing import List\n",
    "import getpass\n",
    "from mstrio.users_and_groups import list_user_groups, UserGroup, User, list_users"
   ]
  },
  {
   "cell_type": "code",
   "execution_count": null,
   "id": "20d1c19b-0eed-4e30-99b3-66e7a636ae42",
   "metadata": {
    "tags": []
   },
   "outputs": [],
   "source": [
    "PROJECT_NAME = \"MicroStrategy Tutorial\"\n",
    "BASE_URL = \"https://env-276686.customer.cloud.microstrategy.com/MicroStrategyLibrary/api\"  # Insert URL for your env here\n",
    "MSTR_USERNAME = \"mstr\"  # Insert your env username here\n",
    "MSTR_PASSWORD = getpass.getpass()   # insert your mstr password here\n",
    "PROJECT_ID = \"B7CA92F04B9FAE8D941C3E9B7E0CD754\"  # Insert you project ID here"
   ]
  },
  {
   "cell_type": "code",
   "execution_count": null,
   "id": "f6648a74-42e9-4f95-8afd-ea68643a460f",
   "metadata": {},
   "outputs": [],
   "source": [
    "# Currently, supported authentication modes are Standard (the default), guest and LDAP.\n",
    "# To use LDAP, add login_mode=16 when creating your Connection object:\n",
    "conn = Connection(BASE_URL, MSTR_USERNAME, MSTR_PASSWORD, project_id=PROJECT_ID, login_mode=1)"
   ]
  },
  {
   "cell_type": "markdown",
   "id": "322b7d87-940d-476b-a308-ed5a22851f68",
   "metadata": {},
   "source": [
    "# List Users"
   ]
  },
  {
   "cell_type": "code",
   "execution_count": null,
   "id": "d5120ec7-c929-47fe-858a-4e88b4dea4d7",
   "metadata": {},
   "outputs": [],
   "source": [
    "list_users(conn)"
   ]
  },
  {
   "cell_type": "markdown",
   "id": "4097a0ff-e30a-4aac-97d3-9888e3cf9f3b",
   "metadata": {},
   "source": [
    "# Get User by id or username"
   ]
  },
  {
   "cell_type": "code",
   "execution_count": null,
   "id": "6caefaa0-8443-4124-9101-c7a6be94df47",
   "metadata": {},
   "outputs": [],
   "source": [
    "user = User(conn, id=\"62BA615FDB4F40EE42B576831D4E72A6\")\n",
    "user"
   ]
  },
  {
   "cell_type": "code",
   "execution_count": null,
   "id": "fbd26fb9-a578-4006-b4ec-f6d50a9c06f2",
   "metadata": {},
   "outputs": [],
   "source": [
    "user.privileges"
   ]
  },
  {
   "cell_type": "markdown",
   "id": "5615466f-9070-482d-906b-87f99378cd03",
   "metadata": {},
   "source": [
    "# Create User"
   ]
  },
  {
   "cell_type": "code",
   "execution_count": null,
   "id": "c124e0a5-9ce1-42cd-80d3-e7d35675483e",
   "metadata": {},
   "outputs": [],
   "source": [
    "print(User.create.__doc__)"
   ]
  },
  {
   "cell_type": "code",
   "execution_count": null,
   "id": "46bd1cf4-9ff5-4d39-a0d3-2cf7efd12c77",
   "metadata": {},
   "outputs": [],
   "source": [
    "users_array = [\n",
    "    {'username': 'atlanta', 'fullName': 'Atlanta Manager'},\n",
    "    {'username': 'miami', 'fullName': 'Miami Manager'},\n",
    "    ]\n",
    "for u in users_array:\n",
    "    User.create(connection=conn, username=u['username'], full_name=u['fullName'])"
   ]
  },
  {
   "cell_type": "code",
   "execution_count": null,
   "id": "c938fbde-03f4-4994-9544-564249a8857f",
   "metadata": {},
   "outputs": [],
   "source": [
    "user = User(connection=conn, username=\"atlanta\")"
   ]
  },
  {
   "cell_type": "code",
   "execution_count": null,
   "id": "2ab24869-596b-4a06-8ca6-a4d762568ce8",
   "metadata": {},
   "outputs": [],
   "source": [
    "user.print()"
   ]
  },
  {
   "cell_type": "code",
   "execution_count": null,
   "id": "c29b615f-48c8-46ec-a3ee-26277c38871f",
   "metadata": {},
   "outputs": [],
   "source": [
    "print(inspect.signature(User.create))"
   ]
  },
  {
   "cell_type": "markdown",
   "id": "30339bc8-c543-4605-8665-003356c5d164",
   "metadata": {},
   "source": [
    "# Modify User"
   ]
  },
  {
   "cell_type": "code",
   "execution_count": null,
   "id": "a0201b91-1e0e-437f-90bb-48e0634722f9",
   "metadata": {},
   "outputs": [],
   "source": [
    "print(User.__doc__)"
   ]
  },
  {
   "cell_type": "code",
   "execution_count": null,
   "id": "c1462443-43ed-4490-9b25-54f35b9e909d",
   "metadata": {},
   "outputs": [],
   "source": [
    "dir(user)"
   ]
  },
  {
   "cell_type": "code",
   "execution_count": null,
   "id": "a1265ec6-e0ac-4cf9-bf6e-a1dad8449adc",
   "metadata": {},
   "outputs": [],
   "source": [
    "user.list_properties()"
   ]
  },
  {
   "cell_type": "markdown",
   "id": "3c9ce0e9-5973-499b-85f7-2f4d68866a35",
   "metadata": {},
   "source": [
    "## Add address"
   ]
  },
  {
   "cell_type": "code",
   "execution_count": null,
   "id": "4c09f939-7923-48dc-a685-a93013085029",
   "metadata": {},
   "outputs": [],
   "source": [
    "# list address\n",
    "user.addresses"
   ]
  },
  {
   "cell_type": "code",
   "execution_count": null,
   "id": "7679bd9f-257d-4134-9c97-36c46a18f951",
   "metadata": {},
   "outputs": [],
   "source": [
    "print(User.add_address.__doc__)"
   ]
  },
  {
   "cell_type": "code",
   "execution_count": null,
   "id": "14662955-f909-450e-8463-d1f5112c19c4",
   "metadata": {},
   "outputs": [],
   "source": [
    "user.add_address(name=\"amber1\", address=\"amber@microstrategy.com\", default=True)"
   ]
  },
  {
   "cell_type": "code",
   "execution_count": null,
   "id": "3c9b1387-61b3-4b50-acc5-74832f4b7737",
   "metadata": {},
   "outputs": [],
   "source": [
    "user.add_address(name=\"amber2\", address=\"amber2@microstrategy.com\")"
   ]
  },
  {
   "cell_type": "markdown",
   "id": "b13528cf-f4f6-4d5f-85dc-66c8e449c0fe",
   "metadata": {},
   "source": [
    "## Remove address"
   ]
  },
  {
   "cell_type": "code",
   "execution_count": null,
   "id": "02bdfd63-a471-45f7-b011-6ec37a57d77c",
   "metadata": {},
   "outputs": [],
   "source": [
    "print(User.remove_address.__doc__)"
   ]
  },
  {
   "cell_type": "code",
   "execution_count": null,
   "id": "1d91cbc5-5124-4756-b5c5-2fc230c1fb37",
   "metadata": {},
   "outputs": [],
   "source": [
    "user.remove_address(address=\"amber@microstrategy.com\")"
   ]
  },
  {
   "cell_type": "code",
   "execution_count": null,
   "id": "d3a8262a-6a1c-4903-bd29-a336382e17d0",
   "metadata": {},
   "outputs": [],
   "source": [
    "user.remove_address(name=\"amber\")"
   ]
  },
  {
   "cell_type": "markdown",
   "id": "a420cd3f-dedb-4e8f-adc8-bc54ebbb5883",
   "metadata": {},
   "source": [
    "## Modify"
   ]
  },
  {
   "cell_type": "code",
   "execution_count": null,
   "id": "dc2dcfe2-0d1a-476c-a63b-76aa53cd4e0a",
   "metadata": {},
   "outputs": [],
   "source": [
    "inspect.signature(User.alter)"
   ]
  },
  {
   "cell_type": "code",
   "execution_count": null,
   "id": "20e371ce-c9cb-4363-a6b9-f35136fa3b67",
   "metadata": {},
   "outputs": [],
   "source": [
    "user.alter(username=\"amber\", full_name=\"Amber S Wang\")"
   ]
  },
  {
   "cell_type": "markdown",
   "id": "830931db-7e04-4767-9978-be95431d5e26",
   "metadata": {},
   "source": [
    "# Privileges\n",
    "- grant\n",
    "- revoke\n",
    "- revoke all"
   ]
  },
  {
   "cell_type": "markdown",
   "id": "6c0796a1-117c-427e-bff0-6b4f0438e0c7",
   "metadata": {},
   "source": [
    "## List all avaiable privileges \n",
    "Find the privilege you need to grant to the user.  It will take effect at user's next login. "
   ]
  },
  {
   "cell_type": "code",
   "execution_count": null,
   "id": "a0bcc6e7-0a05-49e0-9faa-574fc62415a8",
   "metadata": {},
   "outputs": [],
   "source": [
    "from mstrio.access_and_security.privilege import *"
   ]
  },
  {
   "cell_type": "code",
   "execution_count": null,
   "id": "46daab73-3b6b-4116-95ce-23893209f545",
   "metadata": {},
   "outputs": [],
   "source": [
    "allPrivileges = PrivilegeList(conn)\n",
    "allPrivileges.privileges"
   ]
  },
  {
   "cell_type": "markdown",
   "id": "38c36600-9599-4cdb-9847-0811dc83f82b",
   "metadata": {},
   "source": [
    "## Get the privilege by id or name"
   ]
  },
  {
   "cell_type": "code",
   "execution_count": null,
   "id": "aa4ee88f-dc91-44f2-bbe9-2c986be12fde",
   "metadata": {},
   "outputs": [],
   "source": [
    "Privilege(conn, id=\"267\")"
   ]
  },
  {
   "cell_type": "code",
   "execution_count": null,
   "id": "4d3ead4d-b200-418b-81dd-9fee960b1675",
   "metadata": {},
   "outputs": [],
   "source": [
    "Privilege(conn, name=\"Use Library Web\")"
   ]
  },
  {
   "cell_type": "code",
   "execution_count": null,
   "id": "ad6415c7-5536-43a5-8085-02c3a462d630",
   "metadata": {},
   "outputs": [],
   "source": [
    "Privilege(conn, id=\"241\")"
   ]
  },
  {
   "cell_type": "markdown",
   "id": "61fa3393-a757-46f2-ad10-f60215763c2a",
   "metadata": {},
   "source": [
    "## Grant privilege to user"
   ]
  },
  {
   "cell_type": "code",
   "execution_count": null,
   "id": "6150b217-d9fd-4645-a9be-e1dbbe5b1737",
   "metadata": {},
   "outputs": [],
   "source": [
    "print(User.grant_privilege.__doc__)"
   ]
  },
  {
   "cell_type": "code",
   "execution_count": null,
   "id": "797ba07d-7289-4865-906b-efda0135534b",
   "metadata": {},
   "outputs": [],
   "source": [
    "user.grant_privilege([267, 241])"
   ]
  },
  {
   "cell_type": "markdown",
   "id": "aa4109f6-81b1-4764-beba-1e943fee01c4",
   "metadata": {},
   "source": [
    "## Revoke privileges"
   ]
  },
  {
   "cell_type": "code",
   "execution_count": null,
   "id": "71f70cf3-eabc-4833-8133-14deafbb9c1c",
   "metadata": {},
   "outputs": [],
   "source": [
    "print(User.revoke_privilege.__doc__)"
   ]
  },
  {
   "cell_type": "code",
   "execution_count": null,
   "id": "15cb5ac6-543a-470c-9410-9510e0806dd2",
   "metadata": {},
   "outputs": [],
   "source": [
    "user.revoke_privilege([267])"
   ]
  },
  {
   "cell_type": "code",
   "execution_count": null,
   "id": "2f1374aa-eb48-4573-91e0-91fa68fa11d6",
   "metadata": {},
   "outputs": [],
   "source": [
    "print(User.revoke_all_privileges.__doc__)"
   ]
  },
  {
   "cell_type": "code",
   "execution_count": null,
   "id": "316d1f01-9118-48c5-9cad-5a0b68ea97d0",
   "metadata": {},
   "outputs": [],
   "source": [
    "dir(user)"
   ]
  },
  {
   "cell_type": "markdown",
   "id": "ed278920-40e0-4207-904e-8ff7d3400ea7",
   "metadata": {},
   "source": [
    "# Security Filter"
   ]
  },
  {
   "cell_type": "code",
   "execution_count": null,
   "id": "aafb598b-a82d-4c67-9db6-acd48482b604",
   "metadata": {},
   "outputs": [],
   "source": [
    "user.security_filters"
   ]
  },
  {
   "cell_type": "code",
   "execution_count": null,
   "id": "ad41a157-dd10-4ed3-b61b-9803a031bd56",
   "metadata": {},
   "outputs": [],
   "source": [
    "print(user.apply_security_filter.__doc__)"
   ]
  },
  {
   "cell_type": "code",
   "execution_count": null,
   "id": "de38cd57-f7f7-4b1f-a4dd-a1dd99eb2b1d",
   "metadata": {},
   "outputs": [],
   "source": [
    "user.apply_security_filter(\"\")"
   ]
  },
  {
   "cell_type": "markdown",
   "id": "0c7d9a0e-7858-44df-bf43-1fdfb513418e",
   "metadata": {},
   "source": [
    "# Security Role"
   ]
  },
  {
   "cell_type": "markdown",
   "id": "30a20626-f020-4ec1-bf6e-76ce4d193100",
   "metadata": {},
   "source": [
    "## list"
   ]
  },
  {
   "cell_type": "code",
   "execution_count": null,
   "id": "5c57bcda-443a-49dc-8399-0494c703a659",
   "metadata": {},
   "outputs": [],
   "source": [
    "user.security_roles"
   ]
  },
  {
   "cell_type": "markdown",
   "id": "a10150a7-fcf7-4e94-a410-769c66b6a626",
   "metadata": {},
   "source": [
    "## remove"
   ]
  },
  {
   "cell_type": "code",
   "execution_count": null,
   "id": "ba5d29fa-d83a-4826-bfbb-43bc43b0d666",
   "metadata": {},
   "outputs": [],
   "source": [
    "inspect.signature(user.revoke_security_role)"
   ]
  },
  {
   "cell_type": "code",
   "execution_count": null,
   "id": "4f6722af-ea6c-4bd1-8de6-98b09fc737d9",
   "metadata": {},
   "outputs": [],
   "source": [
    "user.revoke_security_role(\"73F7482111D3596C60001B8F67019608\", PROJECT_NAME)"
   ]
  },
  {
   "cell_type": "markdown",
   "id": "928a46a9-23b4-4145-a8e5-720794bd720c",
   "metadata": {},
   "source": [
    "## add"
   ]
  },
  {
   "cell_type": "markdown",
   "id": "f6916b97-400a-4287-9383-522bf8da4f5a",
   "metadata": {},
   "source": [
    "# Create UserGroup"
   ]
  },
  {
   "cell_type": "code",
   "execution_count": null,
   "id": "68723d7d-93f7-40a3-9500-1ac14e08ac43",
   "metadata": {},
   "outputs": [],
   "source": []
  },
  {
   "cell_type": "code",
   "execution_count": null,
   "id": "df06cdb7-9709-4e30-bff9-1bae18e9f0d3",
   "metadata": {},
   "outputs": [],
   "source": []
  },
  {
   "cell_type": "code",
   "execution_count": null,
   "id": "94da15d6-e205-4aed-8a9d-3a7e83b2e2ac",
   "metadata": {},
   "outputs": [],
   "source": [
    "group = UserGroup.create(connection=conn, name=\"Special Users\")\n",
    "group"
   ]
  },
  {
   "cell_type": "markdown",
   "id": "1940c9f0-f4d1-4d7d-99c1-76f033ae71db",
   "metadata": {},
   "source": [
    "# Add user to group"
   ]
  },
  {
   "cell_type": "code",
   "execution_count": null,
   "id": "21dd0c6a-f9ca-4582-b7f4-9ccadac06eaa",
   "metadata": {},
   "outputs": [],
   "source": [
    "group.add_users([user])"
   ]
  },
  {
   "cell_type": "code",
   "execution_count": null,
   "id": "ceee55ca-f000-43da-aeee-abdfe7eb6107",
   "metadata": {},
   "outputs": [],
   "source": [
    "#another way\n",
    "user.add_to_user_groups([group])"
   ]
  },
  {
   "cell_type": "markdown",
   "id": "464918eb-d3f0-42b0-b2bc-7512b9da560f",
   "metadata": {},
   "source": [
    "# Remove user from group"
   ]
  },
  {
   "cell_type": "code",
   "execution_count": null,
   "id": "029513c6-b65f-4a2e-8add-41af8c5b22e4",
   "metadata": {},
   "outputs": [],
   "source": [
    "group.remove_users([user])"
   ]
  },
  {
   "cell_type": "code",
   "execution_count": null,
   "id": "fb8a9ae4-e64a-49e4-a490-8f3e7867e55b",
   "metadata": {},
   "outputs": [],
   "source": [
    "# another way\n",
    "user.remove_from_user_groups([group])"
   ]
  },
  {
   "cell_type": "markdown",
   "id": "2c4f8df8-4df1-424f-91b7-0610c3203548",
   "metadata": {},
   "source": [
    "## Remove from all groups"
   ]
  },
  {
   "cell_type": "code",
   "execution_count": null,
   "id": "54893b78-4c02-44e5-87a3-2923e7616fd0",
   "metadata": {},
   "outputs": [],
   "source": [
    "user.remove_from_all_user_groups()"
   ]
  },
  {
   "cell_type": "markdown",
   "id": "8d82dda6-b80d-4744-b993-ee07819accf0",
   "metadata": {},
   "source": [
    "# Delete user"
   ]
  },
  {
   "cell_type": "code",
   "execution_count": null,
   "id": "4a2f79d5-ac72-4768-ac64-d77883c67d0c",
   "metadata": {},
   "outputs": [],
   "source": [
    "user.delete()"
   ]
  },
  {
   "cell_type": "code",
   "execution_count": null,
   "id": "3c154940-54f2-48fe-b35f-9c13975ed839",
   "metadata": {},
   "outputs": [],
   "source": [
    "user = User(conn, id = \"E96A7A1911D4BBCE10004694316DE8A4\")\n",
    "user"
   ]
  },
  {
   "cell_type": "code",
   "execution_count": null,
   "id": "e89343ab-f784-4e96-b76d-b0b2f46a3b3c",
   "metadata": {},
   "outputs": [],
   "source": [
    "user.delete(True)"
   ]
  },
  {
   "cell_type": "code",
   "execution_count": null,
   "id": "d879db61-b41b-4f99-afc5-cd523ff5ec08",
   "metadata": {},
   "outputs": [],
   "source": [
    "list_users(conn)"
   ]
  },
  {
   "cell_type": "markdown",
   "id": "db068ce0-bc91-4e55-adf1-2da8fb91a40f",
   "metadata": {},
   "source": [
    "# Delete group"
   ]
  },
  {
   "cell_type": "code",
   "execution_count": null,
   "id": "2b55aad9-64ec-4b6f-a3a9-f35341f67344",
   "metadata": {},
   "outputs": [],
   "source": [
    "group.delete()"
   ]
  },
  {
   "cell_type": "code",
   "execution_count": null,
   "id": "333d0785-43e4-4b19-bbd3-3533278ef5ac",
   "metadata": {},
   "outputs": [],
   "source": [
    "print(User.__doc__)"
   ]
  },
  {
   "cell_type": "code",
   "execution_count": null,
   "id": "2cae68a5-b4ee-4cc5-a50d-b86b80403cea",
   "metadata": {},
   "outputs": [],
   "source": []
  }
 ],
 "metadata": {
  "kernelspec": {
   "display_name": "Python 3 (ipykernel)",
   "language": "python",
   "name": "python3"
  },
  "language_info": {
   "codemirror_mode": {
    "name": "ipython",
    "version": 3
   },
   "file_extension": ".py",
   "mimetype": "text/x-python",
   "name": "python",
   "nbconvert_exporter": "python",
   "pygments_lexer": "ipython3",
   "version": "3.10.8"
  },
  "toc-autonumbering": true
 },
 "nbformat": 4,
 "nbformat_minor": 5
}
