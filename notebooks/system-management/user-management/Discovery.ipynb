{
 "cells": [
  {
   "cell_type": "markdown",
   "id": "8fd65a66-5b49-4bd9-a1bd-b1abdbb58b39",
   "metadata": {},
   "source": [
    "# Discover Users and UserGroups"
   ]
  },
  {
   "cell_type": "code",
   "execution_count": null,
   "id": "e9ff51ca-4f55-470b-ab23-4d2b8eeea2bf",
   "metadata": {},
   "outputs": [],
   "source": [
    "from mstrio.connection import get_connection, Connection\n",
    "from typing import List\n",
    "import getpass\n",
    "from mstrio.users_and_groups import list_user_groups, UserGroup, User, list_users"
   ]
  },
  {
   "cell_type": "code",
   "execution_count": null,
   "id": "dfafaee6-7739-438e-b86a-1ec3d0e723d8",
   "metadata": {},
   "outputs": [],
   "source": [
    "PROJECT_NAME = \"MicroStrategy Tutorial\"\n",
    "BASE_URL = \"https://env-276686.customer.cloud.microstrategy.com/MicroStrategyLibrary/api\"  # Insert URL for your env here\n",
    "MSTR_USERNAME = \"mstr\"  # Insert your env username here\n",
    "MSTR_PASSWORD = getpass.getpass()   # insert your mstr password here\n",
    "PROJECT_ID = \"B7CA92F04B9FAE8D941C3E9B7E0CD754\"  # Insert you project ID here"
   ]
  },
  {
   "cell_type": "code",
   "execution_count": null,
   "id": "67923d11-cbda-4ccd-a62b-74fb4b12a7c8",
   "metadata": {},
   "outputs": [],
   "source": [
    "# Currently, supported authentication modes are Standard (the default), guest and LDAP.\n",
    "# To use LDAP, add login_mode=16 when creating your Connection object:\n",
    "conn = Connection(BASE_URL, MSTR_USERNAME, MSTR_PASSWORD, project_id=PROJECT_ID, login_mode=1)"
   ]
  },
  {
   "cell_type": "markdown",
   "id": "bbcdf52e-3d86-4c62-bc16-9b1b02dc4f96",
   "metadata": {},
   "source": [
    "## List empty user groups"
   ]
  },
  {
   "cell_type": "markdown",
   "id": "fb98883d-7eff-415c-acf4-c1248a1bf29d",
   "metadata": {},
   "source": [
    "def list_empty_user_groups(connection: \"Connection\") -> List[\"UserGroup\"]:\n",
    "    \"\"\"List empty user groups.\n",
    "    Args:\n",
    "        connection: MicroStrategy connection object returned by\n",
    "            `connection.Connection()`\n",
    "    \"\"\"\n",
    "    all_user_groups = list_user_groups(connection=connection)\n",
    "    return [user_group_ for user_group_ in all_user_groups if not user_group_.list_members()]"
   ]
  },
  {
   "cell_type": "code",
   "execution_count": null,
   "id": "9f94ac68-09f4-40ca-b8d1-347b492ebf2e",
   "metadata": {},
   "outputs": [],
   "source": [
    "empty_user_groups = list_empty_user_groups(conn)\n",
    "empty_user_groups"
   ]
  },
  {
   "cell_type": "code",
   "execution_count": null,
   "id": "7653344d-e414-4140-9be4-b9de0ec1a212",
   "metadata": {},
   "outputs": [],
   "source": [
    "usergroup = empty_user_groups[0]"
   ]
  },
  {
   "cell_type": "code",
   "execution_count": null,
   "id": "5bbaaff7-7803-4751-a691-47428339d22b",
   "metadata": {},
   "outputs": [],
   "source": [
    "dir(usergroup)"
   ]
  },
  {
   "cell_type": "code",
   "execution_count": null,
   "id": "ce9ae775-2910-4d5c-9aac-fe3e9a124cf3",
   "metadata": {},
   "outputs": [],
   "source": [
    "usergroup.members"
   ]
  },
  {
   "cell_type": "markdown",
   "id": "943c1f5a-abf4-42c9-9ae5-b376adc0d608",
   "metadata": {},
   "source": [
    "## Privileges"
   ]
  },
  {
   "cell_type": "code",
   "execution_count": null,
   "id": "8211d821-6325-489f-b65b-04763e0ca418",
   "metadata": {},
   "outputs": [],
   "source": [
    "dir(conn)"
   ]
  },
  {
   "cell_type": "code",
   "execution_count": null,
   "id": "63d938cc-f25b-4637-b72d-0f32b5be2b66",
   "metadata": {},
   "outputs": [],
   "source": [
    "conn.user_id"
   ]
  },
  {
   "cell_type": "markdown",
   "id": "03ad8769-ec91-45a0-82f8-a9f5a616e94b",
   "metadata": {},
   "source": [
    "### Get current user and privileges"
   ]
  },
  {
   "cell_type": "code",
   "execution_count": null,
   "id": "53f641c7-0552-4a94-b3cf-a033a5152bd3",
   "metadata": {},
   "outputs": [],
   "source": [
    "user = User(conn, conn.username)"
   ]
  },
  {
   "cell_type": "markdown",
   "id": "0a0ca483-beb1-4838-b112-e9fbe96ee62b",
   "metadata": {},
   "source": [
    "## List of Users"
   ]
  },
  {
   "cell_type": "code",
   "execution_count": null,
   "id": "5f72dc1b-f4a9-4246-ab2c-917e5c00a90e",
   "metadata": {},
   "outputs": [],
   "source": [
    "all_users = list_users(conn)\n",
    "all_users"
   ]
  },
  {
   "cell_type": "code",
   "execution_count": null,
   "id": "a6fea3c8-1c54-4f57-a832-c67a8cf626a7",
   "metadata": {},
   "outputs": [],
   "source": [
    "active_users = [u for u in all_users if u.enabled]\n",
    "active_users"
   ]
  },
  {
   "cell_type": "markdown",
   "id": "d776ecd9-dc3c-4fd7-88dd-aed23b589315",
   "metadata": {},
   "source": [
    "## User object"
   ]
  },
  {
   "cell_type": "code",
   "execution_count": null,
   "id": "21c14519-8b32-412d-8dfb-31442e383cb2",
   "metadata": {},
   "outputs": [],
   "source": [
    "print(User.__doc__)"
   ]
  },
  {
   "cell_type": "code",
   "execution_count": null,
   "id": "46a182d8-a8a0-480d-a194-3514fa88914e",
   "metadata": {},
   "outputs": [],
   "source": [
    "user.id"
   ]
  },
  {
   "cell_type": "code",
   "execution_count": null,
   "id": "02ea6507-2ec1-48a8-9a85-5587805746a4",
   "metadata": {},
   "outputs": [],
   "source": [
    "user.name"
   ]
  },
  {
   "cell_type": "code",
   "execution_count": null,
   "id": "b7d59194-7577-4c71-bfa4-15f3eb035ef8",
   "metadata": {},
   "outputs": [],
   "source": [
    "user.username"
   ]
  },
  {
   "cell_type": "code",
   "execution_count": null,
   "id": "396e9bdc-f127-4c55-a30c-8f9a799a32b2",
   "metadata": {},
   "outputs": [],
   "source": [
    "user.full_name"
   ]
  },
  {
   "cell_type": "code",
   "execution_count": null,
   "id": "a105ed6f-2c58-4fd1-b34f-935a36fe3010",
   "metadata": {},
   "outputs": [],
   "source": [
    "user.memberships"
   ]
  },
  {
   "cell_type": "code",
   "execution_count": null,
   "id": "05034c45-ecb1-4545-aaff-7a94d6ab8b14",
   "metadata": {},
   "outputs": [],
   "source": [
    "# privileges of user\n",
    "user.privileges"
   ]
  },
  {
   "cell_type": "code",
   "execution_count": null,
   "id": "cc1d0a4f-d12a-455d-afd4-ddad0560f4cb",
   "metadata": {},
   "outputs": [],
   "source": [
    "user.security_roles"
   ]
  },
  {
   "cell_type": "code",
   "execution_count": null,
   "id": "59cf12cc-277a-4c87-905d-663ad99f162e",
   "metadata": {},
   "outputs": [],
   "source": [
    "user.ancestors"
   ]
  },
  {
   "cell_type": "code",
   "execution_count": null,
   "id": "34152f3b-cdbc-4082-9e2d-2f2428308412",
   "metadata": {},
   "outputs": [],
   "source": [
    "user.acg"
   ]
  },
  {
   "cell_type": "code",
   "execution_count": null,
   "id": "350e4bb1-b5fc-40b1-b3ab-006b89d89671",
   "metadata": {},
   "outputs": [],
   "source": [
    "user.acl"
   ]
  },
  {
   "cell_type": "markdown",
   "id": "5673f22a-53e3-49e9-a07f-31ba40902c25",
   "metadata": {},
   "source": [
    "## List of Usergroups"
   ]
  },
  {
   "cell_type": "code",
   "execution_count": null,
   "id": "aaa3bf0b-7a19-4ac7-80ed-44ef20bbb17d",
   "metadata": {},
   "outputs": [],
   "source": [
    "all_usergroups = list_user_groups(conn)\n",
    "all_usergroups"
   ]
  },
  {
   "cell_type": "code",
   "execution_count": null,
   "id": "7fac7d85-a9ac-4b3a-8cf4-56692bffac9e",
   "metadata": {},
   "outputs": [],
   "source": [
    "# privileges of user group\n",
    "all_usergroups[0].privileges"
   ]
  },
  {
   "cell_type": "markdown",
   "id": "482b6b30-a487-4bbb-b4d1-eafd4fcad579",
   "metadata": {},
   "source": [
    "## UserGroup object"
   ]
  },
  {
   "cell_type": "code",
   "execution_count": null,
   "id": "c1075a74-f13d-4f9f-b6e8-46d901ea65c9",
   "metadata": {},
   "outputs": [],
   "source": [
    "print(UserGroup.__doc__)"
   ]
  },
  {
   "cell_type": "code",
   "execution_count": null,
   "id": "901c60f6-75ea-4129-afc2-b643fe8c2186",
   "metadata": {},
   "outputs": [],
   "source": [
    "group = UserGroup(conn, id='C82C6B1011D2894CC0009D9F29718E4F')"
   ]
  },
  {
   "cell_type": "code",
   "execution_count": null,
   "id": "dc3ab41f-76e1-485b-9c8c-e13c6efb4db9",
   "metadata": {},
   "outputs": [],
   "source": [
    "group.name"
   ]
  },
  {
   "cell_type": "code",
   "execution_count": null,
   "id": "b0b5a3e5-c86f-4759-adeb-d65210b86d28",
   "metadata": {},
   "outputs": [],
   "source": [
    "group.id"
   ]
  },
  {
   "cell_type": "code",
   "execution_count": null,
   "id": "2380a3a3-8f30-4960-81ec-d2f9276f2a40",
   "metadata": {},
   "outputs": [],
   "source": [
    "group.type"
   ]
  },
  {
   "cell_type": "code",
   "execution_count": null,
   "id": "3e641309-d7ba-4422-af67-591baa85ab50",
   "metadata": {},
   "outputs": [],
   "source": [
    "group.subtype"
   ]
  },
  {
   "cell_type": "code",
   "execution_count": null,
   "id": "f22fac43-029b-4386-bd4e-1ccaee1fedda",
   "metadata": {},
   "outputs": [],
   "source": [
    "group.memberships"
   ]
  },
  {
   "cell_type": "code",
   "execution_count": null,
   "id": "b0205a25-35b4-4ed9-adc6-dba6528b98c1",
   "metadata": {},
   "outputs": [],
   "source": [
    "group.members"
   ]
  },
  {
   "cell_type": "code",
   "execution_count": null,
   "id": "d638f951-e229-40d6-b05b-c31f8aca4102",
   "metadata": {},
   "outputs": [],
   "source": [
    "group.privileges"
   ]
  },
  {
   "cell_type": "code",
   "execution_count": null,
   "id": "e0147350-054f-46de-b090-30d894937d99",
   "metadata": {},
   "outputs": [],
   "source": [
    "group.security_roles"
   ]
  },
  {
   "cell_type": "code",
   "execution_count": null,
   "id": "997c44a9-d8c9-4fcf-bd42-f7d22192f0c6",
   "metadata": {},
   "outputs": [],
   "source": [
    "group.settings"
   ]
  },
  {
   "cell_type": "code",
   "execution_count": null,
   "id": "94865070-ce5a-40e9-8038-328a5a53aa29",
   "metadata": {},
   "outputs": [],
   "source": []
  }
 ],
 "metadata": {
  "kernelspec": {
   "display_name": "Python 3 (ipykernel)",
   "language": "python",
   "name": "python3"
  },
  "language_info": {
   "codemirror_mode": {
    "name": "ipython",
    "version": 3
   },
   "file_extension": ".py",
   "mimetype": "text/x-python",
   "name": "python",
   "nbconvert_exporter": "python",
   "pygments_lexer": "ipython3",
   "version": "3.10.8"
  }
 },
 "nbformat": 4,
 "nbformat_minor": 5
}
