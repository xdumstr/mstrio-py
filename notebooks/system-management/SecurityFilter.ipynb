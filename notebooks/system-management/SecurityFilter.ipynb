{
 "cells": [
  {
   "cell_type": "markdown",
   "metadata": {},
   "source": [
    "To use mstrio, you need to import mstrio library. Yon can find instructions on https://github.com/MicroStrategy/mstrio-py"
   ]
  },
  {
   "cell_type": "code",
   "execution_count": null,
   "metadata": {
    "tags": []
   },
   "outputs": [],
   "source": [
    "from mstrio.connection import Connection\n",
    "from mstrio.modeling import *\n",
    "from mstrio.modeling.security_filter import *\n",
    "import getpass\n",
    "from mstrio.users_and_groups import list_user_groups, UserGroup, User, list_users"
   ]
  },
  {
   "cell_type": "code",
   "execution_count": null,
   "metadata": {
    "tags": []
   },
   "outputs": [],
   "source": [
    "PROJECT_NAME = \"MicroStrategy Tutorial\"\n",
    "BASE_URL = \"https://env-276686.customer.cloud.microstrategy.com/MicroStrategyLibrary/api\"  # Insert URL for your env here\n",
    "MSTR_USERNAME = \"mstr\"  # Insert your env username here\n",
    "MSTR_PASSWORD = getpass.getpass()   # insert your mstr password here\n",
    "PROJECT_ID = \"B7CA92F04B9FAE8D941C3E9B7E0CD754\"  # Insert you project ID here"
   ]
  },
  {
   "cell_type": "code",
   "execution_count": null,
   "metadata": {},
   "outputs": [],
   "source": [
    "# Currently, supported authentication modes are Standard (the default), guest and LDAP.\n",
    "# To use LDAP, add login_mode=16 when creating your Connection object:\n",
    "conn = Connection(BASE_URL, MSTR_USERNAME, MSTR_PASSWORD, project_id=PROJECT_ID, login_mode=1)"
   ]
  },
  {
   "cell_type": "markdown",
   "metadata": {},
   "source": [
    "# List Security Filters"
   ]
  },
  {
   "cell_type": "code",
   "execution_count": null,
   "metadata": {},
   "outputs": [],
   "source": [
    "list_security_filters(conn)"
   ]
  },
  {
   "cell_type": "markdown",
   "metadata": {},
   "source": [
    "# Get Security Filter by id"
   ]
  },
  {
   "cell_type": "code",
   "execution_count": null,
   "metadata": {},
   "outputs": [],
   "source": [
    "SECURITY_FILTER_ID = \"52A53A0A427DA53CD935C599F46B5307\"\n",
    "SECURITY_FILTER_NAME = \"Region is South\""
   ]
  },
  {
   "cell_type": "code",
   "execution_count": null,
   "metadata": {},
   "outputs": [],
   "source": [
    "# Get a security filter by id\n",
    "security_filter = SecurityFilter(conn, id=SECURITY_FILTER_ID)\n",
    "security_filter"
   ]
  },
  {
   "cell_type": "code",
   "execution_count": null,
   "metadata": {},
   "outputs": [],
   "source": [
    "# Get a security filter by name\n",
    "security_filter = SecurityFilter(conn, name=SECURITY_FILTER_NAME)\n",
    "security_filter"
   ]
  },
  {
   "cell_type": "markdown",
   "metadata": {},
   "source": [
    "# Properties and Methods"
   ]
  },
  {
   "cell_type": "code",
   "execution_count": null,
   "metadata": {},
   "outputs": [],
   "source": [
    "print(SecurityFilter.__doc__)"
   ]
  },
  {
   "cell_type": "code",
   "execution_count": null,
   "metadata": {},
   "outputs": [],
   "source": [
    "print(Entity.__doc__)"
   ]
  },
  {
   "cell_type": "code",
   "execution_count": null,
   "metadata": {},
   "outputs": [],
   "source": [
    "SecurityFilter.__base__"
   ]
  },
  {
   "cell_type": "code",
   "execution_count": null,
   "metadata": {},
   "outputs": [],
   "source": [
    "security_filter.list_properties()"
   ]
  },
  {
   "cell_type": "code",
   "execution_count": null,
   "metadata": {},
   "outputs": [],
   "source": [
    "security_filter.qualification"
   ]
  },
  {
   "cell_type": "code",
   "execution_count": null,
   "metadata": {},
   "outputs": [],
   "source": [
    "dir(security_filter)"
   ]
  },
  {
   "cell_type": "code",
   "execution_count": null,
   "metadata": {},
   "outputs": [],
   "source": [
    "security_filter.total_users"
   ]
  },
  {
   "cell_type": "code",
   "execution_count": null,
   "metadata": {},
   "outputs": [],
   "source": [
    "security_filter.members"
   ]
  },
  {
   "cell_type": "markdown",
   "metadata": {},
   "source": [
    "# Create Security Filter\n",
    "\n",
    "To create a security filter, you need to create a filter qualification express. "
   ]
  },
  {
   "cell_type": "code",
   "execution_count": null,
   "metadata": {},
   "outputs": [],
   "source": [
    "list_attributes(conn)"
   ]
  },
  {
   "cell_type": "code",
   "execution_count": null,
   "metadata": {},
   "outputs": [],
   "source": [
    "print(Attribute.__init__.__doc__)"
   ]
  },
  {
   "cell_type": "code",
   "execution_count": null,
   "metadata": {},
   "outputs": [],
   "source": [
    "attribute = Attribute(conn, id=\"8D679D3511D3E4981000E787EC6DE8A4\")"
   ]
  },
  {
   "cell_type": "code",
   "execution_count": null,
   "metadata": {},
   "outputs": [],
   "source": [
    "attribute.forms[0].id"
   ]
  },
  {
   "cell_type": "code",
   "execution_count": null,
   "metadata": {},
   "outputs": [],
   "source": [
    "# Define a variable, which can be later used in a script\n",
    "NEW_SECURITY_FILTER_NAME = \"Miami Call Center\"\n",
    "CONSTANT_VALUE_1 = \"7\"\n",
    "ATTRIBUTE_ID = \"8D679D3511D3E4981000E787EC6DE8A4\"\n",
    "ATTRIBUTE_NAME = \"Call Center\"\n",
    "ATTRIBUTE_FORM_ID = \"45C11FA478E745FEA08D781CEA190FE5\"\n",
    "ATTRIBUTE_FORM_NAME = \"ID\""
   ]
  },
  {
   "cell_type": "code",
   "execution_count": null,
   "metadata": {},
   "outputs": [],
   "source": [
    "# create new security filter\n",
    "QUALIFICATION = Expression(\n",
    "    tree=AttributeFormPredicate(\n",
    "        # see access_and_security/security_filter/predicates.py\n",
    "        # for PredicateFormFunction values\n",
    "        function=Function.EQUALS,\n",
    "        # see access_and_security/security_filter/predicate_parameters.py\n",
    "        # for ConstantType values\n",
    "        parameters=[\n",
    "            ConstantParameter(constant=Variant(type=VariantType.STRING, value=CONSTANT_VALUE_1))\n",
    "        ],\n",
    "        # insert object id and its attribute name to which you want to refer to\n",
    "        attribute=SchemaObjectReference(\n",
    "            sub_type=ObjectSubType.ATTRIBUTE, object_id=ATTRIBUTE_ID, name=ATTRIBUTE_NAME\n",
    "        ),\n",
    "        # insert object id and its attribute form system name\n",
    "        # to which you want to refer to\n",
    "        form=SchemaObjectReference(\n",
    "            sub_type=ObjectSubType.ATTRIBUTE_FORM_SYSTEM,\n",
    "            object_id=ATTRIBUTE_FORM_ID,\n",
    "            name=ATTRIBUTE_FORM_NAME\n",
    "        )\n",
    "    )\n",
    ")"
   ]
  },
  {
   "cell_type": "code",
   "execution_count": null,
   "metadata": {},
   "outputs": [],
   "source": [
    "FOLDER_ID = \"D3C7D461F69C4610AA6BAA5EF51F4125\""
   ]
  },
  {
   "cell_type": "code",
   "execution_count": null,
   "metadata": {},
   "outputs": [],
   "source": [
    "new_security_filter = SecurityFilter.create(\n",
    "    connection=conn,\n",
    "    qualification=QUALIFICATION,\n",
    "    name=NEW_SECURITY_FILTER_NAME,\n",
    "    destination_folder=FOLDER_ID\n",
    ")\n",
    "new_security_filter"
   ]
  },
  {
   "cell_type": "code",
   "execution_count": null,
   "metadata": {},
   "outputs": [],
   "source": [
    "new_security_filter.list_properties()"
   ]
  },
  {
   "cell_type": "markdown",
   "metadata": {},
   "source": [
    "Add changesetId too the header"
   ]
  },
  {
   "cell_type": "code",
   "execution_count": null,
   "metadata": {},
   "outputs": [],
   "source": [
    "list_security_filters(conn)"
   ]
  },
  {
   "cell_type": "code",
   "execution_count": null,
   "metadata": {},
   "outputs": [],
   "source": [
    "new_security_filter.delete()"
   ]
  },
  {
   "cell_type": "markdown",
   "metadata": {},
   "source": [
    "# Apply Security Filter on User"
   ]
  },
  {
   "cell_type": "code",
   "execution_count": null,
   "metadata": {},
   "outputs": [],
   "source": [
    "user1 = User(conn, username = \"atlanta\")"
   ]
  },
  {
   "cell_type": "code",
   "execution_count": null,
   "metadata": {},
   "outputs": [],
   "source": [
    "securityFilter = SecurityFilter(conn, name=\"Atlanta Call Center\")"
   ]
  },
  {
   "cell_type": "code",
   "execution_count": null,
   "metadata": {},
   "outputs": [],
   "source": [
    "user1.apply_security_filter(securityFilter)"
   ]
  },
  {
   "cell_type": "code",
   "execution_count": null,
   "metadata": {},
   "outputs": [],
   "source": [
    "user2 = User(conn, username = \"miami\")"
   ]
  },
  {
   "cell_type": "code",
   "execution_count": null,
   "metadata": {},
   "outputs": [],
   "source": [
    "user2.apply_security_filter(SecurityFilter(conn, name=\"Miami Call Center\"))"
   ]
  }
 ],
 "metadata": {
  "kernelspec": {
   "display_name": "Python 3 (ipykernel)",
   "language": "python",
   "name": "python3"
  },
  "language_info": {
   "codemirror_mode": {
    "name": "ipython",
    "version": 3
   },
   "file_extension": ".py",
   "mimetype": "text/x-python",
   "name": "python",
   "nbconvert_exporter": "python",
   "pygments_lexer": "ipython3",
   "version": "3.10.8"
  }
 },
 "nbformat": 4,
 "nbformat_minor": 4
}
