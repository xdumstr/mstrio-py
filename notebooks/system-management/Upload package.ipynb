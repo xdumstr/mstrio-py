{
 "cells": [
  {
   "cell_type": "markdown",
   "metadata": {},
   "source": [
    "To use mstrio, you need to import mstrio library. Yon can find instructions on https://github.com/MicroStrategy/mstrio-py"
   ]
  },
  {
   "cell_type": "markdown",
   "metadata": {},
   "source": [
    "# Import mstrio"
   ]
  },
  {
   "cell_type": "code",
   "execution_count": null,
   "metadata": {},
   "outputs": [],
   "source": [
    "from mstrio.connection import Connection\n",
    "import getpass"
   ]
  },
  {
   "cell_type": "markdown",
   "metadata": {},
   "source": [
    "# Create Connection"
   ]
  },
  {
   "cell_type": "markdown",
   "metadata": {},
   "source": [
    "Change the parameter to your environment accordingly. "
   ]
  },
  {
   "cell_type": "code",
   "execution_count": null,
   "metadata": {},
   "outputs": [],
   "source": [
    "base_url = \"https://env-259721.customer.cloud.microstrategy.com/MicroStrategyLibrary/api\"\n",
    "mstr_username = \"xdu\"\n",
    "mstr_password = getpass.getpass()\n",
    "application_id = \"B7CA92F04B9FAE8D941C3E9B7E0CD754\"\n",
    "conn = Connection(base_url, mstr_username, mstr_password, application_id=application_id)"
   ]
  },
  {
   "cell_type": "code",
   "execution_count": null,
   "metadata": {},
   "outputs": [],
   "source": [
    "r = conn.session.post(url=conn.base_url+\"/api/packages\")\n",
    "print(r.status_code)\n",
    "print(r.text)\n",
    "package_id = r.json()['id']"
   ]
  },
  {
   "cell_type": "code",
   "execution_count": null,
   "metadata": {},
   "outputs": [],
   "source": [
    "package_id"
   ]
  },
  {
   "cell_type": "code",
   "execution_count": null,
   "metadata": {},
   "outputs": [],
   "source": [
    "def PutBinaryMmpInPackage(conn, master_project_id, package_id):\n",
    "    put_mmp_binary_in_package = conn.base_url+ \"/api/packages/\" + package_id + \"/binary\"\n",
    "    payload={}\n",
    "    print(\"\\ninserting the mmp file binary code into the empty package...\")\n",
    "    # files=[('file',('test-DELETE-object.mmp',open('src/test-DELETE-object.mmp','rb'),'application/octet-stream'))]\n",
    "    files=[('file',('test.mmp',open('test.mmp','rb'),'application/octet-stream'))]\n",
    "    print('url: ' + put_mmp_binary_in_package)\n",
    "    print(files)\n",
    "    r = conn.session.put(url=put_mmp_binary_in_package, data=payload, files=files)\n",
    "    if r.ok:\n",
    "        package_id = r.json()['id']\n",
    "        print(\"mmp file binary code was inserted successfully to the empty package...\")\n",
    "        print(\"Message: \" + str(r.raise_for_status()) + \"   ||   HTTP Status Code: \" + str(r.status_code))\n",
    "        print(\"Package details: \" + str(r.content))\n",
    "        # return package_id\n",
    "    else:\n",
    "        print(r.status_code)\n",
    "        print(r.text)"
   ]
  },
  {
   "cell_type": "code",
   "execution_count": null,
   "metadata": {},
   "outputs": [],
   "source": [
    "PutBinaryMmpInPackage(conn, application_id, package_id)"
   ]
  },
  {
   "cell_type": "code",
   "execution_count": null,
   "metadata": {},
   "outputs": [],
   "source": [
    "conn.close()"
   ]
  },
  {
   "cell_type": "code",
   "execution_count": null,
   "metadata": {},
   "outputs": [],
   "source": [
    "print(getpass.__doc__)"
   ]
  },
  {
   "cell_type": "code",
   "execution_count": null,
   "metadata": {},
   "outputs": [],
   "source": [
    "import calendar\n",
    "print(calendar.__doc__)"
   ]
  },
  {
   "cell_type": "code",
   "execution_count": null,
   "metadata": {},
   "outputs": [],
   "source": []
  }
 ],
 "metadata": {
  "kernelspec": {
   "display_name": "Python 3 (ipykernel)",
   "language": "python",
   "name": "python3"
  },
  "language_info": {
   "codemirror_mode": {
    "name": "ipython",
    "version": 3
   },
   "file_extension": ".py",
   "mimetype": "text/x-python",
   "name": "python",
   "nbconvert_exporter": "python",
   "pygments_lexer": "ipython3",
   "version": "3.10.8"
  }
 },
 "nbformat": 4,
 "nbformat_minor": 4
}
