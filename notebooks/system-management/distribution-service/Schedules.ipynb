{
 "cells": [
  {
   "cell_type": "code",
   "execution_count": null,
   "id": "863f9759-7737-4a2f-a954-ee380ef4d0cd",
   "metadata": {},
   "outputs": [],
   "source": [
    "import getpass\n",
    "import inspect\n",
    "from mstrio.connection import Connection\n",
    "from mstrio.users_and_groups import User\n",
    "from mstrio.distribution_services import *"
   ]
  },
  {
   "cell_type": "code",
   "execution_count": null,
   "id": "bbf15bfe-6f3b-42df-a399-d6e3695af36c",
   "metadata": {
    "tags": []
   },
   "outputs": [],
   "source": [
    "base_url = \"https://env-276686.customer.cloud.microstrategy.com/MicroStrategyLibrary/api\"\n",
    "username = \"mstr\"\n",
    "password = getpass.getpass()"
   ]
  },
  {
   "cell_type": "code",
   "execution_count": null,
   "id": "3400209d-5568-4a23-8fb8-b539f8e334cf",
   "metadata": {},
   "outputs": [],
   "source": [
    "conn = Connection(base_url, username, password, project_name=\"MicroStrategy Tutorial\", login_mode=1)"
   ]
  },
  {
   "cell_type": "markdown",
   "id": "58b7a8e6-39fa-47e1-b8f1-f1d7a1f2ec67",
   "metadata": {},
   "source": [
    "# List all schedules"
   ]
  },
  {
   "cell_type": "code",
   "execution_count": null,
   "id": "22d41cde-d7f3-4c89-96c7-643448695a89",
   "metadata": {},
   "outputs": [],
   "source": [
    "list_schedules(connection=conn)"
   ]
  },
  {
   "cell_type": "markdown",
   "id": "af994051-0a60-408d-9210-8a35fecd0422",
   "metadata": {},
   "source": [
    "# Get schedule by id"
   ]
  },
  {
   "cell_type": "code",
   "execution_count": null,
   "id": "d4b4d733-4577-4384-a5c5-bc53f8ba412c",
   "metadata": {},
   "outputs": [],
   "source": [
    "schedule = Schedule(conn, id=\"E571F7C141D5F48BFE1065B92E24A7CD\")"
   ]
  },
  {
   "cell_type": "markdown",
   "id": "a6f0a041-6a1e-424c-94d1-771ea425cf91",
   "metadata": {},
   "source": [
    "# Get Schedule by name"
   ]
  },
  {
   "cell_type": "code",
   "execution_count": null,
   "id": "371e5b58-2a6f-4b4d-b6ba-b8121f9507dd",
   "metadata": {},
   "outputs": [],
   "source": [
    "schedule = Schedule(conn, name=\"Books Closed\")\n",
    "schedule"
   ]
  },
  {
   "cell_type": "markdown",
   "id": "595c18a2-e333-4b5c-8a21-3a2ac7a11bab",
   "metadata": {},
   "source": [
    "# Properties and Methods"
   ]
  },
  {
   "cell_type": "code",
   "execution_count": null,
   "id": "b8f5e433-d58f-4acb-add3-af03bd496eeb",
   "metadata": {},
   "outputs": [],
   "source": [
    "print(Schedule.__doc__)"
   ]
  },
  {
   "cell_type": "code",
   "execution_count": null,
   "id": "19cedc3d-c7b0-4832-9d4e-4047ad7262fe",
   "metadata": {},
   "outputs": [],
   "source": [
    "schedule.list_properties()"
   ]
  },
  {
   "cell_type": "code",
   "execution_count": null,
   "id": "c2684fb3-843f-4e73-b411-4ca01b004eb5",
   "metadata": {},
   "outputs": [],
   "source": [
    "dir(schedule)"
   ]
  },
  {
   "cell_type": "code",
   "execution_count": null,
   "id": "7b10fbf9-1444-4631-a3e5-e13dbe6c1172",
   "metadata": {},
   "outputs": [],
   "source": [
    "schedule.event"
   ]
  },
  {
   "cell_type": "code",
   "execution_count": null,
   "id": "a38e16ad-984d-4303-9ee1-99a2be93fc56",
   "metadata": {},
   "outputs": [],
   "source": [
    "schedule.time"
   ]
  },
  {
   "cell_type": "markdown",
   "id": "d2f3caa6-6f38-4363-ac47-ca1335333944",
   "metadata": {},
   "source": [
    "# Schedule types\n",
    "\n",
    "- event-based (ScheduleType.EVENT_BASED)\n",
    "- time-based (ScheduleType.TIME_BASED)"
   ]
  },
  {
   "cell_type": "code",
   "execution_count": null,
   "id": "2b952211-7678-4d97-b56e-dd590d9de643",
   "metadata": {},
   "outputs": [],
   "source": [
    "schedule.schedule_type"
   ]
  },
  {
   "cell_type": "code",
   "execution_count": null,
   "id": "053eb8ba-bc3e-4406-9663-4cada152c84f",
   "metadata": {},
   "outputs": [],
   "source": [
    "schedule.type"
   ]
  },
  {
   "cell_type": "code",
   "execution_count": null,
   "id": "01f9e7af-5247-4d02-b6bc-2c786f6a5b9a",
   "metadata": {},
   "outputs": [],
   "source": [
    "inspect.getfile(schedule.schedule_type.__class__)"
   ]
  }
 ],
 "metadata": {
  "kernelspec": {
   "display_name": "Python 3 (ipykernel)",
   "language": "python",
   "name": "python3"
  },
  "language_info": {
   "codemirror_mode": {
    "name": "ipython",
    "version": 3
   },
   "file_extension": ".py",
   "mimetype": "text/x-python",
   "name": "python",
   "nbconvert_exporter": "python",
   "pygments_lexer": "ipython3",
   "version": "3.10.8"
  }
 },
 "nbformat": 4,
 "nbformat_minor": 5
}
