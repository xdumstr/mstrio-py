{
 "cells": [
  {
   "cell_type": "code",
   "execution_count": null,
   "id": "7d35f285-8c9d-4489-8e7c-09225b25b8bc",
   "metadata": {},
   "outputs": [],
   "source": [
    "from mstrio.connection import Connection\n",
    "from mstrio.distribution_services import *\n",
    "import getpass\n",
    "import inspect"
   ]
  },
  {
   "cell_type": "code",
   "execution_count": null,
   "id": "67bd5584-5e51-4197-ab14-83ab4d88121b",
   "metadata": {
    "tags": []
   },
   "outputs": [],
   "source": [
    "base_url = \"https://env-276686.customer.cloud.microstrategy.com/MicroStrategyLibrary/api\"\n",
    "username = \"mstr\"\n",
    "password = getpass.getpass()\n",
    "conn = Connection(base_url, username, password, project_name=\"MicroStrategy Tutorial\", login_mode=1)"
   ]
  },
  {
   "cell_type": "markdown",
   "id": "9cc83b79-aa23-4b74-8dbf-4c792ffed58b",
   "metadata": {},
   "source": [
    "# List events"
   ]
  },
  {
   "cell_type": "code",
   "execution_count": null,
   "id": "aea56fbd-36e9-4854-a7c4-b0cee341e659",
   "metadata": {},
   "outputs": [],
   "source": [
    "list_events(conn)"
   ]
  },
  {
   "cell_type": "markdown",
   "id": "65d06575-e75d-4752-8f3c-6219e3e16c66",
   "metadata": {},
   "source": [
    "# Get event"
   ]
  },
  {
   "cell_type": "code",
   "execution_count": null,
   "id": "1cc2ab0b-bdfd-42de-9c33-9322d9c603c0",
   "metadata": {},
   "outputs": [],
   "source": [
    "event = Event(conn, id =\"B189E4DA45444FEEE3DCAF92A7B17B1B\")\n",
    "event"
   ]
  },
  {
   "cell_type": "code",
   "execution_count": null,
   "id": "de8fbc9c-d04e-440d-936f-1185d853cbd3",
   "metadata": {},
   "outputs": [],
   "source": [
    "event = Event(conn, name =\"Test Event\")\n",
    "event"
   ]
  },
  {
   "cell_type": "markdown",
   "id": "d09a1b51-70dd-4533-b3f9-d0f51c5f26f1",
   "metadata": {},
   "source": [
    "# Properties and Methods"
   ]
  },
  {
   "cell_type": "code",
   "execution_count": null,
   "id": "8349fd80-ddf1-4be7-96ea-52b28264e578",
   "metadata": {},
   "outputs": [],
   "source": [
    "event.list_properties()"
   ]
  },
  {
   "cell_type": "markdown",
   "id": "9cb14ebe-425a-4ac7-9797-d3edc65507b6",
   "metadata": {},
   "source": [
    "# Create event"
   ]
  },
  {
   "cell_type": "code",
   "execution_count": null,
   "id": "aa100583-b1c8-46e6-aaeb-86d914ac4921",
   "metadata": {},
   "outputs": [],
   "source": [
    "print(Event.create.__doc__)"
   ]
  },
  {
   "cell_type": "code",
   "execution_count": null,
   "id": "3156c993-3678-407f-a20d-925efa9177e4",
   "metadata": {},
   "outputs": [],
   "source": [
    "event = Event.create(conn, name = \"New Event\")\n",
    "event"
   ]
  },
  {
   "cell_type": "markdown",
   "id": "e0239462-7a03-4af3-b6e3-b8c04011119b",
   "metadata": {},
   "source": [
    "# Use event"
   ]
  },
  {
   "cell_type": "code",
   "execution_count": null,
   "id": "df1c8813-3eae-4bec-88e0-021645705258",
   "metadata": {},
   "outputs": [],
   "source": [
    "event.trigger()"
   ]
  },
  {
   "cell_type": "markdown",
   "id": "46db9f41-e8e9-4cbb-96a2-39b4a35be8d9",
   "metadata": {},
   "source": [
    "# Delete event"
   ]
  },
  {
   "cell_type": "code",
   "execution_count": null,
   "id": "b4dc7d67-46e4-414b-aeb1-1637060073cf",
   "metadata": {},
   "outputs": [],
   "source": [
    "event.delete(force=True)"
   ]
  },
  {
   "cell_type": "code",
   "execution_count": null,
   "id": "68d39389-20d1-417c-94b1-0b4df36ae236",
   "metadata": {},
   "outputs": [],
   "source": []
  }
 ],
 "metadata": {
  "kernelspec": {
   "display_name": "Python 3 (ipykernel)",
   "language": "python",
   "name": "python3"
  },
  "language_info": {
   "codemirror_mode": {
    "name": "ipython",
    "version": 3
   },
   "file_extension": ".py",
   "mimetype": "text/x-python",
   "name": "python",
   "nbconvert_exporter": "python",
   "pygments_lexer": "ipython3",
   "version": "3.10.8"
  }
 },
 "nbformat": 4,
 "nbformat_minor": 5
}
