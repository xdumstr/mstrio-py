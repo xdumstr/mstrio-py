{
 "cells": [
  {
   "cell_type": "markdown",
   "metadata": {},
   "source": [
    "To use mstrio, you need to import mstrio library. Yon can find instructions on https://github.com/MicroStrategy/mstrio-py\n",
    "\n",
    "In this notebook, we are going to migrate a dossier from demo.microstrategy.com. "
   ]
  },
  {
   "cell_type": "code",
   "execution_count": null,
   "metadata": {
    "tags": []
   },
   "outputs": [],
   "source": [
    "from mstrio.connection import Connection\n",
    "from mstrio.object_management.migration import *\n",
    "from mstrio.types import ObjectTypes\n",
    "import getpass\n",
    "import inspect"
   ]
  },
  {
   "cell_type": "code",
   "execution_count": null,
   "metadata": {
    "tags": []
   },
   "outputs": [],
   "source": [
    "PROJECT_NAME1 = \"MicroStrategy Tutorial\"\n",
    "BASE_URL1 = \"https://demo.microstrategy.com/MicroStrategyLibrary/api\"  # Insert URL for your env here\n",
    "MSTR_USERNAME1 = \"guest\"  # Insert your env username here\n",
    "MSTR_PASSWORD1 = \"\"  # insert your mstr password here\n",
    "PROJECT_ID1 = \"B7CA92F04B9FAE8D941C3E9B7E0CD754\"  # Insert you project ID here\n",
    "DOSSIER_ID = \"5349453E4B3C8BBBBEFC2DB7EBAD5723\""
   ]
  },
  {
   "cell_type": "code",
   "execution_count": null,
   "metadata": {},
   "outputs": [],
   "source": [
    "source_conn = Connection(BASE_URL1, MSTR_USERNAME1, MSTR_PASSWORD1, project_id=PROJECT_ID1, login_mode=1)"
   ]
  },
  {
   "cell_type": "code",
   "execution_count": null,
   "metadata": {
    "tags": []
   },
   "outputs": [],
   "source": [
    "PROJECT_NAME2 = \"MicroStrategy Tutorial\"\n",
    "BASE_URL2 = \"https://env-276686.customer.cloud.microstrategy.com/MicroStrategyLibrary/api\"  # Insert URL for your env here\n",
    "MSTR_USERNAME2 = \"mstr\"  # Insert your env username here\n",
    "MSTR_PASSWORD2 = getpass.getpass()   # insert your mstr password here\n",
    "PROJECT_ID2 = \"B7CA92F04B9FAE8D941C3E9B7E0CD754\"  # Insert you project ID here"
   ]
  },
  {
   "cell_type": "code",
   "execution_count": null,
   "metadata": {},
   "outputs": [],
   "source": [
    "# Currently, supported authentication modes are Standard (the default), guest and LDAP.\n",
    "# To use LDAP, add login_mode=16 when creating your Connection object:\n",
    "target_conn= Connection(BASE_URL2, MSTR_USERNAME2, MSTR_PASSWORD2, project_id=PROJECT_ID2, login_mode=1)"
   ]
  },
  {
   "cell_type": "markdown",
   "metadata": {},
   "source": [
    "# Properate package"
   ]
  },
  {
   "cell_type": "code",
   "execution_count": null,
   "metadata": {},
   "outputs": [],
   "source": [
    "package_settings = PackageSettings(\n",
    "    PackageSettings.DefaultAction.USE_EXISTING,\n",
    "    PackageSettings.UpdateSchema.RECAL_TABLE_LOGICAL_SIZE,\n",
    "    PackageSettings.AclOnReplacingObjects.REPLACE,\n",
    "    PackageSettings.AclOnNewObjects.KEEP_ACL_AS_SOURCE_OBJECT,\n",
    ")"
   ]
  },
  {
   "cell_type": "code",
   "execution_count": null,
   "metadata": {},
   "outputs": [],
   "source": [
    "package_content_info = PackageContentInfo(\n",
    "    id=DOSSIER_ID,\n",
    "    type=ObjectTypes.DOCUMENT_DEFINITION,\n",
    "    action=PackageContentInfo.Action.USE_EXISTING,\n",
    "    include_dependents=True,\n",
    ")"
   ]
  },
  {
   "cell_type": "code",
   "execution_count": null,
   "metadata": {},
   "outputs": [],
   "source": [
    "package_config = PackageConfig(\n",
    "    PackageConfig.PackageUpdateType.PROJECT, package_settings, package_content_info\n",
    ")\n",
    "package_config"
   ]
  },
  {
   "cell_type": "code",
   "execution_count": null,
   "metadata": {},
   "outputs": [],
   "source": [
    "print(Migration.__doc__)"
   ]
  },
  {
   "cell_type": "code",
   "execution_count": null,
   "metadata": {},
   "outputs": [],
   "source": [
    "inspect.signature(Migration.__init__)"
   ]
  },
  {
   "cell_type": "code",
   "execution_count": null,
   "metadata": {},
   "outputs": [],
   "source": [
    "# Create Migrations objects that can use all the functionalities\n",
    "mig = Migration(\n",
    "    source_connection=source_conn,\n",
    "    target_connection=target_conn,\n",
    "    configuration=package_config,\n",
    ")"
   ]
  },
  {
   "cell_type": "code",
   "execution_count": null,
   "metadata": {},
   "outputs": [],
   "source": [
    "mig.create_package()"
   ]
  },
  {
   "cell_type": "code",
   "execution_count": null,
   "metadata": {},
   "outputs": [],
   "source": [
    "r = conn.session.post(url=conn.base_url+\"/api/packages\")\n",
    "print(r.status_code)\n",
    "print(r.text)\n",
    "package_id = r.json()['id']"
   ]
  },
  {
   "cell_type": "code",
   "execution_count": null,
   "metadata": {},
   "outputs": [],
   "source": []
  },
  {
   "cell_type": "code",
   "execution_count": null,
   "metadata": {},
   "outputs": [],
   "source": [
    "package_id"
   ]
  },
  {
   "cell_type": "code",
   "execution_count": null,
   "metadata": {},
   "outputs": [],
   "source": [
    "def PutBinaryMmpInPackage(conn, master_project_id, package_id):\n",
    "    put_mmp_binary_in_package = conn.base_url+ \"/api/packages/\" + package_id + \"/binary\"\n",
    "    payload={}\n",
    "    print(\"\\ninserting the mmp file binary code into the empty package...\")\n",
    "    # files=[('file',('test-DELETE-object.mmp',open('src/test-DELETE-object.mmp','rb'),'application/octet-stream'))]\n",
    "    files=[('file',('test.mmp',open('test.mmp','rb'),'application/octet-stream'))]\n",
    "    print('url: ' + put_mmp_binary_in_package)\n",
    "    print(files)\n",
    "    r = conn.session.put(url=put_mmp_binary_in_package, data=payload, files=files)\n",
    "    if r.ok:\n",
    "        package_id = r.json()['id']\n",
    "        print(\"mmp file binary code was inserted successfully to the empty package...\")\n",
    "        print(\"Message: \" + str(r.raise_for_status()) + \"   ||   HTTP Status Code: \" + str(r.status_code))\n",
    "        print(\"Package details: \" + str(r.content))\n",
    "        # return package_id\n",
    "    else:\n",
    "        print(r.status_code)\n",
    "        print(r.text)"
   ]
  },
  {
   "cell_type": "code",
   "execution_count": null,
   "metadata": {},
   "outputs": [],
   "source": [
    "PutBinaryMmpInPackage(conn, application_id, package_id)"
   ]
  },
  {
   "cell_type": "code",
   "execution_count": null,
   "metadata": {},
   "outputs": [],
   "source": [
    "conn.close()"
   ]
  },
  {
   "cell_type": "code",
   "execution_count": null,
   "metadata": {},
   "outputs": [],
   "source": [
    "print(getpass.__doc__)"
   ]
  },
  {
   "cell_type": "code",
   "execution_count": null,
   "metadata": {},
   "outputs": [],
   "source": [
    "import calendar\n",
    "print(calendar.__doc__)"
   ]
  },
  {
   "cell_type": "code",
   "execution_count": null,
   "metadata": {},
   "outputs": [],
   "source": []
  }
 ],
 "metadata": {
  "kernelspec": {
   "display_name": "Python 3 (ipykernel)",
   "language": "python",
   "name": "python3"
  },
  "language_info": {
   "codemirror_mode": {
    "name": "ipython",
    "version": 3
   },
   "file_extension": ".py",
   "mimetype": "text/x-python",
   "name": "python",
   "nbconvert_exporter": "python",
   "pygments_lexer": "ipython3",
   "version": "3.10.8"
  }
 },
 "nbformat": 4,
 "nbformat_minor": 4
}
