{
 "cells": [
  {
   "cell_type": "code",
   "execution_count": null,
   "id": "3f5c348f-9c64-4e49-89d2-f7dae15e3127",
   "metadata": {},
   "outputs": [],
   "source": [
    "from mstrio.connection import Connection\n",
    "import getpass\n",
    "import inspect\n",
    "from mstrio.project_objects import (\n",
    "    CubeCache, delete_cube_cache, delete_cube_caches, list_cube_caches, OlapCube\n",
    ")"
   ]
  },
  {
   "cell_type": "code",
   "execution_count": null,
   "id": "494d71df-20fd-4231-b58b-498d4da6e283",
   "metadata": {},
   "outputs": [],
   "source": [
    "PROJECT_NAME = \"MicroStrategy Tutorial\"\n",
    "BASE_URL = \"https://env-276686.customer.cloud.microstrategy.com/MicroStrategyLibrary/api\"  # Insert URL for your env here\n",
    "MSTR_USERNAME = \"mstr\"  # Insert your env username here\n",
    "MSTR_PASSWORD = getpass.getpass()   # insert your mstr password here\n",
    "PROJECT_ID = \"B7CA92F04B9FAE8D941C3E9B7E0CD754\"  # Insert you project ID here"
   ]
  },
  {
   "cell_type": "code",
   "execution_count": null,
   "id": "6885c644-4604-4014-aaf5-41f46752c7f7",
   "metadata": {},
   "outputs": [],
   "source": [
    "# Currently, supported authentication modes are Standard (the default), guest and LDAP.\n",
    "# To use LDAP, add login_mode=16 when creating your Connection object:\n",
    "conn = Connection(BASE_URL, MSTR_USERNAME, MSTR_PASSWORD, project_id=PROJECT_ID, login_mode=1)"
   ]
  },
  {
   "cell_type": "markdown",
   "id": "7d091393-c127-416f-b7fc-278499fabe88",
   "metadata": {},
   "source": [
    "# Discovery all caches"
   ]
  },
  {
   "cell_type": "code",
   "execution_count": null,
   "id": "0d8e139b-fbc2-4828-8a98-4fcb6c6e446f",
   "metadata": {},
   "outputs": [],
   "source": [
    "print(list_cube_caches.__doc__)"
   ]
  },
  {
   "cell_type": "code",
   "execution_count": null,
   "id": "114e4e7f-a3c7-4509-9b2e-8bfcf430808f",
   "metadata": {},
   "outputs": [],
   "source": [
    "inspect.signature(list_cube_caches)"
   ]
  },
  {
   "cell_type": "code",
   "execution_count": null,
   "id": "46006f94-1f80-45d3-baae-6d2f50e3ff67",
   "metadata": {},
   "outputs": [],
   "source": [
    "cubeCaches = list_cube_caches(connection=conn)"
   ]
  },
  {
   "cell_type": "code",
   "execution_count": null,
   "id": "3fea02c0-3787-4150-948b-256f8f899355",
   "metadata": {},
   "outputs": [],
   "source": [
    "cubeCaches[0].list_properties()"
   ]
  },
  {
   "cell_type": "code",
   "execution_count": null,
   "id": "011f6d21-8ce0-4640-a87a-2aa39c1c06d2",
   "metadata": {},
   "outputs": [],
   "source": [
    "# By cube_id\n",
    "list_cube_caches(connection=conn, cube_id=\"ADA1BBA611E772111D000080EFE58BFC\")"
   ]
  },
  {
   "cell_type": "markdown",
   "id": "f01810d7-a19d-4375-aece-ec1e5e479839",
   "metadata": {},
   "source": [
    "There are other methods to use:\n",
    "\n",
    "```\n",
    "# list all caches\n",
    "list_cube_caches(connection=conn)\n",
    "# list all caches on a given node\n",
    "list_cube_caches(connection=conn, nodes=NODE_NAME)\n",
    "# list all loaded caches on a given node\n",
    "list_cube_caches(connection=conn, nodes=NODE_NAME, loaded=True)\n",
    "# list all cache on a given node for given cube\n",
    "list_cube_caches(connection=conn, nodes=NODE_NAME, cube_id=CUBE_ID)\n",
    "# list all cache on a given node for given database connection\n",
    "list_cube_caches(connection=conn, nodes=NODE_NAME, db_connection_id=DB_CONNECTION_ID)\n",
    "```"
   ]
  },
  {
   "cell_type": "markdown",
   "id": "c089f499-9799-46a6-a964-86805449b6e5",
   "metadata": {},
   "source": [
    "# Find Cache By ID"
   ]
  },
  {
   "cell_type": "code",
   "execution_count": null,
   "id": "dda06aae-2805-47c4-b5cd-2a0d6121ec85",
   "metadata": {},
   "outputs": [],
   "source": [
    "print(CubeCache.__init__.__doc__)"
   ]
  },
  {
   "cell_type": "code",
   "execution_count": null,
   "id": "50d1f451-e9bc-4733-bbbe-e8fb1109f5dc",
   "metadata": {},
   "outputs": [],
   "source": [
    "cube_cache = CubeCache(conn, cache_id=\"QUVEMEQ2ODgxMUU3NzIxMTFDRDkwMDgwRUZFNThCRkM6QjdDQTkyRjA0QjlGQUU4RDk0MUMzRTlCN0UwQ0Q3NTQ6ZW52LTI3NjY4NmxhaW91c2Ux\")\n",
    "cube_cache"
   ]
  },
  {
   "cell_type": "code",
   "execution_count": null,
   "id": "8827144f-ed2b-4d64-b885-507577d61950",
   "metadata": {},
   "outputs": [],
   "source": [
    "cube_cache.list_properties()"
   ]
  },
  {
   "cell_type": "code",
   "execution_count": null,
   "id": "8638b7fc-aaff-4026-8c2e-1a5d805fa0c9",
   "metadata": {},
   "outputs": [],
   "source": [
    "cube_cache.state"
   ]
  },
  {
   "cell_type": "code",
   "execution_count": null,
   "id": "51fcccb0-4f05-4142-ae8d-0856f925030e",
   "metadata": {},
   "outputs": [],
   "source": [
    "print(cube_cache.state.__doc__)"
   ]
  },
  {
   "cell_type": "code",
   "execution_count": null,
   "id": "a3086876-4b3a-423e-8f9a-c16c05f5db73",
   "metadata": {},
   "outputs": [],
   "source": [
    "print(cube_cache.source)"
   ]
  },
  {
   "cell_type": "markdown",
   "id": "288a20b6-8a8d-44fb-9a58-9530cf348e97",
   "metadata": {},
   "source": [
    "# Cache Management"
   ]
  },
  {
   "cell_type": "markdown",
   "id": "6befea6e-c5d6-4ed7-adfc-118faf272403",
   "metadata": {},
   "source": [
    "# Unload\n",
    "\n",
    "Operations on CubeCache object:\n",
    "\n",
    "- load\n",
    "- unload\n",
    "- activate\n",
    "- deactivate\n",
    "- fetch\n",
    "- delete\n",
    "\n",
    "Yon perform the operation using instance methodsor class methods on ContentCache class. "
   ]
  },
  {
   "cell_type": "code",
   "execution_count": null,
   "id": "2f112604-07d3-4587-b26f-3a14078a5089",
   "metadata": {},
   "outputs": [],
   "source": [
    "cube_cache.unload()"
   ]
  },
  {
   "cell_type": "code",
   "execution_count": null,
   "id": "2015d3f2-2002-4c62-9b69-73a7bb202bb3",
   "metadata": {},
   "outputs": [],
   "source": [
    "cube_cache.load()"
   ]
  },
  {
   "cell_type": "code",
   "execution_count": null,
   "id": "e49879b4-1ad3-4c56-a18a-0516ba324204",
   "metadata": {},
   "outputs": [],
   "source": [
    "content_cache.fetch()"
   ]
  },
  {
   "cell_type": "code",
   "execution_count": null,
   "id": "96f14b68-895e-4b61-8a0e-6034804178ff",
   "metadata": {},
   "outputs": [],
   "source": [
    "content_cache.delete(force = True)"
   ]
  },
  {
   "cell_type": "code",
   "execution_count": null,
   "id": "71259b59-6979-4279-91d3-f30ef567ac55",
   "metadata": {},
   "outputs": [],
   "source": [
    "ContentCache.load_caches(conn, cache_ids= [\"2C14A92A98450C71AC4567A16356221F\"])"
   ]
  },
  {
   "cell_type": "code",
   "execution_count": null,
   "id": "48738ce4-2d30-46cb-8276-246c2d4bd2f5",
   "metadata": {},
   "outputs": [],
   "source": [
    "ContentCache.unload_caches(conn, cache_ids= [\"2C14A92A98450C71AC4567A16356221F\"])"
   ]
  },
  {
   "cell_type": "code",
   "execution_count": null,
   "id": "746f8d9c-eee3-4347-ab63-6ac8a75bfbf0",
   "metadata": {},
   "outputs": [],
   "source": [
    "ContentCache.delete_caches(conn, cache_ids= [\"2C14A92A98450C71AC4567A16356221F\"])"
   ]
  },
  {
   "cell_type": "code",
   "execution_count": null,
   "id": "11b77c75-9af9-46b3-af88-8f2dcf29eeba",
   "metadata": {},
   "outputs": [],
   "source": [
    "print(ContentCache.__doc__)"
   ]
  },
  {
   "cell_type": "code",
   "execution_count": null,
   "id": "d4e41dae-8de8-4a51-8644-28e03d09cdfa",
   "metadata": {},
   "outputs": [],
   "source": []
  }
 ],
 "metadata": {
  "kernelspec": {
   "display_name": "Python 3 (ipykernel)",
   "language": "python",
   "name": "python3"
  },
  "language_info": {
   "codemirror_mode": {
    "name": "ipython",
    "version": 3
   },
   "file_extension": ".py",
   "mimetype": "text/x-python",
   "name": "python",
   "nbconvert_exporter": "python",
   "pygments_lexer": "ipython3",
   "version": "3.10.8"
  }
 },
 "nbformat": 4,
 "nbformat_minor": 5
}
