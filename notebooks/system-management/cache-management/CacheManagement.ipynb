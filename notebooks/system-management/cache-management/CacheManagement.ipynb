{
 "cells": [
  {
   "cell_type": "code",
   "execution_count": null,
   "id": "3f5c348f-9c64-4e49-89d2-f7dae15e3127",
   "metadata": {},
   "outputs": [],
   "source": [
    "from mstrio.connection import Connection\n",
    "import getpass\n",
    "import inspect\n",
    "from mstrio.project_objects.dossier import (\n",
    "    Dossier,\n",
    "    list_dossiers,\n",
    "    list_dossiers_across_projects\n",
    ")\n",
    "from mstrio.project_objects.content_cache import ContentCache"
   ]
  },
  {
   "cell_type": "code",
   "execution_count": null,
   "id": "494d71df-20fd-4231-b58b-498d4da6e283",
   "metadata": {},
   "outputs": [],
   "source": [
    "PROJECT_NAME = \"MicroStrategy Tutorial\"\n",
    "BASE_URL = \"https://env-276686.customer.cloud.microstrategy.com/MicroStrategyLibrary/api\"  # Insert URL for your env here\n",
    "MSTR_USERNAME = \"mstr\"  # Insert your env username here\n",
    "MSTR_PASSWORD = getpass.getpass()   # insert your mstr password here\n",
    "PROJECT_ID = \"B7CA92F04B9FAE8D941C3E9B7E0CD754\"  # Insert you project ID here"
   ]
  },
  {
   "cell_type": "code",
   "execution_count": null,
   "id": "6885c644-4604-4014-aaf5-41f46752c7f7",
   "metadata": {},
   "outputs": [],
   "source": [
    "# Currently, supported authentication modes are Standard (the default), guest and LDAP.\n",
    "# To use LDAP, add login_mode=16 when creating your Connection object:\n",
    "conn = Connection(BASE_URL, MSTR_USERNAME, MSTR_PASSWORD, project_id=PROJECT_ID, login_mode=1)"
   ]
  },
  {
   "cell_type": "markdown",
   "id": "7d091393-c127-416f-b7fc-278499fabe88",
   "metadata": {},
   "source": [
    "# Discovery all caches"
   ]
  },
  {
   "cell_type": "code",
   "execution_count": null,
   "id": "0d8e139b-fbc2-4828-8a98-4fcb6c6e446f",
   "metadata": {},
   "outputs": [],
   "source": [
    "print(ContentCache.list_caches.__doc__)"
   ]
  },
  {
   "cell_type": "code",
   "execution_count": null,
   "id": "114e4e7f-a3c7-4509-9b2e-8bfcf430808f",
   "metadata": {},
   "outputs": [],
   "source": [
    "inspect.signature(ContentCache.list_caches)"
   ]
  },
  {
   "cell_type": "code",
   "execution_count": null,
   "id": "46006f94-1f80-45d3-baae-6d2f50e3ff67",
   "metadata": {},
   "outputs": [],
   "source": [
    "ContentCache.list_caches(conn)"
   ]
  },
  {
   "cell_type": "code",
   "execution_count": null,
   "id": "011f6d21-8ce0-4640-a87a-2aa39c1c06d2",
   "metadata": {},
   "outputs": [],
   "source": [
    "dir(ContentCache)"
   ]
  },
  {
   "cell_type": "markdown",
   "id": "c089f499-9799-46a6-a964-86805449b6e5",
   "metadata": {},
   "source": [
    "# Find Cache"
   ]
  },
  {
   "cell_type": "code",
   "execution_count": null,
   "id": "50d1f451-e9bc-4733-bbbe-e8fb1109f5dc",
   "metadata": {},
   "outputs": [],
   "source": [
    "content_cache = ContentCache(conn, id=\"31C6E625CE454E60331B13A46E909135\")"
   ]
  },
  {
   "cell_type": "code",
   "execution_count": null,
   "id": "71bd1746-5768-45aa-99b6-9aba1958ed70",
   "metadata": {},
   "outputs": [],
   "source": [
    "content_cache"
   ]
  },
  {
   "cell_type": "code",
   "execution_count": null,
   "id": "a3086876-4b3a-423e-8f9a-c16c05f5db73",
   "metadata": {},
   "outputs": [],
   "source": [
    "print(content_cache.source)"
   ]
  },
  {
   "cell_type": "code",
   "execution_count": null,
   "id": "8827144f-ed2b-4d64-b885-507577d61950",
   "metadata": {},
   "outputs": [],
   "source": [
    "content_cache.list_properties()\n"
   ]
  },
  {
   "cell_type": "code",
   "execution_count": null,
   "id": "71259b59-6979-4279-91d3-f30ef567ac55",
   "metadata": {},
   "outputs": [],
   "source": []
  }
 ],
 "metadata": {
  "kernelspec": {
   "display_name": "Python 3 (ipykernel)",
   "language": "python",
   "name": "python3"
  },
  "language_info": {
   "codemirror_mode": {
    "name": "ipython",
    "version": 3
   },
   "file_extension": ".py",
   "mimetype": "text/x-python",
   "name": "python",
   "nbconvert_exporter": "python",
   "pygments_lexer": "ipython3",
   "version": "3.10.8"
  }
 },
 "nbformat": 4,
 "nbformat_minor": 5
}
