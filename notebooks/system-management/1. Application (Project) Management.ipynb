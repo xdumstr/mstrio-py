{
 "cells": [
  {
   "cell_type": "markdown",
   "metadata": {},
   "source": [
    "## Import mstrio"
   ]
  },
  {
   "cell_type": "code",
   "execution_count": 52,
   "metadata": {},
   "outputs": [],
   "source": [
    "from mstrio.connection import Connection\n",
    "from mstrio.admin.application import Environment, Application, compare_application_settings"
   ]
  },
  {
   "cell_type": "markdown",
   "metadata": {},
   "source": [
    "## Session \n",
    "\n",
    "Connection Information. And create session."
   ]
  },
  {
   "cell_type": "code",
   "execution_count": null,
   "metadata": {},
   "outputs": [
    {
     "name": "stdout",
     "output_type": "stream",
     "text": [
      "Connection to MicroStrategy Intelligence Server has been established.\n"
     ]
    }
   ],
   "source": [
    "base_url = \"https://env-248739.customer.cloud.microstrategy.com/MicroStrategyLibrary/api\"\n",
    "mstr_username = \"mstr\"\n",
    "mstr_password = \"\"\n",
    "project_id = \"B7CA92F04B9FAE8D941C3E9B7E0CD754\"\n",
    "conn = Connection(base_url, mstr_username, mstr_password, project_id=project_id)"
   ]
  },
  {
   "cell_type": "markdown",
   "metadata": {},
   "source": [
    "Get environment object"
   ]
  },
  {
   "cell_type": "code",
   "execution_count": 64,
   "metadata": {},
   "outputs": [],
   "source": [
    "env = Environment(connection=conn)"
   ]
  },
  {
   "cell_type": "markdown",
   "metadata": {},
   "source": [
    "## List all applications"
   ]
  },
  {
   "cell_type": "code",
   "execution_count": 69,
   "metadata": {},
   "outputs": [],
   "source": [
    "all_applications = env.list_applications()"
   ]
  },
  {
   "cell_type": "code",
   "execution_count": 70,
   "metadata": {},
   "outputs": [
    {
     "data": {
      "text/plain": [
       "[Application(connection, name='Consolidated Education Project', id='CE52831411E696C8BD2F0080EFD5AF44'),\n",
       " Application(connection, name='Hierarchies Project', id='B3FEE61A11E696C8BD0F0080EFC58F44'),\n",
       " Application(connection, name='Human Resources Analysis Module', id='4BAE16A340B995CAD24193AA3AC15D29'),\n",
       " Application(connection, name='MicroStrategy Tutorial', id='B7CA92F04B9FAE8D941C3E9B7E0CD754'),\n",
       " Application(connection, name='Platform Analytics', id='4452A9581744B4A1CBC7FC966D298224'),\n",
       " Application(connection, name='Relationships Project', id='4C09350211E69712BAEE0080EFB56D41'),\n",
       " Application(connection, name='Test Project 3', id='9D99957974410B8A1A148A9706006560')]"
      ]
     },
     "execution_count": 70,
     "metadata": {},
     "output_type": "execute_result"
    }
   ],
   "source": [
    "all_applications"
   ]
  },
  {
   "cell_type": "code",
   "execution_count": 57,
   "metadata": {},
   "outputs": [],
   "source": [
    "test = all_applications[-1]"
   ]
  },
  {
   "cell_type": "code",
   "execution_count": 44,
   "metadata": {},
   "outputs": [
    {
     "name": "stdout",
     "output_type": "stream",
     "text": [
      "'Test Project 3' unloaded on node 'env-248739laiouse1'.\n"
     ]
    }
   ],
   "source": [
    "test.unload()"
   ]
  },
  {
   "cell_type": "code",
   "execution_count": 49,
   "metadata": {},
   "outputs": [
    {
     "name": "stdout",
     "output_type": "stream",
     "text": [
      "Application will not load on startup\n"
     ]
    }
   ],
   "source": [
    "test.unregister()"
   ]
  },
  {
   "cell_type": "code",
   "execution_count": 58,
   "metadata": {},
   "outputs": [
    {
     "data": {
      "text/html": [
       "<div>\n",
       "<style scoped>\n",
       "    .dataframe tbody tr th:only-of-type {\n",
       "        vertical-align: middle;\n",
       "    }\n",
       "\n",
       "    .dataframe tbody tr th {\n",
       "        vertical-align: top;\n",
       "    }\n",
       "\n",
       "    .dataframe thead th {\n",
       "        text-align: right;\n",
       "    }\n",
       "</style>\n",
       "<table border=\"1\" class=\"dataframe\">\n",
       "  <thead>\n",
       "    <tr style=\"text-align: right;\">\n",
       "      <th></th>\n",
       "      <th>value</th>\n",
       "    </tr>\n",
       "  </thead>\n",
       "  <tbody>\n",
       "    <tr>\n",
       "      <th>id</th>\n",
       "      <td>9D99957974410B8A1A148A9706006560</td>\n",
       "    </tr>\n",
       "    <tr>\n",
       "      <th>name</th>\n",
       "      <td>Test Project 3</td>\n",
       "    </tr>\n",
       "    <tr>\n",
       "      <th>description</th>\n",
       "      <td>Test Project 3</td>\n",
       "    </tr>\n",
       "    <tr>\n",
       "      <th>date_created</th>\n",
       "      <td>2021-04-21T02:45:12.000+0000</td>\n",
       "    </tr>\n",
       "    <tr>\n",
       "      <th>date_modified</th>\n",
       "      <td>2021-04-21T02:45:23.000+0000</td>\n",
       "    </tr>\n",
       "    <tr>\n",
       "      <th>owner</th>\n",
       "      <td>{'name': 'MSTR User', 'id': '7FC05A65473CE2FD845CE6A1D3F13233'}</td>\n",
       "    </tr>\n",
       "  </tbody>\n",
       "</table>\n",
       "</div>"
      ],
      "text/plain": [
       "                                                                         value\n",
       "id                                            9D99957974410B8A1A148A9706006560\n",
       "name                                                            Test Project 3\n",
       "description                                                     Test Project 3\n",
       "date_created                                      2021-04-21T02:45:12.000+0000\n",
       "date_modified                                     2021-04-21T02:45:23.000+0000\n",
       "owner          {'name': 'MSTR User', 'id': '7FC05A65473CE2FD845CE6A1D3F13233'}"
      ]
     },
     "execution_count": 58,
     "metadata": {},
     "output_type": "execute_result"
    }
   ],
   "source": [
    "test.to_dataframe()"
   ]
  },
  {
   "cell_type": "markdown",
   "metadata": {},
   "source": [
    "### Create a project"
   ]
  },
  {
   "cell_type": "code",
   "execution_count": 65,
   "metadata": {},
   "outputs": [
    {
     "name": "stdout",
     "output_type": "stream",
     "text": [
      "Application 'Test Project 4' successfully created.\n",
      "Application object named: 'Test Project 4' with ID: '653DCCC0CE4B1E9E8F4BF0872FB7080A'\n"
     ]
    }
   ],
   "source": [
    "app = env.create_application(name=\"Test Project 4\", force=True)"
   ]
  },
  {
   "cell_type": "code",
   "execution_count": 66,
   "metadata": {},
   "outputs": [
    {
     "data": {
      "text/plain": [
       "Application(connection, name='Test Project 4', id='653DCCC0CE4B1E9E8F4BF0872FB7080A')"
      ]
     },
     "execution_count": 66,
     "metadata": {},
     "output_type": "execute_result"
    }
   ],
   "source": [
    "app"
   ]
  },
  {
   "cell_type": "code",
   "execution_count": null,
   "metadata": {},
   "outputs": [],
   "source": []
  },
  {
   "cell_type": "markdown",
   "metadata": {},
   "source": [
    "## Get project configuration"
   ]
  },
  {
   "cell_type": "code",
   "execution_count": 39,
   "metadata": {
    "scrolled": true
   },
   "outputs": [
    {
     "name": "stdout",
     "output_type": "stream",
     "text": [
      "400\n",
      "{'code': 'E100001', 'message': \"The project id '59995B6D461F6FFEC04148B962AC8E95' is invalid\", 'ticketId': 'c08432a264444603aef3189e66bc1d75'}\n"
     ]
    }
   ],
   "source": [
    "res = conn.session.get(url=conn.base_url + \"/api/v2/projects/59995B6D461F6FFEC04148B962AC8E95/settings\")\n",
    "print(res.status_code)\n",
    "print(res.json())"
   ]
  },
  {
   "cell_type": "markdown",
   "metadata": {},
   "source": [
    "## Update Project Configuration"
   ]
  },
  {
   "cell_type": "code",
   "execution_count": 93,
   "metadata": {},
   "outputs": [],
   "source": [
    "res = conn.session.patch(url=conn.base_url + \"/api/v2/projects/59995B6D461F6FFEC04148B962AC8E95/settings\",\n",
    "                         headers={\"Content-Type\":\"application/json\"},\n",
    "                         data='''\n",
    "   {\n",
    "     \"maxElementCacheMemoryConsumption\": {\n",
    "        \"value\": 1024\n",
    "    },\n",
    "    \"maxObjectCacheMemoryConsumption\": {\n",
    "        \"value\": 2048\n",
    "    },\n",
    "    \"reportCacheSwapFactor\": {\n",
    "        \"value\": 2\n",
    "    },\n",
    "    \"reportCacheLoadOnStart\": {\n",
    "      \"value\": true\n",
    "    },\n",
    "    \"maxRWDCacheMemoryConsumption\": {\n",
    "      \"value\": 1024\n",
    "    },\n",
    "    \"maxReportCacheCount\": {\n",
    "        \"value\": 100\n",
    "    },\n",
    "    \"maxRWDCacheCount\": {\n",
    "        \"value\": 100\n",
    "    },\n",
    "    \"reportCacheLifeTime\": {\n",
    "      \"value\": -1\n",
    "    }\n",
    "}''')"
   ]
  },
  {
   "cell_type": "markdown",
   "metadata": {},
   "source": [
    "## Get the information of the cluster nodes"
   ]
  },
  {
   "cell_type": "code",
   "execution_count": 94,
   "metadata": {},
   "outputs": [
    {
     "name": "stdout",
     "output_type": "stream",
     "text": [
      "200\n",
      "{'nodes': [{'name': 'TYCW4776S', 'port': 34952, 'status': 'running', 'load': 2, 'projects': [{'id': 'B7CA92F04B9FAE8D941C3E9B7E0CD754', 'name': 'MicroStrategy Tutorial', 'status': 'loaded'}, {'id': '30F8F5E54328E34EBD93E0AD286032EF', 'name': 'Platform Analytics', 'status': 'loaded'}, {'id': 'D5835B164FB8521340B51DB2CA5F7CDC', 'name': 'Test Project', 'status': 'unloaded'}, {'id': '142ECEEB4BBAE6F74D8F3AAB2BA2B82D', 'name': 'Test Project2', 'status': 'unloaded'}, {'id': '59995B6D461F6FFEC04148B962AC8E95', 'name': 'Test Project 3', 'status': 'loaded'}], 'default': True}]}\n"
     ]
    }
   ],
   "source": [
    "res = conn.session.get(url=conn.base_url + \"/api/monitors/iServer/nodes\")\n",
    "print(res.status_code)\n",
    "print(res.json())"
   ]
  },
  {
   "cell_type": "markdown",
   "metadata": {},
   "source": [
    "## Unload a project"
   ]
  },
  {
   "cell_type": "code",
   "execution_count": 31,
   "metadata": {},
   "outputs": [],
   "source": [
    "res = conn.session.patch(url=conn.base_url + \"/api/monitors/iServer/nodes/TYCW4776S/projects/142ECEEB4BBAE6F74D8F3AAB2BA2B82D\",\n",
    "                         headers={\"Content-Type\":\"application/json\"},\n",
    "                         data='''\n",
    "    {\"operationList\": [\n",
    "        {\n",
    "            \"op\": \"replace\",\n",
    "            \"path\": \"/status\",\n",
    "            \"value\": \"unloaded\"\n",
    "        }\n",
    "    ]}''')"
   ]
  },
  {
   "cell_type": "code",
   "execution_count": 32,
   "metadata": {},
   "outputs": [
    {
     "name": "stdout",
     "output_type": "stream",
     "text": [
      "202\n",
      "{'project': {'name': 'Test Project2', 'id': '142ECEEB4BBAE6F74D8F3AAB2BA2B82D', 'status': 'pending'}}\n"
     ]
    }
   ],
   "source": [
    "print(res.status_code)\n",
    "print(res.json())"
   ]
  },
  {
   "cell_type": "code",
   "execution_count": 55,
   "metadata": {},
   "outputs": [
    {
     "name": "stdout",
     "output_type": "stream",
     "text": [
      "200\n",
      "{'nodes': [{'name': 'TYCW4776S', 'port': 34952, 'status': 'running', 'load': 2, 'projects': [{'id': 'B7CA92F04B9FAE8D941C3E9B7E0CD754', 'name': 'MicroStrategy Tutorial', 'status': 'loaded'}, {'id': '30F8F5E54328E34EBD93E0AD286032EF', 'name': 'Platform Analytics', 'status': 'loaded'}, {'id': 'D5835B164FB8521340B51DB2CA5F7CDC', 'name': 'Test Project', 'status': 'loaded'}, {'id': '142ECEEB4BBAE6F74D8F3AAB2BA2B82D', 'name': 'Test Project2', 'status': 'unloaded'}], 'default': True}]}\n"
     ]
    }
   ],
   "source": [
    "res = conn.session.get(url=conn.base_url + \"/api/monitors/iServer/nodes\")\n",
    "print(res.status_code)\n",
    "print(res.json())"
   ]
  },
  {
   "cell_type": "markdown",
   "metadata": {},
   "source": [
    "## Get project startup settings"
   ]
  },
  {
   "cell_type": "code",
   "execution_count": 73,
   "metadata": {},
   "outputs": [],
   "source": [
    "res = conn.session.get(url=conn.base_url + \"/api/projects/settings/onStartup\",\n",
    "                         headers={\"Content-Type\":\"application/json\"}\n",
    "                         )"
   ]
  },
  {
   "cell_type": "code",
   "execution_count": 74,
   "metadata": {},
   "outputs": [
    {
     "name": "stdout",
     "output_type": "stream",
     "text": [
      "200\n",
      "{'projects': {'142ECEEB4BBAE6F74D8F3AAB2BA2B82D': {'name': 'Test Project2', 'id': '142ECEEB4BBAE6F74D8F3AAB2BA2B82D', 'nodes': []}, '30F8F5E54328E34EBD93E0AD286032EF': {'name': 'Platform Analytics', 'id': '30F8F5E54328E34EBD93E0AD286032EF', 'nodes': ['TYCW4776S.corp.microstrategy.com']}, 'B7CA92F04B9FAE8D941C3E9B7E0CD754': {'name': 'MicroStrategy Tutorial', 'id': 'B7CA92F04B9FAE8D941C3E9B7E0CD754', 'nodes': ['TYCW4776S.corp.microstrategy.com']}, 'D5835B164FB8521340B51DB2CA5F7CDC': {'name': 'Test Project', 'id': 'D5835B164FB8521340B51DB2CA5F7CDC', 'nodes': []}}}\n"
     ]
    }
   ],
   "source": [
    "print(res.status_code)\n",
    "print(res.json())"
   ]
  },
  {
   "cell_type": "markdown",
   "metadata": {},
   "source": [
    "## Change project startup settings.  (Unregister Project)"
   ]
  },
  {
   "cell_type": "code",
   "execution_count": 75,
   "metadata": {},
   "outputs": [],
   "source": [
    "res = conn.session.patch(url=conn.base_url + \"/api/projects/settings/onStartup\",\n",
    "                         headers={\"Content-Type\":\"application/json\"},\n",
    "                         data='''{ \"operationList\":[ {\n",
    "                                 \"op\":\"replace\",\n",
    "                                 \"path\":\"/projects/D5835B164FB8521340B51DB2CA5F7CDC/nodes\",\n",
    "                                 \"value\": []\n",
    "                              }]}\n",
    "                              '''\n",
    "                         )"
   ]
  },
  {
   "cell_type": "code",
   "execution_count": 76,
   "metadata": {},
   "outputs": [
    {
     "name": "stdout",
     "output_type": "stream",
     "text": [
      "200\n",
      "{'projects': {'142ECEEB4BBAE6F74D8F3AAB2BA2B82D': {'name': 'Test Project2', 'id': '142ECEEB4BBAE6F74D8F3AAB2BA2B82D', 'nodes': []}, '30F8F5E54328E34EBD93E0AD286032EF': {'name': 'Platform Analytics', 'id': '30F8F5E54328E34EBD93E0AD286032EF', 'nodes': ['TYCW4776S.corp.microstrategy.com']}, 'B7CA92F04B9FAE8D941C3E9B7E0CD754': {'name': 'MicroStrategy Tutorial', 'id': 'B7CA92F04B9FAE8D941C3E9B7E0CD754', 'nodes': ['TYCW4776S.corp.microstrategy.com']}, 'D5835B164FB8521340B51DB2CA5F7CDC': {'name': 'Test Project', 'id': 'D5835B164FB8521340B51DB2CA5F7CDC', 'nodes': []}}}\n"
     ]
    }
   ],
   "source": [
    "print(res.status_code)\n",
    "print(res.json())"
   ]
  },
  {
   "cell_type": "markdown",
   "metadata": {},
   "source": [
    "## Get Server Configuration"
   ]
  },
  {
   "cell_type": "code",
   "execution_count": 98,
   "metadata": {},
   "outputs": [
    {
     "name": "stdout",
     "output_type": "stream",
     "text": [
      "{'maxUsedVirtualByte': {'value': 99}, 'importSAPUser': {'value': False}, 'maxInboxMsgLifeTime': {'value': -1}, 'hashIterations': {'value': 10000}, 'tokenTTL': {'value': 1440}, 'loadBalanceMode': {'value': False}, 'maxLoginAttempt': {'value': -1}, 'maxUserConnectionIdleTime': {'value': 7200}, 'syncGroupWithSAPRoles': {'value': False}, 'maxInteractiveJobsPerServer': {'value': -1}, 'pastPasswordRemembered': {'value': 0}, 'enableTokenAsymmetricEncryption': {'value': False}, 'pdfMaxMemoryConsumption': {'value': 536870912}, 'historyListRunningStatus': {'value': False}, 'userAffinityFlag': {'value': False}, 'enableBackgroundDiExecution': {'value': False}, 'minLowerCasePasswordChars': {'value': 0}, 'statsLogging2ProjectGUID': {'value': '00000000000000000000000000000000'}, 'sessionRecoveryPath': {'value': '.\\\\Inbox\\\\cloud_10s'}, 'memoryRequestIdleTime': {'value': 600}, 'serverSchedulerFlag': {'value': True}, 'synchUserAtLogon': {'value': False}, 'memoryReservePercentage': {'value': 10}, 'minCharsPasswordChanges': {'value': 0}, 'hLAutoDeleteTimestamp': {'value': 2097152}, 'catalogMaxMemoryConsumption': {'value': 0}, 'includeLDAPUsersForAuditoringFlag': {'value': False}, 'cacheCleanUpFrequency': {'value': -1}, 'networkThreads': {'value': 5}, 'xmlMaxMemoryConsumption': {'value': 536870912}, 'minFreeMemory': {'value': 0}, 'defaultLicenseComplianceCheckTime': {'value': '23:59:00'}, 'allowUserLoginWithFullName': {'value': True}, 'mediumPriorityConns': {'value': 1}, 'minPasswordLength': {'value': 0}, 'userAffinityLoadBalancingFlag': {'value': False}, 'workSetMaxMemoryConsumption': {'value': 2147483648}, 'backupPeriodicity': {'value': 0}, 'htmlMaxMemoryConsumption': {'value': 536870912}, 'historyListDatabase': {'value': '00000000000000000000000000000000'}, 'minUpperCasePasswordChars': {'value': 0}, 'enableReportCacheBackup': {'value': True}, 'importUserAtLogon': {'value': False}, 'statsLogging2AllProjects': {'value': True}, 'workSetSwapPath': {'value': '.\\\\TmpPool'}, 'ignoreGovernorOnChild': {'value': False}, 'enableAutoSessionRecovery': {'value': True}, 'maxJobsPerServer': {'value': 10000}, 'maxUserConnectionPerServer': {'value': 320}, 'maxInboxMsgCountPerUser': {'value': 10000}, 'smartMemoryUsage4IntelligenceServer': {'value': 0}, 'minSpecialPasswordChars': {'value': 0}, 'minNumericPasswordChars': {'value': 0}, 'serverMSIPerformanceMonitoringFlag': {'value': True}, 'maxXmlNodes': {'value': 1000000}, 'hLRepositoryType': {'value': 2}, 'extendedSessionIdleTime': {'value': 1800}, 'allowRotatingCharFromLastPassword': {'value': True}, 'importSAPGroups': {'value': False}, 'memoryReserve': {'value': 0}, 'allowLoginIfNotLinked': {'value': False}, 'maxSchedulerConnectionIdleTime': {'value': 300}, 'excelMaxMemoryConsumption': {'value': 536870912}, 'historyDirectoryPath': {'value': '.\\\\Inbox\\\\cloud_10s'}, 'maxXmlDrillPaths': {'value': 100}, 'highPriorityConns': {'value': 1}, 'lowPriorityConns': {'value': 20}, 'sessionRecoveryExpirationTime': {'value': 168}, 'maxWebConnectionIdleTime': {'value': 600}, 'autoUpdateCredentials': {'value': 1}, 'hLAutoDeleteMsgCount': {'value': -1}, 'maxContractLimitPercentage': {'value': -1}, 'maxUsedPrivateByte': {'value': 97}, 'hybridCentralInboxFilePath': {'value': '.'}, 'maxContractLimit': {'value': -1}, 'hLAutoDeleteErrorMsgFirst': {'value': True}, 'virtualByteLimitPercent': {'value': 90}}\n"
     ]
    }
   ],
   "source": [
    "res = conn.session.get(url=conn.base_url + \"/api/v2/iserver/settings\",\n",
    "                         headers={\"Content-Type\":\"application/json\"}\n",
    "                         )\n",
    "# print(res.status_code)\n",
    "print(res.json())"
   ]
  },
  {
   "cell_type": "markdown",
   "metadata": {},
   "source": [
    "## Change Server Configuration"
   ]
  },
  {
   "cell_type": "code",
   "execution_count": 101,
   "metadata": {},
   "outputs": [
    {
     "name": "stdout",
     "output_type": "stream",
     "text": [
      "{'maxUsedVirtualByte': {'value': 99}, 'importSAPUser': {'value': False}, 'maxInboxMsgLifeTime': {'value': -1}, 'hashIterations': {'value': 10000}, 'tokenTTL': {'value': 1440}, 'loadBalanceMode': {'value': False}, 'maxLoginAttempt': {'value': -1}, 'maxUserConnectionIdleTime': {'value': 7200}, 'syncGroupWithSAPRoles': {'value': False}, 'maxInteractiveJobsPerServer': {'value': -1}, 'pastPasswordRemembered': {'value': 0}, 'enableTokenAsymmetricEncryption': {'value': False}, 'pdfMaxMemoryConsumption': {'value': 536870912}, 'historyListRunningStatus': {'value': False}, 'userAffinityFlag': {'value': False}, 'enableBackgroundDiExecution': {'value': False}, 'minLowerCasePasswordChars': {'value': 0}, 'statsLogging2ProjectGUID': {'value': '00000000000000000000000000000000'}, 'sessionRecoveryPath': {'value': '.\\\\Inbox\\\\cloud_10s'}, 'memoryRequestIdleTime': {'value': 600}, 'serverSchedulerFlag': {'value': True}, 'synchUserAtLogon': {'value': False}, 'memoryReservePercentage': {'value': 10}, 'minCharsPasswordChanges': {'value': 0}, 'hLAutoDeleteTimestamp': {'value': 2097152}, 'catalogMaxMemoryConsumption': {'value': 0}, 'includeLDAPUsersForAuditoringFlag': {'value': False}, 'cacheCleanUpFrequency': {'value': -1}, 'networkThreads': {'value': 5}, 'xmlMaxMemoryConsumption': {'value': 536870912}, 'minFreeMemory': {'value': 0}, 'defaultLicenseComplianceCheckTime': {'value': '23:59:00'}, 'allowUserLoginWithFullName': {'value': True}, 'mediumPriorityConns': {'value': 1}, 'minPasswordLength': {'value': 0}, 'userAffinityLoadBalancingFlag': {'value': False}, 'workSetMaxMemoryConsumption': {'value': 2147483648}, 'backupPeriodicity': {'value': 0}, 'htmlMaxMemoryConsumption': {'value': 536870912}, 'historyListDatabase': {'value': '00000000000000000000000000000000'}, 'minUpperCasePasswordChars': {'value': 0}, 'enableReportCacheBackup': {'value': True}, 'importUserAtLogon': {'value': False}, 'statsLogging2AllProjects': {'value': True}, 'workSetSwapPath': {'value': '.\\\\TmpPool'}, 'ignoreGovernorOnChild': {'value': False}, 'enableAutoSessionRecovery': {'value': True}, 'maxJobsPerServer': {'value': 10000}, 'maxUserConnectionPerServer': {'value': 320}, 'maxInboxMsgCountPerUser': {'value': 10000}, 'smartMemoryUsage4IntelligenceServer': {'value': 0}, 'minSpecialPasswordChars': {'value': 0}, 'minNumericPasswordChars': {'value': 0}, 'serverMSIPerformanceMonitoringFlag': {'value': True}, 'maxXmlNodes': {'value': 1000000}, 'hLRepositoryType': {'value': 2}, 'extendedSessionIdleTime': {'value': 1800}, 'allowRotatingCharFromLastPassword': {'value': True}, 'importSAPGroups': {'value': False}, 'memoryReserve': {'value': 0}, 'allowLoginIfNotLinked': {'value': False}, 'maxSchedulerConnectionIdleTime': {'value': 300}, 'excelMaxMemoryConsumption': {'value': 536870912}, 'historyDirectoryPath': {'value': '.\\\\Inbox\\\\cloud_10s'}, 'maxXmlDrillPaths': {'value': 100}, 'highPriorityConns': {'value': 1}, 'lowPriorityConns': {'value': 20}, 'sessionRecoveryExpirationTime': {'value': 168}, 'maxWebConnectionIdleTime': {'value': 600}, 'autoUpdateCredentials': {'value': 1}, 'hLAutoDeleteMsgCount': {'value': -1}, 'maxContractLimitPercentage': {'value': -1}, 'maxUsedPrivateByte': {'value': 97}, 'hybridCentralInboxFilePath': {'value': '.'}, 'maxContractLimit': {'value': -1}, 'hLAutoDeleteErrorMsgFirst': {'value': True}, 'virtualByteLimitPercent': {'value': 90}}\n"
     ]
    }
   ],
   "source": [
    "res = conn.session.patch(url=conn.base_url + \"/api/v2/iserver/settings\",\n",
    "                         headers={\"Content-Type\":\"application/json\"},\n",
    "                         data='''{\n",
    "                             \"maxUserConnectionIdleTime\": {\n",
    "                                \"value\": 7200\n",
    "                             }\n",
    "                             }'''\n",
    "                         )\n",
    "\n",
    "print(res.json())"
   ]
  },
  {
   "cell_type": "markdown",
   "metadata": {},
   "source": [
    "## Close Session"
   ]
  },
  {
   "cell_type": "code",
   "execution_count": 77,
   "metadata": {},
   "outputs": [
    {
     "name": "stdout",
     "output_type": "stream",
     "text": [
      "Connection to MicroStrategy Intelligence Server has been closed\n"
     ]
    }
   ],
   "source": [
    "conn.close()"
   ]
  }
 ],
 "metadata": {
  "kernelspec": {
   "display_name": "Python 3 (ipykernel)",
   "language": "python",
   "name": "python3"
  },
  "language_info": {
   "codemirror_mode": {
    "name": "ipython",
    "version": 3
   },
   "file_extension": ".py",
   "mimetype": "text/x-python",
   "name": "python",
   "nbconvert_exporter": "python",
   "pygments_lexer": "ipython3",
   "version": "3.10.8"
  }
 },
 "nbformat": 4,
 "nbformat_minor": 4
}
