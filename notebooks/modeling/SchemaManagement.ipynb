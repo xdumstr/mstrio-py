{
 "cells": [
  {
   "cell_type": "code",
   "execution_count": null,
   "id": "64d0095d-baef-4ae9-874b-371cea5f724f",
   "metadata": {},
   "outputs": [],
   "source": [
    "import getpass\n",
    "import inspect\n",
    "from mstrio.connection import Connection\n",
    "from mstrio.modeling.schema import *\n",
    "from mstrio.server import *"
   ]
  },
  {
   "cell_type": "code",
   "execution_count": null,
   "id": "358d8fe6-134e-49e0-ab8c-306b010546fe",
   "metadata": {
    "tags": []
   },
   "outputs": [],
   "source": [
    "PROJECT_NAME = \"MicroStrategy Tutorial\"\n",
    "BASE_URL = \"http://10.23.35.137:8080/MicroStrategyLibrary/api\"\n",
    "MSTR_USERNAME = \"administrator\"  # Insert your env username here\n",
    "MSTR_PASSWORD = \"\"   # insert your mstr password here"
   ]
  },
  {
   "cell_type": "code",
   "execution_count": null,
   "id": "1ddeff07-a531-424e-babe-cb8b20f3b847",
   "metadata": {},
   "outputs": [],
   "source": [
    "conn = Connection(BASE_URL, MSTR_USERNAME, MSTR_PASSWORD, login_mode=1)"
   ]
  },
  {
   "cell_type": "code",
   "execution_count": null,
   "id": "ef17cc83-bdf6-41a6-b8a1-fd09001d11bc",
   "metadata": {},
   "outputs": [],
   "source": [
    "env = Environment(conn)\n",
    "env.list_projects()"
   ]
  },
  {
   "cell_type": "code",
   "execution_count": null,
   "id": "f025fc65-604f-4ab1-9266-46759b05ea7c",
   "metadata": {},
   "outputs": [],
   "source": [
    "conn.select_project(\"2FAF47F94024E5EE35048789DCF28FB8\")"
   ]
  },
  {
   "cell_type": "markdown",
   "id": "a449bf77-f6c0-4cfc-bff0-56d790755491",
   "metadata": {},
   "source": [
    "# SchemaManagement\n",
    "\n",
    "1. Create an instance of Schemamanagement \n",
    "1. use it to lock and unlock schema. \n",
    "    - lock():  to lock\n",
    "    - unlock(): to unlock\n",
    "    - get_status(): to check lock status\n",
    "    - reload(): to reload schema objects to project"
   ]
  },
  {
   "cell_type": "code",
   "execution_count": null,
   "id": "ac70756f-f072-43de-8b90-704c6a9c03e8",
   "metadata": {},
   "outputs": [],
   "source": [
    "# create an object to manage the schema\n",
    "schema_mgmt = SchemaManagement(conn)"
   ]
  },
  {
   "cell_type": "code",
   "execution_count": null,
   "id": "4ede44f2-eaa1-4086-88f1-43373eee05e2",
   "metadata": {},
   "outputs": [],
   "source": [
    "print(SchemaManagement.__doc__)"
   ]
  },
  {
   "cell_type": "markdown",
   "id": "49ed3fef-2ea7-4025-aa04-64c59b72dacf",
   "metadata": {},
   "source": [
    "## Lock, unlock, and reload"
   ]
  },
  {
   "cell_type": "code",
   "execution_count": null,
   "id": "f3e77c08-37c3-4fe4-b4bc-b1ab67ed2e8e",
   "metadata": {},
   "outputs": [],
   "source": [
    "schema_mgmt.lock_type"
   ]
  },
  {
   "cell_type": "code",
   "execution_count": null,
   "id": "57505d74-c0e6-49fe-ba67-db5a6e6d6bc9",
   "metadata": {},
   "outputs": [],
   "source": [
    "schema_mgmt.get_lock_status()"
   ]
  },
  {
   "cell_type": "code",
   "execution_count": null,
   "id": "aa03acae-49c5-4964-abf8-e3583315cfab",
   "metadata": {},
   "outputs": [],
   "source": [
    "print(SchemaManagement.lock.__doc__)"
   ]
  },
  {
   "cell_type": "code",
   "execution_count": null,
   "id": "d93c69b1-49c8-474a-8b56-12b11e96d44c",
   "metadata": {},
   "outputs": [],
   "source": [
    "schema_mgmt.lock(SchemaLockType.ABSOLUTE_INDIVIDUAL)"
   ]
  },
  {
   "cell_type": "code",
   "execution_count": null,
   "id": "4073c338-3ad1-4ddf-8add-464a6bf43cb2",
   "metadata": {},
   "outputs": [],
   "source": [
    "tasks = schema_mgmt.tasks\n",
    "tasks"
   ]
  },
  {
   "cell_type": "code",
   "execution_count": null,
   "id": "42ed7c29-aadd-4471-98ab-7509c199dff0",
   "metadata": {},
   "outputs": [],
   "source": [
    "task = schema_mgmt.reload(\n",
    "    # update_types=[SchemaUpdateType.CLEAR_ELEMENT_CACHE, SchemaUpdateType.ENTRY_LEVEL]\n",
    ")\n"
   ]
  },
  {
   "cell_type": "code",
   "execution_count": null,
   "id": "5a7bb8e7-64d0-403e-b4e7-76b39d6c1e94",
   "metadata": {},
   "outputs": [],
   "source": [
    "schema_mgmt.get_lock_status()"
   ]
  },
  {
   "cell_type": "code",
   "execution_count": null,
   "id": "0f49eeaf-40f5-492a-9af3-6590b542ffe2",
   "metadata": {},
   "outputs": [],
   "source": [
    "schema_mgmt.unlock()"
   ]
  }
 ],
 "metadata": {
  "kernelspec": {
   "display_name": "Python 3 (ipykernel)",
   "language": "python",
   "name": "python3"
  },
  "language_info": {
   "codemirror_mode": {
    "name": "ipython",
    "version": 3
   },
   "file_extension": ".py",
   "mimetype": "text/x-python",
   "name": "python",
   "nbconvert_exporter": "python",
   "pygments_lexer": "ipython3",
   "version": "3.10.8"
  }
 },
 "nbformat": 4,
 "nbformat_minor": 5
}
