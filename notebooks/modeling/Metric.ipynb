{
 "cells": [
  {
   "cell_type": "code",
   "execution_count": null,
   "id": "02bf6efb-bf61-4eaa-a77c-80e8e98ffaa5",
   "metadata": {},
   "outputs": [],
   "source": [
    "from mstrio.modeling import *\n",
    "from mstrio.connection import Connection\n",
    "\n",
    "import inspect\n",
    "import getpass"
   ]
  },
  {
   "cell_type": "code",
   "execution_count": null,
   "id": "35f7a4d0-5a28-4743-8b27-1fb012f7ae46",
   "metadata": {},
   "outputs": [],
   "source": [
    "BASE_URL = \"http://10.23.35.137:8080/MicroStrategyLibrary/api\"  # Insert URL for your env here\n",
    "MSTR_USERNAME = \"administrator\"  # Insert your env username here\n",
    "MSTR_PASSWORD = getpass.getpass()  # insert your mstr password here\n",
    "PROJECT_ID = \"2FAF47F94024E5EE35048789DCF28FB8\"  # Insert you project ID here"
   ]
  },
  {
   "cell_type": "code",
   "execution_count": null,
   "id": "1c60afc2-1438-4228-8a22-06f22908626b",
   "metadata": {},
   "outputs": [],
   "source": [
    "conn = Connection(BASE_URL, MSTR_USERNAME, MSTR_PASSWORD, project_id=PROJECT_ID, login_mode=1)"
   ]
  },
  {
   "cell_type": "markdown",
   "id": "61bd7012-f73d-4d56-83cf-7dd30d64ed1f",
   "metadata": {},
   "source": [
    "# Discover Metrics"
   ]
  },
  {
   "cell_type": "markdown",
   "id": "1f257fed-d79e-4b9d-bc80-76f3d7ebc150",
   "metadata": {},
   "source": [
    "## List"
   ]
  },
  {
   "cell_type": "code",
   "execution_count": null,
   "id": "de82d9aa-194b-409c-bc0d-d6cc6ce8e6da",
   "metadata": {},
   "outputs": [],
   "source": [
    "print(list_metrics.__doc__)"
   ]
  },
  {
   "cell_type": "code",
   "execution_count": null,
   "id": "01bf1c47-d758-432b-b2b2-52d6eab47314",
   "metadata": {},
   "outputs": [],
   "source": [
    "inspect.signature(list_metrics)"
   ]
  },
  {
   "cell_type": "code",
   "execution_count": null,
   "id": "2293a03c-8bc7-410f-b176-a4332ff49927",
   "metadata": {},
   "outputs": [],
   "source": [
    "metrics = list_metrics(conn, project_id=\"2FAF47F94024E5EE35048789DCF28FB8\")\n",
    "metrics"
   ]
  },
  {
   "cell_type": "code",
   "execution_count": null,
   "id": "553daddb-44db-44eb-91e9-b583561624a2",
   "metadata": {},
   "outputs": [],
   "source": [
    "list_metrics(conn, search_pattern=SearchPattern.EXACTLY, name=\"Revenue\")"
   ]
  },
  {
   "cell_type": "markdown",
   "id": "8309504d-1120-4d5e-9c73-1befdb05d09c",
   "metadata": {},
   "source": [
    "## Get by id"
   ]
  },
  {
   "cell_type": "code",
   "execution_count": null,
   "id": "f0ed4e57-d6a3-4029-a53f-585614e73298",
   "metadata": {},
   "outputs": [],
   "source": [
    "print(Metric.__init__.__doc__)"
   ]
  },
  {
   "cell_type": "code",
   "execution_count": null,
   "id": "5277ecaf-5b51-43fa-ab5a-122d93d640a6",
   "metadata": {},
   "outputs": [],
   "source": [
    "metric = Metric(conn, id=\"4C05177011D3E877C000B3B2D86C964F\")"
   ]
  },
  {
   "cell_type": "markdown",
   "id": "ab0ba2f6-4eee-4dd2-b435-fa435fb3a81e",
   "metadata": {},
   "source": [
    "## Properties"
   ]
  },
  {
   "cell_type": "code",
   "execution_count": null,
   "id": "896a42c4-235e-4fce-be79-171036a4da0a",
   "metadata": {},
   "outputs": [],
   "source": [
    "metric.list_properties()"
   ]
  },
  {
   "cell_type": "code",
   "execution_count": null,
   "id": "ecb86ed0-c6bc-4e43-a03b-4175dd930612",
   "metadata": {},
   "outputs": [],
   "source": [
    "metric.metric_subtotals"
   ]
  },
  {
   "cell_type": "code",
   "execution_count": null,
   "id": "5aba3900-cef4-4106-af81-7bdd76f8bd4b",
   "metadata": {},
   "outputs": [],
   "source": [
    "metric.id"
   ]
  },
  {
   "cell_type": "code",
   "execution_count": null,
   "id": "4c3a84c2-5b8d-47ba-8dbb-0dcb7f0db163",
   "metadata": {},
   "outputs": [],
   "source": [
    "metric.name"
   ]
  },
  {
   "cell_type": "code",
   "execution_count": null,
   "id": "ac13e326-7e03-4760-8f57-7e2ec068c254",
   "metadata": {},
   "outputs": [],
   "source": [
    "metric.sub_type"
   ]
  },
  {
   "cell_type": "code",
   "execution_count": null,
   "id": "9daacd0b-102f-40db-8d4a-74050732a527",
   "metadata": {},
   "outputs": [],
   "source": [
    "print(metric.sub_type.__doc__)"
   ]
  },
  {
   "cell_type": "code",
   "execution_count": null,
   "id": "c31f6456-e981-4f4e-80a2-c2f055272f0f",
   "metadata": {},
   "outputs": [],
   "source": [
    "metric.aggregate_from_base"
   ]
  },
  {
   "cell_type": "code",
   "execution_count": null,
   "id": "7e80e1a1-7feb-404d-a06e-d435283dc256",
   "metadata": {},
   "outputs": [],
   "source": [
    "metric.dimensionality"
   ]
  },
  {
   "cell_type": "markdown",
   "id": "3471d001-f981-4a34-9895-df56352eb134",
   "metadata": {},
   "source": [
    "# Create Metric"
   ]
  },
  {
   "cell_type": "markdown",
   "id": "fd477d28-7489-4dea-8b36-39bb11b68ebb",
   "metadata": {},
   "source": [
    "## Create Metric Expression"
   ]
  },
  {
   "cell_type": "code",
   "execution_count": null,
   "id": "8b40bf5b-67d6-4b01-bf57-eef7c3351094",
   "metadata": {},
   "outputs": [],
   "source": [
    "expression_data = {\n",
    "        \"tokens\": [\n",
    "          {\n",
    "            \"value\": \"Sum([Revenue])\"\n",
    "          }\n",
    "        ]\n",
    "      }"
   ]
  },
  {
   "cell_type": "code",
   "execution_count": null,
   "id": "adaafdf5-bbc8-4297-ba83-f5f162534d5e",
   "metadata": {},
   "outputs": [],
   "source": [
    "def create_expression_with_tokens(expression):\n",
    "    tokens_data = expression[\"tokens\"]\n",
    "    tokens = []\n",
    "    for t in tokens_data:\n",
    "        # Simple Token with just value\n",
    "        tokens.append(Token(value=t[\"value\"]))\n",
    "    # This doesn't work with simple token\n",
    "    return Expression(\n",
    "        tokens=tokens\n",
    "    )"
   ]
  },
  {
   "cell_type": "code",
   "execution_count": null,
   "id": "55644472-e0f6-4b9e-89b8-8b15635bb18e",
   "metadata": {},
   "outputs": [],
   "source": [
    "expression_obj = create_expression_with_tokens(expression_data)"
   ]
  },
  {
   "cell_type": "markdown",
   "id": "62f787ea-f34b-41e2-8d42-f335de30f64c",
   "metadata": {},
   "source": [
    "## Helper function"
   ]
  },
  {
   "cell_type": "code",
   "execution_count": null,
   "id": "9340e239-cb24-49bd-8955-6487a2a72c23",
   "metadata": {},
   "outputs": [],
   "source": [
    "def get_enum_from_str(type, s):\n",
    "    for t in type:\n",
    "        if t.value == s:\n",
    "            return t\n",
    "    raise Exception(\"Incorrect string \"+s +\" for type: \" + type)\n"
   ]
  },
  {
   "cell_type": "markdown",
   "id": "87337cb0-fc5c-43db-8fe7-d1847e512112",
   "metadata": {},
   "source": [
    "## Create Metric Dimty"
   ]
  },
  {
   "cell_type": "code",
   "execution_count": null,
   "id": "8303d062-a62e-47dc-84ac-eabe2efcdcdf",
   "metadata": {},
   "outputs": [],
   "source": [
    "inspect.signature(Dimensionality.__init__)"
   ]
  },
  {
   "cell_type": "code",
   "execution_count": null,
   "id": "05d78e1b-dadf-43c9-aaf4-46a410ba21ce",
   "metadata": {},
   "outputs": [],
   "source": [
    "dimty_data = {\n",
    "        \"dimtyUnits\": [\n",
    "          {\n",
    "            \"dimtyUnitType\": \"report_base_level\",\n",
    "            \"aggregation\": \"normal\",\n",
    "            \"filtering\": \"apply\",\n",
    "            \"groupBy\": True\n",
    "          }\n",
    "        ],\n",
    "        \"excludeAttribute\": False,\n",
    "        \"allowAddingUnit\": True\n",
    "      }"
   ]
  },
  {
   "cell_type": "code",
   "execution_count": null,
   "id": "43ba29cb-d9ba-4918-80b9-e768ed9ca0a3",
   "metadata": {},
   "outputs": [],
   "source": [
    "def create_dimty(dimty_data):\n",
    "\n",
    "    if dimty_data is None: return None\n",
    "\n",
    "    dimty_units = dimty_data[\"dimtyUnits\"]\n",
    "    du_objects = []\n",
    "\n",
    "    for du in dimty_units:\n",
    "        type = get_enum_from_str(DimensionalityUnit.DimensionalityUnitType, du[\"dimtyUnitType\"])\n",
    "        aggregation = get_enum_from_str(DimensionalityUnit.Aggregation, du[\"aggregation\"])\n",
    "        filtering = get_enum_from_str(DimensionalityUnit.Filtering, du[\"filtering\"])\n",
    "        group_by = du[\"groupBy\"]\n",
    "        du_objects.append(DimensionalityUnit(\n",
    "                dimensionality_unit_type=type,\n",
    "                aggregation=aggregation,\n",
    "                filtering=filtering,\n",
    "                group_by=group_by,\n",
    "                relative_position=None,\n",
    "                axis_collection=None\n",
    "            ))\n",
    "    return Dimensionality(dimensionality_units=du_objects,\n",
    "                          exclude_attribute=dimty_data.get(\"excludeAttribute\"),\n",
    "                          allow_adding_unit=dimty_data.get(\"allowAddingUnit\"))\n",
    "    "
   ]
  },
  {
   "cell_type": "code",
   "execution_count": null,
   "id": "b5cc813a-dabc-4da0-8f57-756e5fa51256",
   "metadata": {},
   "outputs": [],
   "source": [
    "dimty_obj = create_dimty(dimty_data)"
   ]
  },
  {
   "cell_type": "markdown",
   "id": "ff00e648-72f0-4ab7-b28a-c1ebf8cdf5f0",
   "metadata": {},
   "source": [
    "## Create Metric"
   ]
  },
  {
   "cell_type": "code",
   "execution_count": null,
   "id": "23b05b34-68d9-40d1-ad74-e9c2b2d237be",
   "metadata": {},
   "outputs": [],
   "source": [
    "print(Metric.create.__doc__)"
   ]
  },
  {
   "cell_type": "code",
   "execution_count": null,
   "id": "d2b53ef8-2fd9-4b3b-b0ce-538fc66cc7ec",
   "metadata": {},
   "outputs": [],
   "source": [
    "METRIC_NAME = \"Revenue\"\n",
    "METRIC_DESC = \"Renenue\"\n",
    "METRIC_SUBTYPE=\"metric\"\n",
    "DESTINATIN_FOLDER_ID = \"95C3B713318B43D490EE789BE27D298C\"\n"
   ]
  },
  {
   "cell_type": "code",
   "execution_count": null,
   "id": "22f687f1-3b63-4364-bad7-40a06e2ecd16",
   "metadata": {},
   "outputs": [],
   "source": [
    "metric_obj = Metric.create(conn,\n",
    "                           name=METRIC_NAME,\n",
    "                           description=METRIC_DESC,\n",
    "                           sub_type=get_enum_from_str(ObjectSubType, \"metric\"),\n",
    "                           destination_folder=DESTINATIN_FOLDER_ID,\n",
    "                           expression=expression_obj,\n",
    "                           dimensionality=dimty_obj)\n",
    "                           \n",
    "metric_obj"
   ]
  }
 ],
 "metadata": {
  "kernelspec": {
   "display_name": "Python 3 (ipykernel)",
   "language": "python",
   "name": "python3"
  },
  "language_info": {
   "codemirror_mode": {
    "name": "ipython",
    "version": 3
   },
   "file_extension": ".py",
   "mimetype": "text/x-python",
   "name": "python",
   "nbconvert_exporter": "python",
   "pygments_lexer": "ipython3",
   "version": "3.10.8"
  }
 },
 "nbformat": 4,
 "nbformat_minor": 5
}
