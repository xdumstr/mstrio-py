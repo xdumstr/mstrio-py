{
 "cells": [
  {
   "cell_type": "markdown",
   "id": "d6a0d2eb-27be-4d16-84b3-5f5860563bb8",
   "metadata": {},
   "source": [
    "## Usage Pattern\n",
    "\n",
    "Using `User` object as an example, most of the APIs have similar usage pattern. Understanding the pattern helps you write code faster. \n",
    "\n",
    "- Most Methods requires a `Connection` object. It is always the first parameter. \n",
    "- Listing object using static method provided in module. For example, `list_contact_groups` in `mstrio.users_and_groups` module.\n",
    "- Finding object using Constructor. It will return an object if successful.  For example, `User(conn, name=\"amber\")`\n",
    "- Creating new object use the static `create` method. It will return an object if successful. For example, `User.create(conn, ...)`.  There are exceptions. \n",
    "- Deleting object using instance method `delete`. For example, `myUser.delete(conn)`.\n",
    "- Modifying object using the instance method `alter`. For example, `myUser.alter(conn, ...)`. \n"
   ]
  },
  {
   "cell_type": "code",
   "execution_count": null,
   "id": "41e6bc8a-a4fa-4c61-b9a2-229dcdc5a691",
   "metadata": {},
   "outputs": [],
   "source": [
    "import inspect"
   ]
  },
  {
   "cell_type": "code",
   "execution_count": null,
   "id": "74712a30-bb50-4a2f-933e-1dbd2001547d",
   "metadata": {},
   "outputs": [],
   "source": [
    "from mstrio.connection import get_connection, Connection\n",
    "from typing import List\n",
    "import getpass\n",
    "from mstrio.users_and_groups import list_user_groups, UserGroup, User, list_users"
   ]
  },
  {
   "cell_type": "code",
   "execution_count": null,
   "id": "2fc093e5-517c-4aed-9c81-4fcdb81758f9",
   "metadata": {},
   "outputs": [],
   "source": [
    "PROJECT_NAME = \"MicroStrategy Tutorial\"\n",
    "BASE_URL = \"https://env-276686.customer.cloud.microstrategy.com/MicroStrategyLibrary/api\"  # Insert URL for your env here\n",
    "MSTR_USERNAME = \"mstr\"  # Insert your env username here\n",
    "MSTR_PASSWORD = getpass.getpass()   # insert your mstr password here\n",
    "PROJECT_ID = \"B7CA92F04B9FAE8D941C3E9B7E0CD754\"  # Insert you project ID here"
   ]
  },
  {
   "cell_type": "code",
   "execution_count": null,
   "id": "2fe845be-400b-41ae-b324-dafe0c25e448",
   "metadata": {},
   "outputs": [],
   "source": [
    "# Currently, supported authentication modes are Standard (the default), guest and LDAP.\n",
    "# To use LDAP, add login_mode=16 when creating your Connection object:\n",
    "conn = Connection(BASE_URL, MSTR_USERNAME, MSTR_PASSWORD, project_id=PROJECT_ID, login_mode=1)"
   ]
  },
  {
   "cell_type": "code",
   "execution_count": null,
   "id": "7ceff73d-b051-4f54-81df-204a27183b99",
   "metadata": {},
   "outputs": [],
   "source": [
    "list_users(conn)"
   ]
  },
  {
   "cell_type": "code",
   "execution_count": null,
   "id": "cab8e071-9081-4701-8d39-3523a3c98cab",
   "metadata": {},
   "outputs": [],
   "source": [
    "myUser = User(conn, id=\"52CC3387B24CF00ED3C728AD0B38FF2E\")"
   ]
  },
  {
   "cell_type": "code",
   "execution_count": null,
   "id": "90d4ff2c-0b72-40c8-85a1-357dbea7fb81",
   "metadata": {},
   "outputs": [],
   "source": [
    "myUser = User(conn, name=\"TestUser\")"
   ]
  },
  {
   "cell_type": "code",
   "execution_count": null,
   "id": "eccc5926-08c6-479f-8263-9a686998242e",
   "metadata": {},
   "outputs": [],
   "source": [
    "myUser = User.create(conn, username=\"amber\", full_name=\"Amber Wang\")"
   ]
  },
  {
   "cell_type": "code",
   "execution_count": null,
   "id": "1b34099d-a04a-4147-88fc-e0dd164836ed",
   "metadata": {},
   "outputs": [],
   "source": [
    "myUser.alter(username=\"amber\", full_name=\"Amber S Wang\")"
   ]
  },
  {
   "cell_type": "code",
   "execution_count": null,
   "id": "7b73d2c6-0508-48d4-9248-81a407027d21",
   "metadata": {},
   "outputs": [],
   "source": [
    "myUser.delete(conn)"
   ]
  },
  {
   "cell_type": "code",
   "execution_count": null,
   "id": "3e9e7e56-e5d6-4f42-af8f-4501527d4adf",
   "metadata": {},
   "outputs": [],
   "source": [
    "conn.close()"
   ]
  },
  {
   "cell_type": "code",
   "execution_count": null,
   "id": "0d302c6d-b43e-4f11-99b4-c1a4d7afa268",
   "metadata": {},
   "outputs": [],
   "source": [
    "myUser"
   ]
  },
  {
   "cell_type": "code",
   "execution_count": null,
   "id": "c572b0a2-c6fa-438d-8f43-4b50197b2a1b",
   "metadata": {},
   "outputs": [],
   "source": [
    "myUser.full_name"
   ]
  },
  {
   "cell_type": "code",
   "execution_count": null,
   "id": "d0d29fa9-7bbe-4054-a822-3a70e4b94c57",
   "metadata": {},
   "outputs": [],
   "source": [
    "inspect.signature(User.alter)"
   ]
  },
  {
   "cell_type": "code",
   "execution_count": null,
   "id": "7cf812e1-3304-4205-81f7-13194f21527b",
   "metadata": {},
   "outputs": [],
   "source": []
  }
 ],
 "metadata": {
  "kernelspec": {
   "display_name": "Python 3 (ipykernel)",
   "language": "python",
   "name": "python3"
  },
  "language_info": {
   "codemirror_mode": {
    "name": "ipython",
    "version": 3
   },
   "file_extension": ".py",
   "mimetype": "text/x-python",
   "name": "python",
   "nbconvert_exporter": "python",
   "pygments_lexer": "ipython3",
   "version": "3.10.8"
  }
 },
 "nbformat": 4,
 "nbformat_minor": 5
}
