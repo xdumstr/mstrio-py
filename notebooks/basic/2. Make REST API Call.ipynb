{
 "cells": [
  {
   "cell_type": "markdown",
   "id": "24aa7f19-a5d7-414c-8166-f1c5eddef26d",
   "metadata": {},
   "source": [
    "# How to use connection object to make any REST API call"
   ]
  },
  {
   "cell_type": "markdown",
   "id": "3d4ac154-0a99-4f72-963f-f9fb1326d310",
   "metadata": {},
   "source": [
    "## Get connection object"
   ]
  },
  {
   "cell_type": "code",
   "execution_count": null,
   "id": "f80a0529-2b1a-4665-af5f-bd94016e8fc2",
   "metadata": {},
   "outputs": [],
   "source": [
    "from mstrio.connection import Connection"
   ]
  },
  {
   "cell_type": "code",
   "execution_count": null,
   "id": "5891eb63-465a-47e3-9acc-2e59c0d6df67",
   "metadata": {},
   "outputs": [],
   "source": [
    "PROJECT_NAME = \"MicroStrategy Tutorial\"\n",
    "BASE_URL = \"https://demo.microstrategy.com/MicroStrategyLibrary/api\"  # Insert URL for your env here\n",
    "PROJECT_ID = \"B7CA92F04B9FAE8D941C3E9B7E0CD754\"  # Insert you project ID here"
   ]
  },
  {
   "cell_type": "code",
   "execution_count": null,
   "id": "9c67b374-a0e3-46c0-82a6-7a3e62386b88",
   "metadata": {},
   "outputs": [],
   "source": [
    "conn = Connection(BASE_URL, project_id=PROJECT_ID, login_mode=8)"
   ]
  },
  {
   "cell_type": "markdown",
   "id": "99d38c81-49c7-47d1-94f8-3179cee44f84",
   "metadata": {},
   "source": [
    "## Call REST API"
   ]
  },
  {
   "cell_type": "markdown",
   "id": "adeb4eff-99c5-4cb5-a460-6b319dbd8e23",
   "metadata": {},
   "source": [
    "Generic Requests: https://www.w3schools.com/python/module_requests.asp\n",
    "\n",
    "```\n",
    "res = conn.get(url=\"endpoint url\", params={key: value}, args)\n",
    "res = conn.post(url=\"endpoint url\",data={key: value}, json={key: value}, args) \n",
    "res = conn.put(url, data, args)\n",
    "res = conn.delete(url, args)\n",
    "\n",
    "res.json()\n",
    "```\n",
    "\n",
    "args means zero or more of the named arguments"
   ]
  },
  {
   "cell_type": "markdown",
   "id": "8fb49061-1bbc-4cf9-b98b-8c98d245d77e",
   "metadata": {},
   "source": [
    "### Get"
   ]
  },
  {
   "cell_type": "code",
   "execution_count": null,
   "id": "ee277829-715c-4cd0-b33e-c0dc07325abb",
   "metadata": {},
   "outputs": [],
   "source": [
    "res = conn.get(BASE_URL+\"/status\")\n",
    "res.json()"
   ]
  },
  {
   "cell_type": "markdown",
   "id": "ce61d2b2-00fc-4343-b65e-7fc8853f36c3",
   "metadata": {},
   "source": [
    "### Post"
   ]
  },
  {
   "cell_type": "code",
   "execution_count": null,
   "id": "113be7cd-520e-4bbd-9759-8a0d33d46915",
   "metadata": {},
   "outputs": [],
   "source": [
    "# Create report instance\n",
    "res = conn.post(BASE_URL+\"/v2/reports/E659E86811E58C918D6F0080EF453539/instances\")\n",
    "res.json()"
   ]
  },
  {
   "cell_type": "code",
   "execution_count": null,
   "id": "2c3b4252-8376-4294-aeb3-5a7fff52c1aa",
   "metadata": {},
   "outputs": [],
   "source": [
    "instanceId = res.json()[\"instanceId\"]\n",
    "instanceId"
   ]
  },
  {
   "cell_type": "code",
   "execution_count": null,
   "id": "3293b077-440c-4462-ae91-7876307c6891",
   "metadata": {},
   "outputs": [],
   "source": [
    "# Sort by metrics value\n",
    "payload = \"\"\"{\n",
    "  \"sorting\": [\n",
    "    {\n",
    "      \"type\": \"metric\",\n",
    "      \"metric\": {\n",
    "        \"id\": \"4C05177011D3E877C000B3B2D86C964F\",\n",
    "        \"name\": \"Revenue\"\n",
    "      }\n",
    "    }\n",
    "  ]\n",
    "}\"\"\"\n",
    "import json\n",
    "json = json.loads(payload)\n",
    "res = conn.put(BASE_URL+\"/v2/reports/E659E86811E58C918D6F0080EF453539/instances/\"+instanceId, json=json)\n",
    "res.json()"
   ]
  },
  {
   "cell_type": "markdown",
   "id": "c51c3b26-d863-4b86-a01b-7e3c75d3d4d6",
   "metadata": {},
   "source": [
    "## Close Connection"
   ]
  },
  {
   "cell_type": "code",
   "execution_count": null,
   "id": "979d75f6-071c-46f1-aef0-f8a842a1b40f",
   "metadata": {},
   "outputs": [],
   "source": [
    "conn.close()"
   ]
  }
 ],
 "metadata": {
  "kernelspec": {
   "display_name": "Python 3 (ipykernel)",
   "language": "python",
   "name": "python3"
  },
  "language_info": {
   "codemirror_mode": {
    "name": "ipython",
    "version": 3
   },
   "file_extension": ".py",
   "mimetype": "text/x-python",
   "name": "python",
   "nbconvert_exporter": "python",
   "pygments_lexer": "ipython3",
   "version": "3.10.8"
  }
 },
 "nbformat": 4,
 "nbformat_minor": 5
}
