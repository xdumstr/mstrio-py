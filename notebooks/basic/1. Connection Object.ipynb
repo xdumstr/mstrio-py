{
 "cells": [
  {
   "cell_type": "markdown",
   "id": "a1ba394d",
   "metadata": {},
   "source": [
    "# How to create connection object\n",
    "\n",
    "This notebook shows how to create connection object with mstrio-py.\n",
    "\n",
    "The Connection object manages your connection to MicroStrategy. Connect to\n",
    "your MicroStrategy environment by providing the URL to the MicroStrategy REST\n",
    "API server, your username, password and the ID of the Project to connect to.\n",
    "When a Connection object is created the user will be automatically logged-in.\n",
    "Connection object automatically renews the connection or reconnects,\n",
    "if session becomes inactive. Reconnection doesn't work if authenticated with\n",
    "identity token.\n",
    "\n"
   ]
  },
  {
   "cell_type": "code",
   "execution_count": null,
   "id": "496dbb1a",
   "metadata": {},
   "outputs": [],
   "source": [
    "from mstrio.connection import get_connection, Connection"
   ]
  },
  {
   "cell_type": "code",
   "execution_count": null,
   "id": "d94bc998-4871-42d6-b297-600c7233fafd",
   "metadata": {},
   "outputs": [],
   "source": [
    "PROJECT_NAME = \"MicroStrategy Tutorial\"\n",
    "BASE_URL = \"https://demo.microstrategy.com/MicroStrategyLibrary/api\"  # Insert URL for your env here\n",
    "MSTR_USERNAME = \"guest\"  # Insert your env username here\n",
    "MSTR_PASSWORD = \"\"  # insert your mstr password here\n",
    "PROJECT_ID = \"B7CA92F04B9FAE8D941C3E9B7E0CD754\"  # Insert you project ID here"
   ]
  },
  {
   "cell_type": "markdown",
   "id": "4e2417e1-bd1a-47c9-8966-afea8d0323cf",
   "metadata": {},
   "source": [
    "## Option 1: Use credentials"
   ]
  },
  {
   "cell_type": "code",
   "execution_count": null,
   "id": "1b490839-e5af-496c-acff-f2372b038ea3",
   "metadata": {},
   "outputs": [],
   "source": [
    "# Currently, supported authentication modes are Standard (the default), guest and LDAP.\n",
    "# To use LDAP, add login_mode=16 when creating your Connection object:\n",
    "conn = Connection(BASE_URL, MSTR_USERNAME, MSTR_PASSWORD, project_id=PROJECT_ID, login_mode=1)"
   ]
  },
  {
   "cell_type": "code",
   "execution_count": null,
   "id": "ce4e18d1-9cbe-41d9-a822-72db37f0f3a0",
   "metadata": {},
   "outputs": [],
   "source": [
    "print(conn.username, conn.user_id)"
   ]
  },
  {
   "cell_type": "code",
   "execution_count": null,
   "id": "d80dfc40-7372-40a4-9362-de6c0f713cab",
   "metadata": {},
   "outputs": [],
   "source": [
    "from mstrio.users_and_groups import User\n",
    "user = User(conn, id=\"294DEDC011D2F1D56000D98E67019608\")"
   ]
  },
  {
   "cell_type": "code",
   "execution_count": null,
   "id": "fc9fab27-a09d-4c29-9d32-cdd1ce6f6f2d",
   "metadata": {},
   "outputs": [],
   "source": [
    "user.privileges"
   ]
  },
  {
   "cell_type": "code",
   "execution_count": null,
   "id": "7f728dec-b3d3-464f-9768-34fdb124ab11",
   "metadata": {},
   "outputs": [],
   "source": [
    "conn = Connection(BASE_URL, project_id=PROJECT_ID, login_mode=8)"
   ]
  },
  {
   "cell_type": "code",
   "execution_count": null,
   "id": "4cf5bde6-8007-4b39-801f-de94be50d042",
   "metadata": {},
   "outputs": [],
   "source": [
    "print(conn.username, conn.user_id)"
   ]
  },
  {
   "cell_type": "markdown",
   "id": "e6339b42-5824-4937-bfda-e768290f1ece",
   "metadata": {},
   "source": [
    "## Option 2: Use workstationData object\n",
    "\n",
    "If you use the code in Workstation, you can use workstationData object. You don't need to provide connection information. "
   ]
  },
  {
   "cell_type": "code",
   "execution_count": null,
   "id": "15e36717-d28f-444e-940d-7ee6f0f5b2e9",
   "metadata": {},
   "outputs": [],
   "source": [
    "conn = get_connection(workstationData, project_name=PROJECT_NAME)"
   ]
  },
  {
   "cell_type": "markdown",
   "id": "0f6fc4ae-1ca0-475a-89f8-b56c120462d5",
   "metadata": {},
   "source": [
    "## Introspection \n",
    "Discover methods and attributes on connection object"
   ]
  },
  {
   "cell_type": "code",
   "execution_count": null,
   "id": "5ab5e809-c089-40c4-92d6-bc98c625104a",
   "metadata": {},
   "outputs": [],
   "source": [
    "print(Connection.__doc__)"
   ]
  },
  {
   "cell_type": "code",
   "execution_count": null,
   "id": "8e778b49-28fb-420f-b1dd-aaab06843227",
   "metadata": {},
   "outputs": [],
   "source": [
    "#return the names in the current scope\n",
    "dir()"
   ]
  },
  {
   "cell_type": "code",
   "execution_count": null,
   "id": "7e4afa05-371f-4bdb-85f7-c16cb94b33d1",
   "metadata": {},
   "outputs": [],
   "source": [
    "dir(conn)"
   ]
  },
  {
   "cell_type": "code",
   "execution_count": null,
   "id": "e09db6ef-a213-4d3a-bc33-2f5739c3c755",
   "metadata": {},
   "outputs": [],
   "source": [
    "type(conn)"
   ]
  },
  {
   "cell_type": "code",
   "execution_count": null,
   "id": "ca982249-56d7-43f5-9c46-e785f8a699dc",
   "metadata": {},
   "outputs": [],
   "source": [
    "dir(Connection)"
   ]
  },
  {
   "cell_type": "code",
   "execution_count": null,
   "id": "04e24e6f-cd07-4321-83d9-f9cb65c0379e",
   "metadata": {},
   "outputs": [],
   "source": [
    "callable(conn.close)"
   ]
  },
  {
   "cell_type": "code",
   "execution_count": null,
   "id": "77f20022-749e-433e-9e82-7773a836e2c1",
   "metadata": {},
   "outputs": [],
   "source": [
    "callable(conn.username)"
   ]
  },
  {
   "cell_type": "code",
   "execution_count": null,
   "id": "45c97c4e-fafe-489e-9f6a-d313c48a6469",
   "metadata": {},
   "outputs": [],
   "source": [
    "conn.username"
   ]
  },
  {
   "cell_type": "code",
   "execution_count": null,
   "id": "e06c0157-ef5f-4e89-bd43-daa1aa8c584f",
   "metadata": {},
   "outputs": [],
   "source": [
    "conn.login_mode"
   ]
  },
  {
   "cell_type": "code",
   "execution_count": null,
   "id": "b9d13da3-0d45-4afd-a925-37810e2e3628",
   "metadata": {},
   "outputs": [],
   "source": [
    "conn.status()"
   ]
  },
  {
   "cell_type": "code",
   "execution_count": null,
   "id": "ebd5db4d-162b-4a73-8a6f-be711e740ac1",
   "metadata": {},
   "outputs": [],
   "source": [
    "conn.close()"
   ]
  },
  {
   "cell_type": "markdown",
   "id": "917f5ae0-a5d2-4ce3-abe8-ca51fc07d1b6",
   "metadata": {},
   "source": [
    "## Work with Certificates"
   ]
  },
  {
   "cell_type": "markdown",
   "id": "5b78f04a-0ef3-42f0-99b1-0667fe6e57aa",
   "metadata": {},
   "source": [
    "### 1.  Turn off https"
   ]
  },
  {
   "cell_type": "code",
   "execution_count": null,
   "id": "dec98607-4186-460e-8f4c-c718c8e8476d",
   "metadata": {},
   "outputs": [],
   "source": [
    "# SSL Self - signed Certificate\n",
    "# By default, SSL certificates are validated with each API request.\n",
    "# To turn this off, use ssl_verify flag:\n",
    "conn = Connection(BASE_URL, MSTR_USERNAME, MSTR_PASSWORD, project_id=PROJECT_ID, ssl_verify=False)"
   ]
  },
  {
   "cell_type": "markdown",
   "id": "1ed6820f-f5f2-4311-8809-5d8c1dea89e1",
   "metadata": {},
   "source": [
    "### 2. Self-signed certificate"
   ]
  },
  {
   "cell_type": "markdown",
   "id": "4f852cab-8ba5-4764-aedd-4adeaadc1d4c",
   "metadata": {},
   "source": [
    "If you are using an SSL with a self-signed certificate you will need to\n",
    "perform an additional step to configure your connection. There are 2 ways to\n",
    "set it up:\n",
    "\n",
    "The easiest way to configure the SSL is to move your certificate file to your\n",
    "working directory.\n"
   ]
  },
  {
   "cell_type": "markdown",
   "id": "ce057f3b-293f-4986-840d-f573f8fc777c",
   "metadata": {},
   "source": [
    "The second way is to pass the certificate_path parameter to your connection\n",
    "object in mstrio. It has to be the absolute path to your certificate file:"
   ]
  },
  {
   "cell_type": "code",
   "execution_count": null,
   "id": "89cdf73a-e96d-4d2f-92ad-9b154a6bc0fd",
   "metadata": {},
   "outputs": [],
   "source": [
    "conn = Connection(\n",
    "    BASE_URL,\n",
    "    MSTR_USERNAME,\n",
    "    MSTR_PASSWORD,\n",
    "    project_id=PROJECT_ID,\n",
    "    certificate_path=CERTIFICATE_PATH\n",
    ")"
   ]
  },
  {
   "cell_type": "markdown",
   "id": "9d96cf87-5115-4abf-8e8b-28c9c76b7a71",
   "metadata": {},
   "source": [
    "## Work with Proxy"
   ]
  },
  {
   "cell_type": "code",
   "execution_count": null,
   "id": "97c219a4-c81c-491b-8212-058a9fb450a1",
   "metadata": {},
   "outputs": [],
   "source": [
    "PROXIES_HTTP_VALUE = \"\"  # f.e. 'foo.bar:3128'\n",
    "PROXIES_HTTPS_KEY = \"\"  # f.e. 'https://host.name'\n",
    "PROXIES_HTTPS_VALUE = \"\" # f.e. 'foo.bar:4012'\n",
    "\n",
    "\n"
   ]
  },
  {
   "cell_type": "code",
   "execution_count": null,
   "id": "f0760dc5-a8a0-4b54-9b33-fc6060eb2fa8",
   "metadata": {},
   "outputs": [],
   "source": [
    "PROXIES = {'http': PROXIES_HTTP_VALUE, PROXIES_HTTPS_KEY: PROXIES_HTTPS_VALUE }\n",
    "conn = Connection(BASE_URL, MSTR_USERNAME, MSTR_PASSWORD, project_id=PROJECT_ID, proxies=PROXIES)"
   ]
  },
  {
   "cell_type": "code",
   "execution_count": null,
   "id": "28063f19-81ae-44e4-acae-e449edec24d6",
   "metadata": {},
   "outputs": [],
   "source": [
    "# f.e. 'https://<username>:<password>@<ip_address>:<port>/'\n",
    "PROXIES_HTTP_VALUE_USERNAME_AND_PASSWORD = \"\"\n",
    "proxies = {'http': PROXIES_HTTP_VALUE_USERNAME_AND_PASSWORD}\n",
    "conn = Connection(BASE_URL, MSTR_USERNAME, MSTR_PASSWORD, project_id=PROJECT_ID, proxies=proxies)"
   ]
  },
  {
   "cell_type": "code",
   "execution_count": null,
   "id": "9ea55693-1b25-4b5d-9343-090a17d2fa33",
   "metadata": {},
   "outputs": [],
   "source": [
    "print(Connection.__init__.__doc__)"
   ]
  },
  {
   "cell_type": "code",
   "execution_count": null,
   "id": "105db01f-4f4c-4c5e-8465-e6c59cd73cd0",
   "metadata": {},
   "outputs": [],
   "source": []
  }
 ],
 "metadata": {
  "kernelspec": {
   "display_name": "Python 3 (ipykernel)",
   "language": "python",
   "name": "python3"
  },
  "language_info": {
   "codemirror_mode": {
    "name": "ipython",
    "version": 3
   },
   "file_extension": ".py",
   "mimetype": "text/x-python",
   "name": "python",
   "nbconvert_exporter": "python",
   "pygments_lexer": "ipython3",
   "version": "3.10.8"
  }
 },
 "nbformat": 4,
 "nbformat_minor": 5
}
