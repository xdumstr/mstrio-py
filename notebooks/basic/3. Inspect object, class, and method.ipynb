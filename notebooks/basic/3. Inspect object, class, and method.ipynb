{
 "cells": [
  {
   "cell_type": "code",
   "execution_count": null,
   "id": "6bbdc9a3-c4ae-4eb1-97b7-3a9265805730",
   "metadata": {},
   "outputs": [],
   "source": [
    "from mstrio.users_and_groups import User\n",
    "import inspect"
   ]
  },
  {
   "cell_type": "markdown",
   "id": "7d68069b-dd6c-4770-a46e-56bee84b5989",
   "metadata": {},
   "source": [
    "# Print document of class\n",
    "\n",
    "You can use `__doc__` to print documentation. It can be used on ClassName, variable name, module name, or even literals etc). "
   ]
  },
  {
   "cell_type": "markdown",
   "id": "6745ee9e-d397-4040-8ce6-07c13172282b",
   "metadata": {},
   "source": [
    "## module"
   ]
  },
  {
   "cell_type": "code",
   "execution_count": null,
   "id": "da8ba1f7-e174-4feb-96cf-0897015464b0",
   "metadata": {},
   "outputs": [],
   "source": [
    "import io\n",
    "print(io.__doc__)"
   ]
  },
  {
   "cell_type": "code",
   "execution_count": null,
   "id": "b7fceebf-2f6b-489b-ba75-62ef2b61c139",
   "metadata": {},
   "outputs": [],
   "source": [
    "import mstrio\n",
    "print(mstrio.__doc__)"
   ]
  },
  {
   "cell_type": "markdown",
   "id": "d9f4af5a-ff70-44c9-83f3-c64caa5e1059",
   "metadata": {},
   "source": [
    "## literal"
   ]
  },
  {
   "cell_type": "code",
   "execution_count": null,
   "id": "1ad26c65-e93f-40a3-acd4-ba208edd2a3a",
   "metadata": {},
   "outputs": [],
   "source": [
    "print({}.__doc__)"
   ]
  },
  {
   "cell_type": "code",
   "execution_count": null,
   "id": "52b4971e-12bf-4737-82c8-b1cb089a504d",
   "metadata": {},
   "outputs": [],
   "source": [
    "print([].__doc__)"
   ]
  },
  {
   "cell_type": "markdown",
   "id": "99609da3-745d-411c-bcf1-9221d567004b",
   "metadata": {},
   "source": [
    "## class"
   ]
  },
  {
   "cell_type": "code",
   "execution_count": null,
   "id": "ca2adb3f-17e3-4b24-817e-43d5912c8bbf",
   "metadata": {},
   "outputs": [],
   "source": [
    "import io\n",
    "print(File.__doc__)"
   ]
  },
  {
   "cell_type": "code",
   "execution_count": null,
   "id": "5b0b76d9-5892-4ca1-ae59-1eb1f5a9a215",
   "metadata": {},
   "outputs": [],
   "source": [
    "print(User.__doc__)"
   ]
  },
  {
   "cell_type": "markdown",
   "id": "ec23eacc-968d-4179-a946-6062a2a953bd",
   "metadata": {},
   "source": [
    "## function"
   ]
  },
  {
   "cell_type": "code",
   "execution_count": null,
   "id": "ff147e07-b5e9-4607-9135-a6b741c5b25a",
   "metadata": {},
   "outputs": [],
   "source": [
    "print(User.create.__doc__)"
   ]
  },
  {
   "cell_type": "markdown",
   "id": "f9adf577-d068-4a51-8d78-a07063fddf47",
   "metadata": {},
   "source": [
    "# Inspection\n",
    "\n",
    "https://docs.python.org/3/library/inspect.html"
   ]
  },
  {
   "cell_type": "markdown",
   "id": "5b98447d-04fc-47d1-801b-76b2ebf518de",
   "metadata": {},
   "source": [
    "## Inspect a class"
   ]
  },
  {
   "cell_type": "code",
   "execution_count": null,
   "id": "45ce2c31-51b9-4c66-be4d-447f7707de99",
   "metadata": {},
   "outputs": [],
   "source": [
    "dir(User)"
   ]
  },
  {
   "cell_type": "code",
   "execution_count": null,
   "id": "6a0b2c35-af59-4e32-8276-c16e190e7f4a",
   "metadata": {},
   "outputs": [],
   "source": [
    "# find the members of a class\n",
    "inspect.getmembers(User)"
   ]
  },
  {
   "cell_type": "code",
   "execution_count": null,
   "id": "51b86ab0-556a-4c68-8bf5-99915ee7b8fc",
   "metadata": {},
   "outputs": [],
   "source": [
    "# Find the file of a class\n",
    "inspect.getfile(User)"
   ]
  },
  {
   "cell_type": "code",
   "execution_count": null,
   "id": "806c9aba-1be4-464a-a1f5-6c09b13fba36",
   "metadata": {},
   "outputs": [],
   "source": [
    "# find the module of a class\n",
    "inspect.getmodule(User)"
   ]
  },
  {
   "cell_type": "code",
   "execution_count": null,
   "id": "93a6ac05-74b7-44f8-a993-928623731a74",
   "metadata": {},
   "outputs": [],
   "source": [
    "# Get base class\n",
    "User.__base__"
   ]
  },
  {
   "cell_type": "markdown",
   "id": "1cf40c35-8d17-4e7a-88ca-ef095058fa39",
   "metadata": {},
   "source": [
    "## Inspect a function"
   ]
  },
  {
   "cell_type": "markdown",
   "id": "8d6fc79b-ad83-49c8-89de-65ca34fefdcc",
   "metadata": {},
   "source": [
    "### Check if it is a function"
   ]
  },
  {
   "cell_type": "code",
   "execution_count": null,
   "id": "c6f7a3ec-1a38-4a35-a86d-314dd6c4876b",
   "metadata": {},
   "outputs": [],
   "source": [
    "callable(User.create)"
   ]
  },
  {
   "cell_type": "markdown",
   "id": "0cb7b558-3cf1-419b-badd-0f4c6fb74810",
   "metadata": {},
   "source": [
    "### Signature of a function"
   ]
  },
  {
   "cell_type": "code",
   "execution_count": null,
   "id": "af5503fb-4440-4bc2-9097-f742cd3bb45e",
   "metadata": {},
   "outputs": [],
   "source": [
    "inspect.signature(User.create)"
   ]
  },
  {
   "cell_type": "markdown",
   "id": "08f79d23-77f0-4901-bef1-b06aac7b0906",
   "metadata": {},
   "source": [
    "### Arguments of a function"
   ]
  },
  {
   "cell_type": "code",
   "execution_count": null,
   "id": "53f6c176-fe34-4087-8830-79f3a6f74668",
   "metadata": {},
   "outputs": [],
   "source": [
    "User.create.__code__.co_varnames[:User.create.__code__.co_argcount]"
   ]
  },
  {
   "cell_type": "markdown",
   "id": "d33d16af-9b06-4147-b011-d53d6d146070",
   "metadata": {},
   "source": [
    "## inspect inspect"
   ]
  },
  {
   "cell_type": "code",
   "execution_count": null,
   "id": "975202f5-6456-4201-ad7f-9c02a20f005c",
   "metadata": {},
   "outputs": [],
   "source": [
    "print(inspect.__doc__)"
   ]
  },
  {
   "cell_type": "code",
   "execution_count": null,
   "id": "d3506160-29a9-422f-ad84-f2519bf67ca7",
   "metadata": {},
   "outputs": [],
   "source": [
    "inspect.getfile(User)"
   ]
  },
  {
   "cell_type": "code",
   "execution_count": null,
   "id": "2c3fe4a9-fc89-4cdf-aa1c-d1d76020f5e4",
   "metadata": {},
   "outputs": [],
   "source": [
    "inspect.getmodule(User)"
   ]
  },
  {
   "cell_type": "code",
   "execution_count": null,
   "id": "7ed78173-601f-408b-981f-f2e39b84061b",
   "metadata": {},
   "outputs": [],
   "source": [
    "print(inspect.getdoc(User))"
   ]
  },
  {
   "cell_type": "markdown",
   "id": "d0ce2e6d-7510-4988-bcf1-742b36ac975e",
   "metadata": {},
   "source": [
    "## inspect a modules"
   ]
  },
  {
   "cell_type": "code",
   "execution_count": null,
   "id": "c3e1c825-2116-42c9-803b-6bb4f94f8433",
   "metadata": {},
   "outputs": [],
   "source": [
    "import sys\n",
    "sys.modules"
   ]
  },
  {
   "cell_type": "code",
   "execution_count": null,
   "id": "39a32784-23a4-4407-858f-6ba4a8bb04dc",
   "metadata": {},
   "outputs": [],
   "source": [
    "m = sys.modules[\"mstrio\"]\n",
    "m"
   ]
  },
  {
   "cell_type": "code",
   "execution_count": null,
   "id": "25987dfd-ed59-4151-b628-7487d8693579",
   "metadata": {},
   "outputs": [],
   "source": [
    "m"
   ]
  },
  {
   "cell_type": "code",
   "execution_count": null,
   "id": "4dad8002-8a1f-4ae5-8738-c8c4011e7115",
   "metadata": {},
   "outputs": [],
   "source": [
    "print(m.__doc__)"
   ]
  },
  {
   "cell_type": "code",
   "execution_count": null,
   "id": "4aa947b6-2ecc-4613-8cb4-02285c19ddb1",
   "metadata": {},
   "outputs": [],
   "source": [
    "inspect.getmembers(m)"
   ]
  },
  {
   "cell_type": "code",
   "execution_count": null,
   "id": "856ca394-a84c-493e-87d3-4967835e9279",
   "metadata": {},
   "outputs": [],
   "source": [
    "def print_classes(m): \n",
    "    print(\"\\nClasses:\")\n",
    "    all_members = inspect.getmembers(m)\n",
    "    for name, obj in all_members:\n",
    "        if inspect.isclass(obj):\n",
    "            print(name)\n",
    "def print_submodules(m):\n",
    "    print(\"\\nSubmodules:\")\n",
    "    all_members = inspect.getmembers(m)\n",
    "    for name, obj in all_members:\n",
    "        if inspect.ismodule(obj):\n",
    "            print(name)   \n",
    "    "
   ]
  },
  {
   "cell_type": "code",
   "execution_count": null,
   "id": "359398d6-4847-428e-a0fc-a1bcf028c576",
   "metadata": {},
   "outputs": [],
   "source": [
    "print_submodules(m)"
   ]
  },
  {
   "cell_type": "code",
   "execution_count": null,
   "id": "1a1467fd-222f-48d4-afb0-5a436333409c",
   "metadata": {},
   "outputs": [],
   "source": [
    "print_classes(m)"
   ]
  },
  {
   "cell_type": "code",
   "execution_count": null,
   "id": "37f79fc0-f17d-4ef9-aae8-7f96153a064c",
   "metadata": {},
   "outputs": [],
   "source": [
    "import mstrio\n",
    "print_submodules(mstrio.users_and_groups)\n",
    "print_classes(mstrio.users_and_groups)"
   ]
  },
  {
   "cell_type": "code",
   "execution_count": null,
   "id": "569dfb51-a90b-492e-9e85-bef7e8602384",
   "metadata": {},
   "outputs": [],
   "source": [
    "print_submodules(mstrio.users_and_groups.user)\n",
    "print_classes(mstrio.users_and_groups.user)"
   ]
  },
  {
   "cell_type": "code",
   "execution_count": null,
   "id": "96f30c98-467e-417b-97c0-e428dfacc697",
   "metadata": {},
   "outputs": [],
   "source": [
    "print_submodules(mstrio.api)"
   ]
  },
  {
   "cell_type": "code",
   "execution_count": null,
   "id": "7a55fae7-bf2c-42c9-a1cb-5881ac79a223",
   "metadata": {},
   "outputs": [],
   "source": [
    "print_submodules(mstrio.access_and_security)"
   ]
  },
  {
   "cell_type": "markdown",
   "id": "e82c31ad-b06e-40df-ad9e-e2e5bc6b30ab",
   "metadata": {
    "tags": []
   },
   "source": [
    "## Get source code\n",
    "\n",
    "You can get source code of class or method"
   ]
  },
  {
   "cell_type": "code",
   "execution_count": null,
   "id": "f000efcf-79a8-4924-9235-7b54f03d14c4",
   "metadata": {},
   "outputs": [],
   "source": [
    "print(inspect.getsource(User.__init__))"
   ]
  },
  {
   "cell_type": "code",
   "execution_count": null,
   "id": "9f5a7e91-f7e5-45c8-9493-a526e09d8df7",
   "metadata": {},
   "outputs": [],
   "source": [
    "print(inspect.getsource(User))"
   ]
  }
 ],
 "metadata": {
  "kernelspec": {
   "display_name": "Python 3 (ipykernel)",
   "language": "python",
   "name": "python3"
  },
  "language_info": {
   "codemirror_mode": {
    "name": "ipython",
    "version": 3
   },
   "file_extension": ".py",
   "mimetype": "text/x-python",
   "name": "python",
   "nbconvert_exporter": "python",
   "pygments_lexer": "ipython3",
   "version": "3.10.8"
  },
  "toc-autonumbering": true,
  "toc-showcode": false,
  "toc-showmarkdowntxt": false
 },
 "nbformat": 4,
 "nbformat_minor": 5
}
