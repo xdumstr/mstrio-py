{
 "cells": [
  {
   "cell_type": "markdown",
   "id": "3e8840cc-3e06-4760-8461-7d8d18387bf6",
   "metadata": {},
   "source": [
    "This notebook shows you how to find, modify, and publish a dossier. "
   ]
  },
  {
   "cell_type": "code",
   "execution_count": null,
   "id": "c392f4e4-33af-4a3c-ab6c-4df44767cf00",
   "metadata": {},
   "outputs": [],
   "source": [
    "from mstrio.connection import Connection\n",
    "import getpass \n",
    "import inspect\n",
    "from mstrio.project_objects.dossier import (\n",
    "    Dossier,\n",
    "    list_dossiers,\n",
    "    list_dossiers_across_projects\n",
    ")"
   ]
  },
  {
   "cell_type": "code",
   "execution_count": null,
   "id": "e8e4c88f-71c5-41da-8d8c-f98210c875cf",
   "metadata": {},
   "outputs": [],
   "source": [
    "PROJECT_NAME = \"MicroStrategy Tutorial\"\n",
    "BASE_URL = \"https://env-276686.customer.cloud.microstrategy.com/MicroStrategyLibrary/api\"  # Insert URL for your env here\n",
    "MSTR_USERNAME = \"administrator\"  # Insert your env username here\n",
    "MSTR_PASSWORD = getpass.getpass()   # insert your password here\n",
    "PROJECT_ID = \"B7CA92F04B9FAE8D941C3E9B7E0CD754\"  # Insert you project ID here"
   ]
  },
  {
   "cell_type": "code",
   "execution_count": null,
   "id": "075e9a30-2747-4009-a6df-73d3ce38d12a",
   "metadata": {},
   "outputs": [],
   "source": [
    "# Currently, supported authentication modes are Standard (the default), guest and LDAP.\n",
    "# To use LDAP, add login_mode=16 when creating your Connection object:\n",
    "conn = Connection(BASE_URL, MSTR_USERNAME, MSTR_PASSWORD, project_id=PROJECT_ID, login_mode=1)"
   ]
  },
  {
   "cell_type": "markdown",
   "id": "20e87efc-cdbd-4f0b-b76d-f9727bc8966e",
   "metadata": {},
   "source": [
    "# List"
   ]
  },
  {
   "cell_type": "code",
   "execution_count": null,
   "id": "f2cf5e62-98de-4922-8dec-3b2151fac24f",
   "metadata": {},
   "outputs": [],
   "source": [
    "list_dossiers(conn)"
   ]
  },
  {
   "cell_type": "code",
   "execution_count": null,
   "id": "9978855e-f18e-4f6e-9481-bfb689fb2b7d",
   "metadata": {},
   "outputs": [],
   "source": [
    "print(list_dossiers.__doc__)"
   ]
  },
  {
   "cell_type": "markdown",
   "id": "05aa4e9c-eed6-4b01-9e2e-748676bee733",
   "metadata": {},
   "source": [
    "# Find "
   ]
  },
  {
   "cell_type": "code",
   "execution_count": null,
   "id": "d57a8e1f-8160-4584-a3cd-50bcb073b733",
   "metadata": {},
   "outputs": [],
   "source": [
    "print(Dossier.__init__.__doc__)"
   ]
  },
  {
   "cell_type": "code",
   "execution_count": null,
   "id": "8a1ef540-de52-4993-8915-c2e37050e44e",
   "metadata": {},
   "outputs": [],
   "source": [
    "# Find by ID\n",
    "dossier = Dossier(conn, id=\"C9961FB511ED75B771D60080EF7432FD\")"
   ]
  },
  {
   "cell_type": "code",
   "execution_count": null,
   "id": "12ab1ae9-7f18-4514-8b73-6773c27a07cd",
   "metadata": {},
   "outputs": [],
   "source": [
    "dossier.name"
   ]
  },
  {
   "cell_type": "code",
   "execution_count": null,
   "id": "381c370a-04c5-4005-ac2b-8065d7da5428",
   "metadata": {},
   "outputs": [],
   "source": [
    "# Find by name (Bug in 11.3.7)\n",
    "dossier = Dossier(conn, name = \"Call Center\")"
   ]
  },
  {
   "cell_type": "markdown",
   "id": "bfcb22a3-68bf-4d8c-b484-600e8a80557d",
   "metadata": {},
   "source": [
    "# Modify"
   ]
  },
  {
   "cell_type": "code",
   "execution_count": null,
   "id": "94cfde30-defd-4fc9-8dab-42a90d2f9d6f",
   "metadata": {},
   "outputs": [],
   "source": [
    "print(Dossier.alter.__doc__)"
   ]
  },
  {
   "cell_type": "code",
   "execution_count": null,
   "id": "3aa5893e-f852-4f35-8fe0-26d05def5035",
   "metadata": {},
   "outputs": [],
   "source": [
    "dossier.alter(name=\"Call Center Dossier\")\n",
    "dossier"
   ]
  },
  {
   "cell_type": "markdown",
   "id": "97a79310-50c2-480c-a00c-e9035393e69c",
   "metadata": {},
   "source": [
    "# Publish\n",
    "\n",
    "Publish to users"
   ]
  },
  {
   "cell_type": "code",
   "execution_count": null,
   "id": "3e6803a2-3104-42e6-93bc-2d4d7d80ac98",
   "metadata": {},
   "outputs": [],
   "source": [
    "print(dossier.publish.__doc__)"
   ]
  },
  {
   "cell_type": "markdown",
   "id": "9962340d-a43a-4495-a854-bdf654763971",
   "metadata": {},
   "source": [
    "## Publish to current user's library"
   ]
  },
  {
   "cell_type": "code",
   "execution_count": null,
   "id": "6e2daff4-2153-40f8-9eff-538f19dffe1d",
   "metadata": {},
   "outputs": [],
   "source": [
    "dossier.publish()"
   ]
  },
  {
   "cell_type": "markdown",
   "id": "215f2635-3626-49d4-befa-9e7c12161ba3",
   "metadata": {},
   "source": [
    "## Publish to recipients' library"
   ]
  },
  {
   "cell_type": "code",
   "execution_count": null,
   "id": "018cd23d-1251-4278-b15a-1e10df388b4f",
   "metadata": {},
   "outputs": [],
   "source": [
    "from mstrio.users_and_groups import list_users\n",
    "list_users(conn)"
   ]
  },
  {
   "cell_type": "code",
   "execution_count": null,
   "id": "0816ebb6-94ff-4b87-9824-66b925c752be",
   "metadata": {},
   "outputs": [],
   "source": [
    "dossier.publish([\"CFBE73B4A6442185A061268EF1FEA69C\", \"D9B44BF81549661C834163B753163A6D\"])"
   ]
  },
  {
   "cell_type": "code",
   "execution_count": null,
   "id": "a272b338-55ba-460f-82f4-cc692c7f7087",
   "metadata": {},
   "outputs": [],
   "source": [
    "dossier.unpublish([\"CFBE73B4A6442185A061268EF1FEA69C\"])"
   ]
  },
  {
   "cell_type": "code",
   "execution_count": null,
   "id": "d43f2dec-44ed-4b58-82c4-9be013155715",
   "metadata": {},
   "outputs": [],
   "source": [
    "print(inspect.getsource(Dossier.share_to))"
   ]
  },
  {
   "cell_type": "code",
   "execution_count": null,
   "id": "eed6e741-635b-4184-956e-c95c698f9cc7",
   "metadata": {},
   "outputs": [],
   "source": [
    "dossier.share_to([\"D9B44BF81549661C834163B753163A6D\"])"
   ]
  },
  {
   "cell_type": "markdown",
   "id": "3eeb0f05-003e-477f-96bd-a890620bfd3c",
   "metadata": {},
   "source": [
    "# Library"
   ]
  },
  {
   "cell_type": "code",
   "execution_count": null,
   "id": "c52e0d13-f055-43f8-991c-b51db39d8549",
   "metadata": {},
   "outputs": [],
   "source": [
    "PROJECT_NAME = \"MicroStrategy Tutorial\"\n",
    "BASE_URL = \"https://env-276686.customer.cloud.microstrategy.com/MicroStrategyLibrary/api\"  # Insert URL for your env here\n",
    "MSTR_USERNAME = \"atlanta\"  # Insert your env username here\n",
    "MSTR_PASSWORD = getpass.getpass()   # insert your mstr password here\n",
    "PROJECT_ID = \"B7CA92F04B9FAE8D941C3E9B7E0CD754\"  # Insert you project ID here"
   ]
  },
  {
   "cell_type": "code",
   "execution_count": null,
   "id": "40ed837a-5c22-4c34-869d-61637b971928",
   "metadata": {},
   "outputs": [],
   "source": [
    "# Currently, supported authentication modes are Standard (the default), guest and LDAP.\n",
    "# To use LDAP, add login_mode=16 when creating your Connection object:\n",
    "conn = Connection(BASE_URL, MSTR_USERNAME, MSTR_PASSWORD, project_id=PROJECT_ID, login_mode=1)"
   ]
  },
  {
   "cell_type": "code",
   "execution_count": null,
   "id": "08e1ff09-3c91-45be-9012-bacc4f19246b",
   "metadata": {},
   "outputs": [],
   "source": [
    "from mstrio.project_objects import Library\n",
    "library = Library(conn)"
   ]
  },
  {
   "cell_type": "code",
   "execution_count": null,
   "id": "9d28cba8-a20e-4375-91a4-24e2e47859d8",
   "metadata": {},
   "outputs": [],
   "source": [
    "library.dossiers"
   ]
  },
  {
   "cell_type": "code",
   "execution_count": null,
   "id": "f3547874-8918-4908-96e8-69b1178f5562",
   "metadata": {},
   "outputs": [],
   "source": [
    "library.documents"
   ]
  },
  {
   "cell_type": "code",
   "execution_count": null,
   "id": "336017cc-9e3a-4633-b8cd-f9418a34b805",
   "metadata": {},
   "outputs": [],
   "source": [
    "library.contents"
   ]
  },
  {
   "cell_type": "markdown",
   "id": "94c4eaa4-6fdf-432b-ba60-61fb4f399ba1",
   "metadata": {},
   "source": [
    "# Dossier Cache"
   ]
  },
  {
   "cell_type": "code",
   "execution_count": null,
   "id": "08688847-76c3-4c95-b960-f9f5f857ee42",
   "metadata": {},
   "outputs": [],
   "source": [
    "print(Dossier.list_caches.__doc__)"
   ]
  },
  {
   "cell_type": "code",
   "execution_count": null,
   "id": "806490b9-ee39-48b3-842b-589f058eaa3e",
   "metadata": {},
   "outputs": [],
   "source": [
    "inspect.signature(Dossier.list_caches)"
   ]
  },
  {
   "cell_type": "code",
   "execution_count": null,
   "id": "af8c235e-fba2-4cc9-86b6-ce6e20e9873f",
   "metadata": {},
   "outputs": [],
   "source": [
    "Dossier.list_caches(conn)"
   ]
  },
  {
   "cell_type": "code",
   "execution_count": null,
   "id": "94e94bf6-7073-4402-b6ef-7783e1f76337",
   "metadata": {},
   "outputs": [],
   "source": [
    "Dossier.unload_all_caches(conn)"
   ]
  },
  {
   "cell_type": "code",
   "execution_count": null,
   "id": "4ebc170b-6206-45d9-8f17-e87ec97e923e",
   "metadata": {},
   "outputs": [],
   "source": [
    "Dossier.load_caches(conn)"
   ]
  }
 ],
 "metadata": {
  "kernelspec": {
   "display_name": "Python 3 (ipykernel)",
   "language": "python",
   "name": "python3"
  },
  "language_info": {
   "codemirror_mode": {
    "name": "ipython",
    "version": 3
   },
   "file_extension": ".py",
   "mimetype": "text/x-python",
   "name": "python",
   "nbconvert_exporter": "python",
   "pygments_lexer": "ipython3",
   "version": "3.10.8"
  }
 },
 "nbformat": 4,
 "nbformat_minor": 5
}
