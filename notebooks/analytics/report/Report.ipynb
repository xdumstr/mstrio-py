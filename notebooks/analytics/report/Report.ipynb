{
 "cells": [
  {
   "cell_type": "code",
   "execution_count": null,
   "id": "d2214aa7-8fb5-4e8d-8e7d-d5832ecb7ac2",
   "metadata": {},
   "outputs": [],
   "source": []
  },
  {
   "cell_type": "code",
   "execution_count": 1,
   "id": "02f00a70-c7a2-422d-8362-91122af7f96b",
   "metadata": {},
   "outputs": [
    {
     "name": "stdout",
     "output_type": "stream",
     "text": [
      "This (module mstrio.api.metrics) functionality is a work-in-progress. Use it only if you understand the underlying code. It may change in future updates.\n"
     ]
    }
   ],
   "source": [
    "import getpass\n",
    "import inspect\n",
    "from mstrio.connection import Connection\n",
    "from mstrio.modeling import *"
   ]
  },
  {
   "cell_type": "code",
   "execution_count": 2,
   "id": "e44cc6d4-8f91-464b-89c1-aa78d610913d",
   "metadata": {},
   "outputs": [
    {
     "name": "stdin",
     "output_type": "stream",
     "text": [
      " ········\n"
     ]
    }
   ],
   "source": [
    "PROJECT_NAME = \"MicroStrategy Tutorial\"\n",
    "BASE_URL = \"https://env-276686.customer.cloud.microstrategy.com/MicroStrategyLibrary/api\"  # Insert URL for your env here\n",
    "MSTR_USERNAME = \"mstr\"  # Insert your env username here\n",
    "MSTR_PASSWORD = getpass.getpass()   # insert your mstr password here\n",
    "PROJECT_ID = \"B7CA92F04B9FAE8D941C3E9B7E0CD754\"  # Insert you project ID here\n",
    "FOLDER_ID = \"D3C7D461F69C4610AA6BAA5EF51F4125\" # public reports"
   ]
  },
  {
   "cell_type": "code",
   "execution_count": 3,
   "id": "ae2dbe1e-eb0f-4ae6-9fab-f2268d500c6b",
   "metadata": {},
   "outputs": [
    {
     "name": "stdout",
     "output_type": "stream",
     "text": [
      "Connection to MicroStrategy Intelligence Server has been established.\n"
     ]
    }
   ],
   "source": [
    "# Currently, supported authentication modes are Standard (the default), guest and LDAP.\n",
    "# To use LDAP, add login_mode=16 when creating your Connection object:\n",
    "conn = Connection(BASE_URL, MSTR_USERNAME, MSTR_PASSWORD, project_id=PROJECT_ID, login_mode=1)"
   ]
  },
  {
   "cell_type": "code",
   "execution_count": 4,
   "id": "999f259d-b7d7-48b8-8924-8e908808d1c4",
   "metadata": {},
   "outputs": [],
   "source": [
    "from mstrio.project_objects.report import *"
   ]
  },
  {
   "cell_type": "code",
   "execution_count": null,
   "id": "0907ecc1-f428-471e-ab99-65d758a6f292",
   "metadata": {},
   "outputs": [],
   "source": [
    "list_reports(conn)"
   ]
  },
  {
   "cell_type": "code",
   "execution_count": 6,
   "id": "4648f31c-296c-4ce9-a509-8626915dc543",
   "metadata": {},
   "outputs": [
    {
     "name": "stdout",
     "output_type": "stream",
     "text": [
      "Report object named: 'New Transaction Report' with ID: '9AF03D3D2A4DF50706D974B0A5E3595B'\n"
     ]
    }
   ],
   "source": [
    "report = Report(conn, id=\"9AF03D3D2A4DF50706D974B0A5E3595B\")"
   ]
  },
  {
   "cell_type": "code",
   "execution_count": 7,
   "id": "013c9d38-56c9-412f-9de1-2d941203e52f",
   "metadata": {},
   "outputs": [
    {
     "name": "stdin",
     "output_type": "stream",
     "text": [
      "Are you sure you want to delete Report 'New Transaction Report' with ID: 9AF03D3D2A4DF50706D974B0A5E3595B? [Y/N]:  Y\n"
     ]
    },
    {
     "name": "stdout",
     "output_type": "stream",
     "text": [
      "Successfully deleted Report with ID: '9AF03D3D2A4DF50706D974B0A5E3595B'.\n"
     ]
    },
    {
     "data": {
      "text/plain": [
       "True"
      ]
     },
     "execution_count": 7,
     "metadata": {},
     "output_type": "execute_result"
    }
   ],
   "source": [
    "report.delete()"
   ]
  },
  {
   "cell_type": "code",
   "execution_count": null,
   "id": "b0241f8c-2ddf-4886-a7a5-93df37195c44",
   "metadata": {},
   "outputs": [],
   "source": []
  }
 ],
 "metadata": {
  "kernelspec": {
   "display_name": "Python 3 (ipykernel)",
   "language": "python",
   "name": "python3"
  },
  "language_info": {
   "codemirror_mode": {
    "name": "ipython",
    "version": 3
   },
   "file_extension": ".py",
   "mimetype": "text/x-python",
   "name": "python",
   "nbconvert_exporter": "python",
   "pygments_lexer": "ipython3",
   "version": "3.10.8"
  }
 },
 "nbformat": 4,
 "nbformat_minor": 5
}
