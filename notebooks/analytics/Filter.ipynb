{
 "cells": [
  {
   "cell_type": "code",
   "execution_count": null,
   "id": "7e14657f-17f5-4558-b9b7-cf36cd5450dc",
   "metadata": {},
   "outputs": [],
   "source": [
    "import getpass\n",
    "import inspect\n",
    "from mstrio.connection import Connection\n",
    "from mstrio.modeling import *"
   ]
  },
  {
   "cell_type": "code",
   "execution_count": null,
   "id": "df56f880-6fcf-4a08-b760-a5546e435011",
   "metadata": {},
   "outputs": [],
   "source": [
    "PROJECT_NAME = \"MicroStrategy Tutorial\"\n",
    "BASE_URL = \"https://env-276686.customer.cloud.microstrategy.com/MicroStrategyLibrary/api\"  # Insert URL for your env here\n",
    "MSTR_USERNAME = \"mstr\"  # Insert your env username here\n",
    "MSTR_PASSWORD = getpass.getpass()   # insert your mstr password here\n",
    "PROJECT_ID = \"B7CA92F04B9FAE8D941C3E9B7E0CD754\"  # Insert you project ID here\n",
    "FOLDER_ID = \"D3C7D461F69C4610AA6BAA5EF51F4125\" # public reports"
   ]
  },
  {
   "cell_type": "code",
   "execution_count": null,
   "id": "2a83696b-c534-4a97-923f-fea821655605",
   "metadata": {},
   "outputs": [],
   "source": [
    "# Currently, supported authentication modes are Standard (the default), guest and LDAP.\n",
    "# To use LDAP, add login_mode=16 when creating your Connection object:\n",
    "conn = Connection(BASE_URL, MSTR_USERNAME, MSTR_PASSWORD, project_id=PROJECT_ID, login_mode=1)"
   ]
  },
  {
   "cell_type": "markdown",
   "id": "f4beb3ae-daf6-4565-ada3-855b7adab203",
   "metadata": {},
   "source": [
    "# Prepare Data"
   ]
  },
  {
   "cell_type": "code",
   "execution_count": null,
   "id": "3f5f1af8-e16e-40f4-842b-db8767416326",
   "metadata": {},
   "outputs": [],
   "source": [
    "# Example filter qualification data with expression specified as tree\n",
    "FILTER_QUALIFICATION_AS_TREE = {\n",
    "    \"tree\": {\n",
    "        \"type\": \"predicate_metric_qualification\",\n",
    "        \"predicateTree\": {\n",
    "            \"function\": \"greater\",\n",
    "            \"parameters\": [\n",
    "                {\n",
    "                    \"parameterType\": \"constant\",\n",
    "                    \"constant\": {\n",
    "                        \"type\": \"int64\", \"value\": \"1\"\n",
    "                    },\n",
    "                }\n",
    "            ],\n",
    "            \"levelType\": \"none\",\n",
    "            \"metric\": {\n",
    "                \"objectId\": \"CE8DAE7048998FFECF77418BDF2343B8\",\n",
    "                \"subType\": \"metric\",\n",
    "                \"name\": \"Item Count\",\n",
    "            },\n",
    "            \"metricFunction\": \"value\",\n",
    "            \"isIndependent\": 0,\n",
    "            \"nullInclude\": 0,\n",
    "        },\n",
    "    },\n",
    "}"
   ]
  },
  {
   "cell_type": "code",
   "execution_count": null,
   "id": "87b5f15c-2648-4af1-af76-91a83dd23f0a",
   "metadata": {},
   "outputs": [],
   "source": [
    "# Example filter qualification data with expression specified as tokens\n",
    "FILTER_QUALIFICATION_AS_TOKENS = {\n",
    "    \"tokens\": [\n",
    "        {\n",
    "            \"level\": \"resolved\",\n",
    "            \"state\": \"initial\",\n",
    "            \"value\": \"%\",\n",
    "            \"type\": \"character\",\n",
    "        },\n",
    "        {\n",
    "            \"level\": \"resolved\",\n",
    "            \"state\": \"initial\",\n",
    "            \"value\": \"[Item Count]\",\n",
    "            \"type\": \"object_reference\",\n",
    "        },\n",
    "        {\n",
    "            \"level\": \"resolved\",\n",
    "            \"state\": \"initial\",\n",
    "            \"value\": \">\",\n",
    "            \"type\": \"character\",\n",
    "        },\n",
    "        {\n",
    "            \"level\": \"resolved\", \"state\": \"initial\", \"value\": \"1\", \"type\": \"unknown\"\n",
    "        },\n",
    "        {\n",
    "            \"level\": \"resolved\",\n",
    "            \"state\": \"initial\",\n",
    "            \"value\": \"\",\n",
    "            \"type\": \"end_of_text\",\n",
    "        },\n",
    "    ],\n",
    "}"
   ]
  },
  {
   "cell_type": "markdown",
   "id": "4107af18-9377-4397-b35f-6df6d8afd216",
   "metadata": {},
   "source": [
    "## List"
   ]
  },
  {
   "cell_type": "code",
   "execution_count": null,
   "id": "09a9e47c-f7a4-47e3-b88c-af4aa8c1073a",
   "metadata": {},
   "outputs": [],
   "source": [
    "print(list_filters.__doc__)"
   ]
  },
  {
   "cell_type": "code",
   "execution_count": null,
   "id": "182e3db1-ebe7-4682-80a3-6699cf550306",
   "metadata": {},
   "outputs": [],
   "source": [
    "list_filters(conn)"
   ]
  },
  {
   "cell_type": "code",
   "execution_count": null,
   "id": "14c7498c-c77a-4fd9-90e6-93b0eda97171",
   "metadata": {},
   "outputs": [],
   "source": [
    "list_filters(conn, limit=10)"
   ]
  },
  {
   "cell_type": "code",
   "execution_count": null,
   "id": "f8a3fc9e-2ab7-4a2b-8830-c378e0885757",
   "metadata": {},
   "outputs": [],
   "source": [
    "# Search pattern\n",
    "from mstrio.object_management import SearchPattern\n",
    "list_filters(conn, name=\"Year\", search_pattern = SearchPattern.CONTAINS)"
   ]
  },
  {
   "cell_type": "code",
   "execution_count": null,
   "id": "91d58270-4d61-4eaa-8b58-ae39d3146427",
   "metadata": {},
   "outputs": [],
   "source": [
    "list_filters(conn, limit=5, show_expression_as=ExpressionFormat.TREE)"
   ]
  },
  {
   "cell_type": "code",
   "execution_count": null,
   "id": "1599eecf-cce9-43c1-81fd-7eee7225c4f5",
   "metadata": {},
   "outputs": [],
   "source": [
    "list_filters(conn, limit=5, show_expression_as=ExpressionFormat.TOKENS)"
   ]
  },
  {
   "cell_type": "markdown",
   "id": "b9c00e92-3fc2-4bdb-848d-44906022aa5e",
   "metadata": {},
   "source": [
    "# Find by id"
   ]
  },
  {
   "cell_type": "code",
   "execution_count": null,
   "id": "871ad651-3a1b-4c1c-9a79-073db220b343",
   "metadata": {},
   "outputs": [],
   "source": [
    "print(Filter.__init__.__doc__)"
   ]
  },
  {
   "cell_type": "code",
   "execution_count": null,
   "id": "895d9503-926d-4120-be7f-e280694660cc",
   "metadata": {},
   "outputs": [],
   "source": [
    "filter = Filter(conn, id=\"4D5A6BEB4C40C36DCD18DCA16C2CE359\")"
   ]
  },
  {
   "cell_type": "code",
   "execution_count": null,
   "id": "80af3cc8-81f6-49d6-a478-5e6e0e1091c3",
   "metadata": {},
   "outputs": [],
   "source": [
    "filter.qualification.tree"
   ]
  },
  {
   "cell_type": "code",
   "execution_count": null,
   "id": "42b7dc58-1bf5-49ee-b35e-4b7b7ccc5871",
   "metadata": {},
   "outputs": [],
   "source": [
    "filter.qualification.tokens"
   ]
  },
  {
   "cell_type": "code",
   "execution_count": null,
   "id": "9f74b424-56e5-4b8a-b900-de5320e0f094",
   "metadata": {},
   "outputs": [],
   "source": [
    "filter2 = Filter(conn, id=\"4D5A6BEB4C40C36DCD18DCA16C2CE359\", show_filter_tokens =True)"
   ]
  },
  {
   "cell_type": "code",
   "execution_count": null,
   "id": "54a8f225-a7b6-458c-9a49-d8736996553f",
   "metadata": {},
   "outputs": [],
   "source": [
    "filter2.qualification.tree"
   ]
  },
  {
   "cell_type": "code",
   "execution_count": null,
   "id": "64c37276-20b5-4d72-8f96-55d62e56a3f3",
   "metadata": {},
   "outputs": [],
   "source": [
    "filter2.qualification.tokens"
   ]
  },
  {
   "cell_type": "markdown",
   "id": "f57efc82-de02-475a-8e75-4a1a6c1ff234",
   "metadata": {},
   "source": [
    "# Properties and Methods"
   ]
  },
  {
   "cell_type": "code",
   "execution_count": null,
   "id": "b61fafc0-d60f-4fc3-a341-3bec9c478a71",
   "metadata": {},
   "outputs": [],
   "source": [
    "print(Filter.__doc__)"
   ]
  },
  {
   "cell_type": "code",
   "execution_count": null,
   "id": "45c2891f-5ef1-4f05-9eb4-088f87d4635f",
   "metadata": {},
   "outputs": [],
   "source": [
    "dir(Filter)"
   ]
  },
  {
   "cell_type": "code",
   "execution_count": null,
   "id": "99fb7d81-9e5c-4768-aed9-2a3f5685c722",
   "metadata": {},
   "outputs": [],
   "source": [
    "filter.list_properties()"
   ]
  },
  {
   "cell_type": "markdown",
   "id": "317bfd92-46f9-4fe3-9fc8-96d6f94aa46f",
   "metadata": {},
   "source": [
    "## Filter qualification"
   ]
  },
  {
   "cell_type": "code",
   "execution_count": null,
   "id": "e01df11a-6c8f-46b8-b56b-00c483ae3d0e",
   "metadata": {},
   "outputs": [],
   "source": [
    "fq = filter.qualification\n",
    "fq"
   ]
  },
  {
   "cell_type": "code",
   "execution_count": null,
   "id": "93921eb5-733a-422f-aa2f-b1506ac6a4c6",
   "metadata": {},
   "outputs": [],
   "source": [
    "fqt = fq.tree\n",
    "fqt"
   ]
  },
  {
   "cell_type": "code",
   "execution_count": null,
   "id": "fe232d7c-5da9-40a5-adfb-57d10b2771de",
   "metadata": {},
   "outputs": [],
   "source": [
    "fqt.predicate_text"
   ]
  },
  {
   "cell_type": "markdown",
   "id": "7b881772-3dd8-4e2d-9109-6e81a03681eb",
   "metadata": {},
   "source": [
    "# Create a filter"
   ]
  },
  {
   "cell_type": "code",
   "execution_count": null,
   "id": "3334f725-d9b2-4ae2-aa1a-ec5da2ee40a9",
   "metadata": {},
   "outputs": [],
   "source": [
    "print(Filter.create.__doc__)"
   ]
  },
  {
   "cell_type": "code",
   "execution_count": null,
   "id": "27e5984c-8f47-4032-abae-f046e5d6881b",
   "metadata": {},
   "outputs": [],
   "source": [
    "inspect.signature(Filter.create)"
   ]
  },
  {
   "cell_type": "code",
   "execution_count": null,
   "id": "ac147d0c-dfa3-4467-bc81-45598d5e1d6f",
   "metadata": {},
   "outputs": [],
   "source": [
    "# create new filter using qualification as tree and\n",
    "# specify to return qualification also in tokens format\n",
    "test_filter_tree = Filter.create(\n",
    "    connection=conn,\n",
    "    name=(\"MyTestFilter_tree\"),\n",
    "    destination_folder=FOLDER_ID,\n",
    "    show_filter_tokens=True,\n",
    "    qualification=FILTER_QUALIFICATION_AS_TREE,\n",
    ")"
   ]
  },
  {
   "cell_type": "code",
   "execution_count": null,
   "id": "9c248806-fc38-4f50-9f85-4bdb786a3cf6",
   "metadata": {},
   "outputs": [],
   "source": [
    "test_filter_tokens = Filter.create(\n",
    "    connection=conn,\n",
    "    name=(\"MyTestFilter_tokens\"),\n",
    "    destination_folder=FOLDER_ID,\n",
    "    qualification=FILTER_QUALIFICATION_AS_TOKENS,\n",
    ")"
   ]
  },
  {
   "cell_type": "code",
   "execution_count": null,
   "id": "2ee187d8-10e9-4428-a86e-ffcf9709762d",
   "metadata": {},
   "outputs": [],
   "source": [
    "test_filter_tree.list_properties()"
   ]
  },
  {
   "cell_type": "markdown",
   "id": "8cfe619a-56c5-4a7d-840a-b3c429a40136",
   "metadata": {},
   "source": [
    "# Modify filter"
   ]
  },
  {
   "cell_type": "code",
   "execution_count": null,
   "id": "16818fc1-94f2-43d3-a118-2e6535eafcaf",
   "metadata": {},
   "outputs": [],
   "source": [
    "print(test_filter_tree.alter.__doc__)"
   ]
  },
  {
   "cell_type": "code",
   "execution_count": null,
   "id": "2abcf201-49f2-40b8-ac23-cb1f40d33537",
   "metadata": {},
   "outputs": [],
   "source": [
    "test_filter_tree.alter(description=\"New Description\")"
   ]
  },
  {
   "cell_type": "markdown",
   "id": "3fb84b1f-94c5-45c7-bfc2-d9df3a7fd713",
   "metadata": {},
   "source": [
    "# Delete a filter"
   ]
  },
  {
   "cell_type": "code",
   "execution_count": null,
   "id": "422ae681-c4aa-4f67-94ae-45bbda296f3f",
   "metadata": {},
   "outputs": [],
   "source": [
    "test_filter_tokens.delete(force=True)"
   ]
  },
  {
   "cell_type": "code",
   "execution_count": null,
   "id": "e2543f8b-8e9e-4008-99c7-323ff431cbf6",
   "metadata": {},
   "outputs": [],
   "source": [
    "test_filter_tree.delete(force=True)"
   ]
  }
 ],
 "metadata": {
  "kernelspec": {
   "display_name": "Python 3 (ipykernel)",
   "language": "python",
   "name": "python3"
  },
  "language_info": {
   "codemirror_mode": {
    "name": "ipython",
    "version": 3
   },
   "file_extension": ".py",
   "mimetype": "text/x-python",
   "name": "python",
   "nbconvert_exporter": "python",
   "pygments_lexer": "ipython3",
   "version": "3.10.8"
  }
 },
 "nbformat": 4,
 "nbformat_minor": 5
}
