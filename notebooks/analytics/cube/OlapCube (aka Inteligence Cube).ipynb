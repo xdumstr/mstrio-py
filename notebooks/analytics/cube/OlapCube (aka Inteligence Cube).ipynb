{
 "cells": [
  {
   "cell_type": "code",
   "execution_count": null,
   "id": "f7d6deb2-746f-4dff-bc76-2f2216f2a8af",
   "metadata": {},
   "outputs": [],
   "source": [
    "from mstrio.project_objects import *\n",
    "from mstrio.connection import Connection\n",
    "import getpass\n",
    "import inspect"
   ]
  },
  {
   "cell_type": "code",
   "execution_count": null,
   "id": "771b22d0-c07a-4a7f-b027-700fcd9b852a",
   "metadata": {
    "tags": []
   },
   "outputs": [],
   "source": [
    "base_url = \"https://env-276686.customer.cloud.microstrategy.com/MicroStrategyLibrary/api\"\n",
    "username = \"mstr\"\n",
    "password = getpass.getpass()\n",
    "conn = Connection(base_url, username, password, project_name=\"MicroStrategy Tutorial\", login_mode=1)"
   ]
  },
  {
   "cell_type": "code",
   "execution_count": null,
   "id": "b7220e47-e452-444f-afd3-21be713d1d22",
   "metadata": {
    "tags": []
   },
   "outputs": [],
   "source": [
    "conn.close()"
   ]
  },
  {
   "cell_type": "markdown",
   "id": "5bd35ee7-1309-452f-a771-973ca7a6f64f",
   "metadata": {},
   "source": [
    "# Prepare Data\n",
    "\n",
    "To create Intelligence Cube. We need to know the attributes and metrics. "
   ]
  },
  {
   "cell_type": "code",
   "execution_count": null,
   "id": "99c124ad-1e31-460c-9ee0-1ab8c1aa664d",
   "metadata": {},
   "outputs": [],
   "source": [
    "from mstrio.modeling.schema import (\n",
    "    Attribute,\n",
    "    list_attributes\n",
    ")\n",
    "from mstrio.modeling.metric import (\n",
    "    Metric,\n",
    "    list_metrics\n",
    ")\n"
   ]
  },
  {
   "cell_type": "code",
   "execution_count": null,
   "id": "2348a157-5cd2-49db-96eb-936186ea4cfd",
   "metadata": {},
   "outputs": [],
   "source": [
    "category = {'id': '8D679D3711D3E4981000E787EC6DE8A4', 'name':'Category'}\n",
    "profit = {'id':'4C051DB611D3E877C000B3B2D86C964F', 'name':'Profit'}\n",
    "year = {'id':'8D679D5111D3E4981000E787EC6DE8A4', 'name':'This does not matter' }\n",
    "revenue = {'id':'4C05177011D3E877C000B3B2D86C964F','name':'Does not matter'}"
   ]
  },
  {
   "cell_type": "markdown",
   "id": "d87477eb-9d23-4fd6-8abc-b6bad1eaf52c",
   "metadata": {},
   "source": [
    "## List attributes"
   ]
  },
  {
   "cell_type": "code",
   "execution_count": null,
   "id": "77692afb-c622-498d-9fa5-e9ea876b5d13",
   "metadata": {},
   "outputs": [],
   "source": [
    "print(list_attributes.__doc__)"
   ]
  },
  {
   "cell_type": "code",
   "execution_count": null,
   "id": "a55e1a8c-fa13-4872-88ef-5b3852522229",
   "metadata": {},
   "outputs": [],
   "source": [
    "list_attributes(conn)"
   ]
  },
  {
   "cell_type": "markdown",
   "id": "5bc32a07-ba46-44b1-b118-100f86b428c9",
   "metadata": {
    "tags": []
   },
   "source": [
    "## Get Attribute by ID"
   ]
  },
  {
   "cell_type": "code",
   "execution_count": null,
   "id": "ded0eca6-844e-4398-b4a4-467eceb89c8b",
   "metadata": {},
   "outputs": [],
   "source": [
    "print(Attribute.__init__.__doc__)"
   ]
  },
  {
   "cell_type": "code",
   "execution_count": null,
   "id": "4a2f3f8e-6412-4cfb-8b73-480dadef1a59",
   "metadata": {},
   "outputs": [],
   "source": [
    "Attribute(conn, \"8D679D3711D3E4981000E787EC6DE8A4\")"
   ]
  },
  {
   "cell_type": "markdown",
   "id": "5df60bcd-1448-4476-9aca-b4050c0cef48",
   "metadata": {},
   "source": [
    "## List metrics"
   ]
  },
  {
   "cell_type": "code",
   "execution_count": null,
   "id": "4bc0b069-2ade-4262-b87e-d83d549c4e2b",
   "metadata": {},
   "outputs": [],
   "source": [
    "list_metrics(conn)"
   ]
  },
  {
   "cell_type": "markdown",
   "id": "19fa3e25-469b-4d62-9009-6cf58f0d33e7",
   "metadata": {},
   "source": [
    "## Get metric by ID"
   ]
  },
  {
   "cell_type": "code",
   "execution_count": null,
   "id": "89934003-c051-47b8-8de0-4deb081c1457",
   "metadata": {},
   "outputs": [],
   "source": [
    "print(Metric.__init__.__doc__)"
   ]
  },
  {
   "cell_type": "code",
   "execution_count": null,
   "id": "8f1e455b-57a9-4fb6-9275-ae6350add862",
   "metadata": {},
   "outputs": [],
   "source": [
    "Metric(conn, \"4C051DB611D3E877C000B3B2D86C964F\")"
   ]
  },
  {
   "cell_type": "markdown",
   "id": "d89c6cde-c805-46e7-800b-891490072fa4",
   "metadata": {},
   "source": [
    "# List Cube"
   ]
  },
  {
   "cell_type": "code",
   "execution_count": null,
   "id": "14ce9fbd-87d7-42aa-ad78-f26907b9b91e",
   "metadata": {},
   "outputs": [],
   "source": [
    "print(list_reports.__doc__)"
   ]
  },
  {
   "cell_type": "code",
   "execution_count": null,
   "id": "907d656c-637e-4591-878e-b17b963c72f6",
   "metadata": {},
   "outputs": [],
   "source": [
    "list_olap_cubes(conn)"
   ]
  },
  {
   "cell_type": "code",
   "execution_count": null,
   "id": "86742fb5-e79f-4785-9080-003caff2f924",
   "metadata": {},
   "outputs": [],
   "source": [
    "list_all_cubes(conn)"
   ]
  },
  {
   "cell_type": "markdown",
   "id": "62ac7720-6eab-41fc-91f8-aa24c84e2ff7",
   "metadata": {},
   "source": [
    "# Create Cube"
   ]
  },
  {
   "cell_type": "code",
   "execution_count": null,
   "id": "00e007d8-2488-4a08-92ac-b6a6192810f3",
   "metadata": {},
   "outputs": [],
   "source": [
    "from mstrio.project_objects import OlapCube"
   ]
  },
  {
   "cell_type": "code",
   "execution_count": null,
   "id": "45453ac8-69a0-449d-91ae-0e9557e710d8",
   "metadata": {},
   "outputs": [],
   "source": [
    "print(OlapCube.create.__doc__)"
   ]
  },
  {
   "cell_type": "code",
   "execution_count": null,
   "id": "a3695e9e-30be-4291-a818-e0640e77637f",
   "metadata": {},
   "outputs": [],
   "source": [
    "inspect.signature(OlapCube.create)"
   ]
  },
  {
   "cell_type": "code",
   "execution_count": null,
   "id": "d3f72e9f-1494-40ac-b09d-ee7b7c443e00",
   "metadata": {},
   "outputs": [],
   "source": [
    "OlapCube.available_attributes(conn)"
   ]
  },
  {
   "cell_type": "code",
   "execution_count": null,
   "id": "c4d458e8-0a68-4745-b153-2f861f566cd4",
   "metadata": {},
   "outputs": [],
   "source": [
    "OlapCube.available_metrics(conn)"
   ]
  },
  {
   "cell_type": "code",
   "execution_count": null,
   "id": "86334929-2f80-42fe-958f-1d16e3bcaaa0",
   "metadata": {},
   "outputs": [],
   "source": [
    "cube = OlapCube.create(\n",
    "    conn,\n",
    "    name='Harry OLAP Cube',\n",
    "    folder_id = '04EF234C7B459DFA6AD8D8A79FDCD7CA', # My objects\n",
    "    attributes = [year],\n",
    "    metrics = [profit]\n",
    ")\n",
    "cube"
   ]
  },
  {
   "cell_type": "code",
   "execution_count": null,
   "id": "c104b31e-d0c8-4b94-be60-631c45c50eb6",
   "metadata": {},
   "outputs": [],
   "source": [
    "cube.id"
   ]
  },
  {
   "cell_type": "markdown",
   "id": "06879453-6ee5-494b-8ed9-4c81873b19eb",
   "metadata": {},
   "source": [
    "# Publish Cube"
   ]
  },
  {
   "cell_type": "code",
   "execution_count": null,
   "id": "384ee4e8-2e6e-421a-8086-b45a75fe8c81",
   "metadata": {},
   "outputs": [],
   "source": [
    "cube.publish()"
   ]
  },
  {
   "cell_type": "markdown",
   "id": "21640a1f-5878-477a-8df7-9162f4b2d658",
   "metadata": {},
   "source": [
    "# Fetch Cube by ID"
   ]
  },
  {
   "cell_type": "code",
   "execution_count": null,
   "id": "68870b88-8236-4349-b338-76a937ed1bd5",
   "metadata": {},
   "outputs": [],
   "source": [
    "cube = OlapCube(conn, cube.id)"
   ]
  },
  {
   "cell_type": "code",
   "execution_count": null,
   "id": "b31731c2-aa1f-4757-a39d-1e434e9c433b",
   "metadata": {},
   "outputs": [],
   "source": [
    "cube"
   ]
  },
  {
   "cell_type": "markdown",
   "id": "b99e2d35-8d3c-42bd-b4fb-1ab2bb7bd2af",
   "metadata": {},
   "source": [
    "# Cube attribute and method"
   ]
  },
  {
   "cell_type": "code",
   "execution_count": null,
   "id": "fa39d6ca-4b8d-4183-b63b-655c4778e194",
   "metadata": {},
   "outputs": [],
   "source": [
    "dir(OlapCube)"
   ]
  },
  {
   "cell_type": "code",
   "execution_count": null,
   "id": "1918e4b9-0c30-4bd4-b4db-85b14642e831",
   "metadata": {},
   "outputs": [],
   "source": [
    "cube.attributes"
   ]
  },
  {
   "cell_type": "code",
   "execution_count": null,
   "id": "da1bc292-9178-4dac-ba73-d362b31349fa",
   "metadata": {},
   "outputs": [],
   "source": [
    "cube.metrics"
   ]
  },
  {
   "cell_type": "code",
   "execution_count": null,
   "id": "609d34e6-fe50-453f-a4a6-ebb95b289dde",
   "metadata": {},
   "outputs": [],
   "source": [
    "cube.attr_elements"
   ]
  },
  {
   "cell_type": "code",
   "execution_count": null,
   "id": "35da2ff0-f83a-40f6-a6a3-dd6effaa833d",
   "metadata": {},
   "outputs": [],
   "source": [
    "cube.list_properties()"
   ]
  },
  {
   "cell_type": "code",
   "execution_count": null,
   "id": "29ee1a66-2ccb-4ac2-be17-e472daf1213a",
   "metadata": {},
   "outputs": [],
   "source": [
    "cube.list_vldb_settings()"
   ]
  },
  {
   "cell_type": "code",
   "execution_count": null,
   "id": "da40d047-a094-48af-ac43-8c2006669748",
   "metadata": {},
   "outputs": [],
   "source": [
    "cube.show_status()"
   ]
  },
  {
   "cell_type": "code",
   "execution_count": null,
   "id": "fdc5c309-ae26-48dd-9a7c-999365b6cece",
   "metadata": {},
   "outputs": [],
   "source": [
    "cube.refresh_status()"
   ]
  },
  {
   "cell_type": "code",
   "execution_count": null,
   "id": "8cdce5bc-5ebd-49d2-bc5c-8052023a4489",
   "metadata": {},
   "outputs": [],
   "source": [
    "cube.unpublish()"
   ]
  },
  {
   "cell_type": "markdown",
   "id": "aaeb3f37-f63e-4ba4-a069-ed64328f8583",
   "metadata": {},
   "source": [
    "# Modify Cube"
   ]
  },
  {
   "cell_type": "markdown",
   "id": "28090741-2926-4349-8171-af95a5a4d208",
   "metadata": {},
   "source": [
    "## attributes and metrics"
   ]
  },
  {
   "cell_type": "code",
   "execution_count": null,
   "id": "1109e5a6-fe34-445a-94b4-09f6d991913b",
   "metadata": {},
   "outputs": [],
   "source": [
    "cube.attributes"
   ]
  },
  {
   "cell_type": "code",
   "execution_count": null,
   "id": "dec0c29f-3e1c-46aa-b94e-6e3c5f38e30e",
   "metadata": {},
   "outputs": [],
   "source": [
    "cube.update(  \n",
    "    attributes = [category, year],\n",
    "    metrics = [revenue]\n",
    ")"
   ]
  },
  {
   "cell_type": "code",
   "execution_count": null,
   "id": "c8e82e86-b147-4961-aaca-61a476189f13",
   "metadata": {},
   "outputs": [],
   "source": [
    "cube.publish()"
   ]
  },
  {
   "cell_type": "code",
   "execution_count": null,
   "id": "043fecfe-199a-46a2-a6e8-6492bf6093e8",
   "metadata": {},
   "outputs": [],
   "source": [
    "cube.update(  \n",
    "    attributes = [category],\n",
    "    metrics = [profit]\n",
    ")"
   ]
  },
  {
   "cell_type": "code",
   "execution_count": null,
   "id": "d7b30e03-99d9-47db-b194-afa3cf75a628",
   "metadata": {},
   "outputs": [],
   "source": [
    "cube.publish()"
   ]
  },
  {
   "cell_type": "markdown",
   "id": "0839efa3-a43c-437e-b2f6-d92b1aa40a30",
   "metadata": {},
   "source": [
    "\n",
    "\n",
    "# Delete Cube"
   ]
  },
  {
   "cell_type": "code",
   "execution_count": null,
   "id": "87ad0c4f-4ca8-458e-9549-e892d9bdfd6f",
   "metadata": {},
   "outputs": [],
   "source": [
    "cube.delete()"
   ]
  },
  {
   "cell_type": "code",
   "execution_count": null,
   "id": "2b26fee3-8f64-4935-97c3-a093ac4ef7b4",
   "metadata": {},
   "outputs": [],
   "source": [
    "cube.delete(True)"
   ]
  }
 ],
 "metadata": {
  "kernelspec": {
   "display_name": "Python 3 (ipykernel)",
   "language": "python",
   "name": "python3"
  },
  "language_info": {
   "codemirror_mode": {
    "name": "ipython",
    "version": 3
   },
   "file_extension": ".py",
   "mimetype": "text/x-python",
   "name": "python",
   "nbconvert_exporter": "python",
   "pygments_lexer": "ipython3",
   "version": "3.10.8"
  }
 },
 "nbformat": 4,
 "nbformat_minor": 5
}
