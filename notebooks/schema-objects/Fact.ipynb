{
 "cells": [
  {
   "cell_type": "code",
   "execution_count": null,
   "id": "be535b87-1519-460d-9047-1f114bb70b49",
   "metadata": {
    "tags": []
   },
   "outputs": [],
   "source": [
    "import inspect\n",
    "from mstrio.connection import Connection\n",
    "import getpass\n",
    "from mstrio.datasources import *\n",
    "from mstrio.modeling.schema.table import *\n",
    "from mstrio.modeling.expression import *\n",
    "from mstrio.modeling.schema.fact import *\n",
    "from mstrio.modeling import *"
   ]
  },
  {
   "cell_type": "code",
   "execution_count": null,
   "id": "0a080388-8090-482c-8f74-417fa30091ad",
   "metadata": {
    "tags": []
   },
   "outputs": [],
   "source": [
    "PROJECT_NAME = \"MicroStrategy Tutorial\"\n",
    "BASE_URL = \"http://10.23.35.137:8080/MicroStrategyLibrary/api\"\n",
    "MSTR_USERNAME = \"administrator\"  # Insert your env username here\n",
    "MSTR_PASSWORD = \"\"  # insert your mstr password here\n",
    "PROJECT_ID = \"B19DEDCC11D4E0EFC000EB9495D0F44F\"  # Insert you project ID here\n",
    "PUBLIC_FOLDER_ID = \"98FE182C2A10427EACE0CD30B6768258\""
   ]
  },
  {
   "cell_type": "code",
   "execution_count": null,
   "id": "b689a9bb-d5a3-4fb5-afbb-1180edb7c167",
   "metadata": {
    "tags": []
   },
   "outputs": [],
   "source": [
    "# Currently, supported authentication modes are Standard (the default), guest and LDAP.\n",
    "# To use LDAP, add login_mode=16 when creating your Connection object:\n",
    "conn = Connection(BASE_URL, MSTR_USERNAME, MSTR_PASSWORD, project_id=PROJECT_ID, login_mode=1)"
   ]
  },
  {
   "cell_type": "markdown",
   "id": "134767d6-6d60-434e-8927-d19c405f4b2a",
   "metadata": {},
   "source": [
    "# Discover Facts"
   ]
  },
  {
   "cell_type": "markdown",
   "id": "2c1edb11-00d7-4409-9043-019540508952",
   "metadata": {},
   "source": [
    "## List facts"
   ]
  },
  {
   "cell_type": "code",
   "execution_count": null,
   "id": "e4a4436c-eccd-4944-b7c3-e341f49b384d",
   "metadata": {},
   "outputs": [],
   "source": [
    "list_facts(conn)"
   ]
  },
  {
   "cell_type": "code",
   "execution_count": null,
   "id": "89e9473a-0c8d-44b2-ac94-bebbff6c2cd0",
   "metadata": {},
   "outputs": [],
   "source": [
    "list_facts(conn, name=\"Revenue\")"
   ]
  },
  {
   "cell_type": "code",
   "execution_count": null,
   "id": "10d27765-c9c0-48b4-8418-06f230e129d1",
   "metadata": {},
   "outputs": [],
   "source": [
    "list_facts(conn, search_pattern=SearchPattern.EXACTLY, name=\"Revenue\")"
   ]
  },
  {
   "cell_type": "markdown",
   "id": "f594318e-58d5-4469-ad81-fb3e369a88a0",
   "metadata": {},
   "source": [
    "## Get Fact by Id or name"
   ]
  },
  {
   "cell_type": "code",
   "execution_count": null,
   "id": "965a93b7-34ac-4706-b0fb-b6ecf43fbcc8",
   "metadata": {},
   "outputs": [],
   "source": [
    "fact = Fact(conn, id=\"8D67958411D3E4981000E787EC6DE8A4\")"
   ]
  },
  {
   "cell_type": "code",
   "execution_count": null,
   "id": "f4cb71eb-a785-45af-a591-41462d0f9343",
   "metadata": {},
   "outputs": [],
   "source": [
    "# You cannot use initializing by name if there are more than one Fact object contains the name\n",
    "fact = Fact(conn, name=\"Revenue\")"
   ]
  },
  {
   "cell_type": "markdown",
   "id": "f4083be0-7ab4-4420-b710-48367b23856b",
   "metadata": {},
   "source": [
    "## Properties of Fact object"
   ]
  },
  {
   "cell_type": "code",
   "execution_count": null,
   "id": "c29248fc-3310-4058-80c8-90a7555859ae",
   "metadata": {},
   "outputs": [],
   "source": [
    "print(Fact.__doc__)"
   ]
  },
  {
   "cell_type": "code",
   "execution_count": null,
   "id": "25585bdb-70a1-4608-b3de-e16409223a7a",
   "metadata": {},
   "outputs": [],
   "source": [
    "fact.name"
   ]
  },
  {
   "cell_type": "code",
   "execution_count": null,
   "id": "40abaa65-5156-44c8-9e07-3f084d3942a7",
   "metadata": {},
   "outputs": [],
   "source": [
    "fact.id"
   ]
  },
  {
   "cell_type": "code",
   "execution_count": null,
   "id": "d7c1b5dd-8345-4498-8615-d1ddea8508c8",
   "metadata": {},
   "outputs": [],
   "source": [
    "fact.data_type"
   ]
  },
  {
   "cell_type": "code",
   "execution_count": null,
   "id": "a7318746-2e3f-4e90-a4e0-8da2d685f24c",
   "metadata": {},
   "outputs": [],
   "source": [
    "fact.expressions"
   ]
  },
  {
   "cell_type": "markdown",
   "id": "3759eef3-0388-440c-8418-540dc06e5f80",
   "metadata": {},
   "source": [
    "# Create Fact\n",
    "\n",
    "To create a Fact, you use `Fact.create()` method.  "
   ]
  },
  {
   "cell_type": "code",
   "execution_count": null,
   "id": "7363e2cc-f420-41b2-b05c-272342c09e98",
   "metadata": {},
   "outputs": [],
   "source": [
    "print(Fact.create.__doc__)"
   ]
  },
  {
   "cell_type": "markdown",
   "id": "f740be57-a78f-44fc-a76d-73efa25859a9",
   "metadata": {},
   "source": [
    "## The Fact data"
   ]
  },
  {
   "cell_type": "code",
   "execution_count": null,
   "id": "0d0e4c9a-ab9f-44c3-ac6a-309ffb30571b",
   "metadata": {},
   "outputs": [],
   "source": [
    "# This is a simplified facts data, we will use in this example\n",
    "fact_data =  {\n",
    "      \"information\": {\n",
    "        \"name\": \"Revenue 2\",\n",
    "        \"description\": \"Revenue 2\",\n",
    "        \"destinationFolderId\": \"95C3B713318B43D490EE789BE27D298C\"\n",
    "      },\n",
    "      \"dataType\": {\n",
    "        \"type\": \"decimal\",\n",
    "        \"precision\": 0,\n",
    "        \"scale\": -2147483648\n",
    "      },\n",
    "      \"expressions\": [\n",
    "        {\n",
    "          \"expression\": {\n",
    "            \"tokens\": [\n",
    "              {\n",
    "                \"value\": \"TOT_DOLLAR_SALES\"\n",
    "              }\n",
    "            ]\n",
    "          },\n",
    "          \"tables\": [\n",
    "            {\n",
    "              \"subType\": \"logical_table\",\n",
    "              \"name\": \"MNTH_CATEGORY_SLS\"\n",
    "            },\n",
    "            {\n",
    "              \"subType\": \"logical_table\",\n",
    "              \"name\": \"QTR_CATEGORY_SLS\"\n",
    "            },\n",
    "            {\n",
    "              \"subType\": \"logical_table\",\n",
    "              \"name\": \"CITY_CTR_SLS\"\n",
    "            },\n",
    "            {\n",
    "              \"subType\": \"logical_table\",\n",
    "              \"name\": \"CITY_MNTH_SLS\"\n",
    "            },\n",
    "            {\n",
    "              \"subType\": \"logical_table\",\n",
    "              \"name\": \"CITY_SUBCATEG_SLS\"\n",
    "            },\n",
    "            {\n",
    "              \"subType\": \"logical_table\",\n",
    "              \"name\": \"CUSTOMER_SLS\"\n",
    "            },\n",
    "            {\n",
    "              \"subType\": \"logical_table\",\n",
    "              \"name\": \"DAY_CTR_SLS\"\n",
    "            },\n",
    "            {\n",
    "              \"subType\": \"logical_table\",\n",
    "              \"name\": \"ITEM_EMP_SLS\"\n",
    "            },\n",
    "            {\n",
    "              \"subType\": \"logical_table\",\n",
    "              \"name\": \"ITEM_MNTH_SLS\"\n",
    "            },\n",
    "            {\n",
    "              \"subType\": \"logical_table\",\n",
    "              \"name\": \"STATE_REGION_MNTH_SLS\"\n",
    "            },\n",
    "            {\n",
    "              \"subType\": \"logical_table\",\n",
    "              \"name\": \"STATE_SUBCATEG_MNTH_SLS\"\n",
    "            },\n",
    "            {\n",
    "              \"subType\": \"logical_table\",\n",
    "              \"name\": \"ITEM_CCTR_MNTH_SLS\"\n",
    "            },\n",
    "            {\n",
    "              \"subType\": \"logical_table\",\n",
    "              \"name\": \"STATE_SUBCATEG_REGION_SLS\"\n",
    "            },\n",
    "            {\n",
    "              \"subType\": \"logical_table\",\n",
    "              \"name\": \"SUBCATEG_MNTH_CTR_SLS\"\n",
    "            },\n",
    "            {\n",
    "              \"subType\": \"logical_table\",\n",
    "              \"name\": \"YR_CATEGORY_SLS\"\n",
    "            }\n",
    "          ]\n",
    "        },\n",
    "        {\n",
    "          \"expression\": {\n",
    "            \"tokens\": [\n",
    "              {\n",
    "                \"value\": \"QTY_SOLD * (UNIT_PRICE - DISCOUNT)\"\n",
    "              }\n",
    "            ]\n",
    "          },\n",
    "          \"tables\": [\n",
    "            {\n",
    "              \"subType\": \"logical_table\",\n",
    "              \"name\": \"ORDER_DETAIL\"\n",
    "            }\n",
    "          ]\n",
    "        }\n",
    "      ]\n",
    "    }"
   ]
  },
  {
   "cell_type": "markdown",
   "id": "85bbf0a7-dd18-4f74-ac4e-7d0f46fd8c05",
   "metadata": {},
   "source": [
    "## Create table references"
   ]
  },
  {
   "cell_type": "code",
   "execution_count": null,
   "id": "e28033e3-57d3-41d5-9876-128f45dda4a9",
   "metadata": {},
   "outputs": [],
   "source": [
    "def get_by_name(list, name):\n",
    "    for item in list:\n",
    "        if item.name == name:\n",
    "            return item\n",
    "    return None"
   ]
  },
  {
   "cell_type": "code",
   "execution_count": null,
   "id": "ebdfa835-33fb-40f5-b5a5-0a841bfb25e7",
   "metadata": {},
   "outputs": [],
   "source": [
    "def lookup_table_ref(table):\n",
    "    return SchemaObjectReference(\n",
    "        name=table.name,\n",
    "        sub_type=ObjectSubType.LOGICAL_TABLE,\n",
    "        object_id=table.id,\n",
    "    )\n"
   ]
  },
  {
   "cell_type": "code",
   "execution_count": null,
   "id": "1cd7aa48-5620-43cc-b5ed-c69903c33ec8",
   "metadata": {},
   "outputs": [],
   "source": [
    "def create_lockup_table_refs(conn, tables):\n",
    "    logical_tables = list_logical_tables(conn)\n",
    "    table_refs = []\n",
    "    for t in tables:\n",
    "        logical_table = get_by_name(logical_tables, t[\"name\"])\n",
    "        if logical_table == None:\n",
    "            raise Exception(\"This should not happen. Logical name referred doesn't.  \")\n",
    "        else:\n",
    "            logical_table_ref = lookup_table_ref(logical_table)\n",
    "        table_refs.append(logical_table_ref)\n",
    "    return table_refs"
   ]
  },
  {
   "cell_type": "markdown",
   "id": "566b0ecc-6f39-46a7-8a6c-d00b58a69370",
   "metadata": {},
   "source": [
    "## Create Fact Expression"
   ]
  },
  {
   "cell_type": "code",
   "execution_count": null,
   "id": "c206f14c-0d02-4cc8-8b69-2432c2f88ada",
   "metadata": {},
   "outputs": [],
   "source": [
    "def create_fact_expression(conn, expression):\n",
    "    # Use tokens to create fact expression\n",
    "    tokens_data = expression[\"expression\"][\"tokens\"]\n",
    "    tables = create_lockup_table_refs(conn, expression[\"tables\"])\n",
    "    tokens = []\n",
    "    for t in tokens_data:\n",
    "        # type = getTokenType(t[\"type\"])\n",
    "        # tokens.append(Token(value=t[\"value\"], type=type))\n",
    "        tokens.append(Token(value=t[\"value\"]))\n",
    "    fact_exp = FactExpression(\n",
    "        expression=Expression(tokens=tokens),\n",
    "        tables=tables\n",
    "    )\n",
    "    return fact_exp"
   ]
  },
  {
   "cell_type": "markdown",
   "id": "0198f335-ff2c-41eb-a606-2d5a2ae850d7",
   "metadata": {},
   "source": [
    "## Create Data Type"
   ]
  },
  {
   "cell_type": "code",
   "execution_count": null,
   "id": "ff07e06d-ca46-4801-a630-33877bbf43dd",
   "metadata": {},
   "outputs": [],
   "source": [
    "def get_data_type(dict):\n",
    "    type_str = dict[\"type\"]\n",
    "    type = None\n",
    "    for t in DataType.Type:\n",
    "        if t.name == type_str.upper():\n",
    "            type = t\n",
    "            break\n",
    "    if type == None:\n",
    "        raise Exception(\"Incorrect data type:\" + type_str)\n",
    "    return DataType(type, dict[\"precision\"], dict[\"scale\"])\n"
   ]
  },
  {
   "cell_type": "markdown",
   "id": "ec750e98-a58b-420d-a601-8aa276d7c97f",
   "metadata": {},
   "source": [
    "## Create Fact"
   ]
  },
  {
   "cell_type": "code",
   "execution_count": null,
   "id": "78ad12e4-17c6-405e-87ea-7ef3909716d2",
   "metadata": {},
   "outputs": [],
   "source": [
    "\n",
    "def create_fact(conn, fact):\n",
    "    info = fact[\"information\"]\n",
    "    name = info[\"name\"]\n",
    "    folder_id = info.get(\"destinationFolderId\")\n",
    "\n",
    "    objects = list_facts(conn, name=name)\n",
    "    if len(objects) > 0:\n",
    "        print(\"Fact with name:[\" + name + \"] already exists.\")\n",
    "        return objects[0]\n",
    "    else:\n",
    "        expressions = []\n",
    "        for exp in fact[\"expressions\"]:\n",
    "            expressions.append(create_fact_expression(conn, exp))\n",
    "        # expressions = fact[\"expressions\"]\n",
    "        # for expression in expressions:\n",
    "        #     expression[\"tables\"] = createLockupTableRefs(conn, expression[\"tables\"])\n",
    "\n",
    "        fact_obj = Fact.create(conn,\n",
    "                               name=name,\n",
    "                               destination_folder=folder_id,\n",
    "                               description=info.get(\"description\", \"\"),\n",
    "                               expressions=expressions,\n",
    "                               data_type=get_data_type(fact[\"dataType\"]))\n",
    "        return fact_obj\n"
   ]
  },
  {
   "cell_type": "code",
   "execution_count": null,
   "id": "94fa50a2-d4bc-45b4-9d29-be96b2ce5f06",
   "metadata": {},
   "outputs": [],
   "source": [
    "fact_obj = create_fact(conn, fact_data)"
   ]
  }
 ],
 "metadata": {
  "kernelspec": {
   "display_name": "Python 3 (ipykernel)",
   "language": "python",
   "name": "python3"
  },
  "language_info": {
   "codemirror_mode": {
    "name": "ipython",
    "version": 3
   },
   "file_extension": ".py",
   "mimetype": "text/x-python",
   "name": "python",
   "nbconvert_exporter": "python",
   "pygments_lexer": "ipython3",
   "version": "3.10.8"
  }
 },
 "nbformat": 4,
 "nbformat_minor": 5
}
