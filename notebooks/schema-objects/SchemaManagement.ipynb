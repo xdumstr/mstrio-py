{
 "cells": [
  {
   "cell_type": "code",
   "execution_count": null,
   "id": "64d0095d-baef-4ae9-874b-371cea5f724f",
   "metadata": {},
   "outputs": [],
   "source": [
    "import getpass\n",
    "import inspect\n",
    "from mstrio.connection import Connection\n",
    "from mstrio.modeling.schema import *"
   ]
  },
  {
   "cell_type": "code",
   "execution_count": null,
   "id": "358d8fe6-134e-49e0-ab8c-306b010546fe",
   "metadata": {
    "tags": []
   },
   "outputs": [],
   "source": [
    "base_url = \"https://env-276686.customer.cloud.microstrategy.com/MicroStrategyLibrary/api\"\n",
    "username = \"mstr\"\n",
    "password = getpass.getpass()"
   ]
  },
  {
   "cell_type": "code",
   "execution_count": null,
   "id": "1ddeff07-a531-424e-babe-cb8b20f3b847",
   "metadata": {},
   "outputs": [],
   "source": [
    "conn = Connection(base_url, username, password, project_name=\"MicroStrategy Tutorial\", login_mode=1)"
   ]
  },
  {
   "cell_type": "markdown",
   "id": "a449bf77-f6c0-4cfc-bff0-56d790755491",
   "metadata": {},
   "source": [
    "# SchemaManagement\n",
    "\n",
    "1. Create an instance of Schemamanagement \n",
    "1. use it to lock and unlock schema. \n",
    "    - lock():  to lock\n",
    "    - unlock(): to unlock\n",
    "    - get_status(): to check lock status"
   ]
  },
  {
   "cell_type": "code",
   "execution_count": null,
   "id": "ac70756f-f072-43de-8b90-704c6a9c03e8",
   "metadata": {},
   "outputs": [],
   "source": [
    "# create an object to manage the schema\n",
    "schema_mgmt = SchemaManagement(conn)"
   ]
  },
  {
   "cell_type": "code",
   "execution_count": null,
   "id": "4ede44f2-eaa1-4086-88f1-43373eee05e2",
   "metadata": {},
   "outputs": [],
   "source": [
    "print(SchemaManagement.__doc__)"
   ]
  },
  {
   "cell_type": "code",
   "execution_count": null,
   "id": "f3e77c08-37c3-4fe4-b4bc-b1ab67ed2e8e",
   "metadata": {},
   "outputs": [],
   "source": [
    "schema_mgmt.lock_type"
   ]
  },
  {
   "cell_type": "code",
   "execution_count": null,
   "id": "131fe946-ae65-4653-8685-2edc80bfdac1",
   "metadata": {},
   "outputs": [],
   "source": [
    "schema_mgmt.unlock()"
   ]
  },
  {
   "cell_type": "code",
   "execution_count": null,
   "id": "57505d74-c0e6-49fe-ba67-db5a6e6d6bc9",
   "metadata": {},
   "outputs": [],
   "source": [
    "schema_mgmt.get_lock_status()"
   ]
  },
  {
   "cell_type": "code",
   "execution_count": null,
   "id": "aa03acae-49c5-4964-abf8-e3583315cfab",
   "metadata": {},
   "outputs": [],
   "source": [
    "print(SchemaManagement.lock.__doc__)"
   ]
  },
  {
   "cell_type": "code",
   "execution_count": null,
   "id": "d93c69b1-49c8-474a-8b56-12b11e96d44c",
   "metadata": {},
   "outputs": [],
   "source": [
    "schema_mgmt.lock(SchemaLockType.ABSOLUTE_INDIVIDUAL)"
   ]
  },
  {
   "cell_type": "code",
   "execution_count": null,
   "id": "5a7bb8e7-64d0-403e-b4e7-76b39d6c1e94",
   "metadata": {},
   "outputs": [],
   "source": [
    "schema_mgmt.get_lock_status()"
   ]
  },
  {
   "cell_type": "code",
   "execution_count": null,
   "id": "0f49eeaf-40f5-492a-9af3-6590b542ffe2",
   "metadata": {},
   "outputs": [],
   "source": [
    "schema_mgmt.unlock()"
   ]
  },
  {
   "cell_type": "code",
   "execution_count": null,
   "id": "0668f3a4-fea3-4e91-a5fd-d75078d7678e",
   "metadata": {},
   "outputs": [],
   "source": []
  }
 ],
 "metadata": {
  "kernelspec": {
   "display_name": "Python 3 (ipykernel)",
   "language": "python",
   "name": "python3"
  },
  "language_info": {
   "codemirror_mode": {
    "name": "ipython",
    "version": 3
   },
   "file_extension": ".py",
   "mimetype": "text/x-python",
   "name": "python",
   "nbconvert_exporter": "python",
   "pygments_lexer": "ipython3",
   "version": "3.10.8"
  }
 },
 "nbformat": 4,
 "nbformat_minor": 5
}
