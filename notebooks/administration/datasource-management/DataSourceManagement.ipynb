{
 "cells": [
  {
   "cell_type": "code",
   "execution_count": null,
   "id": "ee21f4d9-5d2b-41c5-911d-1fd4b1e36390",
   "metadata": {},
   "outputs": [],
   "source": [
    "from mstrio.datasources import (\n",
    "    DatasourceConnection,\n",
    "    DatasourceInstance,\n",
    "    DatasourceLogin,\n",
    "    DatasourceMap,\n",
    "    DatasourceType,\n",
    "    ExecutionMode,\n",
    "    Locale,\n",
    "    list_available_dbms,\n",
    "    list_datasource_connections,\n",
    "    list_datasource_instances,\n",
    "    list_datasource_logins,\n",
    "    list_datasource_mappings,\n",
    "    list_locales,\n",
    "    Dbms\n",
    ")\n",
    "from mstrio.connection import Connection\n",
    "import inspect"
   ]
  },
  {
   "cell_type": "code",
   "execution_count": null,
   "id": "3a3fa963-c622-4afd-858d-1999ee9786b6",
   "metadata": {},
   "outputs": [],
   "source": [
    "BASE_URL = \"http://10.23.35.137:8080/MicroStrategyLibrary/api\"  # Insert URL for your env here\n",
    "MSTR_USERNAME = \"administrator\"  # Insert your env username here\n",
    "MSTR_PASSWORD = \"\"   # insert your mstr password here"
   ]
  },
  {
   "cell_type": "code",
   "execution_count": null,
   "id": "0b8ab794-34fe-4644-a3bb-a2afe2caabbc",
   "metadata": {
    "tags": []
   },
   "outputs": [],
   "source": [
    "# Currently, supported authentication modes are Standard (the default), guest and LDAP.\n",
    "# To use LDAP, add login_mode=16 when creating your Connection object:\n",
    "conn = Connection(BASE_URL, MSTR_USERNAME, MSTR_PASSWORD, login_mode=1)"
   ]
  },
  {
   "cell_type": "markdown",
   "id": "d340e35d-67a6-40a1-be65-a03ab1f38faa",
   "metadata": {
    "tags": []
   },
   "source": [
    "# DataSource Instance\n",
    "\n",
    "You can list all data source instance or get it by id or name. "
   ]
  },
  {
   "cell_type": "markdown",
   "id": "9dffb27d-2065-45e3-875d-9ad03f7573fe",
   "metadata": {},
   "source": [
    "## List"
   ]
  },
  {
   "cell_type": "code",
   "execution_count": null,
   "id": "9be5a4cb-20c3-462b-92c0-e3e212b95017",
   "metadata": {},
   "outputs": [],
   "source": [
    "list_datasource_instances(conn)"
   ]
  },
  {
   "cell_type": "markdown",
   "id": "01be8475-83d6-4589-a156-f191f0381604",
   "metadata": {},
   "source": [
    "## By id or name"
   ]
  },
  {
   "cell_type": "code",
   "execution_count": null,
   "id": "8d1a5f44-b886-4894-8f18-51be0497d85b",
   "metadata": {},
   "outputs": [],
   "source": [
    "ds_instance = DatasourceInstance(conn, id=\"37BE16AB11D3E48C1000E787EC6DE8A4\")\n",
    "ds_instance"
   ]
  },
  {
   "cell_type": "code",
   "execution_count": null,
   "id": "6808d2b0-69bb-4813-81a9-7cd3af9286f4",
   "metadata": {},
   "outputs": [],
   "source": [
    "ds_instance = DatasourceInstance(conn, name=\"Tutorial Data\")\n",
    "ds_instance"
   ]
  },
  {
   "cell_type": "markdown",
   "id": "0e6dc718-b23f-423d-a73c-72634332764a",
   "metadata": {},
   "source": [
    "## Properties"
   ]
  },
  {
   "cell_type": "code",
   "execution_count": null,
   "id": "c8aeb7f7-4541-4f5c-897b-ba6e013b8266",
   "metadata": {},
   "outputs": [],
   "source": [
    "ds_instance.list_properties()"
   ]
  },
  {
   "cell_type": "code",
   "execution_count": null,
   "id": "8576daf4-5a35-40ab-ba40-cbc5a8bfa960",
   "metadata": {},
   "outputs": [],
   "source": [
    "dir(ds_instance)"
   ]
  },
  {
   "cell_type": "markdown",
   "id": "cd6f77bd-b378-4099-849d-f29ac690cf9c",
   "metadata": {
    "tags": []
   },
   "source": [
    "# DBMS (Database Management System) \n",
    "These are the data source types MicroStrategy support."
   ]
  },
  {
   "cell_type": "markdown",
   "id": "569d3846-46a9-48f0-9e83-880c8bb75da6",
   "metadata": {},
   "source": [
    "## From data source instance"
   ]
  },
  {
   "cell_type": "code",
   "execution_count": null,
   "id": "1388d001-db7b-49ef-91f9-63c29e367070",
   "metadata": {},
   "outputs": [],
   "source": [
    "ds_instance.dbms"
   ]
  },
  {
   "cell_type": "markdown",
   "id": "06e8f497-31d0-44ba-a45c-2a9b0206ebcd",
   "metadata": {},
   "source": [
    "## List"
   ]
  },
  {
   "cell_type": "code",
   "execution_count": null,
   "id": "d7c48585-d510-41c5-aecd-dd4d497814b0",
   "metadata": {},
   "outputs": [],
   "source": [
    "print(list_available_dbms.__doc__)"
   ]
  },
  {
   "cell_type": "code",
   "execution_count": null,
   "id": "3dbd955a-d189-4386-80f0-42221cb4776a",
   "metadata": {},
   "outputs": [],
   "source": [
    "list_available_dbms(conn)"
   ]
  },
  {
   "cell_type": "code",
   "execution_count": null,
   "id": "428dcb28-1215-45d6-8ee7-8d46ef349b84",
   "metadata": {},
   "outputs": [],
   "source": [
    "dbms = list_available_dbms(conn, name=\"Databricks\")[0]\n",
    "dbms"
   ]
  },
  {
   "cell_type": "markdown",
   "id": "719a1b14-8787-42b3-9f7a-6cde3bd6fbce",
   "metadata": {},
   "source": [
    "## By id or name"
   ]
  },
  {
   "cell_type": "code",
   "execution_count": null,
   "id": "f91d5b5c-6160-42cf-86bb-18bf4aeb52ec",
   "metadata": {},
   "outputs": [],
   "source": [
    "dbms = Dbms(conn, name=\"Databricks\")\n",
    "dbms"
   ]
  },
  {
   "cell_type": "code",
   "execution_count": null,
   "id": "e4a578e6-c1fb-465a-8810-84625b2ce38e",
   "metadata": {},
   "outputs": [],
   "source": [
    "dbms = Dbms(conn, id=\"D1F46AB102A04606A67488841EAB7DDD\")\n",
    "dbms"
   ]
  },
  {
   "cell_type": "markdown",
   "id": "37b5c131-50f5-449e-950c-71ef25164569",
   "metadata": {},
   "source": [
    "## Properties"
   ]
  },
  {
   "cell_type": "code",
   "execution_count": null,
   "id": "b558eb94-ed99-4cac-8dc6-58cb3be5afd9",
   "metadata": {
    "tags": []
   },
   "outputs": [],
   "source": [
    "dbms.list_properties()"
   ]
  },
  {
   "cell_type": "markdown",
   "id": "ca1d2301-103f-41d0-bd6d-5f9f3b06e8d7",
   "metadata": {},
   "source": [
    "# Datasource Connection\n",
    "\n",
    "You can get datasource connection object in the following ways:\n",
    "- From datasource instance object\n",
    "- List all datasource connections\n",
    "- Get it by id or name"
   ]
  },
  {
   "cell_type": "markdown",
   "id": "f5169362-9e4e-4c05-8e1a-4064474c6552",
   "metadata": {},
   "source": [
    "## From datasource instance"
   ]
  },
  {
   "cell_type": "code",
   "execution_count": null,
   "id": "b8a24094-e357-4bd2-9a05-556cf60b230e",
   "metadata": {},
   "outputs": [],
   "source": [
    "ds_connection = ds_instance.datasource_connection"
   ]
  },
  {
   "cell_type": "code",
   "execution_count": null,
   "id": "67ad88ec-e057-454d-bf5a-9ff84239ba91",
   "metadata": {},
   "outputs": [],
   "source": [
    "ds_connection.list_properties()"
   ]
  },
  {
   "cell_type": "markdown",
   "id": "5d600aae-4161-41d9-881f-67ef45b49893",
   "metadata": {},
   "source": [
    "## List"
   ]
  },
  {
   "cell_type": "code",
   "execution_count": null,
   "id": "063c2e6b-0d91-404a-8c77-e892b32ba405",
   "metadata": {},
   "outputs": [],
   "source": [
    "list_datasource_connections(conn)"
   ]
  },
  {
   "cell_type": "markdown",
   "id": "88629dfb-9f69-44a6-9ee8-c7d9e7b77f9f",
   "metadata": {},
   "source": [
    "## By id or name"
   ]
  },
  {
   "cell_type": "code",
   "execution_count": null,
   "id": "c3f3d678-b2f1-4f0e-b0ce-620fc89983f5",
   "metadata": {},
   "outputs": [],
   "source": [
    "DatasourceConnection(conn, id=\"37BE16A411D3E48C1000E787EC6DE8A4\")"
   ]
  },
  {
   "cell_type": "code",
   "execution_count": null,
   "id": "720d4551-35e3-4705-8299-b01c661af4b5",
   "metadata": {},
   "outputs": [],
   "source": [
    "DatasourceConnection(conn, name=\"Data\")"
   ]
  },
  {
   "cell_type": "markdown",
   "id": "ef111fea-cfe9-4f58-813c-72877674da5c",
   "metadata": {},
   "source": [
    "# Datasource Login\n",
    "\n",
    "You can get datasource login in the the followng ways. \n",
    "\n",
    "- From datasource connection object\n",
    "- List all datasource logins\n",
    "- Get it by name or id"
   ]
  },
  {
   "cell_type": "markdown",
   "id": "84bbda26-6c4d-4a33-b952-5cacdcb6d60a",
   "metadata": {},
   "source": [
    "## From data source connection object"
   ]
  },
  {
   "cell_type": "code",
   "execution_count": null,
   "id": "a795d362-1d5a-4d8b-be12-227d40a11927",
   "metadata": {},
   "outputs": [],
   "source": [
    "ds_connection.datasource_login"
   ]
  },
  {
   "cell_type": "markdown",
   "id": "657a70d7-054a-40d6-999a-af556b8c5c39",
   "metadata": {},
   "source": [
    "## List"
   ]
  },
  {
   "cell_type": "code",
   "execution_count": null,
   "id": "afc373b6-d667-4c3b-a4d2-a3b4ece46a9f",
   "metadata": {
    "tags": []
   },
   "outputs": [],
   "source": [
    "list_datasource_logins(conn)"
   ]
  },
  {
   "cell_type": "markdown",
   "id": "719645fc-b2e3-41bb-a2ad-94f966ec76a2",
   "metadata": {},
   "source": [
    "## By id or name"
   ]
  },
  {
   "cell_type": "code",
   "execution_count": null,
   "id": "7328197b-807a-4c73-8c52-9f910af3d715",
   "metadata": {},
   "outputs": [],
   "source": [
    "DatasourceLogin(conn, id=\"37BE16A011D3E48C1000E787EC6DE8A4\")"
   ]
  },
  {
   "cell_type": "code",
   "execution_count": null,
   "id": "26cd16fa-9cb4-4986-b8b5-2a136f3a367f",
   "metadata": {},
   "outputs": [],
   "source": [
    "DatasourceLogin(conn, name=\"Excel_WH\")"
   ]
  },
  {
   "cell_type": "markdown",
   "id": "cd447f9e-254c-4fb0-8784-8b3213ea8cc2",
   "metadata": {},
   "source": [
    "# Datasource Mapping"
   ]
  },
  {
   "cell_type": "code",
   "execution_count": null,
   "id": "83ba0a15-0ee3-4aa6-940b-cf36ac4a1e60",
   "metadata": {},
   "outputs": [],
   "source": [
    "list_datasource_mappings(conn)"
   ]
  },
  {
   "cell_type": "code",
   "execution_count": null,
   "id": "9726e411-8d32-4011-845c-f7b879b82e63",
   "metadata": {},
   "outputs": [],
   "source": []
  }
 ],
 "metadata": {
  "kernelspec": {
   "display_name": "Python 3 (ipykernel)",
   "language": "python",
   "name": "python3"
  },
  "language_info": {
   "codemirror_mode": {
    "name": "ipython",
    "version": 3
   },
   "file_extension": ".py",
   "mimetype": "text/x-python",
   "name": "python",
   "nbconvert_exporter": "python",
   "pygments_lexer": "ipython3",
   "version": "3.10.8"
  }
 },
 "nbformat": 4,
 "nbformat_minor": 5
}
