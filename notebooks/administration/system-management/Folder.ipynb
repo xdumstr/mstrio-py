{
 "cells": [
  {
   "cell_type": "code",
   "execution_count": null,
   "id": "2869f0b7-18e2-4d53-b8db-3a32e40cbfa0",
   "metadata": {
    "tags": []
   },
   "outputs": [],
   "source": [
    "from mstrio.connection import Connection\n",
    "import getpass\n",
    "from mstrio.users_and_groups import list_user_groups, UserGroup, User, list_users\n",
    "from mstrio.object_management.folder import *"
   ]
  },
  {
   "cell_type": "code",
   "execution_count": null,
   "id": "44c97d97-9237-4dc2-9df4-c30e2e96b16d",
   "metadata": {
    "tags": []
   },
   "outputs": [],
   "source": [
    "PROJECT_NAME = \"MicroStrategy Tutorial\"\n",
    "BASE_URL = \"https://env-276686.customer.cloud.microstrategy.com/MicroStrategyLibrary/api\"  # Insert URL for your env here\n",
    "MSTR_USERNAME = \"mstr\"  # Insert your env username here\n",
    "MSTR_PASSWORD = getpass.getpass()   # insert your mstr password here\n",
    "PROJECT_ID = \"B7CA92F04B9FAE8D941C3E9B7E0CD754\"  # Insert you project ID here"
   ]
  },
  {
   "cell_type": "code",
   "execution_count": null,
   "id": "1744583c-d357-4f1f-ab68-5fdf021f30f4",
   "metadata": {},
   "outputs": [],
   "source": [
    "# Currently, supported authentication modes are Standard (the default), guest and LDAP.\n",
    "# To use LDAP, add login_mode=16 when creating your Connection object:\n",
    "conn = Connection(BASE_URL, MSTR_USERNAME, MSTR_PASSWORD, project_id=PROJECT_ID, login_mode=1)"
   ]
  },
  {
   "cell_type": "code",
   "execution_count": null,
   "id": "8b905629-eeb3-42b3-a485-7af474aa34ae",
   "metadata": {},
   "outputs": [],
   "source": [
    "list_folders(conn, project_id=PROJECT_ID)"
   ]
  },
  {
   "cell_type": "code",
   "execution_count": null,
   "id": "4ae04b11-f98f-4ab3-a3d5-f181efb4b440",
   "metadata": {},
   "outputs": [],
   "source": [
    "folder = Folder(conn, id=\"98FE182C2A10427EACE0CD30B6768258\")"
   ]
  },
  {
   "cell_type": "code",
   "execution_count": null,
   "id": "93bfe364-751e-4b91-831a-973676b191b4",
   "metadata": {},
   "outputs": [],
   "source": [
    "folder.list_properties()"
   ]
  },
  {
   "cell_type": "code",
   "execution_count": null,
   "id": "f3771b56-9f2a-4f3c-bcb1-d1dd5fb23c5c",
   "metadata": {},
   "outputs": [],
   "source": [
    "get_my_personal_objects_contents(conn)"
   ]
  },
  {
   "cell_type": "code",
   "execution_count": null,
   "id": "4e9d2f96-6a08-4213-8b53-3e02500b8b7a",
   "metadata": {},
   "outputs": [],
   "source": [
    "get_valid_project_id(conn, project_name = \"MicroStrategy Tutorial\")"
   ]
  },
  {
   "cell_type": "code",
   "execution_count": null,
   "id": "f5fe01a4-9ca2-4003-a9e0-56e9f457c105",
   "metadata": {},
   "outputs": [],
   "source": [
    "get_predefined_folder_contents(conn, folder_type=PredefinedFolders.PUBLIC_OBJECTS)"
   ]
  },
  {
   "cell_type": "code",
   "execution_count": null,
   "id": "becdbfcd-16f5-4709-b8f1-60a164e1694e",
   "metadata": {},
   "outputs": [],
   "source": []
  }
 ],
 "metadata": {
  "kernelspec": {
   "display_name": "Python 3 (ipykernel)",
   "language": "python",
   "name": "python3"
  },
  "language_info": {
   "codemirror_mode": {
    "name": "ipython",
    "version": 3
   },
   "file_extension": ".py",
   "mimetype": "text/x-python",
   "name": "python",
   "nbconvert_exporter": "python",
   "pygments_lexer": "ipython3",
   "version": "3.10.8"
  }
 },
 "nbformat": 4,
 "nbformat_minor": 5
}
