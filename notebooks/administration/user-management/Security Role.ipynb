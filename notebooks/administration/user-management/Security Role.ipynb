{
 "cells": [
  {
   "cell_type": "markdown",
   "id": "a15f9e05-db21-49a1-bdf3-4bcbde30b054",
   "metadata": {},
   "source": [
    "# Security Roles and Privileges"
   ]
  },
  {
   "cell_type": "markdown",
   "id": "cf70e371-a700-411c-ab78-e7471fb73542",
   "metadata": {},
   "source": [
    "## Prep user"
   ]
  },
  {
   "cell_type": "code",
   "execution_count": null,
   "id": "8f7027ba-1822-4f68-abd4-5b7549c38c40",
   "metadata": {},
   "outputs": [],
   "source": [
    "import inspect\n",
    "import getpass\n",
    "from mstrio.connection import Connection\n",
    "from mstrio.access_and_security.security_role import SecurityRole, list_security_roles\n",
    "from mstrio.access_and_security.privilege import Privilege\n",
    "from mstrio.users_and_groups import  User"
   ]
  },
  {
   "cell_type": "code",
   "execution_count": null,
   "id": "c23f35e0-a846-45ac-9a74-fbc0d04907ab",
   "metadata": {},
   "outputs": [],
   "source": [
    "PROJECT_NAME = \"MicroStrategy Tutorial\"\n",
    "BASE_URL = \"https://env-276686.customer.cloud.microstrategy.com/MicroStrategyLibrary/api\"  # Insert URL for your env here\n",
    "MSTR_USERNAME = \"mstr\"  # Insert your env username here\n",
    "MSTR_PASSWORD = getpass.getpass()   # insert your mstr password here\n",
    "PROJECT_ID = \"B7CA92F04B9FAE8D941C3E9B7E0CD754\"  # Insert you project ID here"
   ]
  },
  {
   "cell_type": "code",
   "execution_count": null,
   "id": "bc8b90bc-799a-4570-b086-d2de5d54d810",
   "metadata": {},
   "outputs": [],
   "source": [
    "# Currently, supported authentication modes are Standard (the default), guest and LDAP.\n",
    "# To use LDAP, add login_mode=16 when creating your Connection object:\n",
    "conn = Connection(BASE_URL, MSTR_USERNAME, MSTR_PASSWORD, project_id=PROJECT_ID, login_mode=1)"
   ]
  },
  {
   "cell_type": "code",
   "execution_count": null,
   "id": "83f00c1f-7c88-403e-a6f5-5540dd6d7724",
   "metadata": {},
   "outputs": [],
   "source": [
    "print(User.create.__doc__)"
   ]
  },
  {
   "cell_type": "code",
   "execution_count": null,
   "id": "d42f9749-2e20-4a3f-a5ea-58b0abf53858",
   "metadata": {},
   "outputs": [],
   "source": [
    "user = User.create(conn, username = \"amber\", full_name = \"Amber Wang\")\n",
    "user"
   ]
  },
  {
   "cell_type": "code",
   "execution_count": null,
   "id": "f4aeb2fe-0821-4ddd-95f3-8d1fa5ccfb5b",
   "metadata": {},
   "outputs": [],
   "source": [
    "user = User(conn, username = \"amber\")\n",
    "user"
   ]
  },
  {
   "cell_type": "markdown",
   "id": "76167dcd-624c-4b36-b543-6acb5904ec23",
   "metadata": {},
   "source": [
    "# Privilege"
   ]
  },
  {
   "cell_type": "markdown",
   "id": "eab4b44b-6e43-4542-8403-185fabbc44e0",
   "metadata": {},
   "source": [
    "## List privileges"
   ]
  },
  {
   "cell_type": "code",
   "execution_count": null,
   "id": "d1eee7b7-587a-470c-b297-82f10bad680c",
   "metadata": {},
   "outputs": [],
   "source": [
    "inspect.signature(Privilege.list_privileges)"
   ]
  },
  {
   "cell_type": "code",
   "execution_count": null,
   "id": "8d9d0f58-c955-4d50-87e3-ad6bacb93485",
   "metadata": {},
   "outputs": [],
   "source": [
    "privs = Privilege.list_privileges(conn)\n",
    "privs"
   ]
  },
  {
   "cell_type": "markdown",
   "id": "85909c0f-c356-4cfd-9c43-ec27179e8382",
   "metadata": {},
   "source": [
    "## Get Privilege"
   ]
  },
  {
   "cell_type": "code",
   "execution_count": null,
   "id": "3947a65b-1f8e-4c0d-857e-98986608d4ee",
   "metadata": {},
   "outputs": [],
   "source": [
    "priv = Privilege(conn, name = \"Use Library Web\")"
   ]
  },
  {
   "cell_type": "code",
   "execution_count": null,
   "id": "8947f7d1-964d-46b8-8a8c-412e68eda7cf",
   "metadata": {},
   "outputs": [],
   "source": [
    "priv = Privilege(conn, id = \"267\")"
   ]
  },
  {
   "cell_type": "markdown",
   "id": "1de6c9b8-b184-4d4d-a411-f68eb1677d45",
   "metadata": {},
   "source": [
    "# SecurityRole"
   ]
  },
  {
   "cell_type": "markdown",
   "id": "074f223f-03ae-4fde-9f6a-f2d33cb82ffe",
   "metadata": {},
   "source": [
    "## List SecurityRoles"
   ]
  },
  {
   "cell_type": "code",
   "execution_count": null,
   "id": "6f0dffea-5c68-466e-a34b-78c9f2cfdd89",
   "metadata": {},
   "outputs": [],
   "source": [
    "list_security_roles(conn)"
   ]
  },
  {
   "cell_type": "markdown",
   "id": "3e80d2bc-5dff-4dbf-8f58-919b5f0325cb",
   "metadata": {},
   "source": [
    "## Get SecurityRole"
   ]
  },
  {
   "cell_type": "code",
   "execution_count": null,
   "id": "06c739a0-fed6-4ad4-8439-c985753e4a2c",
   "metadata": {},
   "outputs": [],
   "source": [
    "role = SecurityRole(conn, name='Test Security Role')"
   ]
  },
  {
   "cell_type": "markdown",
   "id": "54a97ea6-0a5c-4d1e-80a5-20474aee045a",
   "metadata": {},
   "source": [
    "## New SecurityRole"
   ]
  },
  {
   "cell_type": "code",
   "execution_count": null,
   "id": "b2398f5d-5569-48ba-8d96-30c067d8d3e3",
   "metadata": {},
   "outputs": [],
   "source": [
    "new_role = SecurityRole.create(conn, name = \"New Sec Role\", description = \"New Sec Role\", privileges = [priv])\n",
    "new_role"
   ]
  },
  {
   "cell_type": "code",
   "execution_count": null,
   "id": "5e98ff13-77dd-45c5-9027-be35948c5dbb",
   "metadata": {},
   "outputs": [],
   "source": [
    "user.security_roles"
   ]
  },
  {
   "cell_type": "markdown",
   "id": "0419c3a1-e7db-4670-ba36-a43e3994e827",
   "metadata": {},
   "source": [
    "## Add SecurityRole to user\n",
    "\n",
    "Same methods for usergroup"
   ]
  },
  {
   "cell_type": "code",
   "execution_count": null,
   "id": "8fbfaf24-30b7-47a8-91b4-49987de91196",
   "metadata": {},
   "outputs": [],
   "source": [
    "new_role.grant_to(user, project = PROJECT_NAME)"
   ]
  },
  {
   "cell_type": "code",
   "execution_count": null,
   "id": "35ce154b-b524-439b-9ba1-b9e0d3e59cd7",
   "metadata": {},
   "outputs": [],
   "source": [
    "user.security_roles"
   ]
  },
  {
   "cell_type": "code",
   "execution_count": null,
   "id": "b6c1a374-249f-4108-82a6-45a01ce50527",
   "metadata": {},
   "outputs": [],
   "source": [
    "new_role.revoke_from(user,project = PROJECT_NAME)"
   ]
  },
  {
   "cell_type": "markdown",
   "id": "36905cda-af43-4c4a-90de-497cb401e2e9",
   "metadata": {},
   "source": [
    "# Grant Privilege\n",
    "\n",
    "You can grant_privilege to SecurityRole, User, and UserGroup"
   ]
  },
  {
   "cell_type": "markdown",
   "id": "a29b8c47-5215-4e35-8791-e94d7f8576b0",
   "metadata": {},
   "source": [
    "## Add privilege to role"
   ]
  },
  {
   "cell_type": "code",
   "execution_count": null,
   "id": "605ebc32-f7ed-459b-9785-c42a59f71350",
   "metadata": {},
   "outputs": [],
   "source": [
    "new_role.list_privileges()"
   ]
  },
  {
   "cell_type": "code",
   "execution_count": null,
   "id": "91210c4f-517a-4288-bb90-9e232e2e94de",
   "metadata": {},
   "outputs": [],
   "source": [
    "new_role.revoke_all_privileges()"
   ]
  },
  {
   "cell_type": "code",
   "execution_count": null,
   "id": "ebc16b80-33e6-4f1e-9328-209b005dcc50",
   "metadata": {},
   "outputs": [],
   "source": [
    "new_role.grant_privilege(priv)"
   ]
  },
  {
   "cell_type": "code",
   "execution_count": null,
   "id": "d5de8bcf-7be7-40f3-8184-f92f4b51a223",
   "metadata": {},
   "outputs": [],
   "source": [
    "new_role.revoke_privilege(['267'])"
   ]
  },
  {
   "cell_type": "markdown",
   "id": "bfc0bfbc-b329-4db1-bf7b-7bcf86e8605f",
   "metadata": {},
   "source": [
    "## Add Privilege to User\n",
    "The methods for UserGroup is similar. "
   ]
  },
  {
   "cell_type": "code",
   "execution_count": null,
   "id": "a9d47d23-6161-417c-96e3-958c23293305",
   "metadata": {},
   "outputs": [],
   "source": [
    "user.privileges"
   ]
  },
  {
   "cell_type": "code",
   "execution_count": null,
   "id": "fd4e9049-9414-4481-a581-c3c2310b6cd7",
   "metadata": {},
   "outputs": [],
   "source": [
    "user.revoke_all_privileges()"
   ]
  },
  {
   "cell_type": "code",
   "execution_count": null,
   "id": "2226f497-5e70-4f22-aa68-65a147cc2790",
   "metadata": {},
   "outputs": [],
   "source": [
    "inspect.signature(user.list_privileges)"
   ]
  },
  {
   "cell_type": "code",
   "execution_count": null,
   "id": "43ad8d08-d1c8-4c12-858f-6e9961090b2b",
   "metadata": {},
   "outputs": [],
   "source": [
    "from mstrio.access_and_security.privilege_mode import PrivilegeMode"
   ]
  },
  {
   "cell_type": "code",
   "execution_count": null,
   "id": "a17e9a0f-0499-4daf-9793-927b3d8b2e8d",
   "metadata": {},
   "outputs": [],
   "source": [
    "dir(PrivilegeMode)"
   ]
  },
  {
   "cell_type": "code",
   "execution_count": null,
   "id": "d51e9288-33a2-47ac-83c2-0a571f35f5f6",
   "metadata": {},
   "outputs": [],
   "source": [
    "user.list_privileges(mode=PrivilegeMode.GRANTED)"
   ]
  },
  {
   "cell_type": "code",
   "execution_count": null,
   "id": "21fca36d-cffe-4df5-894e-9d52dd5984c4",
   "metadata": {},
   "outputs": [],
   "source": [
    "user.grant_privilege(priv)"
   ]
  },
  {
   "cell_type": "code",
   "execution_count": null,
   "id": "829df464-3286-4656-8ae3-e31ac281048b",
   "metadata": {},
   "outputs": [],
   "source": [
    "user.list_privileges(mode=PrivilegeMode.GRANTED)"
   ]
  },
  {
   "cell_type": "code",
   "execution_count": null,
   "id": "eb5ef254-03bb-4cf6-845b-a44bf5435339",
   "metadata": {},
   "outputs": [],
   "source": [
    "user.revoke_privilege(['267'])"
   ]
  },
  {
   "cell_type": "code",
   "execution_count": null,
   "id": "36c71148-9e24-4cdc-ac08-bf5df9dd683f",
   "metadata": {},
   "outputs": [],
   "source": []
  }
 ],
 "metadata": {
  "kernelspec": {
   "display_name": "Python 3 (ipykernel)",
   "language": "python",
   "name": "python3"
  },
  "language_info": {
   "codemirror_mode": {
    "name": "ipython",
    "version": 3
   },
   "file_extension": ".py",
   "mimetype": "text/x-python",
   "name": "python",
   "nbconvert_exporter": "python",
   "pygments_lexer": "ipython3",
   "version": "3.10.8"
  }
 },
 "nbformat": 4,
 "nbformat_minor": 5
}
