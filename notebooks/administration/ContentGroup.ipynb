{
 "cells": [
  {
   "cell_type": "markdown",
   "id": "d7dc4a84-9f56-41ee-adcf-8e15cbdd9820",
   "metadata": {},
   "source": [
    "Note: The content group object will be in mstrio-py. The code in this notebook can be upgrade later to use the native object in mstrio-py. "
   ]
  },
  {
   "cell_type": "code",
   "execution_count": null,
   "id": "f6361882-4dc5-4a3d-8e24-6ebd922beb6b",
   "metadata": {},
   "outputs": [],
   "source": [
    "from mstrio.types import ObjectTypes\n",
    "from mstrio.project_objects.dossier import *\n",
    "import json\n",
    "from mstrio.connection import get_connection, Connection"
   ]
  },
  {
   "cell_type": "code",
   "execution_count": null,
   "id": "2bd2e67a-f03e-4308-aec9-7544da90a27d",
   "metadata": {},
   "outputs": [],
   "source": [
    "BASE_URL = \"http://10.23.35.137:8080/MicroStrategyLibrary\"  # Insert URL for your env here\n",
    "MSTR_USERNAME = \"administrator\"  # Insert your env username here\n",
    "MSTR_PASSWORD = \"\"   # insert your mstr password here\n",
    "PROJECT_ID = \"B19DEDCC11D4E0EFC000EB9495D0F44F\"  # Insert you project ID here"
   ]
  },
  {
   "cell_type": "code",
   "execution_count": null,
   "id": "c0e68bba-8599-4568-b3f8-8328c5bbc53b",
   "metadata": {},
   "outputs": [],
   "source": [
    "# Currently, supported authentication modes are Standard (the default), guest and LDAP.\n",
    "# To use LDAP, add login_mode=16 when creating your Connection object:\n",
    "conn = Connection(BASE_URL, MSTR_USERNAME, MSTR_PASSWORD, project_id=PROJECT_ID, login_mode=1)"
   ]
  },
  {
   "cell_type": "code",
   "execution_count": null,
   "id": "ce4463a1-ec26-40a5-ab48-273aea20831b",
   "metadata": {},
   "outputs": [],
   "source": [
    "list_dossiers(conn)"
   ]
  },
  {
   "cell_type": "code",
   "execution_count": null,
   "id": "77c97bf9-9d9c-49a8-b7db-eac448426222",
   "metadata": {},
   "outputs": [],
   "source": [
    "library = Library(conn)"
   ]
  },
  {
   "cell_type": "code",
   "execution_count": null,
   "id": "b14d8501-ce86-4a10-a7c0-67b3e70387a2",
   "metadata": {},
   "outputs": [],
   "source": [
    "library.dossiers"
   ]
  },
  {
   "cell_type": "code",
   "execution_count": null,
   "id": "a148f15f-3d6e-4e9d-af83-90da0a5b0177",
   "metadata": {},
   "outputs": [],
   "source": [
    "library.contents"
   ]
  },
  {
   "cell_type": "markdown",
   "id": "cdbffc05-44b1-41f4-8329-1fb3d57b5bd6",
   "metadata": {},
   "source": [
    "# Get content groups"
   ]
  },
  {
   "cell_type": "code",
   "execution_count": null,
   "id": "ad73a906-09c6-4fef-9d05-3c10492fd0dd",
   "metadata": {},
   "outputs": [],
   "source": [
    "response = conn.get(conn.base_url+\"/api/contentGroups\")"
   ]
  },
  {
   "cell_type": "code",
   "execution_count": null,
   "id": "172234c5-d96d-415a-93f0-24169a43ff58",
   "metadata": {},
   "outputs": [],
   "source": [
    "content_groups = response.json().get(\"contentGroups\")\n",
    "content_groups"
   ]
  },
  {
   "cell_type": "code",
   "execution_count": null,
   "id": "448431c3-5db0-4bb1-afb7-7e87c3e43fe1",
   "metadata": {},
   "outputs": [],
   "source": [
    "content_group = content_groups[0]"
   ]
  },
  {
   "cell_type": "code",
   "execution_count": null,
   "id": "3157f3bf-8d32-4aba-a55e-17d33d1c2368",
   "metadata": {},
   "outputs": [],
   "source": [
    "content_group"
   ]
  },
  {
   "cell_type": "markdown",
   "id": "842f5c99-b1c2-4a03-81b9-199656c188bc",
   "metadata": {},
   "source": [
    "# Get ContentGroup by Id"
   ]
  },
  {
   "cell_type": "code",
   "execution_count": null,
   "id": "3cb7befa-7785-4279-8843-5f8a678d1c4b",
   "metadata": {},
   "outputs": [],
   "source": [
    "response = conn.get(conn.base_url + \"/api/contentGroups/\"+content_group[\"id\"])"
   ]
  },
  {
   "cell_type": "code",
   "execution_count": null,
   "id": "163726c9-3d7c-4b2d-ab2a-891cb1a1793a",
   "metadata": {},
   "outputs": [],
   "source": [
    "content_group = response.json()"
   ]
  },
  {
   "cell_type": "code",
   "execution_count": null,
   "id": "6d50e09f-c22f-4dab-bec6-833e80a35fce",
   "metadata": {},
   "outputs": [],
   "source": [
    "content_group[\"id\"]"
   ]
  },
  {
   "cell_type": "markdown",
   "id": "88197e27-8495-4386-829f-83c97798499b",
   "metadata": {},
   "source": [
    "# Get content in group"
   ]
  },
  {
   "cell_type": "code",
   "execution_count": null,
   "id": "f95f2f26-8432-40e9-a04e-a0689764e26d",
   "metadata": {},
   "outputs": [],
   "source": [
    "response = conn.get(conn.base_url + \"/api/contentGroups/\"+content_group[\"id\"]+\"/contents\", params={\"projectId\":PROJECT_ID})"
   ]
  },
  {
   "cell_type": "code",
   "execution_count": null,
   "id": "b6aafc16-9566-4426-bd04-ea8a16204cd3",
   "metadata": {},
   "outputs": [],
   "source": [
    "content_by_project = response.json()\n",
    "content_by_project"
   ]
  },
  {
   "cell_type": "markdown",
   "id": "427feaec-cb11-4fb8-922e-4be296e6283b",
   "metadata": {},
   "source": [
    "# Adding content to content group"
   ]
  },
  {
   "cell_type": "code",
   "execution_count": null,
   "id": "e681539c-eb7a-4ad2-85be-aa166f9296c2",
   "metadata": {},
   "outputs": [],
   "source": [
    "DOSSIER_ID = \"335FFA9640B5F1C1E0C0F3A469E627A8\""
   ]
  },
  {
   "cell_type": "code",
   "execution_count": null,
   "id": "572684df-b1d8-4ad0-9dab-5eafaf85457a",
   "metadata": {},
   "outputs": [],
   "source": [
    "payload = {\n",
    "    \"operationList\": [\n",
    "        {\n",
    "            \"op\": \"add\",\n",
    "            \"path\": \"/\"+PROJECT_ID,\n",
    "            \"value\": [ \n",
    "                {\n",
    "                    \"id\": DOSSIER_ID,\n",
    "                    \"type\":55\n",
    "                }\n",
    "            ],\n",
    "            \"id\": 1\n",
    "        }\n",
    "    ]\n",
    "}"
   ]
  },
  {
   "cell_type": "code",
   "execution_count": null,
   "id": "5dcb212c-7cc0-4290-a2bc-2b9e7d24947b",
   "metadata": {},
   "outputs": [],
   "source": [
    "payload"
   ]
  },
  {
   "cell_type": "code",
   "execution_count": null,
   "id": "023be4c9-ec2c-42e3-a832-6e0f08f12f9c",
   "metadata": {},
   "outputs": [],
   "source": [
    "response = conn.patch(conn.base_url + \"/api/contentBundles/\"+content_group[\"id\"]+\"/contents\", json=payload)"
   ]
  },
  {
   "cell_type": "code",
   "execution_count": null,
   "id": "6538f789-e8d5-4c92-ace6-77b81751fc7d",
   "metadata": {},
   "outputs": [],
   "source": [
    "response.status_code"
   ]
  },
  {
   "cell_type": "markdown",
   "id": "28f38e70-3b9d-42f6-97e9-6a2598910adf",
   "metadata": {},
   "source": [
    "# Update basic information of content group"
   ]
  },
  {
   "cell_type": "code",
   "execution_count": null,
   "id": "f3e05881-f0f9-40a0-875f-079bd5c2266f",
   "metadata": {},
   "outputs": [],
   "source": [
    "New_Name = \"My Test Content Group\""
   ]
  },
  {
   "cell_type": "code",
   "execution_count": null,
   "id": "6da4aceb-4bd8-4be0-a30c-238207d5eb1d",
   "metadata": {},
   "outputs": [],
   "source": [
    "payload = {\n",
    "    \"operationList\": [\n",
    "        {\n",
    "            \"op\": \"replace\",\n",
    "            \"path\": \"/name\",\n",
    "            \"value\": New_Name,\n",
    "            \"id\": 1\n",
    "        }\n",
    "    ]\n",
    "}\n"
   ]
  },
  {
   "cell_type": "code",
   "execution_count": null,
   "id": "0d1de133-ab9b-44ae-be41-2b8ca46a125a",
   "metadata": {},
   "outputs": [],
   "source": [
    "response = conn.patch(conn.base_url + \"/api/contentGroups/\"+content_group[\"id\"], json=payload)"
   ]
  },
  {
   "cell_type": "code",
   "execution_count": null,
   "id": "ba11a381-0381-4704-ad81-29bc64c7dc0f",
   "metadata": {},
   "outputs": [],
   "source": [
    "response.status_code"
   ]
  },
  {
   "cell_type": "markdown",
   "id": "41d3039c-45b4-482e-a820-12cb0c3c8422",
   "metadata": {},
   "source": [
    "# Delete content from content group"
   ]
  },
  {
   "cell_type": "code",
   "execution_count": null,
   "id": "1c4b121f-c502-464c-b73c-ff82ccd4b007",
   "metadata": {},
   "outputs": [],
   "source": [
    "payload = {\n",
    "    \"operationList\": [\n",
    "        {\n",
    "            \"op\": \"remove\",\n",
    "            \"path\": \"/\"+PROJECT_ID,\n",
    "            \"value\": [ \n",
    "                {\n",
    "                    \"id\": DOSSIER_ID,\n",
    "                    \"type\":55\n",
    "                }\n",
    "            ],\n",
    "            \"id\": 1\n",
    "        }\n",
    "    ]\n",
    "}"
   ]
  },
  {
   "cell_type": "code",
   "execution_count": null,
   "id": "53bfaea5-a3fa-458d-9741-42df874d54b1",
   "metadata": {},
   "outputs": [],
   "source": [
    "response = conn.patch(conn.base_url + \"/api/contentBundles/\"+content_group[\"id\"]+\"/contents\", json=payload)"
   ]
  },
  {
   "cell_type": "code",
   "execution_count": null,
   "id": "74f70767-3ad5-4abe-8ee1-65476ed37e8c",
   "metadata": {},
   "outputs": [],
   "source": [
    "response.status_code"
   ]
  },
  {
   "cell_type": "code",
   "execution_count": null,
   "id": "231abefb-a364-4479-8bc3-41dfef74d99e",
   "metadata": {},
   "outputs": [],
   "source": []
  }
 ],
 "metadata": {
  "kernelspec": {
   "display_name": "Python 3 (ipykernel)",
   "language": "python",
   "name": "python3"
  },
  "language_info": {
   "codemirror_mode": {
    "name": "ipython",
    "version": 3
   },
   "file_extension": ".py",
   "mimetype": "text/x-python",
   "name": "python",
   "nbconvert_exporter": "python",
   "pygments_lexer": "ipython3",
   "version": "3.10.8"
  }
 },
 "nbformat": 4,
 "nbformat_minor": 5
}
