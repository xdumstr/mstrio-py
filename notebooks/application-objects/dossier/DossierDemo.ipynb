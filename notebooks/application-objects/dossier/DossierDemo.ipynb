{
 "cells": [
  {
   "cell_type": "code",
   "execution_count": null,
   "id": "c392f4e4-33af-4a3c-ab6c-4df44767cf00",
   "metadata": {},
   "outputs": [],
   "source": [
    "from mstrio.connection import Connection\n",
    "from mstrio.project_objects.dossier import (\n",
    "    Dossier,\n",
    "    list_dossiers,\n",
    ")"
   ]
  },
  {
   "cell_type": "code",
   "execution_count": null,
   "id": "81f5d3bf-c63a-4d75-8e5c-0fa6df63ab0b",
   "metadata": {},
   "outputs": [],
   "source": [
    "PROJECT_NAME = \"MicroStrategy Tutorial\"\n",
    "BASE_URL = \"https://demo.microstrategy.com/MicroStrategyLibrary/api\"  # Insert URL for your env here\n",
    "PROJECT_ID = \"B7CA92F04B9FAE8D941C3E9B7E0CD754\"  # Insert you project ID here"
   ]
  },
  {
   "cell_type": "code",
   "execution_count": null,
   "id": "075e9a30-2747-4009-a6df-73d3ce38d12a",
   "metadata": {},
   "outputs": [],
   "source": [
    "# Currently, supported authentication modes are Standard (the default), guest and LDAP.\n",
    "# To use LDAP, add login_mode=16 when creating your Connection object:\n",
    "conn = Connection(BASE_URL, project_id=PROJECT_ID, login_mode=8)"
   ]
  },
  {
   "cell_type": "code",
   "execution_count": null,
   "id": "f2cf5e62-98de-4922-8dec-3b2151fac24f",
   "metadata": {},
   "outputs": [],
   "source": [
    "list_dossiers(conn)"
   ]
  },
  {
   "cell_type": "code",
   "execution_count": null,
   "id": "9978855e-f18e-4f6e-9481-bfb689fb2b7d",
   "metadata": {},
   "outputs": [],
   "source": [
    "print(list_dossiers.__doc__)"
   ]
  },
  {
   "cell_type": "markdown",
   "id": "05aa4e9c-eed6-4b01-9e2e-748676bee733",
   "metadata": {},
   "source": [
    "# Find "
   ]
  },
  {
   "cell_type": "code",
   "execution_count": null,
   "id": "d57a8e1f-8160-4584-a3cd-50bcb073b733",
   "metadata": {},
   "outputs": [],
   "source": [
    "print(Dossier.__init__.__doc__)"
   ]
  },
  {
   "cell_type": "code",
   "execution_count": null,
   "id": "8a1ef540-de52-4993-8915-c2e37050e44e",
   "metadata": {},
   "outputs": [],
   "source": [
    "# Find by ID\n",
    "dossier = Dossier(conn, id=\"0089B37911E7368059BF0080EF85C293\")"
   ]
  },
  {
   "cell_type": "code",
   "execution_count": null,
   "id": "12ab1ae9-7f18-4514-8b73-6773c27a07cd",
   "metadata": {},
   "outputs": [],
   "source": [
    "dossier.name"
   ]
  },
  {
   "cell_type": "code",
   "execution_count": null,
   "id": "381c370a-04c5-4005-ac2b-8065d7da5428",
   "metadata": {},
   "outputs": [],
   "source": [
    "# Find by name`\n",
    "dossier = Dossier(conn, name = \"test delete\")"
   ]
  },
  {
   "cell_type": "code",
   "execution_count": null,
   "id": "c60591cc-1254-49dc-ab05-24bd0e13b1c0",
   "metadata": {},
   "outputs": [],
   "source": []
  }
 ],
 "metadata": {
  "kernelspec": {
   "display_name": "Python 3 (ipykernel)",
   "language": "python",
   "name": "python3"
  },
  "language_info": {
   "codemirror_mode": {
    "name": "ipython",
    "version": 3
   },
   "file_extension": ".py",
   "mimetype": "text/x-python",
   "name": "python",
   "nbconvert_exporter": "python",
   "pygments_lexer": "ipython3",
   "version": "3.10.8"
  }
 },
 "nbformat": 4,
 "nbformat_minor": 5
}
