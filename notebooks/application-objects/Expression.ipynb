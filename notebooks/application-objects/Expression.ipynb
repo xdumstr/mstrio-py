{
 "cells": [
  {
   "cell_type": "code",
   "execution_count": null,
   "id": "9ff4c2c9-9a3f-43e6-b8fd-c020e7bb33b3",
   "metadata": {
    "tags": []
   },
   "outputs": [],
   "source": [
    "from mstrio.connection import Connection\n",
    "from mstrio.modeling import *\n",
    "import getpass\n",
    "import inspect"
   ]
  },
  {
   "cell_type": "code",
   "execution_count": null,
   "id": "2d0dd909-a44e-469f-a8fb-d2ae50724205",
   "metadata": {
    "tags": []
   },
   "outputs": [],
   "source": [
    "PROJECT_NAME = \"MicroStrategy Tutorial\"\n",
    "BASE_URL = \"https://env-276686.customer.cloud.microstrategy.com/MicroStrategyLibrary/api\"  # Insert URL for your env here\n",
    "MSTR_USERNAME = \"mstr\"  # Insert your env username here\n",
    "MSTR_PASSWORD = getpass.getpass()   # insert your mstr password here\n",
    "PROJECT_ID = \"B7CA92F04B9FAE8D941C3E9B7E0CD754\"  # Insert you project ID here"
   ]
  },
  {
   "cell_type": "code",
   "execution_count": null,
   "id": "64338beb-4dc3-4187-be31-feb9dbdd57b3",
   "metadata": {},
   "outputs": [],
   "source": [
    "# Currently, supported authentication modes are Standard (the default), guest and LDAP.\n",
    "# To use LDAP, add login_mode=16 when creating your Connection object:\n",
    "conn = Connection(BASE_URL, MSTR_USERNAME, MSTR_PASSWORD, project_id=PROJECT_ID, login_mode=1)"
   ]
  },
  {
   "cell_type": "code",
   "execution_count": null,
   "id": "1aad9cfa-5ec4-4161-b9c8-cb23f73bbc2c",
   "metadata": {},
   "outputs": [],
   "source": [
    "inspect.signature(Expression.__init__)"
   ]
  },
  {
   "cell_type": "code",
   "execution_count": null,
   "id": "5c42fff5-4d5a-4a71-8e2b-5f225f2516e6",
   "metadata": {},
   "outputs": [],
   "source": [
    "print(Expression.__init__.__doc__)"
   ]
  },
  {
   "cell_type": "code",
   "execution_count": null,
   "id": "2aa721de-e222-4226-9269-032dba38c566",
   "metadata": {},
   "outputs": [],
   "source": [
    "print(inspect.getsource(Expression))"
   ]
  },
  {
   "cell_type": "code",
   "execution_count": null,
   "id": "0cd6bce7-5a53-45f5-b8c6-75bfd4ce8480",
   "metadata": {},
   "outputs": [],
   "source": [
    "Expression.__base__"
   ]
  },
  {
   "cell_type": "code",
   "execution_count": null,
   "id": "8974da73-05b8-4f33-ade1-71db0536bb6f",
   "metadata": {},
   "outputs": [],
   "source": [
    "print(AttributeFormPredicate.__doc__)"
   ]
  },
  {
   "cell_type": "code",
   "execution_count": null,
   "id": "5ac8d571-bba3-42c1-a6e3-cb79704d846a",
   "metadata": {},
   "outputs": [],
   "source": [
    "inspect.getfile(AttributeFormPredicate)"
   ]
  },
  {
   "cell_type": "code",
   "execution_count": null,
   "id": "03921fce-e8d6-4e39-a1db-ae969ffd458b",
   "metadata": {},
   "outputs": [],
   "source": [
    "print(MetricPredicate.__doc__)"
   ]
  },
  {
   "cell_type": "code",
   "execution_count": null,
   "id": "8f409663-7044-4346-94c9-bb14933582d1",
   "metadata": {},
   "outputs": [],
   "source": [
    "print(ElementListPredicate.__doc__)"
   ]
  },
  {
   "cell_type": "code",
   "execution_count": null,
   "id": "6db7df3e-ce74-4929-b490-d753b10491c9",
   "metadata": {},
   "outputs": [],
   "source": [
    "print(FilterQualificationPredicate.__doc__)"
   ]
  },
  {
   "cell_type": "code",
   "execution_count": null,
   "id": "101da883-8d34-42c6-9427-a0e8e5f82409",
   "metadata": {},
   "outputs": [],
   "source": []
  }
 ],
 "metadata": {
  "kernelspec": {
   "display_name": "Python 3 (ipykernel)",
   "language": "python",
   "name": "python3"
  },
  "language_info": {
   "codemirror_mode": {
    "name": "ipython",
    "version": 3
   },
   "file_extension": ".py",
   "mimetype": "text/x-python",
   "name": "python",
   "nbconvert_exporter": "python",
   "pygments_lexer": "ipython3",
   "version": "3.10.8"
  }
 },
 "nbformat": 4,
 "nbformat_minor": 5
}
